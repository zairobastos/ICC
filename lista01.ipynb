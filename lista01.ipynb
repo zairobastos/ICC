{
 "cells": [
  {
   "cell_type": "markdown",
   "metadata": {},
   "source": [
    "1. Importação das bibliotecas"
   ]
  },
  {
   "cell_type": "code",
   "execution_count": 28,
   "metadata": {},
   "outputs": [],
   "source": [
    "import pandas as pd\n",
    "from summarytools import dfSummary"
   ]
  },
  {
   "cell_type": "markdown",
   "metadata": {},
   "source": [
    "2. Leitura do Dataset"
   ]
  },
  {
   "cell_type": "code",
   "execution_count": 29,
   "metadata": {},
   "outputs": [],
   "source": [
    "chunk_size = 50000\n",
    "chunks = []\n",
    "for chunk in pd.read_csv(\"./data/fakeTelegram.BR_2022.csv\", sep=\",\", encoding=\"utf-8\",chunksize=chunk_size, iterator=True):\n",
    "  chunks.append(chunk)\n",
    "\n",
    "dataset = pd.concat(chunks, ignore_index=True)"
   ]
  },
  {
   "cell_type": "markdown",
   "metadata": {},
   "source": [
    "2.1 Primeiras linhas do dataset"
   ]
  },
  {
   "cell_type": "code",
   "execution_count": 30,
   "metadata": {},
   "outputs": [
    {
     "data": {
      "application/vnd.microsoft.datawrangler.viewer.v0+json": {
       "columns": [
        {
         "name": "index",
         "rawType": "int64",
         "type": "integer"
        },
        {
         "name": "date_message",
         "rawType": "object",
         "type": "string"
        },
        {
         "name": "id_member_anonymous",
         "rawType": "object",
         "type": "unknown"
        },
        {
         "name": "id_group_anonymous",
         "rawType": "object",
         "type": "string"
        },
        {
         "name": "media",
         "rawType": "object",
         "type": "unknown"
        },
        {
         "name": "media_type",
         "rawType": "object",
         "type": "unknown"
        },
        {
         "name": "media_url",
         "rawType": "object",
         "type": "unknown"
        },
        {
         "name": "has_media",
         "rawType": "bool",
         "type": "boolean"
        },
        {
         "name": "has_media_url",
         "rawType": "bool",
         "type": "boolean"
        },
        {
         "name": "trava_zap",
         "rawType": "bool",
         "type": "boolean"
        },
        {
         "name": "text_content_anonymous",
         "rawType": "object",
         "type": "unknown"
        },
        {
         "name": "dataset_info_id",
         "rawType": "int64",
         "type": "integer"
        },
        {
         "name": "date_system",
         "rawType": "object",
         "type": "string"
        },
        {
         "name": "score_sentiment",
         "rawType": "float64",
         "type": "float"
        },
        {
         "name": "score_misinformation",
         "rawType": "float64",
         "type": "float"
        },
        {
         "name": "id_message",
         "rawType": "int64",
         "type": "integer"
        },
        {
         "name": "message_type",
         "rawType": "object",
         "type": "string"
        },
        {
         "name": "messenger",
         "rawType": "object",
         "type": "string"
        },
        {
         "name": "media_name",
         "rawType": "object",
         "type": "unknown"
        },
        {
         "name": "media_md5",
         "rawType": "object",
         "type": "unknown"
        }
       ],
       "conversionMethod": "pd.DataFrame",
       "ref": "05001cc7-cb71-4ce9-b440-13450bd6c67a",
       "rows": [
        [
         "0",
         "2022-10-05 06:25:04",
         "1078cc958f0febe28f4d03207660715f",
         "12283e08a2eb5789201e105b34489ee7",
         null,
         null,
         null,
         "False",
         "False",
         "False",
         "Então é Fato Renato o áudio que eu ouvi no whatsapp isso ocorreu em Niterói principalmente no bairro Fonseca ?",
         "5",
         "2022-10-05 06:25:28.863641",
         "0.0",
         null,
         "16385",
         "Texto",
         "telegram",
         null,
         null
        ],
        [
         "1",
         "2022-10-05 06:25:08",
         null,
         "12283e08a2eb5789201e105b34489ee7",
         null,
         null,
         null,
         "False",
         "False",
         "False",
         "Saiu no YouTube do presidente a 8 horas atrás, infelizmente não consigo enviar para cá, mas é facilmente verificável no YouTube do presidente",
         "5",
         "2022-10-05 06:25:28.926311",
         "0.0644",
         null,
         "16386",
         "Texto",
         "telegram",
         null,
         null
        ],
        [
         "2",
         "2022-10-05 06:26:28",
         "92a2d8fd7144074f659d1d29dc3751da",
         "9f2d7394334eb224c061c9740b5748fc",
         null,
         null,
         null,
         "False",
         "False",
         "False",
         "É isso, nossa parte já foi quase toda feita. No segundo turno completamos nossa parte desse teatro. Essa é uma guerra de 4* geração na dimensão humana e uma guerra espiritual do bem contra o mal na dimensão do Universo. Pensamento positivo é fundamental, pensem sempre em algo bom. Deus continua nos abençoando, nosso livre arbítrio completa o curso.",
         "5",
         "2022-10-05 06:26:29.361949",
         "-0.3551",
         "0.1572422223558243",
         "16366",
         "Texto",
         "telegram",
         null,
         null
        ],
        [
         "3",
         "2022-10-05 06:27:28",
         "d60aa38f62b4977426b70944af4aff72",
         "c8f2de56550ed0bf85249608b7ead93d",
         "94dca4cda503100ebfda7ce2bcc060eb.jpg",
         "image/jpg",
         null,
         "True",
         "False",
         "False",
         "GENTE ACHEI ELES EM UMA SEITA MAÇONÁRICA",
         "5",
         "2022-10-05 06:27:29.935624",
         "0.0",
         null,
         "19281",
         "Imagem",
         "telegram",
         null,
         "94dca4cda503100ebfda7ce2bcc060eb"
        ],
        [
         "4",
         "2022-10-05 06:27:44",
         "cd6979b0b5265f08468fa1689b6300ce",
         "e56ec342fc599ebb4ed89655eb6f03aa",
         "5ad5c8bbe9da93a37fecf3e5aa5b0637.jpg",
         "image/jpg",
         null,
         "True",
         "False",
         "False",
         null,
         "5",
         "2022-10-05 06:28:29.316325",
         null,
         null,
         "507185",
         "Imagem",
         "telegram",
         null,
         "5ad5c8bbe9da93a37fecf3e5aa5b0637"
        ]
       ],
       "shape": {
        "columns": 19,
        "rows": 5
       }
      },
      "text/html": [
       "<div>\n",
       "<style scoped>\n",
       "    .dataframe tbody tr th:only-of-type {\n",
       "        vertical-align: middle;\n",
       "    }\n",
       "\n",
       "    .dataframe tbody tr th {\n",
       "        vertical-align: top;\n",
       "    }\n",
       "\n",
       "    .dataframe thead th {\n",
       "        text-align: right;\n",
       "    }\n",
       "</style>\n",
       "<table border=\"1\" class=\"dataframe\">\n",
       "  <thead>\n",
       "    <tr style=\"text-align: right;\">\n",
       "      <th></th>\n",
       "      <th>date_message</th>\n",
       "      <th>id_member_anonymous</th>\n",
       "      <th>id_group_anonymous</th>\n",
       "      <th>media</th>\n",
       "      <th>media_type</th>\n",
       "      <th>media_url</th>\n",
       "      <th>has_media</th>\n",
       "      <th>has_media_url</th>\n",
       "      <th>trava_zap</th>\n",
       "      <th>text_content_anonymous</th>\n",
       "      <th>dataset_info_id</th>\n",
       "      <th>date_system</th>\n",
       "      <th>score_sentiment</th>\n",
       "      <th>score_misinformation</th>\n",
       "      <th>id_message</th>\n",
       "      <th>message_type</th>\n",
       "      <th>messenger</th>\n",
       "      <th>media_name</th>\n",
       "      <th>media_md5</th>\n",
       "    </tr>\n",
       "  </thead>\n",
       "  <tbody>\n",
       "    <tr>\n",
       "      <th>0</th>\n",
       "      <td>2022-10-05 06:25:04</td>\n",
       "      <td>1078cc958f0febe28f4d03207660715f</td>\n",
       "      <td>12283e08a2eb5789201e105b34489ee7</td>\n",
       "      <td>NaN</td>\n",
       "      <td>NaN</td>\n",
       "      <td>NaN</td>\n",
       "      <td>False</td>\n",
       "      <td>False</td>\n",
       "      <td>False</td>\n",
       "      <td>Então é Fato Renato o áudio que eu ouvi no wha...</td>\n",
       "      <td>5</td>\n",
       "      <td>2022-10-05 06:25:28.863641</td>\n",
       "      <td>0.0000</td>\n",
       "      <td>NaN</td>\n",
       "      <td>16385</td>\n",
       "      <td>Texto</td>\n",
       "      <td>telegram</td>\n",
       "      <td>NaN</td>\n",
       "      <td>NaN</td>\n",
       "    </tr>\n",
       "    <tr>\n",
       "      <th>1</th>\n",
       "      <td>2022-10-05 06:25:08</td>\n",
       "      <td>NaN</td>\n",
       "      <td>12283e08a2eb5789201e105b34489ee7</td>\n",
       "      <td>NaN</td>\n",
       "      <td>NaN</td>\n",
       "      <td>NaN</td>\n",
       "      <td>False</td>\n",
       "      <td>False</td>\n",
       "      <td>False</td>\n",
       "      <td>Saiu no YouTube do presidente a 8 horas atrás,...</td>\n",
       "      <td>5</td>\n",
       "      <td>2022-10-05 06:25:28.926311</td>\n",
       "      <td>0.0644</td>\n",
       "      <td>NaN</td>\n",
       "      <td>16386</td>\n",
       "      <td>Texto</td>\n",
       "      <td>telegram</td>\n",
       "      <td>NaN</td>\n",
       "      <td>NaN</td>\n",
       "    </tr>\n",
       "    <tr>\n",
       "      <th>2</th>\n",
       "      <td>2022-10-05 06:26:28</td>\n",
       "      <td>92a2d8fd7144074f659d1d29dc3751da</td>\n",
       "      <td>9f2d7394334eb224c061c9740b5748fc</td>\n",
       "      <td>NaN</td>\n",
       "      <td>NaN</td>\n",
       "      <td>NaN</td>\n",
       "      <td>False</td>\n",
       "      <td>False</td>\n",
       "      <td>False</td>\n",
       "      <td>É isso, nossa parte já foi quase toda feita. N...</td>\n",
       "      <td>5</td>\n",
       "      <td>2022-10-05 06:26:29.361949</td>\n",
       "      <td>-0.3551</td>\n",
       "      <td>0.157242</td>\n",
       "      <td>16366</td>\n",
       "      <td>Texto</td>\n",
       "      <td>telegram</td>\n",
       "      <td>NaN</td>\n",
       "      <td>NaN</td>\n",
       "    </tr>\n",
       "    <tr>\n",
       "      <th>3</th>\n",
       "      <td>2022-10-05 06:27:28</td>\n",
       "      <td>d60aa38f62b4977426b70944af4aff72</td>\n",
       "      <td>c8f2de56550ed0bf85249608b7ead93d</td>\n",
       "      <td>94dca4cda503100ebfda7ce2bcc060eb.jpg</td>\n",
       "      <td>image/jpg</td>\n",
       "      <td>NaN</td>\n",
       "      <td>True</td>\n",
       "      <td>False</td>\n",
       "      <td>False</td>\n",
       "      <td>GENTE ACHEI ELES EM UMA SEITA MAÇONÁRICA</td>\n",
       "      <td>5</td>\n",
       "      <td>2022-10-05 06:27:29.935624</td>\n",
       "      <td>0.0000</td>\n",
       "      <td>NaN</td>\n",
       "      <td>19281</td>\n",
       "      <td>Imagem</td>\n",
       "      <td>telegram</td>\n",
       "      <td>NaN</td>\n",
       "      <td>94dca4cda503100ebfda7ce2bcc060eb</td>\n",
       "    </tr>\n",
       "    <tr>\n",
       "      <th>4</th>\n",
       "      <td>2022-10-05 06:27:44</td>\n",
       "      <td>cd6979b0b5265f08468fa1689b6300ce</td>\n",
       "      <td>e56ec342fc599ebb4ed89655eb6f03aa</td>\n",
       "      <td>5ad5c8bbe9da93a37fecf3e5aa5b0637.jpg</td>\n",
       "      <td>image/jpg</td>\n",
       "      <td>NaN</td>\n",
       "      <td>True</td>\n",
       "      <td>False</td>\n",
       "      <td>False</td>\n",
       "      <td>NaN</td>\n",
       "      <td>5</td>\n",
       "      <td>2022-10-05 06:28:29.316325</td>\n",
       "      <td>NaN</td>\n",
       "      <td>NaN</td>\n",
       "      <td>507185</td>\n",
       "      <td>Imagem</td>\n",
       "      <td>telegram</td>\n",
       "      <td>NaN</td>\n",
       "      <td>5ad5c8bbe9da93a37fecf3e5aa5b0637</td>\n",
       "    </tr>\n",
       "  </tbody>\n",
       "</table>\n",
       "</div>"
      ],
      "text/plain": [
       "          date_message               id_member_anonymous  \\\n",
       "0  2022-10-05 06:25:04  1078cc958f0febe28f4d03207660715f   \n",
       "1  2022-10-05 06:25:08                               NaN   \n",
       "2  2022-10-05 06:26:28  92a2d8fd7144074f659d1d29dc3751da   \n",
       "3  2022-10-05 06:27:28  d60aa38f62b4977426b70944af4aff72   \n",
       "4  2022-10-05 06:27:44  cd6979b0b5265f08468fa1689b6300ce   \n",
       "\n",
       "                 id_group_anonymous                                 media  \\\n",
       "0  12283e08a2eb5789201e105b34489ee7                                   NaN   \n",
       "1  12283e08a2eb5789201e105b34489ee7                                   NaN   \n",
       "2  9f2d7394334eb224c061c9740b5748fc                                   NaN   \n",
       "3  c8f2de56550ed0bf85249608b7ead93d  94dca4cda503100ebfda7ce2bcc060eb.jpg   \n",
       "4  e56ec342fc599ebb4ed89655eb6f03aa  5ad5c8bbe9da93a37fecf3e5aa5b0637.jpg   \n",
       "\n",
       "  media_type media_url  has_media  has_media_url  trava_zap  \\\n",
       "0        NaN       NaN      False          False      False   \n",
       "1        NaN       NaN      False          False      False   \n",
       "2        NaN       NaN      False          False      False   \n",
       "3  image/jpg       NaN       True          False      False   \n",
       "4  image/jpg       NaN       True          False      False   \n",
       "\n",
       "                              text_content_anonymous  dataset_info_id  \\\n",
       "0  Então é Fato Renato o áudio que eu ouvi no wha...                5   \n",
       "1  Saiu no YouTube do presidente a 8 horas atrás,...                5   \n",
       "2  É isso, nossa parte já foi quase toda feita. N...                5   \n",
       "3           GENTE ACHEI ELES EM UMA SEITA MAÇONÁRICA                5   \n",
       "4                                                NaN                5   \n",
       "\n",
       "                  date_system  score_sentiment  score_misinformation  \\\n",
       "0  2022-10-05 06:25:28.863641           0.0000                   NaN   \n",
       "1  2022-10-05 06:25:28.926311           0.0644                   NaN   \n",
       "2  2022-10-05 06:26:29.361949          -0.3551              0.157242   \n",
       "3  2022-10-05 06:27:29.935624           0.0000                   NaN   \n",
       "4  2022-10-05 06:28:29.316325              NaN                   NaN   \n",
       "\n",
       "   id_message message_type messenger media_name  \\\n",
       "0       16385        Texto  telegram        NaN   \n",
       "1       16386        Texto  telegram        NaN   \n",
       "2       16366        Texto  telegram        NaN   \n",
       "3       19281       Imagem  telegram        NaN   \n",
       "4      507185       Imagem  telegram        NaN   \n",
       "\n",
       "                          media_md5  \n",
       "0                               NaN  \n",
       "1                               NaN  \n",
       "2                               NaN  \n",
       "3  94dca4cda503100ebfda7ce2bcc060eb  \n",
       "4  5ad5c8bbe9da93a37fecf3e5aa5b0637  "
      ]
     },
     "execution_count": 30,
     "metadata": {},
     "output_type": "execute_result"
    }
   ],
   "source": [
    "dataset.head()"
   ]
  },
  {
   "cell_type": "markdown",
   "metadata": {},
   "source": [
    "2.2 Últimas linhas do dataset"
   ]
  },
  {
   "cell_type": "code",
   "execution_count": 31,
   "metadata": {},
   "outputs": [
    {
     "data": {
      "application/vnd.microsoft.datawrangler.viewer.v0+json": {
       "columns": [
        {
         "name": "index",
         "rawType": "int64",
         "type": "integer"
        },
        {
         "name": "date_message",
         "rawType": "object",
         "type": "string"
        },
        {
         "name": "id_member_anonymous",
         "rawType": "object",
         "type": "unknown"
        },
        {
         "name": "id_group_anonymous",
         "rawType": "object",
         "type": "string"
        },
        {
         "name": "media",
         "rawType": "object",
         "type": "string"
        },
        {
         "name": "media_type",
         "rawType": "object",
         "type": "string"
        },
        {
         "name": "media_url",
         "rawType": "object",
         "type": "string"
        },
        {
         "name": "has_media",
         "rawType": "bool",
         "type": "boolean"
        },
        {
         "name": "has_media_url",
         "rawType": "bool",
         "type": "boolean"
        },
        {
         "name": "trava_zap",
         "rawType": "bool",
         "type": "boolean"
        },
        {
         "name": "text_content_anonymous",
         "rawType": "object",
         "type": "string"
        },
        {
         "name": "dataset_info_id",
         "rawType": "int64",
         "type": "integer"
        },
        {
         "name": "date_system",
         "rawType": "object",
         "type": "string"
        },
        {
         "name": "score_sentiment",
         "rawType": "float64",
         "type": "float"
        },
        {
         "name": "score_misinformation",
         "rawType": "float64",
         "type": "float"
        },
        {
         "name": "id_message",
         "rawType": "int64",
         "type": "integer"
        },
        {
         "name": "message_type",
         "rawType": "object",
         "type": "string"
        },
        {
         "name": "messenger",
         "rawType": "object",
         "type": "string"
        },
        {
         "name": "media_name",
         "rawType": "object",
         "type": "unknown"
        },
        {
         "name": "media_md5",
         "rawType": "object",
         "type": "string"
        }
       ],
       "conversionMethod": "pd.DataFrame",
       "ref": "9e07eb71-b7ee-4538-a96f-38a59bac9124",
       "rows": [
        [
         "557581",
         "2022-11-11 12:06:15",
         "333e9869f23dbd4682d1be382d9c1e59",
         "e56ec342fc599ebb4ed89655eb6f03aa",
         "25e43b6a58b848c43ad5b5f9e979822a.jpg",
         "url",
         "https://terrabrasilnoticias.com/2022/11/bndes-tem-lucro-de-r-96-bilhoes-no-terceiro-trimestre/",
         "True",
         "True",
         "False",
         "BNDES tem lucro de R$ 9,6 bilhões no terceiro trimestre ☛ https://terrabrasilnoticias.com/2022/11/bndes-tem-lucro-de-r-96-bilhoes-no-terceiro-trimestre/",
         "5",
         "2022-11-16 14:49:39.146502",
         "0.1027",
         null,
         "575796",
         "Url",
         "telegram",
         null,
         "25e43b6a58b848c43ad5b5f9e979822a"
        ],
        [
         "557582",
         "2022-11-11 12:09:08",
         null,
         "5b10d7739171149be6d9961e3350c071",
         "657949d03e4088f6b332e2686ccd3221.jpg",
         "url",
         "https://youtu.be/8g1Vz9_0xVk",
         "True",
         "True",
         "False",
         "https://youtu.be/8g1Vz9_0xVk",
         "5",
         "2022-11-16 14:49:39.847434",
         "0.0",
         null,
         "1286443",
         "Url",
         "telegram",
         null,
         "657949d03e4088f6b332e2686ccd3221"
        ],
        [
         "557583",
         "2022-11-11 12:09:47",
         null,
         "1590a03f43b5ba4b6147a1c5e1dd357b",
         "a21848a61045380a6483866daed0ca0e.jpg",
         "image/jpg",
         "https://t.me/vemprasruas",
         "True",
         "True",
         "False",
         "Empresários, demitam os petistas primeiro.\n\nhttps://t.me/vemprasruas",
         "5",
         "2022-11-16 14:49:39.922279",
         "0.0",
         null,
         "13294",
         "Imagem",
         "telegram",
         null,
         "a21848a61045380a6483866daed0ca0e"
        ],
        [
         "557584",
         "2022-11-11 12:09:46",
         null,
         "5b10d7739171149be6d9961e3350c071",
         "a21848a61045380a6483866daed0ca0e.jpg",
         "image/jpg",
         "https://t.me/vemprasruas",
         "True",
         "True",
         "False",
         "Empresários, demitam os petistas primeiro.\n\nhttps://t.me/vemprasruas",
         "5",
         "2022-11-16 14:49:39.992932",
         "0.0",
         null,
         "1286444",
         "Imagem",
         "telegram",
         null,
         "a21848a61045380a6483866daed0ca0e"
        ],
        [
         "557585",
         "2022-11-11 12:09:48",
         null,
         "b11f2df64ac19aad47a50accf32052d6",
         "a21848a61045380a6483866daed0ca0e.jpg",
         "image/jpg",
         "https://t.me/vemprasruas",
         "True",
         "True",
         "False",
         "Empresários, demitam os petistas primeiro.\n\nhttps://t.me/vemprasruas",
         "5",
         "2022-11-16 14:49:40.064006",
         "0.0",
         null,
         "192127",
         "Imagem",
         "telegram",
         null,
         "a21848a61045380a6483866daed0ca0e"
        ]
       ],
       "shape": {
        "columns": 19,
        "rows": 5
       }
      },
      "text/html": [
       "<div>\n",
       "<style scoped>\n",
       "    .dataframe tbody tr th:only-of-type {\n",
       "        vertical-align: middle;\n",
       "    }\n",
       "\n",
       "    .dataframe tbody tr th {\n",
       "        vertical-align: top;\n",
       "    }\n",
       "\n",
       "    .dataframe thead th {\n",
       "        text-align: right;\n",
       "    }\n",
       "</style>\n",
       "<table border=\"1\" class=\"dataframe\">\n",
       "  <thead>\n",
       "    <tr style=\"text-align: right;\">\n",
       "      <th></th>\n",
       "      <th>date_message</th>\n",
       "      <th>id_member_anonymous</th>\n",
       "      <th>id_group_anonymous</th>\n",
       "      <th>media</th>\n",
       "      <th>media_type</th>\n",
       "      <th>media_url</th>\n",
       "      <th>has_media</th>\n",
       "      <th>has_media_url</th>\n",
       "      <th>trava_zap</th>\n",
       "      <th>text_content_anonymous</th>\n",
       "      <th>dataset_info_id</th>\n",
       "      <th>date_system</th>\n",
       "      <th>score_sentiment</th>\n",
       "      <th>score_misinformation</th>\n",
       "      <th>id_message</th>\n",
       "      <th>message_type</th>\n",
       "      <th>messenger</th>\n",
       "      <th>media_name</th>\n",
       "      <th>media_md5</th>\n",
       "    </tr>\n",
       "  </thead>\n",
       "  <tbody>\n",
       "    <tr>\n",
       "      <th>557581</th>\n",
       "      <td>2022-11-11 12:06:15</td>\n",
       "      <td>333e9869f23dbd4682d1be382d9c1e59</td>\n",
       "      <td>e56ec342fc599ebb4ed89655eb6f03aa</td>\n",
       "      <td>25e43b6a58b848c43ad5b5f9e979822a.jpg</td>\n",
       "      <td>url</td>\n",
       "      <td>https://terrabrasilnoticias.com/2022/11/bndes-...</td>\n",
       "      <td>True</td>\n",
       "      <td>True</td>\n",
       "      <td>False</td>\n",
       "      <td>BNDES tem lucro de R$ 9,6 bilhões no terceiro ...</td>\n",
       "      <td>5</td>\n",
       "      <td>2022-11-16 14:49:39.146502</td>\n",
       "      <td>0.1027</td>\n",
       "      <td>NaN</td>\n",
       "      <td>575796</td>\n",
       "      <td>Url</td>\n",
       "      <td>telegram</td>\n",
       "      <td>NaN</td>\n",
       "      <td>25e43b6a58b848c43ad5b5f9e979822a</td>\n",
       "    </tr>\n",
       "    <tr>\n",
       "      <th>557582</th>\n",
       "      <td>2022-11-11 12:09:08</td>\n",
       "      <td>NaN</td>\n",
       "      <td>5b10d7739171149be6d9961e3350c071</td>\n",
       "      <td>657949d03e4088f6b332e2686ccd3221.jpg</td>\n",
       "      <td>url</td>\n",
       "      <td>https://youtu.be/8g1Vz9_0xVk</td>\n",
       "      <td>True</td>\n",
       "      <td>True</td>\n",
       "      <td>False</td>\n",
       "      <td>https://youtu.be/8g1Vz9_0xVk</td>\n",
       "      <td>5</td>\n",
       "      <td>2022-11-16 14:49:39.847434</td>\n",
       "      <td>0.0000</td>\n",
       "      <td>NaN</td>\n",
       "      <td>1286443</td>\n",
       "      <td>Url</td>\n",
       "      <td>telegram</td>\n",
       "      <td>NaN</td>\n",
       "      <td>657949d03e4088f6b332e2686ccd3221</td>\n",
       "    </tr>\n",
       "    <tr>\n",
       "      <th>557583</th>\n",
       "      <td>2022-11-11 12:09:47</td>\n",
       "      <td>NaN</td>\n",
       "      <td>1590a03f43b5ba4b6147a1c5e1dd357b</td>\n",
       "      <td>a21848a61045380a6483866daed0ca0e.jpg</td>\n",
       "      <td>image/jpg</td>\n",
       "      <td>https://t.me/vemprasruas</td>\n",
       "      <td>True</td>\n",
       "      <td>True</td>\n",
       "      <td>False</td>\n",
       "      <td>Empresários, demitam os petistas primeiro.\\n\\n...</td>\n",
       "      <td>5</td>\n",
       "      <td>2022-11-16 14:49:39.922279</td>\n",
       "      <td>0.0000</td>\n",
       "      <td>NaN</td>\n",
       "      <td>13294</td>\n",
       "      <td>Imagem</td>\n",
       "      <td>telegram</td>\n",
       "      <td>NaN</td>\n",
       "      <td>a21848a61045380a6483866daed0ca0e</td>\n",
       "    </tr>\n",
       "    <tr>\n",
       "      <th>557584</th>\n",
       "      <td>2022-11-11 12:09:46</td>\n",
       "      <td>NaN</td>\n",
       "      <td>5b10d7739171149be6d9961e3350c071</td>\n",
       "      <td>a21848a61045380a6483866daed0ca0e.jpg</td>\n",
       "      <td>image/jpg</td>\n",
       "      <td>https://t.me/vemprasruas</td>\n",
       "      <td>True</td>\n",
       "      <td>True</td>\n",
       "      <td>False</td>\n",
       "      <td>Empresários, demitam os petistas primeiro.\\n\\n...</td>\n",
       "      <td>5</td>\n",
       "      <td>2022-11-16 14:49:39.992932</td>\n",
       "      <td>0.0000</td>\n",
       "      <td>NaN</td>\n",
       "      <td>1286444</td>\n",
       "      <td>Imagem</td>\n",
       "      <td>telegram</td>\n",
       "      <td>NaN</td>\n",
       "      <td>a21848a61045380a6483866daed0ca0e</td>\n",
       "    </tr>\n",
       "    <tr>\n",
       "      <th>557585</th>\n",
       "      <td>2022-11-11 12:09:48</td>\n",
       "      <td>NaN</td>\n",
       "      <td>b11f2df64ac19aad47a50accf32052d6</td>\n",
       "      <td>a21848a61045380a6483866daed0ca0e.jpg</td>\n",
       "      <td>image/jpg</td>\n",
       "      <td>https://t.me/vemprasruas</td>\n",
       "      <td>True</td>\n",
       "      <td>True</td>\n",
       "      <td>False</td>\n",
       "      <td>Empresários, demitam os petistas primeiro.\\n\\n...</td>\n",
       "      <td>5</td>\n",
       "      <td>2022-11-16 14:49:40.064006</td>\n",
       "      <td>0.0000</td>\n",
       "      <td>NaN</td>\n",
       "      <td>192127</td>\n",
       "      <td>Imagem</td>\n",
       "      <td>telegram</td>\n",
       "      <td>NaN</td>\n",
       "      <td>a21848a61045380a6483866daed0ca0e</td>\n",
       "    </tr>\n",
       "  </tbody>\n",
       "</table>\n",
       "</div>"
      ],
      "text/plain": [
       "               date_message               id_member_anonymous  \\\n",
       "557581  2022-11-11 12:06:15  333e9869f23dbd4682d1be382d9c1e59   \n",
       "557582  2022-11-11 12:09:08                               NaN   \n",
       "557583  2022-11-11 12:09:47                               NaN   \n",
       "557584  2022-11-11 12:09:46                               NaN   \n",
       "557585  2022-11-11 12:09:48                               NaN   \n",
       "\n",
       "                      id_group_anonymous  \\\n",
       "557581  e56ec342fc599ebb4ed89655eb6f03aa   \n",
       "557582  5b10d7739171149be6d9961e3350c071   \n",
       "557583  1590a03f43b5ba4b6147a1c5e1dd357b   \n",
       "557584  5b10d7739171149be6d9961e3350c071   \n",
       "557585  b11f2df64ac19aad47a50accf32052d6   \n",
       "\n",
       "                                       media media_type  \\\n",
       "557581  25e43b6a58b848c43ad5b5f9e979822a.jpg        url   \n",
       "557582  657949d03e4088f6b332e2686ccd3221.jpg        url   \n",
       "557583  a21848a61045380a6483866daed0ca0e.jpg  image/jpg   \n",
       "557584  a21848a61045380a6483866daed0ca0e.jpg  image/jpg   \n",
       "557585  a21848a61045380a6483866daed0ca0e.jpg  image/jpg   \n",
       "\n",
       "                                                media_url  has_media  \\\n",
       "557581  https://terrabrasilnoticias.com/2022/11/bndes-...       True   \n",
       "557582                       https://youtu.be/8g1Vz9_0xVk       True   \n",
       "557583                           https://t.me/vemprasruas       True   \n",
       "557584                           https://t.me/vemprasruas       True   \n",
       "557585                           https://t.me/vemprasruas       True   \n",
       "\n",
       "        has_media_url  trava_zap  \\\n",
       "557581           True      False   \n",
       "557582           True      False   \n",
       "557583           True      False   \n",
       "557584           True      False   \n",
       "557585           True      False   \n",
       "\n",
       "                                   text_content_anonymous  dataset_info_id  \\\n",
       "557581  BNDES tem lucro de R$ 9,6 bilhões no terceiro ...                5   \n",
       "557582                       https://youtu.be/8g1Vz9_0xVk                5   \n",
       "557583  Empresários, demitam os petistas primeiro.\\n\\n...                5   \n",
       "557584  Empresários, demitam os petistas primeiro.\\n\\n...                5   \n",
       "557585  Empresários, demitam os petistas primeiro.\\n\\n...                5   \n",
       "\n",
       "                       date_system  score_sentiment  score_misinformation  \\\n",
       "557581  2022-11-16 14:49:39.146502           0.1027                   NaN   \n",
       "557582  2022-11-16 14:49:39.847434           0.0000                   NaN   \n",
       "557583  2022-11-16 14:49:39.922279           0.0000                   NaN   \n",
       "557584  2022-11-16 14:49:39.992932           0.0000                   NaN   \n",
       "557585  2022-11-16 14:49:40.064006           0.0000                   NaN   \n",
       "\n",
       "        id_message message_type messenger media_name  \\\n",
       "557581      575796          Url  telegram        NaN   \n",
       "557582     1286443          Url  telegram        NaN   \n",
       "557583       13294       Imagem  telegram        NaN   \n",
       "557584     1286444       Imagem  telegram        NaN   \n",
       "557585      192127       Imagem  telegram        NaN   \n",
       "\n",
       "                               media_md5  \n",
       "557581  25e43b6a58b848c43ad5b5f9e979822a  \n",
       "557582  657949d03e4088f6b332e2686ccd3221  \n",
       "557583  a21848a61045380a6483866daed0ca0e  \n",
       "557584  a21848a61045380a6483866daed0ca0e  \n",
       "557585  a21848a61045380a6483866daed0ca0e  "
      ]
     },
     "execution_count": 31,
     "metadata": {},
     "output_type": "execute_result"
    }
   ],
   "source": [
    "dataset.tail()"
   ]
  },
  {
   "cell_type": "markdown",
   "metadata": {},
   "source": [
    "2.3 Tamanho do dataset"
   ]
  },
  {
   "cell_type": "code",
   "execution_count": 32,
   "metadata": {},
   "outputs": [
    {
     "name": "stdout",
     "output_type": "stream",
     "text": [
      "Quantidades de colunas: 19\n",
      "Quantidades de linhas: 557586\n"
     ]
    }
   ],
   "source": [
    "print(f\"Quantidades de colunas: {dataset.shape[1]}\")\n",
    "print(f\"Quantidades de linhas: {dataset.shape[0]}\")"
   ]
  },
  {
   "cell_type": "markdown",
   "metadata": {},
   "source": [
    "2.4 Nome das colunas do dataset"
   ]
  },
  {
   "cell_type": "code",
   "execution_count": 33,
   "metadata": {},
   "outputs": [
    {
     "name": "stdout",
     "output_type": "stream",
     "text": [
      "Lista de colunas: ['date_message', 'id_member_anonymous', 'id_group_anonymous', 'media', 'media_type', 'media_url', 'has_media', 'has_media_url', 'trava_zap', 'text_content_anonymous', 'dataset_info_id', 'date_system', 'score_sentiment', 'score_misinformation', 'id_message', 'message_type', 'messenger', 'media_name', 'media_md5']\n"
     ]
    }
   ],
   "source": [
    "lista_colunas = dataset.columns.tolist()\n",
    "print(f\"Lista de colunas: {lista_colunas}\")"
   ]
  },
  {
   "cell_type": "markdown",
   "metadata": {},
   "source": [
    "2.5 Descrição do dataset"
   ]
  },
  {
   "cell_type": "code",
   "execution_count": 34,
   "metadata": {},
   "outputs": [
    {
     "data": {
      "application/vnd.microsoft.datawrangler.viewer.v0+json": {
       "columns": [
        {
         "name": "index",
         "rawType": "object",
         "type": "string"
        },
        {
         "name": "dataset_info_id",
         "rawType": "float64",
         "type": "float"
        },
        {
         "name": "score_sentiment",
         "rawType": "float64",
         "type": "float"
        },
        {
         "name": "score_misinformation",
         "rawType": "float64",
         "type": "float"
        },
        {
         "name": "id_message",
         "rawType": "float64",
         "type": "float"
        }
       ],
       "conversionMethod": "pd.DataFrame",
       "ref": "05800015-5cec-43ec-82a4-5e6498b1fd5a",
       "rows": [
        [
         "count",
         "557586.0",
         "444157.0",
         "167238.0",
         "557586.0"
        ],
        [
         "mean",
         "5.0",
         "0.017329966881080332",
         "0.3122449940127795",
         "445061.6788172587"
        ],
        [
         "std",
         "0.0",
         "0.4641649427047041",
         "0.29369857324799187",
         "486021.05909007107"
        ],
        [
         "min",
         "5.0",
         "-1.0",
         "3.2731487153e-06",
         "2.0"
        ],
        [
         "25%",
         "5.0",
         "-0.1779",
         "0.07845421598864155",
         "21275.0"
        ],
        [
         "50%",
         "5.0",
         "0.0",
         "0.1975767606336799",
         "121093.5"
        ],
        [
         "75%",
         "5.0",
         "0.3182",
         "0.4903506818386002",
         "972604.5"
        ],
        [
         "max",
         "5.0",
         "0.9992",
         "0.9999999828564162",
         "1516436.0"
        ]
       ],
       "shape": {
        "columns": 4,
        "rows": 8
       }
      },
      "text/html": [
       "<div>\n",
       "<style scoped>\n",
       "    .dataframe tbody tr th:only-of-type {\n",
       "        vertical-align: middle;\n",
       "    }\n",
       "\n",
       "    .dataframe tbody tr th {\n",
       "        vertical-align: top;\n",
       "    }\n",
       "\n",
       "    .dataframe thead th {\n",
       "        text-align: right;\n",
       "    }\n",
       "</style>\n",
       "<table border=\"1\" class=\"dataframe\">\n",
       "  <thead>\n",
       "    <tr style=\"text-align: right;\">\n",
       "      <th></th>\n",
       "      <th>dataset_info_id</th>\n",
       "      <th>score_sentiment</th>\n",
       "      <th>score_misinformation</th>\n",
       "      <th>id_message</th>\n",
       "    </tr>\n",
       "  </thead>\n",
       "  <tbody>\n",
       "    <tr>\n",
       "      <th>count</th>\n",
       "      <td>557586.0</td>\n",
       "      <td>444157.000000</td>\n",
       "      <td>167238.000000</td>\n",
       "      <td>5.575860e+05</td>\n",
       "    </tr>\n",
       "    <tr>\n",
       "      <th>mean</th>\n",
       "      <td>5.0</td>\n",
       "      <td>0.017330</td>\n",
       "      <td>0.312245</td>\n",
       "      <td>4.450617e+05</td>\n",
       "    </tr>\n",
       "    <tr>\n",
       "      <th>std</th>\n",
       "      <td>0.0</td>\n",
       "      <td>0.464165</td>\n",
       "      <td>0.293699</td>\n",
       "      <td>4.860211e+05</td>\n",
       "    </tr>\n",
       "    <tr>\n",
       "      <th>min</th>\n",
       "      <td>5.0</td>\n",
       "      <td>-1.000000</td>\n",
       "      <td>0.000003</td>\n",
       "      <td>2.000000e+00</td>\n",
       "    </tr>\n",
       "    <tr>\n",
       "      <th>25%</th>\n",
       "      <td>5.0</td>\n",
       "      <td>-0.177900</td>\n",
       "      <td>0.078454</td>\n",
       "      <td>2.127500e+04</td>\n",
       "    </tr>\n",
       "    <tr>\n",
       "      <th>50%</th>\n",
       "      <td>5.0</td>\n",
       "      <td>0.000000</td>\n",
       "      <td>0.197577</td>\n",
       "      <td>1.210935e+05</td>\n",
       "    </tr>\n",
       "    <tr>\n",
       "      <th>75%</th>\n",
       "      <td>5.0</td>\n",
       "      <td>0.318200</td>\n",
       "      <td>0.490351</td>\n",
       "      <td>9.726045e+05</td>\n",
       "    </tr>\n",
       "    <tr>\n",
       "      <th>max</th>\n",
       "      <td>5.0</td>\n",
       "      <td>0.999200</td>\n",
       "      <td>1.000000</td>\n",
       "      <td>1.516436e+06</td>\n",
       "    </tr>\n",
       "  </tbody>\n",
       "</table>\n",
       "</div>"
      ],
      "text/plain": [
       "       dataset_info_id  score_sentiment  score_misinformation    id_message\n",
       "count         557586.0    444157.000000         167238.000000  5.575860e+05\n",
       "mean               5.0         0.017330              0.312245  4.450617e+05\n",
       "std                0.0         0.464165              0.293699  4.860211e+05\n",
       "min                5.0        -1.000000              0.000003  2.000000e+00\n",
       "25%                5.0        -0.177900              0.078454  2.127500e+04\n",
       "50%                5.0         0.000000              0.197577  1.210935e+05\n",
       "75%                5.0         0.318200              0.490351  9.726045e+05\n",
       "max                5.0         0.999200              1.000000  1.516436e+06"
      ]
     },
     "execution_count": 34,
     "metadata": {},
     "output_type": "execute_result"
    }
   ],
   "source": [
    "dataset.describe()"
   ]
  },
  {
   "cell_type": "markdown",
   "metadata": {},
   "source": [
    "2.6 Informações do Dataset"
   ]
  },
  {
   "cell_type": "code",
   "execution_count": 35,
   "metadata": {},
   "outputs": [
    {
     "name": "stdout",
     "output_type": "stream",
     "text": [
      "<class 'pandas.core.frame.DataFrame'>\n",
      "RangeIndex: 557586 entries, 0 to 557585\n",
      "Data columns (total 19 columns):\n",
      " #   Column                  Non-Null Count   Dtype  \n",
      "---  ------                  --------------   -----  \n",
      " 0   date_message            557586 non-null  object \n",
      " 1   id_member_anonymous     234245 non-null  object \n",
      " 2   id_group_anonymous      557586 non-null  object \n",
      " 3   media                   332605 non-null  object \n",
      " 4   media_type              332605 non-null  object \n",
      " 5   media_url               157445 non-null  object \n",
      " 6   has_media               557586 non-null  bool   \n",
      " 7   has_media_url           557586 non-null  bool   \n",
      " 8   trava_zap               557586 non-null  bool   \n",
      " 9   text_content_anonymous  444201 non-null  object \n",
      " 10  dataset_info_id         557586 non-null  int64  \n",
      " 11  date_system             557586 non-null  object \n",
      " 12  score_sentiment         444157 non-null  float64\n",
      " 13  score_misinformation    167238 non-null  float64\n",
      " 14  id_message              557586 non-null  int64  \n",
      " 15  message_type            557586 non-null  object \n",
      " 16  messenger               557586 non-null  object \n",
      " 17  media_name              28987 non-null   object \n",
      " 18  media_md5               332605 non-null  object \n",
      "dtypes: bool(3), float64(2), int64(2), object(12)\n",
      "memory usage: 69.7+ MB\n"
     ]
    }
   ],
   "source": [
    "dataset.info()"
   ]
  },
  {
   "cell_type": "markdown",
   "metadata": {},
   "source": [
    "2.7 Mais detalhes do dataset"
   ]
  },
  {
   "cell_type": "code",
   "execution_count": 36,
   "metadata": {},
   "outputs": [
    {
     "data": {
      "text/html": [
       "<style type=\"text/css\">\n",
       "#T_c26b6 thead>tr>th {\n",
       "  text-align: left;\n",
       "}\n",
       "#T_c26b6_row0_col0, #T_c26b6_row1_col0, #T_c26b6_row2_col0, #T_c26b6_row3_col0, #T_c26b6_row4_col0, #T_c26b6_row5_col0, #T_c26b6_row6_col0, #T_c26b6_row7_col0, #T_c26b6_row8_col0, #T_c26b6_row9_col0, #T_c26b6_row10_col0, #T_c26b6_row11_col0, #T_c26b6_row12_col0, #T_c26b6_row13_col0, #T_c26b6_row14_col0, #T_c26b6_row15_col0, #T_c26b6_row16_col0, #T_c26b6_row17_col0, #T_c26b6_row18_col0 {\n",
       "  text-align: left;\n",
       "  font-size: 12px;\n",
       "  vertical-align: middle;\n",
       "  width: 5%;\n",
       "  max-width: 50px;\n",
       "  min-width: 20px;\n",
       "}\n",
       "#T_c26b6_row0_col1, #T_c26b6_row1_col1, #T_c26b6_row2_col1, #T_c26b6_row3_col1, #T_c26b6_row4_col1, #T_c26b6_row5_col1, #T_c26b6_row6_col1, #T_c26b6_row7_col1, #T_c26b6_row8_col1, #T_c26b6_row9_col1, #T_c26b6_row10_col1, #T_c26b6_row11_col1, #T_c26b6_row12_col1, #T_c26b6_row13_col1, #T_c26b6_row14_col1, #T_c26b6_row15_col1, #T_c26b6_row16_col1, #T_c26b6_row17_col1, #T_c26b6_row18_col1 {\n",
       "  text-align: left;\n",
       "  font-size: 12px;\n",
       "  vertical-align: middle;\n",
       "  width: 15%;\n",
       "  max-width: 200px;\n",
       "  min-width: 100px;\n",
       "  word-break: break-word;\n",
       "}\n",
       "#T_c26b6_row0_col2, #T_c26b6_row1_col2, #T_c26b6_row2_col2, #T_c26b6_row3_col2, #T_c26b6_row4_col2, #T_c26b6_row5_col2, #T_c26b6_row6_col2, #T_c26b6_row7_col2, #T_c26b6_row8_col2, #T_c26b6_row9_col2, #T_c26b6_row10_col2, #T_c26b6_row11_col2, #T_c26b6_row12_col2, #T_c26b6_row13_col2, #T_c26b6_row14_col2, #T_c26b6_row15_col2, #T_c26b6_row16_col2, #T_c26b6_row17_col2, #T_c26b6_row18_col2 {\n",
       "  text-align: left;\n",
       "  font-size: 12px;\n",
       "  vertical-align: middle;\n",
       "  width: 30%;\n",
       "  min-width: 100px;\n",
       "}\n",
       "#T_c26b6_row0_col3, #T_c26b6_row1_col3, #T_c26b6_row2_col3, #T_c26b6_row3_col3, #T_c26b6_row4_col3, #T_c26b6_row5_col3, #T_c26b6_row6_col3, #T_c26b6_row7_col3, #T_c26b6_row8_col3, #T_c26b6_row9_col3, #T_c26b6_row10_col3, #T_c26b6_row11_col3, #T_c26b6_row12_col3, #T_c26b6_row13_col3, #T_c26b6_row14_col3, #T_c26b6_row15_col3, #T_c26b6_row16_col3, #T_c26b6_row17_col3, #T_c26b6_row18_col3 {\n",
       "  text-align: left;\n",
       "  font-size: 12px;\n",
       "  vertical-align: middle;\n",
       "  width: 25%;\n",
       "  min-width: 100px;\n",
       "}\n",
       "#T_c26b6_row0_col4, #T_c26b6_row1_col4, #T_c26b6_row2_col4, #T_c26b6_row3_col4, #T_c26b6_row4_col4, #T_c26b6_row5_col4, #T_c26b6_row6_col4, #T_c26b6_row7_col4, #T_c26b6_row8_col4, #T_c26b6_row9_col4, #T_c26b6_row10_col4, #T_c26b6_row11_col4, #T_c26b6_row12_col4, #T_c26b6_row13_col4, #T_c26b6_row14_col4, #T_c26b6_row15_col4, #T_c26b6_row16_col4, #T_c26b6_row17_col4, #T_c26b6_row18_col4 {\n",
       "  text-align: left;\n",
       "  font-size: 12px;\n",
       "  vertical-align: middle;\n",
       "  width: 20%;\n",
       "  min-width: 150px;\n",
       "}\n",
       "#T_c26b6_row0_col5, #T_c26b6_row1_col5, #T_c26b6_row2_col5, #T_c26b6_row3_col5, #T_c26b6_row4_col5, #T_c26b6_row5_col5, #T_c26b6_row6_col5, #T_c26b6_row7_col5, #T_c26b6_row8_col5, #T_c26b6_row9_col5, #T_c26b6_row10_col5, #T_c26b6_row11_col5, #T_c26b6_row12_col5, #T_c26b6_row13_col5, #T_c26b6_row14_col5, #T_c26b6_row15_col5, #T_c26b6_row16_col5, #T_c26b6_row17_col5, #T_c26b6_row18_col5 {\n",
       "  text-align: left;\n",
       "  font-size: 12px;\n",
       "  vertical-align: middle;\n",
       "  width: 10%;\n",
       "}\n",
       "</style>\n",
       "<table id=\"T_c26b6\">\n",
       "  <caption><strong>Data Frame Summary</strong><br>dataset<br>Dimensions: 557,586 x 19<br>Duplicates: 0</caption>\n",
       "  <thead>\n",
       "    <tr>\n",
       "      <th id=\"T_c26b6_level0_col0\" class=\"col_heading level0 col0\" >No</th>\n",
       "      <th id=\"T_c26b6_level0_col1\" class=\"col_heading level0 col1\" >Variable</th>\n",
       "      <th id=\"T_c26b6_level0_col2\" class=\"col_heading level0 col2\" >Stats / Values</th>\n",
       "      <th id=\"T_c26b6_level0_col3\" class=\"col_heading level0 col3\" >Freqs / (% of Valid)</th>\n",
       "      <th id=\"T_c26b6_level0_col4\" class=\"col_heading level0 col4\" >Graph</th>\n",
       "      <th id=\"T_c26b6_level0_col5\" class=\"col_heading level0 col5\" >Missing</th>\n",
       "    </tr>\n",
       "  </thead>\n",
       "  <tbody>\n",
       "    <tr>\n",
       "      <td id=\"T_c26b6_row0_col0\" class=\"data row0 col0\" >1</td>\n",
       "      <td id=\"T_c26b6_row0_col1\" class=\"data row0 col1\" ><strong>date_message</strong><br>[object]</td>\n",
       "      <td id=\"T_c26b6_row0_col2\" class=\"data row0 col2\" >1. 2022-10-12 16:55:36<br>2. 2022-10-30 13:52:37<br>3. 2022-10-12 16:55:34<br>4. 2022-10-08 17:31:23<br>5. 2022-10-06 12:38:50<br>6. 2022-10-12 16:55:35<br>7. 2022-10-06 14:22:13<br>8. 2022-10-12 12:09:20<br>9. 2022-10-08 17:31:22<br>10. 2022-10-08 17:31:24<br>11. other</td>\n",
       "      <td id=\"T_c26b6_row0_col3\" class=\"data row0 col3\" >62 (0.0%)<br>59 (0.0%)<br>58 (0.0%)<br>53 (0.0%)<br>53 (0.0%)<br>53 (0.0%)<br>53 (0.0%)<br>52 (0.0%)<br>52 (0.0%)<br>51 (0.0%)<br>557,040 (99.9%)</td>\n",
       "      <td id=\"T_c26b6_row0_col4\" class=\"data row0 col4\" ><img src = \"data:image/png;base64, iVBORw0KGgoAAAANSUhEUgAAAJsAAAD+CAYAAAAtWHdlAAAAOnRFWHRTb2Z0d2FyZQBNYXRwbG90bGliIHZlcnNpb24zLjEwLjEsIGh0dHBzOi8vbWF0cGxvdGxpYi5vcmcvc2/+5QAAAAlwSFlzAAAPYQAAD2EBqD+naQAAAy5JREFUeJzt3MGN02AURtHnKIJhY2tkKSVADymCLb3ThTcwrMKCHq4lc04F/+JKT5H8ZXm9XgOF29kP4P8hNjJiIyM2MmIjIzYyYiMjNjJiIyM2MrdlWb4ty/J29kO4vtvMfJ2Zz2c/hOtzRsmIjYzYyIiNjNjIiI2M2MiIjYzYyIiNjNjIiI2M2MiIjYzYyIiNzG1mfs7Mn7MfwvUt/sWIijNKRmxkrKvIWFeRcUbJiI2M2MiIjYzYyIiNjNjIiI2M2MiIjYzYyIiNjNjIiI2M2MgYvJAxeCHjjJIRGxmDFzIGL2ScUTJiIyM2MmIjIzYyYiMjNjJiIyM2MmIjIzYyYiMjNjJiIyM2MgYvZAxeyDijZMRGRmxkrKvIWFeRcUbJiI2M2MiIjYzYyIiNjNjIiI2M2MiIjYzYyIiNjNjIiI2M2MhYV5GxriLjjJIRGxmDFzIGL2ScUTJiIyM2MmIjIzYyYiMjNjJiIyM2MmIjIzYyYiMjNjJiIyM2MgYvZAxeyDijZMRGxuCFjMELGWeUjNjIiI2M2MiIjYzYyIiNjNjIiI2M2MiIjYzYyIiNjNjIiI2M2MhYV5GxriLjjJIRGxnrKjLWVWScUTJiIyM2MmIjIzYyYiMjNjJiIyM2MmIjIzYyYiMjNjJiIyM2MgYvZAxeyDijZMRGxuCFjMELGWeUjNjIiI2M2MiIjYzYyIiNjNjIiI2M2MiIjYzYyIiNjNjIiI2MwQsZgxcyzigZsZERGxnrKjLWVWScUTJiIyM2MmIjIzYyYiMjNjJiIyM2MmIjIzYyYiMjNjJiIyM2MtZVZKyryDijZMRGxuCFjMELGWeUjNjIiI2M2MiIjYzYyIiNjNjIiI2M2MiIjYzYyIiNjNjIiI2MwQsZgxcyziiZZWa+zMynsx/C9d33ff++ruv72Q/h+u7rur4/n8/f27Z9nP0Yrus4jrf7zMy2bR+Px+PX2Q/i2vxAICM2MmIjIzYyYiMjNjJiIyM2MmIjIzYyYiMjNjJiI3Of+ff5x9kP4dqO43hb9n3/4eNJCj4LJ2NdRcYPBDJiIyM2MmIjIzYyYiMjNjJiIyM2Mn8BY+dLgsx6ZCoAAAAASUVORK5CYII=\"></img></td>\n",
       "      <td id=\"T_c26b6_row0_col5\" class=\"data row0 col5\" >0<br>(0.0%)</td>\n",
       "    </tr>\n",
       "    <tr>\n",
       "      <td id=\"T_c26b6_row1_col0\" class=\"data row1 col0\" >2</td>\n",
       "      <td id=\"T_c26b6_row1_col1\" class=\"data row1 col1\" ><strong>id_member_anonymous</strong><br>[object]</td>\n",
       "      <td id=\"T_c26b6_row1_col2\" class=\"data row1 col2\" >1. nan<br>2. abe534d581ec6d552243d6955d3c3c<br>3. 1665e22b0f564cd46d343f76770148<br>4. 1ac091b8ed5c4e42383f1b4ff4cc9b<br>5. c743967449a387ad2c1c7e03b2c45b<br>6. e7998863ac2a40086657fab4a6b463<br>7. e8fd8fee8c39342d37993775da7756<br>8. 2f4be6244ede15b46e8329a2c975be<br>9. d49f81df0c75d1d72bee6c5b2d707d<br>10. 4f7d493f0f6222d56e5b19a4f7c336<br>11. other</td>\n",
       "      <td id=\"T_c26b6_row1_col3\" class=\"data row1 col3\" >323,341 (58.0%)<br>12,289 (2.2%)<br>5,452 (1.0%)<br>5,060 (0.9%)<br>3,019 (0.5%)<br>1,928 (0.3%)<br>1,706 (0.3%)<br>1,620 (0.3%)<br>1,571 (0.3%)<br>1,447 (0.3%)<br>200,153 (35.9%)</td>\n",
       "      <td id=\"T_c26b6_row1_col4\" class=\"data row1 col4\" ><img src = \"data:image/png;base64, iVBORw0KGgoAAAANSUhEUgAAAJsAAAD+CAYAAAAtWHdlAAAAOnRFWHRTb2Z0d2FyZQBNYXRwbG90bGliIHZlcnNpb24zLjEwLjEsIGh0dHBzOi8vbWF0cGxvdGxpYi5vcmcvc2/+5QAAAAlwSFlzAAAPYQAAD2EBqD+naQAABFFJREFUeJzt3DFuG+cahtGPBOFYzRCEAC3h3s4L4CK82CyCC3B59yAImiJy3DCF7SBJHT6DS53TuftlPJrhEPNqd71eBwr7rQ/A+yE2MmIjIzYyYiMjNjJiIyM2MmIjs5uZh5n5sPVB3oFv1+v1betDbOnw+Pj4eVmW09YHuXfrur7sdrtf33Nwh2VZTufz+e14PH7d+jD36vX19ePlcjk9Pz9/mJn3G9vMzPF4/Pr09PTb1oe5cw9bH2BrHhDIiI2M2MiIjYzYyIiNjNjIiI2M2MiIjYzYyIiNjNjIiI3MYeb7+1ZbH+Se+f/97rCu68vlcjmN961ual3Xl5n5tvU5tmSD0Hn3G4SdP5lF5Z9Xtnf/28ft/G1dZQHELe1/rqvO5/Pbj+h8fuMm/lxX/fi3J1Juxpe6ZMRGRmxkxEZGbGTERkZsZMRGRmxkxEZGbGTERkZsZAxeyPx18GKUwU15LZyMwQuZv17ZXNW4qT8HL8Yu3Np+WZbTp0+fxtiFW9vPzDw8PPy+9UG4f77UJSM2MmIjIzYyYiMjNjJiIyM2MmIjIzYyYiMjNjJiI7OfmXl7e/tl64Nw//brur58+fLF2IWb81o4GYMXMh4QyPy8jY5bKLd2eHx8/DwzY1nFre2XZTlZVlHwmY2M2MiIjYzYyIiNjNjIiI2M2MiIjYzYyIiNjNjIiI2M2MiIjczhx6pqxrKKG/NaOBnrKjKubGQMXsgYvJDx1QcZsZERGxmxkREbGbGRERsZsZERGxmxkREbGbGRERsZsZERGxmDFzJeCydj8ELGlY2MwQsZgxcyvvogIzYyYiMjNjJiIyM2MmIjIzYyYiMjNjJiIyM2MmIjIzYyYiMjNjLWVWRsEMhYV5HxmY3Mfrfb/Xe3233c+iDcv/3M/Gdmftn6INw/t1EyYiMjNjJiIyM2MmIjIzYyYiMjNjJiIyM2MmIjIzYyYiMjNjL7mfnfzPy+9UG4fzYIZNxGyYiNjMELGYMXMm6jZMRGRmxkxEZGbGTERkZsZMRGRmxkxEZGbGTERkZsZMRGRmxkDF7IGLyQcRslIzYyYiNjXUXGuoqM2ygZsZERGxmxkREbGbGRERsZsZERGxmxkREbGbGRERsZsZERGxnrKjLWVWTcRsmIjYzBCxmDFzJuo2TERkZsZMRGRmxkxEZGbGTERkZsZMRGRmxkxEZGbGTERkZsZAxeyBi8kHEbJbObmYeZ+bD1QW7o2/V6fdv6EMwcHh8fPy/Lctr6ILeyruvLbrf7VXDbOyzLcjqfz2/H4/Hr1of5t72+vn68XC6n5+fnDzMjto0dZmaOx+PXp6en37Y+zI08bH0AvvOAQEZsZMRGRmxkxEZGbGTERkZsZMRGRmxkxEZGbGTERuYw8/1VnK0Pcgv3+nP9vzqs6/pyuVxOc6ev4qzr+jIz37Y+B14LJ2RdRcYDAhmxkREbGbGRERsZsZERGxmxkREbmT8AEocTfxVOsUgAAAAASUVORK5CYII=\"></img></td>\n",
       "      <td id=\"T_c26b6_row1_col5\" class=\"data row1 col5\" >323,341<br>(58.0%)</td>\n",
       "    </tr>\n",
       "    <tr>\n",
       "      <td id=\"T_c26b6_row2_col0\" class=\"data row2 col0\" >3</td>\n",
       "      <td id=\"T_c26b6_row2_col1\" class=\"data row2 col1\" ><strong>id_group_anonymous</strong><br>[object]</td>\n",
       "      <td id=\"T_c26b6_row2_col2\" class=\"data row2 col2\" >1. 5b10d7739171149be6d9961e3350c0<br>2. 857cd5311da1bdc15eb9e6918a47c6<br>3. b8a8737812c7fd7d3e0bdbb65ef630<br>4. e56ec342fc599ebb4ed89655eb6f03<br>5. 959f13e0079883060632c74ffc81c5<br>6. b11f2df64ac19aad47a50accf32052<br>7. 12283e08a2eb5789201e105b34489e<br>8. c8f2de56550ed0bf85249608b7ead9<br>9. d9c080b9db8cd9d0e88e870ce782c0<br>10. e3988dfe85b2ba2fa0499a428dd8a2<br>11. other</td>\n",
       "      <td id=\"T_c26b6_row2_col3\" class=\"data row2 col3\" >112,228 (20.1%)<br>76,912 (13.8%)<br>35,983 (6.5%)<br>35,713 (6.4%)<br>20,565 (3.7%)<br>16,327 (2.9%)<br>13,117 (2.4%)<br>12,584 (2.3%)<br>12,375 (2.2%)<br>10,177 (1.8%)<br>211,605 (38.0%)</td>\n",
       "      <td id=\"T_c26b6_row2_col4\" class=\"data row2 col4\" ><img src = \"data:image/png;base64, iVBORw0KGgoAAAANSUhEUgAAAJsAAAD+CAYAAAAtWHdlAAAAOnRFWHRTb2Z0d2FyZQBNYXRwbG90bGliIHZlcnNpb24zLjEwLjEsIGh0dHBzOi8vbWF0cGxvdGxpYi5vcmcvc2/+5QAAAAlwSFlzAAAPYQAAD2EBqD+naQAABC5JREFUeJzt3cFqU1sAhtEdCUUnCaWQh8lD3Ie9D5G3CSUZWHGSO7gq1iRSac53pF1r5uhU+NjlHPavi9PpNKDwYe4fgPdDbGTERkZsZMRGRmxkxEZGbGTERmYxxvg0xrib6flfT6fT00zPJrZ8eHj4Z7Va3c/x8OPx+LhYLP4V3PuwXK1W99vt9mm9Xn8pH3w4HD7udrv7/X5/N8YQ2zuwHGOM9Xr9ZbPZfJ7h+Z9meCYz8YJARmxkxEZGbGTERkZsZMRGRmxkxEZGbGTERkZsZMRGRmxklmP8f7esfvAcz2Rey+Px+Ljb7e7HDHfLjsfj4xjja/1c5mGDQGbhn8yiMtXJ5sTizCTrKqspLrn5uspqimumWldZTXHGR10yYiMjNjJiIyM2MmIjIzYyYiMjNjJiIyM2MmIjIzYyNx+8GLJwzSSDF0MWLnEtnIzBC5k/OdmcVrzKiwcvRiy81osGL0Ys3MKfDF6MWHgVH3XJiI2M2MiIjYzYyIiNjNjIiI2M2MiIjYzYyIiNjNjIvGjwYsTCLbx48GLEwmu5Fk7G4IWMFwQyfo2Ssa4iY11FxrqKjBcEMmIjIzYyYiMjNjJiIyM2MmIjIzYyYiMjNjJiIyM2MtZVZKyryLgWTsa6iszvTjYnGTd1dfBi4MKtXRy8GLgwhd8NXgxcuCkfdcmIjYzYyIiNjNjIiI2M2MiIjYzYyIiNjNjIiI2M2MhcHLwYuDCFq4MXAxduzbVwMgYvZK6dbE41bu7i4MXYhSmcDV6MXZjKtcGLsQs356MuGbGRERsZsZERGxmxkREbGbGRERsZsZERGxmxkREbGbGROVtXWVYxlYvrKssqpmCDQMa6isylk82pxiTO1lWWVUzl2brKsoopXVpXWVYxCR91yYiNjNjIiI2M2MiIjYzYyIiNjNjIiI2M2MiIjYzYyDwbvBi7MKWzwYuxC1NxLZyMwQuZX082pxqTeTZ4MXZhSh++D1622+3Tt+gu/XeQ8Go/Bi/f/mzswmR81CUjNjJiIyM2MmIjIzYyYiMjNjJiIyM2MmIjIzYyYiNz9j+8wFR+HrwYuzAp18LJGLyQ8YJAxq9RMtZVZKyryFhXkfGCQEZsZMRGRmxkxEZGbGTERkZsZMRGRmxkxEZGbGTERsa6iox1FRnXwslYV5FxspExeCFj8ELG4IWMj7pkxEZGbGTERkZsZMRGRmxkxEZGbGTERkZsZMRGRmxkDF7IGLyQcS2cjMELmV9PtrfOyT2jZ4OXt86gZ17L74OXn3YIb9LhcPi42+3u9/v93RhDbDP4MXjZbDaf5/5hAgY9M/JRl4zYyIiNjNjIiI2M2MiIjYzYyIiNjNjIiI2M2MiIjcy7Gby8h7/j3+7nwcubv35j0DMv18LJGLyQ8YJARmxkxEZGbGTERkZsZMRGRmxkxEbmP/UPKcXY11BLAAAAAElFTkSuQmCC\"></img></td>\n",
       "      <td id=\"T_c26b6_row2_col5\" class=\"data row2 col5\" >0<br>(0.0%)</td>\n",
       "    </tr>\n",
       "    <tr>\n",
       "      <td id=\"T_c26b6_row3_col0\" class=\"data row3 col0\" >4</td>\n",
       "      <td id=\"T_c26b6_row3_col1\" class=\"data row3 col1\" ><strong>media</strong><br>[object]</td>\n",
       "      <td id=\"T_c26b6_row3_col2\" class=\"data row3 col2\" >1. nan<br>2. b5ab97b82ce9a3957022b7388d8fb9<br>3. 4d60b50f292b14a9d62a0bb2f1b427<br>4. 5d4089a914ac6fa7d04cbe08bb8057<br>5. c4266d6971f2e3517f99d5736d8f0f<br>6. baba583ff1a3a79f11ed019cc319f2<br>7. 7786c121f410f21595063c22689e28<br>8. 8a8fdfe369f16d7e1b1bd01b4f09d5<br>9. 499c1b631969c3dadc205b1846949f<br>10. d924f2afaeeac65064cd85ed8724aa<br>11. other</td>\n",
       "      <td id=\"T_c26b6_row3_col3\" class=\"data row3 col3\" >224,981 (40.3%)<br>5,473 (1.0%)<br>1,847 (0.3%)<br>1,481 (0.3%)<br>1,404 (0.3%)<br>1,136 (0.2%)<br>764 (0.1%)<br>636 (0.1%)<br>542 (0.1%)<br>512 (0.1%)<br>318,810 (57.2%)</td>\n",
       "      <td id=\"T_c26b6_row3_col4\" class=\"data row3 col4\" ><img src = \"data:image/png;base64, iVBORw0KGgoAAAANSUhEUgAAAJsAAAD+CAYAAAAtWHdlAAAAOnRFWHRTb2Z0d2FyZQBNYXRwbG90bGliIHZlcnNpb24zLjEwLjEsIGh0dHBzOi8vbWF0cGxvdGxpYi5vcmcvc2/+5QAAAAlwSFlzAAAPYQAAD2EBqD+naQAABCpJREFUeJzt3c1tG1cYhtGPBOFYmyEIAioh2bkAFeFiXQQL8DI9CIJmYdneMIv8NsBnAvGcCq6ER7ykMK+0u16vA4X91gfgfoiNjNjIiI2M2MiIjYzYyIiNjNjI7GbmYWY+bH2Qjfy8Xq9vWx/iXhzO5/PnZVlOWx9kC+u6vux2uy+CaxyWZTk9PT29HY/H71sfpvT6+vrxcrmcnp+fP8yM2AKHmZnj8fj98fHx29aH2cDD1ge4Jz4gkBEbGbGRERsZsZERGxmxkREbGbGRERsZsZERGxmxkREbmcPMn892bX2Q2j1+zVs7rOv6crlcTnOHz3at6/oyMz+3Pse9sEHwSHhm509mUfnvK5ufcm7qn3WVpRG3tl+W5fTp06f5a853r+/dCOxnZh4eHn5sfRDeP7/UJSM2MmIjIzYyYiMjNjJiIyM2MmIjIzYyYiMjNjJiI7OfmXl7e/tl64Pw/u3XdX35+vWr8Qc357FwMgYvZP5+ZRuvatza4Xw+f56ZMXbh1vbLspyMXSj4PRsZsZERGxmxkREbGbGRERsZsZERGxmxkREbGbGRERsZsZERG5nDX0OXGWMXbsxj4WQMXsh4z0ZGbGT2u93ut91u539vcnP7mfl1ZvytD27ONUpGbGTERkZsZMRGRmxkxEZGbGTERkZsZMRGRmxkxEZGbGTERmY/M7/PzI+tD8L7Z/BCxjVKRmxkDF7IGLyQcY2SERsZsZERGxmxkREbGbGRERsZsZERGxmxkREbGbGRERsZsZExeCFj8ELGNUpGbGQMXsgYvJBxjZIRGxmxkREbGbGRERsZsZERGxmxkREbGbGRERsZsZERGxmxkREbGesqMtZVZFyjZMRGxrqKjHUVGdcoGbGRERsZsZERGxmxkREbGbGRERsZsZERGxmxkREbGbGRERsZgxcyBi9kXKNkxEbG4IWMwQsZ1ygZsZERGxmxkREbGbGRERsZsZERGxmxkREbGbGRERsZsZERGxmDFzIGL2Rco2TERkZsZKyryFhXkXGNkhEbGbGRERsZsZERGxmxkREbGbGRERsZsZERGxmxkREbGbGRsa4iY11FxjVKRmxkDF7IGLyQcY2SERsZsZERGxmxkREbGbGRERsZsZERGxmxkREbGbGRERsZsZExeCFj8ELGNUpmNzMPM/Nh64O8cz+v1+vb1ofY2uF8Pn9eluW09UHes3VdX3a73Zd7D+6wLMvp6enp7Xg8ft/6MO/R6+vrx8vlcnp+fv4wM/cd28zM8Xj8/vj4+G3rw7xjD1sf4P/ABwQyYiMjNjJiIyM2MmIjIzYyYiMjNjJiIyM2MmIjIzYyh5k/H4PZ+iDvle/tvw7rur5cLpfTeAzmZtZ1fZmZn1ufY2seC294LHysqwj5gEBGbGTERkZsZMRGRmxkxEZGbGTERuYPH/bPW7QvlzUAAAAASUVORK5CYII=\"></img></td>\n",
       "      <td id=\"T_c26b6_row3_col5\" class=\"data row3 col5\" >224,981<br>(40.3%)</td>\n",
       "    </tr>\n",
       "    <tr>\n",
       "      <td id=\"T_c26b6_row4_col0\" class=\"data row4 col0\" >5</td>\n",
       "      <td id=\"T_c26b6_row4_col1\" class=\"data row4 col1\" ><strong>media_type</strong><br>[object]</td>\n",
       "      <td id=\"T_c26b6_row4_col2\" class=\"data row4 col2\" >1. nan<br>2. image/jpg<br>3. url<br>4. video/mp4<br>5. application/vnd.android.packag<br>6. application/pdf<br>7. image/mp4<br>8. image/apk<br>9. image/pdf<br>10. image/f4v<br>11. other</td>\n",
       "      <td id=\"T_c26b6_row4_col3\" class=\"data row4 col3\" >224,981 (40.3%)<br>200,441 (35.9%)<br>100,856 (18.1%)<br>18,497 (3.3%)<br>7,159 (1.3%)<br>2,850 (0.5%)<br>1,591 (0.3%)<br>234 (0.0%)<br>230 (0.0%)<br>83 (0.0%)<br>664 (0.1%)</td>\n",
       "      <td id=\"T_c26b6_row4_col4\" class=\"data row4 col4\" ><img src = \"data:image/png;base64, iVBORw0KGgoAAAANSUhEUgAAAJsAAAD+CAYAAAAtWHdlAAAAOnRFWHRTb2Z0d2FyZQBNYXRwbG90bGliIHZlcnNpb24zLjEwLjEsIGh0dHBzOi8vbWF0cGxvdGxpYi5vcmcvc2/+5QAAAAlwSFlzAAAPYQAAD2EBqD+naQAABA5JREFUeJzt3cFtG1cARdE/BOFEGxIEAZeQ7FSAinCxKYIFaJkeBEGziGxvmEWcIIBtZOO5o3DOqeALuJgvEvOk6Xq9Dijs1j4A2yE2MmIjIzYyYiMjNjJiIyM2MmIjM40x7sYY79Y+yEo+X6/X17UPsRX78/n84XA4nNY+yBrmeX6epuk3wTX2h8Ph9PDw8Ho8Hj+ufZjSy8vLz5fL5fT09PRujCG2wH6MMY7H48f379//sfZhVnC39gG2xAcEMmIjIzYyYiMjNjJiIyM2MmIjIzYyYiMjNjJiIyM2MmIjsx/jr3e71j5IbYs/89r28zw/Xy6X09jgu13zPD+PMT6vfY6tsEHwSnhm8iezqGzhyebp9Ubc/LrKgurtuOl1lQXV27KFddXmPmW/Vb7UJSM2MmIjIzYyYiMjNjJiIyM2MmIjIzYyYiMjNjJiI3PTg5db/bn+r25+8GLU8nZ4LZyMwQuZNZ5snjQblQ9eDFC2Kx28GKBs2xqDl5v81Mt/86UuGbGRERsZsZERGxmxkREbGbGRERsZsZERGxmxkREbmXTwYoCybfngxQBlu7wWTsbghYwPCGS+d4266vjhvrmusoBiCV+tqyygWMr31lUWUPxwPiCQERsZsZERGxmxkREbGbGRERsZsZERGxmxkREbGbGR+WpdZQHFUr65rrKAYgleCydjXUXm3082TzMW9c/gxciFpe0Oh8Pp/v5+fFlY3fK/gmRluzHGuLu7+7T2Qbh9vtQlIzYyYiMjNjJiIyM2MmIjIzYyYiMjNjJiIyM2MmIjsxtjjNfX15/WPgi3bzfP8/Pj46ORC4vzWjgZgxcyfz/ZhqcaS9ufz+cPY4xh7MLSdofD4WTsQsH3bGTERkZsZMRGRmxkxEZGbGTERkZsZMRGRmxkxEZGbGTERkZsZMRGZv9lVTWGZRULs0EgY11Fxu9sZHbTNP06TZP/McridmOMX8YY/tYHi3ONkhEbGbGRERsZsZERGxmxkREbGbGRERsZsZERGxmxkREbGbGR2Y0xfh9jfFr7INw+GwQyrlEyYiNj8ELG4IWMa5SM2MiIjYzYyIiNjNjIiI2M2MiIjYzYyIiNjNjIiI2M2MiIjYzBCxmDFzKuUTJiIyM2MtZVZKyryLhGyYiNjNjIiI2M2MiIjYzYyIiNjNjIiI2M2MiIjYzYyIiNjNjIWFeRsa4i4xolIzYyBi9kDF7IuEbJiI2M2MiIjYzYyIiNjNjIiI2M2MiIjYzYyIiNjNjIiI2M2MgYvJAxeCHjGiUjNjIGL2QMXsi4RsmIjYzYyIiNjNjIiI2M2MiIjYzYyIiNjNjIiI2M2MiIjYzYyBi8kDF4IeMaJSM2MmIjIzYyYiMjNjJiIyM2MmIjIzYyfwLSTi+KdgvUywAAAABJRU5ErkJggg==\"></img></td>\n",
       "      <td id=\"T_c26b6_row4_col5\" class=\"data row4 col5\" >224,981<br>(40.3%)</td>\n",
       "    </tr>\n",
       "    <tr>\n",
       "      <td id=\"T_c26b6_row5_col0\" class=\"data row5 col0\" >6</td>\n",
       "      <td id=\"T_c26b6_row5_col1\" class=\"data row5 col1\" ><strong>media_url</strong><br>[object]</td>\n",
       "      <td id=\"T_c26b6_row5_col2\" class=\"data row5 col2\" >1. nan<br>2. t.me/alexeconomia<br>3. https://youtube.com/c/especula<br>4. t.me/fimtaproximo<br>5. t.me/+EWlGMatRZGg3OTlh<br>6. https://youtu.be/qbTzhB0akt8<br>7. https://youtu.be/zDuOoyhyN-4<br>8. t.me/+ewZIPdZ42vEyNzJh<br>9. https://t.me/canalselvabrasilo<br>10. https://youtu.be/4DHk9KZ01HM<br>11. other</td>\n",
       "      <td id=\"T_c26b6_row5_col3\" class=\"data row5 col3\" >400,141 (71.8%)<br>4,159 (0.7%)<br>1,607 (0.3%)<br>1,581 (0.3%)<br>1,419 (0.3%)<br>1,160 (0.2%)<br>1,022 (0.2%)<br>772 (0.1%)<br>709 (0.1%)<br>660 (0.1%)<br>144,356 (25.9%)</td>\n",
       "      <td id=\"T_c26b6_row5_col4\" class=\"data row5 col4\" ><img src = \"data:image/png;base64, iVBORw0KGgoAAAANSUhEUgAAAJsAAAD+CAYAAAAtWHdlAAAAOnRFWHRTb2Z0d2FyZQBNYXRwbG90bGliIHZlcnNpb24zLjEwLjEsIGh0dHBzOi8vbWF0cGxvdGxpYi5vcmcvc2/+5QAAAAlwSFlzAAAPYQAAD2EBqD+naQAABAlJREFUeJzt3M1tG2cUhtE7AqHEGxIEAZWQ9KAiXKyLYBHpQRDEhaVowyzsbII48E/yjMc5p4IL+LE/y5jXy/V6HSjcrH0A/x9iIyM2MmIjIzYyYiMjNjJiIyM2MsvMvJmZ27UP4au8Xq/X57WP+Fy70+n0dr/fH9c+hC93uVwel2V5t5Xgdvv9/nh/f/98OBxe1j6Gz/f09PTz+Xw+Pjw83M7MNmKbmTkcDi93d3fv1z6GL/Zm7QO+hB8QyIiNjNjIiI2M2MiIjYzYyIiNjNjIiI2M2MiIjYzYyIiNzG7mw7dRax/Cl9nir9nucrk8ns/n42zs2yg+fKk7M69r3/G5bBC2bVMbhMV/mUXlzz/ZZku/Q9im3el0ejszs6WVDtt0s9/vjx+nfP7exn/Kv7ORERsZsZERGxmxkREbGbGRERsZsZERGxmxkREbGbGRERsZsZHZfRxNzGxoOME2+SycjMELGX9nI3OzLMuvy7Jsbl3N9tzMzC8z89Pah/Dj84ySERsZsZERGxmxkREbGbGRERsZsZERGxmxkREbGbGRERsZsZG5mZnfZub3tQ/hx2eDQMYzSkZsZMRGxrqKjHUVGc8oGbGRERsZsZERGxmxkREbGbGRERsZsZERGxmxkREbGbGRERsZ6yoy1lVkPKNkxEbG4IWMwQsZzygZsZERGxmxkREbGbGRERsZsZERGxmxkREbGbGRERsZsZERGxmDFzIGL2Q8o2TERsbghYzBCxnPKBmxkREbGbGRERsZsZERGxmxkREbGbGRERsZsZERGxmxkREbGbGRsa4iY11FxjNKRmxkrKvIWFeR8YySERsZsZERGxmxkREbGbGRERsZsZERGxmxkREbGbGRERsZsZExeCFj8ELGM0pGbGQMXsgYvJDxjJIRGxmxkREbGbGRERsZsZERGxmxkREbGbGRERsZsZERGxmxkTF4IWPwQsYzSkZsZMRGxrqKjHUVGc8oGbGRERsZsZERGxmxkREbGbGRERsZsZERGxmxkREbGbGRERsZ6yoy1lVkPKNkxEbG4IWMwQsZzygZsZERGxmxkREbGbGRERsZsZERGxmxkREbGbGRERsZsZERGxmDFzIGL2Q8o2SWmXkzM7drH/IPXq/X6/PaR/DtdqfT6e1+vz+ufcinXC6Xx2VZ3glu+3b7/f54f3//fDgcXtY+5q+enp5+Pp/Px4eHh9uZEdvG7WZmDofDy93d3fu1j/mEN2sfwL/DDwhkxEZGbGTERkZsZMRGRmxkxEZGbGTERkZsZMRGRmxkdjMfPuVZ+5C/873exdfZXS6Xx/P5fJzv9FOey+XyODOva9/Bt/NZOBnrKjJ+QCAjNjJiIyM2MmIjIzYyYiMjNjJiI/MHIhuuZmoKUc0AAAAASUVORK5CYII=\"></img></td>\n",
       "      <td id=\"T_c26b6_row5_col5\" class=\"data row5 col5\" >400,141<br>(71.8%)</td>\n",
       "    </tr>\n",
       "    <tr>\n",
       "      <td id=\"T_c26b6_row6_col0\" class=\"data row6 col0\" >7</td>\n",
       "      <td id=\"T_c26b6_row6_col1\" class=\"data row6 col1\" ><strong>has_media</strong><br>[bool]</td>\n",
       "      <td id=\"T_c26b6_row6_col2\" class=\"data row6 col2\" >1. True<br>2. False</td>\n",
       "      <td id=\"T_c26b6_row6_col3\" class=\"data row6 col3\" >332,605 (59.7%)<br>224,981 (40.3%)</td>\n",
       "      <td id=\"T_c26b6_row6_col4\" class=\"data row6 col4\" ><img src = \"data:image/png;base64, iVBORw0KGgoAAAANSUhEUgAAAJsAAAAuCAYAAAA/ZmtKAAAAOnRFWHRTb2Z0d2FyZQBNYXRwbG90bGliIHZlcnNpb24zLjEwLjEsIGh0dHBzOi8vbWF0cGxvdGxpYi5vcmcvc2/+5QAAAAlwSFlzAAAPYQAAD2EBqD+naQAAATNJREFUeJzt28Fpw0AURdE/QZh4M4MQuBgVkWJTxHQjhGYRG28mi/TwPuTdU8G3uQhs9MqcMwCFEhH3iLhlH2LkPed8Zh+RYdm27avWumYf4mKMcZZSvh2DW2qt677vz9baK/uY/+66rs/e+3ocxy0i/GKLiGitvR6Px0/2MSbu2Qdk+cg+AD6IDTLEBhligwyxQYbYIENskCE2yBAbZIgNMsQGGWKDDLFBhtggQ2yQWSL+XurLPsSB+/e8jDHO3vsaxi/1KY0xzoh4Z9+RgcGLnu3gpTDlg4r7k832KZPBesrnPKvLYDvlc5/VZXCf8vELXIg/dSFDbJAhNsgQG2SIDTLEBhligwyxQYbYIENskCE2yBAbZIgNMsQGGWKDjO2Uz/EzZ7Oe8jnP6jIweGF/IPMLCltq38Lh9EgAAAAASUVORK5CYII=\"></img></td>\n",
       "      <td id=\"T_c26b6_row6_col5\" class=\"data row6 col5\" >0<br>(0.0%)</td>\n",
       "    </tr>\n",
       "    <tr>\n",
       "      <td id=\"T_c26b6_row7_col0\" class=\"data row7 col0\" >8</td>\n",
       "      <td id=\"T_c26b6_row7_col1\" class=\"data row7 col1\" ><strong>has_media_url</strong><br>[bool]</td>\n",
       "      <td id=\"T_c26b6_row7_col2\" class=\"data row7 col2\" >1. False<br>2. True</td>\n",
       "      <td id=\"T_c26b6_row7_col3\" class=\"data row7 col3\" >400,141 (71.8%)<br>157,445 (28.2%)</td>\n",
       "      <td id=\"T_c26b6_row7_col4\" class=\"data row7 col4\" ><img src = \"data:image/png;base64, iVBORw0KGgoAAAANSUhEUgAAAJsAAAAuCAYAAAA/ZmtKAAAAOnRFWHRTb2Z0d2FyZQBNYXRwbG90bGliIHZlcnNpb24zLjEwLjEsIGh0dHBzOi8vbWF0cGxvdGxpYi5vcmcvc2/+5QAAAAlwSFlzAAAPYQAAD2EBqD+naQAAATtJREFUeJzt2zFqw0AQheHZIEzc7CIEOowOkcPmEHsbYbRFbNxsChdqUkgu3jDk/04w4N8GC73UezdAIZnZ1cwu3ofgLc/e+937iKOGaZq+cs6j9yE4r7V2Syl9RwluyDmPy7LcSykP72Nw3LZtn7XWcV3Xi5nFiM3MrJTymOf5x/sYnHb1PuCMD+8D8H8QG2SIDTLEBhligwyxQYbYIENskCE2yBAbZIgNMsQGGWKDDLFBhtggM5i9XsTzPgTnRPzMhtbardY6WrAX8fB6LdzMnt53HMXgJbZQg5fElA8qEX/ZQn2bsQs35Ys2X8Mu1JQv4nwNu4hTPv41B8VDXcgQG2SIDTLEBhligwyxQYbYIENskCE2yBAbZIgNMsQGGWKDDLFBhtggE2rKF+VO/C3clC/afA07Bi+Q+QUKW2rfq1MPJAAAAABJRU5ErkJggg==\"></img></td>\n",
       "      <td id=\"T_c26b6_row7_col5\" class=\"data row7 col5\" >0<br>(0.0%)</td>\n",
       "    </tr>\n",
       "    <tr>\n",
       "      <td id=\"T_c26b6_row8_col0\" class=\"data row8 col0\" >9</td>\n",
       "      <td id=\"T_c26b6_row8_col1\" class=\"data row8 col1\" ><strong>trava_zap</strong><br>[bool]</td>\n",
       "      <td id=\"T_c26b6_row8_col2\" class=\"data row8 col2\" >1. False<br>2. True</td>\n",
       "      <td id=\"T_c26b6_row8_col3\" class=\"data row8 col3\" >557,570 (100.0%)<br>16 (0.0%)</td>\n",
       "      <td id=\"T_c26b6_row8_col4\" class=\"data row8 col4\" ><img src = \"data:image/png;base64, iVBORw0KGgoAAAANSUhEUgAAAJsAAAAuCAYAAAA/ZmtKAAAAOnRFWHRTb2Z0d2FyZQBNYXRwbG90bGliIHZlcnNpb24zLjEwLjEsIGh0dHBzOi8vbWF0cGxvdGxpYi5vcmcvc2/+5QAAAAlwSFlzAAAPYQAAD2EBqD+naQAAAP9JREFUeJzt28FJBDEARuE/w6DrJWEJTAnawxbh1d7tIhddT+PBGnyB7Psq+A8PQiAp53lGIpQkL0meZg/R+vbe+3ut9Tp7iNa311qvt9vtu7V2nz1G6xpjXPYkaa3dj+P4mj1Ia9tmD9DjMDZhjE0YYxPG2IQxNmGMTRhjE8bYhDE2YYxNGGMTxtiEMTZhjE2YPfl72DZ7iNY2xriU3vuHz8JF8MOLMMWvfKJ4QRBmK6W8lVK8IOjfbUlekzzPHqL1eYwKY2zCGJswxiaMsQljbMIYmzDGJoyxCWNswhibMMYmjLEJY2zCGJswxiaMsQmzJflM8jN7iNbn7yphfgF1Wxspqg1OFwAAAABJRU5ErkJggg==\"></img></td>\n",
       "      <td id=\"T_c26b6_row8_col5\" class=\"data row8 col5\" >0<br>(0.0%)</td>\n",
       "    </tr>\n",
       "    <tr>\n",
       "      <td id=\"T_c26b6_row9_col0\" class=\"data row9 col0\" >10</td>\n",
       "      <td id=\"T_c26b6_row9_col1\" class=\"data row9 col1\" ><strong>text_content_anonymous</strong><br>[object]</td>\n",
       "      <td id=\"T_c26b6_row9_col2\" class=\"data row9 col2\" >1. nan<br>2. This community was blocked in <br>3. Rough_sex🙈<br>4. Anal sex🙈<br>5. سکس مردان ازبک با زن انگلیسی ب<br>6. https://youtu.be/qbTzhB0akt8<br>7. https://youtu.be/zDuOoyhyN-4<br>8. فیلم سوپر با زیرنویس فارسی ببی<br>9. Rough😱<br>10. Foto de Nélia Barros<br>11. other</td>\n",
       "      <td id=\"T_c26b6_row9_col3\" class=\"data row9 col3\" >113,385 (20.3%)<br>17,422 (3.1%)<br>1,134 (0.2%)<br>1,118 (0.2%)<br>1,019 (0.2%)<br>758 (0.1%)<br>712 (0.1%)<br>632 (0.1%)<br>570 (0.1%)<br>548 (0.1%)<br>420,288 (75.4%)</td>\n",
       "      <td id=\"T_c26b6_row9_col4\" class=\"data row9 col4\" ><img src = \"data:image/png;base64, iVBORw0KGgoAAAANSUhEUgAAAJsAAAD+CAYAAAAtWHdlAAAAOnRFWHRTb2Z0d2FyZQBNYXRwbG90bGliIHZlcnNpb24zLjEwLjEsIGh0dHBzOi8vbWF0cGxvdGxpYi5vcmcvc2/+5QAAAAlwSFlzAAAPYQAAD2EBqD+naQAAA/hJREFUeJzt3M1NJFcYhtGvUAsPm261kAjBzoEgJtgJooNwDghRiwGzaS9mNz+LkZunED4ngboSj7gqVC/L+XweKFxtfQD+P8RGRmxkxEZGbGTERkZsZMRGRmxklpm5mZnrDc/wej6fnzd8PpHd7e3t5/1+f9zqAOu6Pi7L8kVwH99uv98f7+/vnw+Hw0v98Kenp0+n0+n48PBwPTNi++B2MzOHw+Hl7u7u60ZnuNnoucS8IJARGxmxkREbGbGRERsZsZERGxmxkREbGbGRERsZsZERG5ndzLfvyrZ4+FbPZRu7dV0fT6fTcTb6rmxd18eZed3i2bRsEMgs/mUWlV/9ZvPbhov76brK4om38MO6yuKJt/KrdZXFExfnj7pkxEZGbGTERkZsZMRGRmxkxEZGbGTERkZsZMRGRmxkfhi8GKHwVn46eDFC4S34LJyMwQsZLwhkrpZl+WtZFi8FvLmrmflzZv7Y+iB8fK5RMmIjIzYyYiMjNjJiIyM2MmIjIzYyYiMjNjJiIyM2MmIjIzYyVzPz98z8s/VB+PhsEMi4RsmIjYzYyFhXkbGuIuMaJSM2MmIjIzYyYiMjNjJiIyM2MmIjIzYyYiMjNjJiIyM2MmIjY11FxrqKjGuUjNjIGLyQMXgh4xolIzYyYiMjNjJiIyM2MmIjIzYyYiMjNjJiIyM2MmIjIzYyYiNj8ELG4IWMa5SM2MgYvJAxeCHjGiUjNjJiIyM2MmIjIzYyYiMjNjJiIyM2MmIjIzYyYiMjNjJiIyM2MtZVZKyryLhGyYiNjHUVGesqMq5RMmIjIzYyYiMjNjJiIyM2MmIjIzYyYiMjNjJiIyM2MmIjIzYyBi9kDF7IuEbJiI2MwQsZgxcyrlEyYiMjNjJiIyM2MmIjIzYyYiMjNjJiIyM2MmIjIzYyYiMjNjIGL2QMXsi4RsmIjYzYyFhXkbGuIuMaJSM2MmIjIzYyYiMjNjJiIyM2MmIjIzYyYiMjNjJiIyM2MmIjY11FxrqKjGuUjNjIGLyQMXgh4xolIzYyYiMjNjJiIyM2MmIjIzYyYiMjNjJiIyM2MmIjIzYyYiNj8ELG4IWMa5TMMjM3M3O99UG4qNfz+fy89SG+t7u9vf283++PWx+Ey1nX9XFZli/vLbjdfr8/3t/fPx8Oh5etD8N/9/T09Ol0Oh0fHh6uZ+Z9xTYzczgcXu7u7r5ufRgu5mbrA/yMFwQyYiMjNjJiIyM2MmIjIzYyYiMjNjJiIyM2MmIjIzYyu5lvn6VsfRAu4z3/LHfruj6eTqfjvNPPUvh967o+zszr1uf4ns/CP6Z3+Vm4dRUZLwhkxEZGbGTERkZsZMRGRmxkxEZGbGT+BbJMzkTnPyPYAAAAAElFTkSuQmCC\"></img></td>\n",
       "      <td id=\"T_c26b6_row9_col5\" class=\"data row9 col5\" >113,385<br>(20.3%)</td>\n",
       "    </tr>\n",
       "    <tr>\n",
       "      <td id=\"T_c26b6_row10_col0\" class=\"data row10 col0\" >11</td>\n",
       "      <td id=\"T_c26b6_row10_col1\" class=\"data row10 col1\" ><strong>dataset_info_id</strong><br>[int64]</td>\n",
       "      <td id=\"T_c26b6_row10_col2\" class=\"data row10 col2\" >1. 5</td>\n",
       "      <td id=\"T_c26b6_row10_col3\" class=\"data row10 col3\" >557,586 (100.0%)</td>\n",
       "      <td id=\"T_c26b6_row10_col4\" class=\"data row10 col4\" ><img src = \"data:image/png;base64, iVBORw0KGgoAAAANSUhEUgAAAJsAAAAXCAYAAAAcEz0vAAAAOnRFWHRTb2Z0d2FyZQBNYXRwbG90bGliIHZlcnNpb24zLjEwLjEsIGh0dHBzOi8vbWF0cGxvdGxpYi5vcmcvc2/+5QAAAAlwSFlzAAAPYQAAD2EBqD+naQAAAJ1JREFUeJzt27ENAjEQRNE5ZKEj8epkycW4CFL6L2GT40ICamAsmf8qmOCHu5ukh6S7gB8rrbVnrfWYPQTrK7XWY4zxjohr9hisKzP3IkkRcfXez9mDsLbb7AH4H8QGG2KDDbHBhthgQ2ywITbYEBtsiA02xAYbYoMNscGG2GBDbLAhNtgQG2yIDTZF+p7szh6CtWXmvrXWXjy8wOEDxTQPxA0oeyEAAAAASUVORK5CYII=\"></img></td>\n",
       "      <td id=\"T_c26b6_row10_col5\" class=\"data row10 col5\" >0<br>(0.0%)</td>\n",
       "    </tr>\n",
       "    <tr>\n",
       "      <td id=\"T_c26b6_row11_col0\" class=\"data row11 col0\" >12</td>\n",
       "      <td id=\"T_c26b6_row11_col1\" class=\"data row11 col1\" ><strong>date_system</strong><br>[object]</td>\n",
       "      <td id=\"T_c26b6_row11_col2\" class=\"data row11 col2\" >1. 2022-11-16 14:49:40.064006<br>2. 2022-10-05 06:25:28.863641<br>3. 2022-11-11 12:06:01.12674<br>4. 2022-11-11 12:03:49.388262<br>5. 2022-11-11 12:03:38.883359<br>6. 2022-11-11 12:03:02.612736<br>7. 2022-11-11 12:03:02.223069<br>8. 2022-11-11 12:03:01.411231<br>9. 2022-11-11 12:01:41.405273<br>10. 2022-11-16 14:49:39.152183<br>11. other</td>\n",
       "      <td id=\"T_c26b6_row11_col3\" class=\"data row11 col3\" >1 (0.0%)<br>1 (0.0%)<br>1 (0.0%)<br>1 (0.0%)<br>1 (0.0%)<br>1 (0.0%)<br>1 (0.0%)<br>1 (0.0%)<br>1 (0.0%)<br>1 (0.0%)<br>557,576 (100.0%)</td>\n",
       "      <td id=\"T_c26b6_row11_col4\" class=\"data row11 col4\" ><img src = \"data:image/png;base64, iVBORw0KGgoAAAANSUhEUgAAAJsAAAD+CAYAAAAtWHdlAAAAOnRFWHRTb2Z0d2FyZQBNYXRwbG90bGliIHZlcnNpb24zLjEwLjEsIGh0dHBzOi8vbWF0cGxvdGxpYi5vcmcvc2/+5QAAAAlwSFlzAAAPYQAAD2EBqD+naQAAAy5JREFUeJzt3MGN02AURtHnKIJhY2tkKSVADymCLb3ThTcwrMKCHq4lc04F/+JKT5H8ZXm9XgOF29kP4P8hNjJiIyM2MmIjIzYyYiMjNjJiIyM2MrdlWb4ty/J29kO4vtvMfJ2Zz2c/hOtzRsmIjYzYyIiNjNjIiI2M2MiIjYzYyIiNjNjIiI2M2MiIjYzYyIiNzG1mfs7Mn7MfwvUt/sWIijNKRmxkrKvIWFeRcUbJiI2M2MiIjYzYyIiNjNjIiI2M2MiIjYzYyIiNjNjIiI2M2MgYvJAxeCHjjJIRGxmDFzIGL2ScUTJiIyM2MmIjIzYyYiMjNjJiIyM2MmIjIzYyYiMjNjJiIyM2MgYvZAxeyDijZMRGRmxkrKvIWFeRcUbJiI2M2MiIjYzYyIiNjNjIiI2M2MiIjYzYyIiNjNjIiI2M2MhYV5GxriLjjJIRGxmDFzIGL2ScUTJiIyM2MmIjIzYyYiMjNjJiIyM2MmIjIzYyYiMjNjJiIyM2MgYvZAxeyDijZMRGxuCFjMELGWeUjNjIiI2M2MiIjYzYyIiNjNjIiI2M2MiIjYzYyIiNjNjIiI2M2MhYV5GxriLjjJIRGxnrKjLWVWScUTJiIyM2MmIjIzYyYiMjNjJiIyM2MmIjIzYyYiMjNjJiIyM2MgYvZAxeyDijZMRGxuCFjMELGWeUjNjIiI2M2MiIjYzYyIiNjNjIiI2M2MiIjYzYyIiNjNjIiI2MwQsZgxcyzigZsZERGxnrKjLWVWScUTJiIyM2MmIjIzYyYiMjNjJiIyM2MmIjIzYyYiMjNjJiIyM2MtZVZKyryDijZMRGxuCFjMELGWeUjNjIiI2M2MiIjYzYyIiNjNjIiI2M2MiIjYzYyIiNjNjIiI2MwQsZgxcyziiZZWa+zMynsx/C9d33ff++ruv72Q/h+u7rur4/n8/f27Z9nP0Yrus4jrf7zMy2bR+Px+PX2Q/i2vxAICM2MmIjIzYyYiMjNjJiIyM2MmIjIzYyYiMjNjJiI3Of+ff5x9kP4dqO43hb9n3/4eNJCj4LJ2NdRcYPBDJiIyM2MmIjIzYyYiMjNjJiIyM2Mn8BY+dLgsx6ZCoAAAAASUVORK5CYII=\"></img></td>\n",
       "      <td id=\"T_c26b6_row11_col5\" class=\"data row11 col5\" >0<br>(0.0%)</td>\n",
       "    </tr>\n",
       "    <tr>\n",
       "      <td id=\"T_c26b6_row12_col0\" class=\"data row12 col0\" >13</td>\n",
       "      <td id=\"T_c26b6_row12_col1\" class=\"data row12 col1\" ><strong>score_sentiment</strong><br>[float64]</td>\n",
       "      <td id=\"T_c26b6_row12_col2\" class=\"data row12 col2\" >Mean (sd) : 0.0 (0.5)<br>min < med < max:<br>-1.0 < 0.0 < 1.0<br>IQR (CV) : 0.5 (0.0)</td>\n",
       "      <td id=\"T_c26b6_row12_col3\" class=\"data row12 col3\" >7,808 distinct values</td>\n",
       "      <td id=\"T_c26b6_row12_col4\" class=\"data row12 col4\" ><img src = \"data:image/png;base64, iVBORw0KGgoAAAANSUhEUgAAAKoAAABGCAYAAABc8A97AAAAOnRFWHRTb2Z0d2FyZQBNYXRwbG90bGliIHZlcnNpb24zLjEwLjEsIGh0dHBzOi8vbWF0cGxvdGxpYi5vcmcvc2/+5QAAAAlwSFlzAAAPYQAAD2EBqD+naQAAAtRJREFUeJzt2sFK40AYwPFvtlqmFmaILfHmCwh7ELz0Afbow/oIK/SwZ9/AmxBKgrWhMWZPgssutplJTb/s/3f/7JD++ZoBTdM0Ahy7b30fANjHSd8HGCJjzERExoHj26ZpNl2eZwgItWPGmMlsNrt1ziUh80VRrIwxd8T6J0Lt3tg5lywWi433vmwzmOe5XS6XSZZlYxEh1A8I9UC892Wapi8Bo5PODzMAXKagAqFCBUKFCoQKFQgVKhAqVCBUqECoUIFQoQKhQgVChQqEChUIFSoQKlQgVKhAqFCBUKECoUIFQoUKhAoVCBUqECpUIFSoQKhQgVChAqFCBUKFCoQKFQgVKhAqVCBUqECoUIFQoQKhQgVChQqEChUIFSoQKlQgVKhAqFCBUKECoUIFQoUKhAoVCBUqECpUIFSoQKhQ4aTvA6BbxpiJiIwDx7dN02y6PE9XCHVAjDGT2Wx265xLQuaLolgZY+6OMVZCHZaxcy5ZLBYb733ZZjDPc7tcLpMsy8YiQqg4PO99mabpS8DopPPDdOSoQx3q+xbaO2iokaHZ8/PzH977acjwMb9vDdUhF8vOUCM+PCq0qqqsiFzd3Nz8ms/nRZvZPM/t/f19mmXZ3BjTavaD/24j13V9KiLOGBMyftDF8mmoMbfImNBERB4fH5OHh4cza23V9n1rvV6fVlX1/fLycjQajVpdKt71tZEjY3Fvb2+nIYOxzyx2sey6yO3aqMG3yJjQRERWq1Xwi/12uz2x1p5dX1+XFxcXq7bzfd2Au4ilruursix/ikirZx77zGK/b9lxkdvrHTXkFhkTWlem02no7VfqunYSttmCt1pXsby+vo5CPl8k/Jkd+vs+6lt/X2I2W8xWe3essfSJUP8hZrN1sdXwN0L9RMhmG/JW6xP/PQUVCBUq7PXTn+e5bfuHn5+frYjIer22T09PZ185r/WztZ47dn6fvn4DtqaFJlBhWXoAAAAASUVORK5CYII=\"></img></td>\n",
       "      <td id=\"T_c26b6_row12_col5\" class=\"data row12 col5\" >113,429<br>(20.3%)</td>\n",
       "    </tr>\n",
       "    <tr>\n",
       "      <td id=\"T_c26b6_row13_col0\" class=\"data row13 col0\" >14</td>\n",
       "      <td id=\"T_c26b6_row13_col1\" class=\"data row13 col1\" ><strong>score_misinformation</strong><br>[float64]</td>\n",
       "      <td id=\"T_c26b6_row13_col2\" class=\"data row13 col2\" >Mean (sd) : 0.3 (0.3)<br>min < med < max:<br>0.0 < 0.2 < 1.0<br>IQR (CV) : 0.4 (1.1)</td>\n",
       "      <td id=\"T_c26b6_row13_col3\" class=\"data row13 col3\" >100,602 distinct values</td>\n",
       "      <td id=\"T_c26b6_row13_col4\" class=\"data row13 col4\" ><img src = \"data:image/png;base64, iVBORw0KGgoAAAANSUhEUgAAAKoAAABGCAYAAABc8A97AAAAOnRFWHRTb2Z0d2FyZQBNYXRwbG90bGliIHZlcnNpb24zLjEwLjEsIGh0dHBzOi8vbWF0cGxvdGxpYi5vcmcvc2/+5QAAAAlwSFlzAAAPYQAAD2EBqD+naQAAAsFJREFUeJzt3LuO2kAUgOFzwoIMKGMhVtDxApFSUNLkDfZh06YLErwAb0CDkBAXQUBc04QoUTZgz8SLj/N/9c5A8WuMvZ7Ry+UiQN69e/QXAJJ4uvcHqloVkYrn/PvL5bL1HAv8dDNUVa02m80X51zDZ/LVajVX1c/EilD3VtSKc67R6/W2cRzv0ky8XC6jwWDQmM1mFREhVAS5e+kXEYnjeNdqtb55zF/1GAP8gZspmECoMIFQYQKhwgRChQmEChMIFSYQKkwgVJhAqDCBUGECocIEQoUJhAoTCBUmECpMIFSYQKgwgVBhAqHChESb+3ydTqeyiDhV9Z2CcwEgIhmGutlsyofD4WOn0ymVSqVUW62vOBcAV5mFut/vn6IoqnW73V273Z6nHc+5APhVppd+EZF6ve57JoAI5wLgB26mYAKhwgRChQmEChMIFSYQKkwgVJhAqDCBUGECocIEQoUJhAoTCBUmECpMyPw1vxCBOwTYHVAguQ01dIcAuwOKJbehhuwQYHdA8eQ21KuAHQLsDigQbqZgAqHCBEKFCYQKE3J/M+WLU1qKpZChckpL8RQyVE5peQxVrYpIxXP4zStYIUO94pSWt6Oq1Waz+eKca/iMv3cFK3SoIXjPILWKc67R6/W2cRyn+rmV5ApGqK/gPQN/cRxn8p9EQn1F6HsG/X6/NZvNnlV15fPx/2Pg9xDqDT6/cUNX48VisVbVLyLi9bRCCho6of5jIavxZDJ5PxwOP3U6nWffx2qBoec2ckLNiM9qPJ/PqyGP1UJDD4zcnc/nsse4RAg1h3wfq4WEHhr54XCITqfTh91u91VEfB8J/hWhFtAjVvPxeNwYjUa14/FYSjs2CULFb0JW8yy+zxVvT8EEQoUJhAoTCBUmJLqZWi6XUdqJ1+t1JCKy2Wyi6XRae8vxVj/b6vcOHZ+kr+8aeagIPm64owAAAABJRU5ErkJggg==\"></img></td>\n",
       "      <td id=\"T_c26b6_row13_col5\" class=\"data row13 col5\" >390,348<br>(70.0%)</td>\n",
       "    </tr>\n",
       "    <tr>\n",
       "      <td id=\"T_c26b6_row14_col0\" class=\"data row14 col0\" >15</td>\n",
       "      <td id=\"T_c26b6_row14_col1\" class=\"data row14 col1\" ><strong>id_message</strong><br>[int64]</td>\n",
       "      <td id=\"T_c26b6_row14_col2\" class=\"data row14 col2\" >Mean (sd) : 445061.7 (486021.1)<br>min < med < max:<br>2.0 < 121093.5 < 1516436.0<br>IQR (CV) : 951329.5 (0.9)</td>\n",
       "      <td id=\"T_c26b6_row14_col3\" class=\"data row14 col3\" >364,009 distinct values</td>\n",
       "      <td id=\"T_c26b6_row14_col4\" class=\"data row14 col4\" ><img src = \"data:image/png;base64, iVBORw0KGgoAAAANSUhEUgAAAKoAAABGCAYAAABc8A97AAAAOnRFWHRTb2Z0d2FyZQBNYXRwbG90bGliIHZlcnNpb24zLjEwLjEsIGh0dHBzOi8vbWF0cGxvdGxpYi5vcmcvc2/+5QAAAAlwSFlzAAAPYQAAD2EBqD+naQAAAsNJREFUeJzt3U1u2kAYgOFvyo8MSDOykMyOC1TqgiWHyGFzhC44ATdgFwlZRhAcwLibtpsq/MzUYT7zPuuMQZlXfB6zwNR1LUDsvj36DQC36F77A2PMQET6ntc/1HW991wL/HUxVGPMYDwev1hrU5+Lbzab3BjzSqwIde0TtW+tTefz+d45V95z4aIoksVika7X676IECqCXB39IiLOuTLLsneP6w881gD/4DAFFQgVKhAqVCBUqECoUIFQoQKhQgVChQqEChUIFSoQKlQgVKhAqFCBUKECoUIFQoUKhAoVCBUqECpUIFSoQKhQgVChAqFCBUKFCoQKFQgVKhAqVCBUqECoUIFQoQKhQgVChQqEChUIFSoQKlQgVKhAqFCBUKECoUIFQoUKhAoVCBUqECpUIFSoQKhQ4aZfl4YexpiBiPQ9lx/quo7yJ+sJtUWMMYPxePxirU191m82m9wY8xpjrITaLn1rbTqfz/fOufKehUVRJIvFIl2v130RIVRcFji67fl87jnn8izL3j3WDzxft3GEGpHQ0X08HpOqqr6XZflTRHxCjRahxsV7dIuIrFardLlcDk+nU6eJN/dIhBoh51zpM7rzPI92dIfiOSpUaO0nauChRCTiZ4rPqJWhhh5KROJ+pviMWhmqBB5KYn+m+IwaDbWqqp6IWGOM7yWCxq/voeS31h5MPvPo/bqksVB3u13veDz+mE6nnU6nc/enmgjj9yvFvl+NhXo4HLpJkgxns1k5mUzye9drHr8BBzl7Pp97//v93CL2/Wr8HnU0GnmP36qqrPiNoodteMhBLoZvlkL2Sxq8XYr2MBUyih684d4HuTZ/sxQq2lBDRlEMG+5zkGvzN0uhog31D59RxIa3z02hFkWR3Hvh7XabiIjsdrvk7e1t+JXrQ1+7KIqkqqqu+N8fd/mf3e2jrutPb5V+AbFQYlS7AtJ/AAAAAElFTkSuQmCC\"></img></td>\n",
       "      <td id=\"T_c26b6_row14_col5\" class=\"data row14 col5\" >0<br>(0.0%)</td>\n",
       "    </tr>\n",
       "    <tr>\n",
       "      <td id=\"T_c26b6_row15_col0\" class=\"data row15 col0\" >16</td>\n",
       "      <td id=\"T_c26b6_row15_col1\" class=\"data row15 col1\" ><strong>message_type</strong><br>[object]</td>\n",
       "      <td id=\"T_c26b6_row15_col2\" class=\"data row15 col2\" >1. Texto<br>2. Imagem<br>3. Url<br>4. Video<br>5. Application<br>6. Audio<br>7. Image<br>8. Text</td>\n",
       "      <td id=\"T_c26b6_row15_col3\" class=\"data row15 col3\" >224,981 (40.3%)<br>202,762 (36.4%)<br>100,856 (18.1%)<br>18,631 (3.3%)<br>10,168 (1.8%)<br>177 (0.0%)<br>8 (0.0%)<br>3 (0.0%)</td>\n",
       "      <td id=\"T_c26b6_row15_col4\" class=\"data row15 col4\" ><img src = \"data:image/png;base64, iVBORw0KGgoAAAANSUhEUgAAAJsAAAC4CAYAAAD0WZ4UAAAAOnRFWHRTb2Z0d2FyZQBNYXRwbG90bGliIHZlcnNpb24zLjEwLjEsIGh0dHBzOi8vbWF0cGxvdGxpYi5vcmcvc2/+5QAAAAlwSFlzAAAPYQAAD2EBqD+naQAAAy1JREFUeJzt3UFuG2UAhuF/LKvQja0oUo4Ad/AhOCyH8CG4QxRlFqR0YxYUBLQVm847ZuZ5dtn9kV7511jzJdPtdhtQOKx9APZDbGTERkZsZMRGRmxkpjHG+zHGu7UPspKPt9vtbe1D7MXx8fHxp9Pp9LD2QdYwz/PLNE0/C65xPJ1OD5fL5e18Pn9Y+zCl19fX76/X68Pz8/O7MYbYAscxxjifzx+enp5+XfswK3i/9gH2xAMCGbGRERsZsZERGxmxkREbGbGRERsZsZERGxmxkREbmeMYf7xus/ZBanv8ndd2nOf55Xq9Powdvm4zz/PLGOPj2ufYC6+Fe0s3M/nzC1T28Mnm0+tObH7wYtRyPzY9eDFquS97GLzs7in7XvlSl4zYyIiNjNjIiI2M2MiIjYzYyIiNjNjIiI2M2MiIjcymBy9b/b3+rzY/eDFquR9eCydj8ELGAwKZNa5R19pO5esqa6f9StdV1k77tsa6apNfsfDfPCCQERsZsZERGxmxkREbGbGRERsZsZERGxmxkREbGbGRSddV1k77lq+rrJ32y2vhZKyryHztk82nD9/cFwcvRiks4bPBi1EKS/na4MUohW/Ol7pkxEZGbGTERkZsZMRGRmxkxEZGbGTERkZsZMRGRmxkPhu8GKWwlC8OXoxSWILXwskYvJDxgEDm39eo65PF/GNdZVXFkg5/rqsul8vbp+i2/L9HWdFf66pPP1tVsRgPCGTERkZsZMRGRmxkxEZGbGTERkZsZMRGRmxkxEZGbGTSfyfEvv19XWVVxaK8Fk7GuoqMBwQyh2mafpymyQMCizuMMX4YY3y39kHYPtcoGbGRERsZsZERGxmxkREbGbGRERsZsZERGxmxkREbGbGRERsZsZE5jDF+GWP8tvZB2D6DFzKuUTJiI2NdRca6ioxrlIzYyIiNjNjIiI2M2MiIjYzYyIiNjNjIiI2M2MiIjYzYyIiNjMELGYMXMq5RMmIjY/BCxuCFjGuUjNjIiI2M2MiIjYzYyIiNjNjIiI2M2MiIjYzYyIiNjNjIiI2M2MhYV5GxriLjGiUjNjJiIyM2MmIjIzYyvwMTLhH1/kbZXQAAAABJRU5ErkJggg==\"></img></td>\n",
       "      <td id=\"T_c26b6_row15_col5\" class=\"data row15 col5\" >0<br>(0.0%)</td>\n",
       "    </tr>\n",
       "    <tr>\n",
       "      <td id=\"T_c26b6_row16_col0\" class=\"data row16 col0\" >17</td>\n",
       "      <td id=\"T_c26b6_row16_col1\" class=\"data row16 col1\" ><strong>messenger</strong><br>[object]</td>\n",
       "      <td id=\"T_c26b6_row16_col2\" class=\"data row16 col2\" >1. telegram</td>\n",
       "      <td id=\"T_c26b6_row16_col3\" class=\"data row16 col3\" >557,586 (100.0%)</td>\n",
       "      <td id=\"T_c26b6_row16_col4\" class=\"data row16 col4\" ><img src = \"data:image/png;base64, iVBORw0KGgoAAAANSUhEUgAAAJsAAAAXCAYAAAAcEz0vAAAAOnRFWHRTb2Z0d2FyZQBNYXRwbG90bGliIHZlcnNpb24zLjEwLjEsIGh0dHBzOi8vbWF0cGxvdGxpYi5vcmcvc2/+5QAAAAlwSFlzAAAPYQAAD2EBqD+naQAAAJ1JREFUeJzt27ENAjEQRNE5ZKEj8epkycW4CFL6L2GT40ICamAsmf8qmOCHu5ukh6S7gB8rrbVnrfWYPQTrK7XWY4zxjohr9hisKzP3IkkRcfXez9mDsLbb7AH4H8QGG2KDDbHBhthgQ2ywITbYEBtsiA02xAYbYoMNscGG2GBDbLAhNtgQG2yIDTZF+p7szh6CtWXmvrXWXjy8wOEDxTQPxA0oeyEAAAAASUVORK5CYII=\"></img></td>\n",
       "      <td id=\"T_c26b6_row16_col5\" class=\"data row16 col5\" >0<br>(0.0%)</td>\n",
       "    </tr>\n",
       "    <tr>\n",
       "      <td id=\"T_c26b6_row17_col0\" class=\"data row17 col0\" >18</td>\n",
       "      <td id=\"T_c26b6_row17_col1\" class=\"data row17 col1\" ><strong>media_name</strong><br>[object]</td>\n",
       "      <td id=\"T_c26b6_row17_col2\" class=\"data row17 col2\" >1. nan<br>2. سکس زوری.apk<br>3. سک.س از ک.ون.apk<br>4. لزبین.apk<br>5. سکس خفن.apk<br>6. س.کس خشن.apk<br>7. سک.س از جلو<br>8. ANTES DE VOTAR VEJA ISSO.pdf<br>9. سکس از کون.apk<br>10. Ofício_do_Ministro_da_Defesa_<br>11. other</td>\n",
       "      <td id=\"T_c26b6_row17_col3\" class=\"data row17 col3\" >528,599 (94.8%)<br>2,723 (0.5%)<br>1,836 (0.3%)<br>991 (0.2%)<br>651 (0.1%)<br>476 (0.1%)<br>354 (0.1%)<br>119 (0.0%)<br>72 (0.0%)<br>64 (0.0%)<br>21,701 (3.9%)</td>\n",
       "      <td id=\"T_c26b6_row17_col4\" class=\"data row17 col4\" ><img src = \"data:image/png;base64, iVBORw0KGgoAAAANSUhEUgAAAJsAAAD+CAYAAAAtWHdlAAAAOnRFWHRTb2Z0d2FyZQBNYXRwbG90bGliIHZlcnNpb24zLjEwLjEsIGh0dHBzOi8vbWF0cGxvdGxpYi5vcmcvc2/+5QAAAAlwSFlzAAAPYQAAD2EBqD+naQAAA/1JREFUeJzt3UFOW2cYhtHvIouGiS3LEkto98AistgswovoHhDiDgJl4g6SSBVKSAfOg+qeM4M7+QeP+DG6b7KcTqeBwtV7H4D/D7GRERsZsZERGxmxkREbGbGRERuZZWZuZub6vQ/CRXg5nU5PP3q4ORwOH7fb7b48EZdpXdeHZVk+/Si4zXa73d/d3T3tdrvn+nBcjsfHxw/H43F/f39/PTPfj21mZrfbPd/e3n5OT8clunnroQ8IZMRGRmxkxEZGbGTERkZsZMRGRmxkxEZGbGTERkZsZMRGZjPz5V2k9z4I/23/pqHNuq4Px+NxPz95Fwl+Zl3Xh5l5+dFzGwTO6c0NwuKfzKLy7SfbvFUknMPmcDh8nJl5axUD53C13W73X6d8fm/jl/J3NjJiIyM2MmIjIzYyYiMjNjJiIyM2MmIjIzYyYiMjNjJiIyM2MpuvI4WZN4YKcA5eCydj8ELGTzYyBi9kDF7I+NMHGbGRERsZsZERGxmxkREbGbGRERsZsZERGxmxkREbGbGRERsZgxcyXgsnY/BCxu9sZMRG5mpZlj+WZfH/jfLLXc3M7zPz23sfhMvnGiUjNjJiIyM2MmIjIzYyYiMjNjJiIyM2MmIjIzYyYiMjNjJiI3M1M3/OzF/vfRAun8ELGdcoGbGRMXghY/BCxjVKRmxkxEZGbGTERkZsZMRGRmxkxEZGbGTERkZsZMRGRmxkxEbG4IWMwQsZ1ygZsZExeCFj8ELGNUpGbGTERkZsZMRGRmxkxEZGbGTERkZsZMRGRmxkxEZGbGTERkZsZKyryFhXkXGNkhEbGesqMtZVZFyjZMRGRmxkxEZGbGTERkZsZMRGRmxkxEZGbGTERkZsZMRGRmxkDF7IGLyQcY2SERsZgxcyBi9kXKNkxEZGbGTERkZsZMRGRmxkxEZGbGTERkZsZMRGRmxkxEZGbGQMXsgYvJBxjZIRGxmxkbGuImNdRcY1SkZsZMRGRmxkxEZGbGTERkZsZMRGRmxkxEZGbGTERkZsZMRGxrqKjHUVGdcoGbGRMXghY/BCxjVKRmxkxEZGbGTERkZsZMRGRmxkxEZGbGTERkZsZMRGRmxkxEbG4IWMwQsZ1yiZZWZuZub6O89eTqfTU3weLtjmcDh83G63+9cP1nV9WJblk+A4l812u93f3d097Xa752/ffHx8/HA8Hvf39/fXMyM2zmIzM7Pb7Z5vb28/v3p28w7n4YL5gEBGbGTERkZsZMRGRmxkxEZGbGTERkZsZMRGRmxkxEZmM/PllaJ/fvP113AOm3VdH47H435evVK0ruvDzLy8z7G4RF4LJ2NdRcYHBDJiIyM2MmIjIzYyYiMjNjJiIyM2Mn8DScy+mF+SrBoAAAAASUVORK5CYII=\"></img></td>\n",
       "      <td id=\"T_c26b6_row17_col5\" class=\"data row17 col5\" >528,599<br>(94.8%)</td>\n",
       "    </tr>\n",
       "    <tr>\n",
       "      <td id=\"T_c26b6_row18_col0\" class=\"data row18 col0\" >19</td>\n",
       "      <td id=\"T_c26b6_row18_col1\" class=\"data row18 col1\" ><strong>media_md5</strong><br>[object]</td>\n",
       "      <td id=\"T_c26b6_row18_col2\" class=\"data row18 col2\" >1. nan<br>2. b5ab97b82ce9a3957022b7388d8fb9<br>3. 4d60b50f292b14a9d62a0bb2f1b427<br>4. 5d4089a914ac6fa7d04cbe08bb8057<br>5. c4266d6971f2e3517f99d5736d8f0f<br>6. baba583ff1a3a79f11ed019cc319f2<br>7. 7786c121f410f21595063c22689e28<br>8. 8a8fdfe369f16d7e1b1bd01b4f09d5<br>9. 499c1b631969c3dadc205b1846949f<br>10. d924f2afaeeac65064cd85ed8724aa<br>11. other</td>\n",
       "      <td id=\"T_c26b6_row18_col3\" class=\"data row18 col3\" >224,981 (40.3%)<br>5,480 (1.0%)<br>1,868 (0.3%)<br>1,481 (0.3%)<br>1,419 (0.3%)<br>1,151 (0.2%)<br>771 (0.1%)<br>645 (0.1%)<br>546 (0.1%)<br>515 (0.1%)<br>318,729 (57.2%)</td>\n",
       "      <td id=\"T_c26b6_row18_col4\" class=\"data row18 col4\" ><img src = \"data:image/png;base64, iVBORw0KGgoAAAANSUhEUgAAAJsAAAD+CAYAAAAtWHdlAAAAOnRFWHRTb2Z0d2FyZQBNYXRwbG90bGliIHZlcnNpb24zLjEwLjEsIGh0dHBzOi8vbWF0cGxvdGxpYi5vcmcvc2/+5QAAAAlwSFlzAAAPYQAAD2EBqD+naQAABCpJREFUeJzt3c1tG1cYhtGPBOFYmyEIAioh2bkAFeFiXQQL8DI9CIJmYdneMIv8NsBnAvGcCq6ER7ykMK+0u16vA4X91gfgfoiNjNjIiI2M2MiIjYzYyIiNjNjI7GbmYWY+bH2Qjfy8Xq9vWx/iXhzO5/PnZVlOWx9kC+u6vux2uy+CaxyWZTk9PT29HY/H71sfpvT6+vrxcrmcnp+fP8yM2AKHmZnj8fj98fHx29aH2cDD1ge4Jz4gkBEbGbGRERsZsZERGxmxkREbGbGRERsZsZERGxmxkREbmcPMn892bX2Q2j1+zVs7rOv6crlcTnOHz3at6/oyMz+3Pse9sEHwSHhm509mUfnvK5ufcm7qn3WVpRG3tl+W5fTp06f5a853r+/dCOxnZh4eHn5sfRDeP7/UJSM2MmIjIzYyYiMjNjJiIyM2MmIjIzYyYiMjNjJiI7OfmXl7e/tl64Pw/u3XdX35+vWr8Qc357FwMgYvZP5+ZRuvatza4Xw+f56ZMXbh1vbLspyMXSj4PRsZsZERGxmxkREbGbGRERsZsZERGxmxkREbGbGRERsZsZERG5nDX0OXGWMXbsxj4WQMXsh4z0ZGbGT2u93ut91u539vcnP7mfl1ZvytD27ONUpGbGTERkZsZMRGRmxkxEZGbGTERkZsZMRGRmxkxEZGbGTERmY/M7/PzI+tD8L7Z/BCxjVKRmxkDF7IGLyQcY2SERsZsZERGxmxkREbGbGRERsZsZERGxmxkREbGbGRERsZsZExeCFj8ELGNUpGbGQMXsgYvJBxjZIRGxmxkREbGbGRERsZsZERGxmxkREbGbGRERsZsZERGxmxkREbGesqMtZVZFyjZMRGxrqKjHUVGdcoGbGRERsZsZERGxmxkREbGbGRERsZsZERGxmxkREbGbGRERsZgxcyBi9kXKNkxEbG4IWMwQsZ1ygZsZERGxmxkREbGbGRERsZsZERGxmxkREbGbGRERsZsZERGxmDFzIGL2Rco2TERkZsZKyryFhXkXGNkhEbGbGRERsZsZERGxmxkREbGbGRERsZsZERGxmxkREbGbGRsa4iY11FxjVKRmxkDF7IGLyQcY2SERsZsZERGxmxkREbGbGRERsZsZERGxmxkREbGbGRERsZsZExeCFj8ELGNUpmNzMPM/Nh64O8cz+v1+vb1ofY2uF8Pn9eluW09UHes3VdX3a73Zd7D+6wLMvp6enp7Xg8ft/6MO/R6+vrx8vlcnp+fv4wM/cd28zM8Xj8/vj4+G3rw7xjD1sf4P/ABwQyYiMjNjJiIyM2MmIjIzYyYiMjNjJiIyM2MmIjIzYyh5k/H4PZ+iDvle/tvw7rur5cLpfTeAzmZtZ1fZmZn1ufY2seC294LHysqwj5gEBGbGTERkZsZMRGRmxkxEZGbGTERuYPH/bPW7QvlzUAAAAASUVORK5CYII=\"></img></td>\n",
       "      <td id=\"T_c26b6_row18_col5\" class=\"data row18 col5\" >224,981<br>(40.3%)</td>\n",
       "    </tr>\n",
       "  </tbody>\n",
       "</table>\n"
      ],
      "text/plain": [
       "<pandas.io.formats.style.Styler at 0x7c8abe414560>"
      ]
     },
     "execution_count": 36,
     "metadata": {},
     "output_type": "execute_result"
    }
   ],
   "source": [
    "dfSummary(dataset)"
   ]
  },
  {
   "cell_type": "markdown",
   "metadata": {},
   "source": [
    "3. Identificar e listar as posições (células) contendo valores faltantes."
   ]
  },
  {
   "cell_type": "code",
   "execution_count": 37,
   "metadata": {},
   "outputs": [
    {
     "name": "stdout",
     "output_type": "stream",
     "text": [
      "[(0, 'media'), (0, 'media_type'), (0, 'media_url'), (0, 'score_misinformation'), (0, 'media_name'), (0, 'media_md5'), (1, 'id_member_anonymous'), (1, 'media'), (1, 'media_type'), (1, 'media_url')]\n"
     ]
    }
   ],
   "source": [
    "# Passo 1: Verifica valores ausentes (NaN) no DataFrame\n",
    "missing_mask = dataset.isnull()\n",
    "\n",
    "# Passo 2: \"Empilha\" os dados para transformar em uma Series com MultiIndex (linha, coluna)\n",
    "stacked_missing_mask = missing_mask.stack()\n",
    "\n",
    "# Passo 3: Filtra apenas os valores que são True, ou seja, onde há valores ausentes\n",
    "missing_only = stacked_missing_mask[stacked_missing_mask]\n",
    "\n",
    "# Passo 4: Obtém os índices (linha, coluna) onde há valores ausentes e converte para lista\n",
    "missing_values_positions = missing_only.index.tolist()\n",
    "\n",
    "# Passo 5: Exibe as posições dos valores ausentes\n",
    "print(missing_values_positions[:10])"
   ]
  },
  {
   "cell_type": "markdown",
   "metadata": {},
   "source": [
    "4. Quantidade de linhas com valores ausentes:"
   ]
  },
  {
   "cell_type": "code",
   "execution_count": 38,
   "metadata": {},
   "outputs": [
    {
     "name": "stdout",
     "output_type": "stream",
     "text": [
      "Número de linhas com valores faltantes: 557561\n"
     ]
    }
   ],
   "source": [
    "num_rows_with_missing_values = dataset.isnull().any(axis=1).sum()\n",
    "print(f\"Número de linhas com valores faltantes: {num_rows_with_missing_values}\")"
   ]
  },
  {
   "cell_type": "markdown",
   "metadata": {},
   "source": [
    "5. Para cada coluna (feature), contar quantas linhas possuem valores faltantes."
   ]
  },
  {
   "cell_type": "code",
   "execution_count": 39,
   "metadata": {},
   "outputs": [
    {
     "name": "stdout",
     "output_type": "stream",
     "text": [
      "date_message                   0\n",
      "id_member_anonymous       323341\n",
      "id_group_anonymous             0\n",
      "media                     224981\n",
      "media_type                224981\n",
      "media_url                 400141\n",
      "has_media                      0\n",
      "has_media_url                  0\n",
      "trava_zap                      0\n",
      "text_content_anonymous    113385\n",
      "dataset_info_id                0\n",
      "date_system                    0\n",
      "score_sentiment           113429\n",
      "score_misinformation      390348\n",
      "id_message                     0\n",
      "message_type                   0\n",
      "messenger                      0\n",
      "media_name                528599\n",
      "media_md5                 224981\n",
      "dtype: int64\n"
     ]
    }
   ],
   "source": [
    "missing_values_per_column = dataset.isnull().sum()\n",
    "print(missing_values_per_column)"
   ]
  },
  {
   "cell_type": "markdown",
   "metadata": {},
   "source": [
    "6. Identificar e listar as linhas repetidas (duplicadas)."
   ]
  },
  {
   "cell_type": "code",
   "execution_count": 40,
   "metadata": {},
   "outputs": [
    {
     "name": "stdout",
     "output_type": "stream",
     "text": [
      "Empty DataFrame\n",
      "Columns: [date_message, id_member_anonymous, id_group_anonymous, media, media_type, media_url, has_media, has_media_url, trava_zap, text_content_anonymous, dataset_info_id, date_system, score_sentiment, score_misinformation, id_message, message_type, messenger, media_name, media_md5]\n",
      "Index: []\n"
     ]
    }
   ],
   "source": [
    "duplicated_rows = dataset[dataset.duplicated()]\n",
    "print(duplicated_rows)"
   ]
  },
  {
   "cell_type": "markdown",
   "metadata": {},
   "source": [
    "7. Identificar e listar as posições (células) contendo valores que não pertencem ao domínio (tipo de dados) esperado."
   ]
  },
  {
   "cell_type": "code",
   "execution_count": 41,
   "metadata": {},
   "outputs": [
    {
     "name": "stdout",
     "output_type": "stream",
     "text": [
      "[]\n"
     ]
    }
   ],
   "source": [
    "# Função para verificar se os valores pertencem ao domínio esperado\n",
    "def find_invalid_values(dataset):\n",
    "  invalid_positions = []\n",
    "  for column in dataset.columns:\n",
    "    expected_dtype = dataset[column].dtype\n",
    "    for index, value in dataset[column].items():\n",
    "      if not pd.isnull(value):  # Ignorar valores nulos\n",
    "        try:\n",
    "          # Tentar converter o valor para o tipo esperado\n",
    "          if expected_dtype == 'bool':\n",
    "            assert isinstance(value, bool)\n",
    "          elif expected_dtype == 'int64':\n",
    "            assert isinstance(int(value), int)\n",
    "          elif expected_dtype == 'float64':\n",
    "            assert isinstance(float(value), float)\n",
    "          elif expected_dtype == 'object':\n",
    "            assert isinstance(value, str)\n",
    "        except (ValueError, AssertionError, TypeError):\n",
    "          invalid_positions.append((index, column))\n",
    "  return invalid_positions\n",
    "\n",
    "# Identificar posições inválidas\n",
    "invalid_values_positions = find_invalid_values(dataset)\n",
    "print(invalid_values_positions)"
   ]
  },
  {
   "cell_type": "markdown",
   "metadata": {},
   "source": [
    "8. Crie uma coluna chamada “caracteres” contendo a quantidade de caracteres da coluna “text”."
   ]
  },
  {
   "cell_type": "code",
   "execution_count": 42,
   "metadata": {},
   "outputs": [
    {
     "name": "stdout",
     "output_type": "stream",
     "text": [
      "0         110\n",
      "1         141\n",
      "2         350\n",
      "3          40\n",
      "4           0\n",
      "         ... \n",
      "557581    152\n",
      "557582     28\n",
      "557583     68\n",
      "557584     68\n",
      "557585     68\n",
      "Name: caracteres, Length: 557586, dtype: int64\n"
     ]
    }
   ],
   "source": [
    "dataset['caracteres'] = dataset['text_content_anonymous'].apply(lambda x: len(x) if pd.notnull(x) else 0)\n",
    "print(dataset['caracteres'])"
   ]
  },
  {
   "cell_type": "markdown",
   "metadata": {},
   "source": [
    "9. Crie uma coluna chamada “words” contendo a quantidade de palavras da coluna “text”."
   ]
  },
  {
   "cell_type": "code",
   "execution_count": 43,
   "metadata": {},
   "outputs": [
    {
     "name": "stdout",
     "output_type": "stream",
     "text": [
      "0         20\n",
      "1         23\n",
      "2         59\n",
      "3          7\n",
      "4          0\n",
      "          ..\n",
      "557581    12\n",
      "557582     1\n",
      "557583     6\n",
      "557584     6\n",
      "557585     6\n",
      "Name: words, Length: 557586, dtype: int64\n"
     ]
    }
   ],
   "source": [
    "dataset['words'] = dataset['text_content_anonymous'].apply(lambda x: len(str(x).split()) if pd.notnull(x) else 0)\n",
    "print(dataset['words'])"
   ]
  },
  {
   "cell_type": "markdown",
   "metadata": {},
   "source": [
    "10. Crie uma coluna chamada “viral” contendo o valor 0 se o texto da mensagem (valor do campo “text”) não for encontrado em outras linhas e 1, caso contrário."
   ]
  },
  {
   "cell_type": "code",
   "execution_count": 44,
   "metadata": {},
   "outputs": [
    {
     "name": "stdout",
     "output_type": "stream",
     "text": [
      "0         0\n",
      "1         0\n",
      "2         0\n",
      "3         0\n",
      "4         1\n",
      "         ..\n",
      "557581    1\n",
      "557582    1\n",
      "557583    1\n",
      "557584    1\n",
      "557585    1\n",
      "Name: viral, Length: 557586, dtype: int64\n"
     ]
    }
   ],
   "source": [
    "dataset['viral'] = dataset.duplicated(subset=['text_content_anonymous'], keep=False).astype(int)\n",
    "print(dataset['viral'])"
   ]
  },
  {
   "cell_type": "markdown",
   "metadata": {},
   "source": [
    "11. Crie uma coluna chamada “sharings” contendo a quantidade de vezes que o texto armazenado no atributo “text” aparece no dataset."
   ]
  },
  {
   "cell_type": "code",
   "execution_count": 45,
   "metadata": {},
   "outputs": [
    {
     "name": "stdout",
     "output_type": "stream",
     "text": [
      "0         1.0\n",
      "1         1.0\n",
      "2         1.0\n",
      "3         1.0\n",
      "4         NaN\n",
      "         ... \n",
      "557581    2.0\n",
      "557582    2.0\n",
      "557583    4.0\n",
      "557584    4.0\n",
      "557585    4.0\n",
      "Name: sharings, Length: 557586, dtype: float64\n"
     ]
    }
   ],
   "source": [
    "dataset['sharings'] = dataset.groupby('text_content_anonymous')['text_content_anonymous'].transform('count')\n",
    "print(dataset['sharings'])"
   ]
  },
  {
   "cell_type": "markdown",
   "metadata": {},
   "source": [
    "12. Crie uma coluna chamada “sentiment” contendo os valores: -1 para textos negativos, 0 para textos neutros e 1 para textos positivos."
   ]
  },
  {
   "cell_type": "code",
   "execution_count": 46,
   "metadata": {},
   "outputs": [
    {
     "name": "stdout",
     "output_type": "stream",
     "text": [
      "0         0\n",
      "1         1\n",
      "2        -1\n",
      "3         0\n",
      "4         0\n",
      "         ..\n",
      "557581    1\n",
      "557582    0\n",
      "557583    0\n",
      "557584    0\n",
      "557585    0\n",
      "Name: sentiment, Length: 557586, dtype: int64\n"
     ]
    }
   ],
   "source": [
    "def classify_sentiment(score):\n",
    "  if pd.isnull(score):\n",
    "    return 0  # Considerar neutro para valores nulos\n",
    "  elif score < 0:\n",
    "    return -1\n",
    "  elif score > 0:\n",
    "    return 1\n",
    "  else:\n",
    "    return 0\n",
    "\n",
    "dataset['sentiment'] = dataset['score_sentiment'].apply(classify_sentiment)\n",
    "print(dataset['sentiment'])"
   ]
  },
  {
   "cell_type": "markdown",
   "metadata": {},
   "source": [
    "13. Eliminar as linhas cujo valor da coluna “text” contenham “trava-zaps”."
   ]
  },
  {
   "cell_type": "code",
   "execution_count": 47,
   "metadata": {},
   "outputs": [
    {
     "data": {
      "application/vnd.microsoft.datawrangler.viewer.v0+json": {
       "columns": [
        {
         "name": "index",
         "rawType": "int64",
         "type": "integer"
        },
        {
         "name": "date_message",
         "rawType": "object",
         "type": "string"
        },
        {
         "name": "id_member_anonymous",
         "rawType": "object",
         "type": "unknown"
        },
        {
         "name": "id_group_anonymous",
         "rawType": "object",
         "type": "string"
        },
        {
         "name": "media",
         "rawType": "object",
         "type": "unknown"
        },
        {
         "name": "media_type",
         "rawType": "object",
         "type": "unknown"
        },
        {
         "name": "media_url",
         "rawType": "object",
         "type": "unknown"
        },
        {
         "name": "has_media",
         "rawType": "bool",
         "type": "boolean"
        },
        {
         "name": "has_media_url",
         "rawType": "bool",
         "type": "boolean"
        },
        {
         "name": "trava_zap",
         "rawType": "bool",
         "type": "boolean"
        },
        {
         "name": "text_content_anonymous",
         "rawType": "object",
         "type": "unknown"
        },
        {
         "name": "dataset_info_id",
         "rawType": "int64",
         "type": "integer"
        },
        {
         "name": "date_system",
         "rawType": "object",
         "type": "string"
        },
        {
         "name": "score_sentiment",
         "rawType": "float64",
         "type": "float"
        },
        {
         "name": "score_misinformation",
         "rawType": "float64",
         "type": "float"
        },
        {
         "name": "id_message",
         "rawType": "int64",
         "type": "integer"
        },
        {
         "name": "message_type",
         "rawType": "object",
         "type": "string"
        },
        {
         "name": "messenger",
         "rawType": "object",
         "type": "string"
        },
        {
         "name": "media_name",
         "rawType": "object",
         "type": "unknown"
        },
        {
         "name": "media_md5",
         "rawType": "object",
         "type": "unknown"
        },
        {
         "name": "caracteres",
         "rawType": "int64",
         "type": "integer"
        },
        {
         "name": "words",
         "rawType": "int64",
         "type": "integer"
        },
        {
         "name": "viral",
         "rawType": "int64",
         "type": "integer"
        },
        {
         "name": "sharings",
         "rawType": "float64",
         "type": "float"
        },
        {
         "name": "sentiment",
         "rawType": "int64",
         "type": "integer"
        }
       ],
       "conversionMethod": "pd.DataFrame",
       "ref": "01d4fed9-26e8-4ad4-9cbc-f56dbdc6351f",
       "rows": [
        [
         "0",
         "2022-10-05 06:25:04",
         "1078cc958f0febe28f4d03207660715f",
         "12283e08a2eb5789201e105b34489ee7",
         null,
         null,
         null,
         "False",
         "False",
         "False",
         "Então é Fato Renato o áudio que eu ouvi no whatsapp isso ocorreu em Niterói principalmente no bairro Fonseca ?",
         "5",
         "2022-10-05 06:25:28.863641",
         "0.0",
         null,
         "16385",
         "Texto",
         "telegram",
         null,
         null,
         "110",
         "20",
         "0",
         "1.0",
         "0"
        ],
        [
         "1",
         "2022-10-05 06:25:08",
         null,
         "12283e08a2eb5789201e105b34489ee7",
         null,
         null,
         null,
         "False",
         "False",
         "False",
         "Saiu no YouTube do presidente a 8 horas atrás, infelizmente não consigo enviar para cá, mas é facilmente verificável no YouTube do presidente",
         "5",
         "2022-10-05 06:25:28.926311",
         "0.0644",
         null,
         "16386",
         "Texto",
         "telegram",
         null,
         null,
         "141",
         "23",
         "0",
         "1.0",
         "1"
        ],
        [
         "2",
         "2022-10-05 06:26:28",
         "92a2d8fd7144074f659d1d29dc3751da",
         "9f2d7394334eb224c061c9740b5748fc",
         null,
         null,
         null,
         "False",
         "False",
         "False",
         "É isso, nossa parte já foi quase toda feita. No segundo turno completamos nossa parte desse teatro. Essa é uma guerra de 4* geração na dimensão humana e uma guerra espiritual do bem contra o mal na dimensão do Universo. Pensamento positivo é fundamental, pensem sempre em algo bom. Deus continua nos abençoando, nosso livre arbítrio completa o curso.",
         "5",
         "2022-10-05 06:26:29.361949",
         "-0.3551",
         "0.1572422223558243",
         "16366",
         "Texto",
         "telegram",
         null,
         null,
         "350",
         "59",
         "0",
         "1.0",
         "-1"
        ],
        [
         "3",
         "2022-10-05 06:27:28",
         "d60aa38f62b4977426b70944af4aff72",
         "c8f2de56550ed0bf85249608b7ead93d",
         "94dca4cda503100ebfda7ce2bcc060eb.jpg",
         "image/jpg",
         null,
         "True",
         "False",
         "False",
         "GENTE ACHEI ELES EM UMA SEITA MAÇONÁRICA",
         "5",
         "2022-10-05 06:27:29.935624",
         "0.0",
         null,
         "19281",
         "Imagem",
         "telegram",
         null,
         "94dca4cda503100ebfda7ce2bcc060eb",
         "40",
         "7",
         "0",
         "1.0",
         "0"
        ],
        [
         "4",
         "2022-10-05 06:27:44",
         "cd6979b0b5265f08468fa1689b6300ce",
         "e56ec342fc599ebb4ed89655eb6f03aa",
         "5ad5c8bbe9da93a37fecf3e5aa5b0637.jpg",
         "image/jpg",
         null,
         "True",
         "False",
         "False",
         null,
         "5",
         "2022-10-05 06:28:29.316325",
         null,
         null,
         "507185",
         "Imagem",
         "telegram",
         null,
         "5ad5c8bbe9da93a37fecf3e5aa5b0637",
         "0",
         "0",
         "1",
         null,
         "0"
        ]
       ],
       "shape": {
        "columns": 24,
        "rows": 5
       }
      },
      "text/html": [
       "<div>\n",
       "<style scoped>\n",
       "    .dataframe tbody tr th:only-of-type {\n",
       "        vertical-align: middle;\n",
       "    }\n",
       "\n",
       "    .dataframe tbody tr th {\n",
       "        vertical-align: top;\n",
       "    }\n",
       "\n",
       "    .dataframe thead th {\n",
       "        text-align: right;\n",
       "    }\n",
       "</style>\n",
       "<table border=\"1\" class=\"dataframe\">\n",
       "  <thead>\n",
       "    <tr style=\"text-align: right;\">\n",
       "      <th></th>\n",
       "      <th>date_message</th>\n",
       "      <th>id_member_anonymous</th>\n",
       "      <th>id_group_anonymous</th>\n",
       "      <th>media</th>\n",
       "      <th>media_type</th>\n",
       "      <th>media_url</th>\n",
       "      <th>has_media</th>\n",
       "      <th>has_media_url</th>\n",
       "      <th>trava_zap</th>\n",
       "      <th>text_content_anonymous</th>\n",
       "      <th>...</th>\n",
       "      <th>id_message</th>\n",
       "      <th>message_type</th>\n",
       "      <th>messenger</th>\n",
       "      <th>media_name</th>\n",
       "      <th>media_md5</th>\n",
       "      <th>caracteres</th>\n",
       "      <th>words</th>\n",
       "      <th>viral</th>\n",
       "      <th>sharings</th>\n",
       "      <th>sentiment</th>\n",
       "    </tr>\n",
       "  </thead>\n",
       "  <tbody>\n",
       "    <tr>\n",
       "      <th>0</th>\n",
       "      <td>2022-10-05 06:25:04</td>\n",
       "      <td>1078cc958f0febe28f4d03207660715f</td>\n",
       "      <td>12283e08a2eb5789201e105b34489ee7</td>\n",
       "      <td>NaN</td>\n",
       "      <td>NaN</td>\n",
       "      <td>NaN</td>\n",
       "      <td>False</td>\n",
       "      <td>False</td>\n",
       "      <td>False</td>\n",
       "      <td>Então é Fato Renato o áudio que eu ouvi no wha...</td>\n",
       "      <td>...</td>\n",
       "      <td>16385</td>\n",
       "      <td>Texto</td>\n",
       "      <td>telegram</td>\n",
       "      <td>NaN</td>\n",
       "      <td>NaN</td>\n",
       "      <td>110</td>\n",
       "      <td>20</td>\n",
       "      <td>0</td>\n",
       "      <td>1.0</td>\n",
       "      <td>0</td>\n",
       "    </tr>\n",
       "    <tr>\n",
       "      <th>1</th>\n",
       "      <td>2022-10-05 06:25:08</td>\n",
       "      <td>NaN</td>\n",
       "      <td>12283e08a2eb5789201e105b34489ee7</td>\n",
       "      <td>NaN</td>\n",
       "      <td>NaN</td>\n",
       "      <td>NaN</td>\n",
       "      <td>False</td>\n",
       "      <td>False</td>\n",
       "      <td>False</td>\n",
       "      <td>Saiu no YouTube do presidente a 8 horas atrás,...</td>\n",
       "      <td>...</td>\n",
       "      <td>16386</td>\n",
       "      <td>Texto</td>\n",
       "      <td>telegram</td>\n",
       "      <td>NaN</td>\n",
       "      <td>NaN</td>\n",
       "      <td>141</td>\n",
       "      <td>23</td>\n",
       "      <td>0</td>\n",
       "      <td>1.0</td>\n",
       "      <td>1</td>\n",
       "    </tr>\n",
       "    <tr>\n",
       "      <th>2</th>\n",
       "      <td>2022-10-05 06:26:28</td>\n",
       "      <td>92a2d8fd7144074f659d1d29dc3751da</td>\n",
       "      <td>9f2d7394334eb224c061c9740b5748fc</td>\n",
       "      <td>NaN</td>\n",
       "      <td>NaN</td>\n",
       "      <td>NaN</td>\n",
       "      <td>False</td>\n",
       "      <td>False</td>\n",
       "      <td>False</td>\n",
       "      <td>É isso, nossa parte já foi quase toda feita. N...</td>\n",
       "      <td>...</td>\n",
       "      <td>16366</td>\n",
       "      <td>Texto</td>\n",
       "      <td>telegram</td>\n",
       "      <td>NaN</td>\n",
       "      <td>NaN</td>\n",
       "      <td>350</td>\n",
       "      <td>59</td>\n",
       "      <td>0</td>\n",
       "      <td>1.0</td>\n",
       "      <td>-1</td>\n",
       "    </tr>\n",
       "    <tr>\n",
       "      <th>3</th>\n",
       "      <td>2022-10-05 06:27:28</td>\n",
       "      <td>d60aa38f62b4977426b70944af4aff72</td>\n",
       "      <td>c8f2de56550ed0bf85249608b7ead93d</td>\n",
       "      <td>94dca4cda503100ebfda7ce2bcc060eb.jpg</td>\n",
       "      <td>image/jpg</td>\n",
       "      <td>NaN</td>\n",
       "      <td>True</td>\n",
       "      <td>False</td>\n",
       "      <td>False</td>\n",
       "      <td>GENTE ACHEI ELES EM UMA SEITA MAÇONÁRICA</td>\n",
       "      <td>...</td>\n",
       "      <td>19281</td>\n",
       "      <td>Imagem</td>\n",
       "      <td>telegram</td>\n",
       "      <td>NaN</td>\n",
       "      <td>94dca4cda503100ebfda7ce2bcc060eb</td>\n",
       "      <td>40</td>\n",
       "      <td>7</td>\n",
       "      <td>0</td>\n",
       "      <td>1.0</td>\n",
       "      <td>0</td>\n",
       "    </tr>\n",
       "    <tr>\n",
       "      <th>4</th>\n",
       "      <td>2022-10-05 06:27:44</td>\n",
       "      <td>cd6979b0b5265f08468fa1689b6300ce</td>\n",
       "      <td>e56ec342fc599ebb4ed89655eb6f03aa</td>\n",
       "      <td>5ad5c8bbe9da93a37fecf3e5aa5b0637.jpg</td>\n",
       "      <td>image/jpg</td>\n",
       "      <td>NaN</td>\n",
       "      <td>True</td>\n",
       "      <td>False</td>\n",
       "      <td>False</td>\n",
       "      <td>NaN</td>\n",
       "      <td>...</td>\n",
       "      <td>507185</td>\n",
       "      <td>Imagem</td>\n",
       "      <td>telegram</td>\n",
       "      <td>NaN</td>\n",
       "      <td>5ad5c8bbe9da93a37fecf3e5aa5b0637</td>\n",
       "      <td>0</td>\n",
       "      <td>0</td>\n",
       "      <td>1</td>\n",
       "      <td>NaN</td>\n",
       "      <td>0</td>\n",
       "    </tr>\n",
       "  </tbody>\n",
       "</table>\n",
       "<p>5 rows × 24 columns</p>\n",
       "</div>"
      ],
      "text/plain": [
       "          date_message               id_member_anonymous  \\\n",
       "0  2022-10-05 06:25:04  1078cc958f0febe28f4d03207660715f   \n",
       "1  2022-10-05 06:25:08                               NaN   \n",
       "2  2022-10-05 06:26:28  92a2d8fd7144074f659d1d29dc3751da   \n",
       "3  2022-10-05 06:27:28  d60aa38f62b4977426b70944af4aff72   \n",
       "4  2022-10-05 06:27:44  cd6979b0b5265f08468fa1689b6300ce   \n",
       "\n",
       "                 id_group_anonymous                                 media  \\\n",
       "0  12283e08a2eb5789201e105b34489ee7                                   NaN   \n",
       "1  12283e08a2eb5789201e105b34489ee7                                   NaN   \n",
       "2  9f2d7394334eb224c061c9740b5748fc                                   NaN   \n",
       "3  c8f2de56550ed0bf85249608b7ead93d  94dca4cda503100ebfda7ce2bcc060eb.jpg   \n",
       "4  e56ec342fc599ebb4ed89655eb6f03aa  5ad5c8bbe9da93a37fecf3e5aa5b0637.jpg   \n",
       "\n",
       "  media_type media_url  has_media  has_media_url  trava_zap  \\\n",
       "0        NaN       NaN      False          False      False   \n",
       "1        NaN       NaN      False          False      False   \n",
       "2        NaN       NaN      False          False      False   \n",
       "3  image/jpg       NaN       True          False      False   \n",
       "4  image/jpg       NaN       True          False      False   \n",
       "\n",
       "                              text_content_anonymous  ...  id_message  \\\n",
       "0  Então é Fato Renato o áudio que eu ouvi no wha...  ...       16385   \n",
       "1  Saiu no YouTube do presidente a 8 horas atrás,...  ...       16386   \n",
       "2  É isso, nossa parte já foi quase toda feita. N...  ...       16366   \n",
       "3           GENTE ACHEI ELES EM UMA SEITA MAÇONÁRICA  ...       19281   \n",
       "4                                                NaN  ...      507185   \n",
       "\n",
       "  message_type  messenger  media_name                         media_md5  \\\n",
       "0        Texto   telegram         NaN                               NaN   \n",
       "1        Texto   telegram         NaN                               NaN   \n",
       "2        Texto   telegram         NaN                               NaN   \n",
       "3       Imagem   telegram         NaN  94dca4cda503100ebfda7ce2bcc060eb   \n",
       "4       Imagem   telegram         NaN  5ad5c8bbe9da93a37fecf3e5aa5b0637   \n",
       "\n",
       "  caracteres words viral sharings  sentiment  \n",
       "0        110    20     0      1.0          0  \n",
       "1        141    23     0      1.0          1  \n",
       "2        350    59     0      1.0         -1  \n",
       "3         40     7     0      1.0          0  \n",
       "4          0     0     1      NaN          0  \n",
       "\n",
       "[5 rows x 24 columns]"
      ]
     },
     "metadata": {},
     "output_type": "display_data"
    },
    {
     "name": "stdout",
     "output_type": "stream",
     "text": [
      "(557586, 24)\n"
     ]
    }
   ],
   "source": [
    "dataset = dataset[~dataset['text_content_anonymous'].str.contains(\"trava-zaps\", na=False)]\n",
    "display(dataset.head(5))\n",
    "print(dataset.shape)"
   ]
  },
  {
   "cell_type": "code",
   "execution_count": 48,
   "metadata": {},
   "outputs": [
    {
     "data": {
      "application/vnd.microsoft.datawrangler.viewer.v0+json": {
       "columns": [
        {
         "name": "index",
         "rawType": "int64",
         "type": "integer"
        },
        {
         "name": "date_message",
         "rawType": "object",
         "type": "string"
        },
        {
         "name": "id_member_anonymous",
         "rawType": "object",
         "type": "unknown"
        },
        {
         "name": "id_group_anonymous",
         "rawType": "object",
         "type": "string"
        },
        {
         "name": "media",
         "rawType": "object",
         "type": "unknown"
        },
        {
         "name": "media_type",
         "rawType": "object",
         "type": "unknown"
        },
        {
         "name": "media_url",
         "rawType": "object",
         "type": "unknown"
        },
        {
         "name": "has_media",
         "rawType": "bool",
         "type": "boolean"
        },
        {
         "name": "has_media_url",
         "rawType": "bool",
         "type": "boolean"
        },
        {
         "name": "trava_zap",
         "rawType": "bool",
         "type": "boolean"
        },
        {
         "name": "text_content_anonymous",
         "rawType": "object",
         "type": "unknown"
        },
        {
         "name": "dataset_info_id",
         "rawType": "int64",
         "type": "integer"
        },
        {
         "name": "date_system",
         "rawType": "object",
         "type": "string"
        },
        {
         "name": "score_sentiment",
         "rawType": "float64",
         "type": "float"
        },
        {
         "name": "score_misinformation",
         "rawType": "float64",
         "type": "float"
        },
        {
         "name": "id_message",
         "rawType": "int64",
         "type": "integer"
        },
        {
         "name": "message_type",
         "rawType": "object",
         "type": "string"
        },
        {
         "name": "messenger",
         "rawType": "object",
         "type": "string"
        },
        {
         "name": "media_name",
         "rawType": "object",
         "type": "unknown"
        },
        {
         "name": "media_md5",
         "rawType": "object",
         "type": "unknown"
        },
        {
         "name": "caracteres",
         "rawType": "int64",
         "type": "integer"
        },
        {
         "name": "words",
         "rawType": "int64",
         "type": "integer"
        },
        {
         "name": "viral",
         "rawType": "int64",
         "type": "integer"
        },
        {
         "name": "sharings",
         "rawType": "float64",
         "type": "float"
        },
        {
         "name": "sentiment",
         "rawType": "int64",
         "type": "integer"
        }
       ],
       "conversionMethod": "pd.DataFrame",
       "ref": "74df18aa-dad0-4b5f-88a6-4e39168a21f9",
       "rows": [
        [
         "0",
         "2022-10-05 06:25:04",
         "1078cc958f0febe28f4d03207660715f",
         "12283e08a2eb5789201e105b34489ee7",
         null,
         null,
         null,
         "False",
         "False",
         "False",
         "Então é Fato Renato o áudio que eu ouvi no whatsapp isso ocorreu em Niterói principalmente no bairro Fonseca ?",
         "5",
         "2022-10-05 06:25:28.863641",
         "0.0",
         null,
         "16385",
         "Texto",
         "telegram",
         null,
         null,
         "110",
         "20",
         "0",
         "1.0",
         "0"
        ],
        [
         "1",
         "2022-10-05 06:25:08",
         null,
         "12283e08a2eb5789201e105b34489ee7",
         null,
         null,
         null,
         "False",
         "False",
         "False",
         "Saiu no YouTube do presidente a 8 horas atrás, infelizmente não consigo enviar para cá, mas é facilmente verificável no YouTube do presidente",
         "5",
         "2022-10-05 06:25:28.926311",
         "0.0644",
         null,
         "16386",
         "Texto",
         "telegram",
         null,
         null,
         "141",
         "23",
         "0",
         "1.0",
         "1"
        ],
        [
         "2",
         "2022-10-05 06:26:28",
         "92a2d8fd7144074f659d1d29dc3751da",
         "9f2d7394334eb224c061c9740b5748fc",
         null,
         null,
         null,
         "False",
         "False",
         "False",
         "É isso, nossa parte já foi quase toda feita. No segundo turno completamos nossa parte desse teatro. Essa é uma guerra de 4* geração na dimensão humana e uma guerra espiritual do bem contra o mal na dimensão do Universo. Pensamento positivo é fundamental, pensem sempre em algo bom. Deus continua nos abençoando, nosso livre arbítrio completa o curso.",
         "5",
         "2022-10-05 06:26:29.361949",
         "-0.3551",
         "0.1572422223558243",
         "16366",
         "Texto",
         "telegram",
         null,
         null,
         "350",
         "59",
         "0",
         "1.0",
         "-1"
        ],
        [
         "3",
         "2022-10-05 06:27:28",
         "d60aa38f62b4977426b70944af4aff72",
         "c8f2de56550ed0bf85249608b7ead93d",
         "94dca4cda503100ebfda7ce2bcc060eb.jpg",
         "image/jpg",
         null,
         "True",
         "False",
         "False",
         "GENTE ACHEI ELES EM UMA SEITA MAÇONÁRICA",
         "5",
         "2022-10-05 06:27:29.935624",
         "0.0",
         null,
         "19281",
         "Imagem",
         "telegram",
         null,
         "94dca4cda503100ebfda7ce2bcc060eb",
         "40",
         "7",
         "0",
         "1.0",
         "0"
        ],
        [
         "4",
         "2022-10-05 06:27:44",
         "cd6979b0b5265f08468fa1689b6300ce",
         "e56ec342fc599ebb4ed89655eb6f03aa",
         "5ad5c8bbe9da93a37fecf3e5aa5b0637.jpg",
         "image/jpg",
         null,
         "True",
         "False",
         "False",
         null,
         "5",
         "2022-10-05 06:28:29.316325",
         null,
         null,
         "507185",
         "Imagem",
         "telegram",
         null,
         "5ad5c8bbe9da93a37fecf3e5aa5b0637",
         "0",
         "0",
         "1",
         null,
         "0"
        ]
       ],
       "shape": {
        "columns": 24,
        "rows": 5
       }
      },
      "text/html": [
       "<div>\n",
       "<style scoped>\n",
       "    .dataframe tbody tr th:only-of-type {\n",
       "        vertical-align: middle;\n",
       "    }\n",
       "\n",
       "    .dataframe tbody tr th {\n",
       "        vertical-align: top;\n",
       "    }\n",
       "\n",
       "    .dataframe thead th {\n",
       "        text-align: right;\n",
       "    }\n",
       "</style>\n",
       "<table border=\"1\" class=\"dataframe\">\n",
       "  <thead>\n",
       "    <tr style=\"text-align: right;\">\n",
       "      <th></th>\n",
       "      <th>date_message</th>\n",
       "      <th>id_member_anonymous</th>\n",
       "      <th>id_group_anonymous</th>\n",
       "      <th>media</th>\n",
       "      <th>media_type</th>\n",
       "      <th>media_url</th>\n",
       "      <th>has_media</th>\n",
       "      <th>has_media_url</th>\n",
       "      <th>trava_zap</th>\n",
       "      <th>text_content_anonymous</th>\n",
       "      <th>...</th>\n",
       "      <th>id_message</th>\n",
       "      <th>message_type</th>\n",
       "      <th>messenger</th>\n",
       "      <th>media_name</th>\n",
       "      <th>media_md5</th>\n",
       "      <th>caracteres</th>\n",
       "      <th>words</th>\n",
       "      <th>viral</th>\n",
       "      <th>sharings</th>\n",
       "      <th>sentiment</th>\n",
       "    </tr>\n",
       "  </thead>\n",
       "  <tbody>\n",
       "    <tr>\n",
       "      <th>0</th>\n",
       "      <td>2022-10-05 06:25:04</td>\n",
       "      <td>1078cc958f0febe28f4d03207660715f</td>\n",
       "      <td>12283e08a2eb5789201e105b34489ee7</td>\n",
       "      <td>NaN</td>\n",
       "      <td>NaN</td>\n",
       "      <td>NaN</td>\n",
       "      <td>False</td>\n",
       "      <td>False</td>\n",
       "      <td>False</td>\n",
       "      <td>Então é Fato Renato o áudio que eu ouvi no wha...</td>\n",
       "      <td>...</td>\n",
       "      <td>16385</td>\n",
       "      <td>Texto</td>\n",
       "      <td>telegram</td>\n",
       "      <td>NaN</td>\n",
       "      <td>NaN</td>\n",
       "      <td>110</td>\n",
       "      <td>20</td>\n",
       "      <td>0</td>\n",
       "      <td>1.0</td>\n",
       "      <td>0</td>\n",
       "    </tr>\n",
       "    <tr>\n",
       "      <th>1</th>\n",
       "      <td>2022-10-05 06:25:08</td>\n",
       "      <td>NaN</td>\n",
       "      <td>12283e08a2eb5789201e105b34489ee7</td>\n",
       "      <td>NaN</td>\n",
       "      <td>NaN</td>\n",
       "      <td>NaN</td>\n",
       "      <td>False</td>\n",
       "      <td>False</td>\n",
       "      <td>False</td>\n",
       "      <td>Saiu no YouTube do presidente a 8 horas atrás,...</td>\n",
       "      <td>...</td>\n",
       "      <td>16386</td>\n",
       "      <td>Texto</td>\n",
       "      <td>telegram</td>\n",
       "      <td>NaN</td>\n",
       "      <td>NaN</td>\n",
       "      <td>141</td>\n",
       "      <td>23</td>\n",
       "      <td>0</td>\n",
       "      <td>1.0</td>\n",
       "      <td>1</td>\n",
       "    </tr>\n",
       "    <tr>\n",
       "      <th>2</th>\n",
       "      <td>2022-10-05 06:26:28</td>\n",
       "      <td>92a2d8fd7144074f659d1d29dc3751da</td>\n",
       "      <td>9f2d7394334eb224c061c9740b5748fc</td>\n",
       "      <td>NaN</td>\n",
       "      <td>NaN</td>\n",
       "      <td>NaN</td>\n",
       "      <td>False</td>\n",
       "      <td>False</td>\n",
       "      <td>False</td>\n",
       "      <td>É isso, nossa parte já foi quase toda feita. N...</td>\n",
       "      <td>...</td>\n",
       "      <td>16366</td>\n",
       "      <td>Texto</td>\n",
       "      <td>telegram</td>\n",
       "      <td>NaN</td>\n",
       "      <td>NaN</td>\n",
       "      <td>350</td>\n",
       "      <td>59</td>\n",
       "      <td>0</td>\n",
       "      <td>1.0</td>\n",
       "      <td>-1</td>\n",
       "    </tr>\n",
       "    <tr>\n",
       "      <th>3</th>\n",
       "      <td>2022-10-05 06:27:28</td>\n",
       "      <td>d60aa38f62b4977426b70944af4aff72</td>\n",
       "      <td>c8f2de56550ed0bf85249608b7ead93d</td>\n",
       "      <td>94dca4cda503100ebfda7ce2bcc060eb.jpg</td>\n",
       "      <td>image/jpg</td>\n",
       "      <td>NaN</td>\n",
       "      <td>True</td>\n",
       "      <td>False</td>\n",
       "      <td>False</td>\n",
       "      <td>GENTE ACHEI ELES EM UMA SEITA MAÇONÁRICA</td>\n",
       "      <td>...</td>\n",
       "      <td>19281</td>\n",
       "      <td>Imagem</td>\n",
       "      <td>telegram</td>\n",
       "      <td>NaN</td>\n",
       "      <td>94dca4cda503100ebfda7ce2bcc060eb</td>\n",
       "      <td>40</td>\n",
       "      <td>7</td>\n",
       "      <td>0</td>\n",
       "      <td>1.0</td>\n",
       "      <td>0</td>\n",
       "    </tr>\n",
       "    <tr>\n",
       "      <th>4</th>\n",
       "      <td>2022-10-05 06:27:44</td>\n",
       "      <td>cd6979b0b5265f08468fa1689b6300ce</td>\n",
       "      <td>e56ec342fc599ebb4ed89655eb6f03aa</td>\n",
       "      <td>5ad5c8bbe9da93a37fecf3e5aa5b0637.jpg</td>\n",
       "      <td>image/jpg</td>\n",
       "      <td>NaN</td>\n",
       "      <td>True</td>\n",
       "      <td>False</td>\n",
       "      <td>False</td>\n",
       "      <td>NaN</td>\n",
       "      <td>...</td>\n",
       "      <td>507185</td>\n",
       "      <td>Imagem</td>\n",
       "      <td>telegram</td>\n",
       "      <td>NaN</td>\n",
       "      <td>5ad5c8bbe9da93a37fecf3e5aa5b0637</td>\n",
       "      <td>0</td>\n",
       "      <td>0</td>\n",
       "      <td>1</td>\n",
       "      <td>NaN</td>\n",
       "      <td>0</td>\n",
       "    </tr>\n",
       "  </tbody>\n",
       "</table>\n",
       "<p>5 rows × 24 columns</p>\n",
       "</div>"
      ],
      "text/plain": [
       "          date_message               id_member_anonymous  \\\n",
       "0  2022-10-05 06:25:04  1078cc958f0febe28f4d03207660715f   \n",
       "1  2022-10-05 06:25:08                               NaN   \n",
       "2  2022-10-05 06:26:28  92a2d8fd7144074f659d1d29dc3751da   \n",
       "3  2022-10-05 06:27:28  d60aa38f62b4977426b70944af4aff72   \n",
       "4  2022-10-05 06:27:44  cd6979b0b5265f08468fa1689b6300ce   \n",
       "\n",
       "                 id_group_anonymous                                 media  \\\n",
       "0  12283e08a2eb5789201e105b34489ee7                                   NaN   \n",
       "1  12283e08a2eb5789201e105b34489ee7                                   NaN   \n",
       "2  9f2d7394334eb224c061c9740b5748fc                                   NaN   \n",
       "3  c8f2de56550ed0bf85249608b7ead93d  94dca4cda503100ebfda7ce2bcc060eb.jpg   \n",
       "4  e56ec342fc599ebb4ed89655eb6f03aa  5ad5c8bbe9da93a37fecf3e5aa5b0637.jpg   \n",
       "\n",
       "  media_type media_url  has_media  has_media_url  trava_zap  \\\n",
       "0        NaN       NaN      False          False      False   \n",
       "1        NaN       NaN      False          False      False   \n",
       "2        NaN       NaN      False          False      False   \n",
       "3  image/jpg       NaN       True          False      False   \n",
       "4  image/jpg       NaN       True          False      False   \n",
       "\n",
       "                              text_content_anonymous  ...  id_message  \\\n",
       "0  Então é Fato Renato o áudio que eu ouvi no wha...  ...       16385   \n",
       "1  Saiu no YouTube do presidente a 8 horas atrás,...  ...       16386   \n",
       "2  É isso, nossa parte já foi quase toda feita. N...  ...       16366   \n",
       "3           GENTE ACHEI ELES EM UMA SEITA MAÇONÁRICA  ...       19281   \n",
       "4                                                NaN  ...      507185   \n",
       "\n",
       "  message_type  messenger  media_name                         media_md5  \\\n",
       "0        Texto   telegram         NaN                               NaN   \n",
       "1        Texto   telegram         NaN                               NaN   \n",
       "2        Texto   telegram         NaN                               NaN   \n",
       "3       Imagem   telegram         NaN  94dca4cda503100ebfda7ce2bcc060eb   \n",
       "4       Imagem   telegram         NaN  5ad5c8bbe9da93a37fecf3e5aa5b0637   \n",
       "\n",
       "  caracteres words viral sharings  sentiment  \n",
       "0        110    20     0      1.0          0  \n",
       "1        141    23     0      1.0          1  \n",
       "2        350    59     0      1.0         -1  \n",
       "3         40     7     0      1.0          0  \n",
       "4          0     0     1      NaN          0  \n",
       "\n",
       "[5 rows x 24 columns]"
      ]
     },
     "metadata": {},
     "output_type": "display_data"
    },
    {
     "name": "stdout",
     "output_type": "stream",
     "text": [
      "(557570, 24)\n"
     ]
    }
   ],
   "source": [
    "dataset2 = dataset.copy()\n",
    "dataset2 = dataset2[dataset2['trava_zap'] == False]\n",
    "display(dataset2.head(5))\n",
    "print(dataset2.shape)"
   ]
  },
  {
   "cell_type": "markdown",
   "metadata": {},
   "source": [
    "14. Identificar inconsistências entre os atributos (features)."
   ]
  },
  {
   "cell_type": "code",
   "execution_count": 49,
   "metadata": {},
   "outputs": [
    {
     "name": "stdout",
     "output_type": "stream",
     "text": [
      "Inconsistências em has_media: 0 registros\n",
      "Empty DataFrame\n",
      "Columns: [date_message, id_member_anonymous, id_group_anonymous, media, media_type, media_url, has_media, has_media_url, trava_zap, text_content_anonymous, dataset_info_id, date_system, score_sentiment, score_misinformation, id_message, message_type, messenger, media_name, media_md5, caracteres, words, viral, sharings, sentiment]\n",
      "Index: []\n",
      "\n",
      "[0 rows x 24 columns]\n",
      "Inconsistências em has_media_url: 0 registros\n",
      "Empty DataFrame\n",
      "Columns: [date_message, id_member_anonymous, id_group_anonymous, media, media_type, media_url, has_media, has_media_url, trava_zap, text_content_anonymous, dataset_info_id, date_system, score_sentiment, score_misinformation, id_message, message_type, messenger, media_name, media_md5, caracteres, words, viral, sharings, sentiment]\n",
      "Index: []\n",
      "\n",
      "[0 rows x 24 columns]\n",
      "Inconsistências em trava_zap: 16 registros\n",
      "               date_message               id_member_anonymous  \\\n",
      "21944   2022-10-07 07:46:52                               NaN   \n",
      "89109   2022-10-16 00:45:02  8a30ac374bc4b5930eaf0667a178546a   \n",
      "294541  2022-10-04 14:22:47  39ee10516124280a22f1798f2a41f9a7   \n",
      "324567  2022-10-25 14:55:55  e003fbb6ffedb1838e42360d41cab314   \n",
      "389164  2022-10-30 20:19:52                               NaN   \n",
      "423083  2022-11-03 00:40:23                               NaN   \n",
      "466735  2022-11-07 20:47:35  4a498818da925377eff2606a260cfa45   \n",
      "467297  2022-11-08 10:07:14  4a498818da925377eff2606a260cfa45   \n",
      "471273  2022-11-08 20:37:52  4a498818da925377eff2606a260cfa45   \n",
      "478270  2022-11-09 19:50:12  4a498818da925377eff2606a260cfa45   \n",
      "483425  2022-11-10 02:28:43  4a498818da925377eff2606a260cfa45   \n",
      "489757  2022-11-10 20:55:00  4a498818da925377eff2606a260cfa45   \n",
      "489758  2022-11-10 20:55:01  4a498818da925377eff2606a260cfa45   \n",
      "492781  2022-11-11 09:50:37  4a498818da925377eff2606a260cfa45   \n",
      "493561  2022-11-09 06:37:51  4a498818da925377eff2606a260cfa45   \n",
      "493663  2022-11-09 07:48:24                               NaN   \n",
      "\n",
      "                      id_group_anonymous  \\\n",
      "21944   c712c1b704c22bd0cef50bc06125cdbd   \n",
      "89109   e56ec342fc599ebb4ed89655eb6f03aa   \n",
      "294541  959f13e0079883060632c74ffc81c547   \n",
      "324567  5b10d7739171149be6d9961e3350c071   \n",
      "389164  c8f2de56550ed0bf85249608b7ead93d   \n",
      "423083  4d3712f5a117e36180d4b4cbd07c540e   \n",
      "466735  f61777908059b318385882ff47b15c33   \n",
      "467297  f61777908059b318385882ff47b15c33   \n",
      "471273  f61777908059b318385882ff47b15c33   \n",
      "478270  f61777908059b318385882ff47b15c33   \n",
      "483425  f61777908059b318385882ff47b15c33   \n",
      "489757  f61777908059b318385882ff47b15c33   \n",
      "489758  f61777908059b318385882ff47b15c33   \n",
      "492781  f61777908059b318385882ff47b15c33   \n",
      "493561  f61777908059b318385882ff47b15c33   \n",
      "493663  a26d427bec046513e600d165e98660ae   \n",
      "\n",
      "                                       media media_type media_url  has_media  \\\n",
      "21944                                    NaN        NaN       NaN      False   \n",
      "89109                                    NaN        NaN       NaN      False   \n",
      "294541                                   NaN        NaN       NaN      False   \n",
      "324567                                   NaN        NaN       NaN      False   \n",
      "389164                                   NaN        NaN       NaN      False   \n",
      "423083                                   NaN        NaN       NaN      False   \n",
      "466735                                   NaN        NaN       NaN      False   \n",
      "467297                                   NaN        NaN       NaN      False   \n",
      "471273                                   NaN        NaN       NaN      False   \n",
      "478270                                   NaN        NaN       NaN      False   \n",
      "483425                                   NaN        NaN       NaN      False   \n",
      "489757                                   NaN        NaN       NaN      False   \n",
      "489758                                   NaN        NaN       NaN      False   \n",
      "492781                                   NaN        NaN       NaN      False   \n",
      "493561                                   NaN        NaN       NaN      False   \n",
      "493663  d4c34e18a0d3fc82051327e81f0afa7a.jpg  image/jpg       NaN       True   \n",
      "\n",
      "        has_media_url  trava_zap text_content_anonymous  ...  id_message  \\\n",
      "21944           False       True                    NaN  ...       53260   \n",
      "89109           False       True                    NaN  ...      521324   \n",
      "294541          False       True                    NaN  ...       27241   \n",
      "324567          False       True                    NaN  ...     1182938   \n",
      "389164          False       True                    NaN  ...       28330   \n",
      "423083          False       True                    NaN  ...      171104   \n",
      "466735          False       True                    NaN  ...       88890   \n",
      "467297          False       True                    NaN  ...       88977   \n",
      "471273          False       True                    NaN  ...       89039   \n",
      "478270          False       True                    NaN  ...       89212   \n",
      "483425          False       True                    NaN  ...       89295   \n",
      "489757          False       True                    NaN  ...       89499   \n",
      "489758          False       True                    NaN  ...       89500   \n",
      "492781          False       True                    NaN  ...       89642   \n",
      "493561          False       True                    NaN  ...       89154   \n",
      "493663          False       True                    NaN  ...        6276   \n",
      "\n",
      "       message_type  messenger  media_name                         media_md5  \\\n",
      "21944         Texto   telegram         NaN                               NaN   \n",
      "89109         Texto   telegram         NaN                               NaN   \n",
      "294541        Texto   telegram         NaN                               NaN   \n",
      "324567        Texto   telegram         NaN                               NaN   \n",
      "389164        Texto   telegram         NaN                               NaN   \n",
      "423083        Texto   telegram         NaN                               NaN   \n",
      "466735        Texto   telegram         NaN                               NaN   \n",
      "467297        Texto   telegram         NaN                               NaN   \n",
      "471273        Texto   telegram         NaN                               NaN   \n",
      "478270        Texto   telegram         NaN                               NaN   \n",
      "483425        Texto   telegram         NaN                               NaN   \n",
      "489757        Texto   telegram         NaN                               NaN   \n",
      "489758        Texto   telegram         NaN                               NaN   \n",
      "492781        Texto   telegram         NaN                               NaN   \n",
      "493561        Texto   telegram         NaN                               NaN   \n",
      "493663       Imagem   telegram         NaN  d4c34e18a0d3fc82051327e81f0afa7a   \n",
      "\n",
      "       caracteres words viral sharings  sentiment  \n",
      "21944           0     0     1      NaN          0  \n",
      "89109           0     0     1      NaN          0  \n",
      "294541          0     0     1      NaN          1  \n",
      "324567          0     0     1      NaN          1  \n",
      "389164          0     0     1      NaN          0  \n",
      "423083          0     0     1      NaN          0  \n",
      "466735          0     0     1      NaN          0  \n",
      "467297          0     0     1      NaN          0  \n",
      "471273          0     0     1      NaN          0  \n",
      "478270          0     0     1      NaN          0  \n",
      "483425          0     0     1      NaN          0  \n",
      "489757          0     0     1      NaN          0  \n",
      "489758          0     0     1      NaN          0  \n",
      "492781          0     0     1      NaN          0  \n",
      "493561          0     0     1      NaN          0  \n",
      "493663          0     0     1      NaN          0  \n",
      "\n",
      "[16 rows x 24 columns]\n",
      "Inconsistências em viral: 0 registros\n",
      "Empty DataFrame\n",
      "Columns: [date_message, id_member_anonymous, id_group_anonymous, media, media_type, media_url, has_media, has_media_url, trava_zap, text_content_anonymous, dataset_info_id, date_system, score_sentiment, score_misinformation, id_message, message_type, messenger, media_name, media_md5, caracteres, words, viral, sharings, sentiment]\n",
      "Index: []\n",
      "\n",
      "[0 rows x 24 columns]\n"
     ]
    }
   ],
   "source": [
    "# Verificar inconsistências entre os atributos\n",
    "inconsistencies = {}\n",
    "\n",
    "# 1. Verificar se has_media é True quando media ou media_type não são nulos\n",
    "inconsistencies['has_media'] = dataset[(dataset['has_media'] == False) & (dataset[['media', 'media_type']].notnull().any(axis=1))]\n",
    "\n",
    "# 2. Verificar se has_media_url é True quando media_url não é nulo\n",
    "inconsistencies['has_media_url'] = dataset[(dataset['has_media_url'] == False) & (dataset['media_url'].notnull())]\n",
    "\n",
    "# 3. Verificar se trava_zap é True apenas quando text_content_anonymous contém \"trava-zaps\"\n",
    "inconsistencies['trava_zap'] = dataset[(dataset['trava_zap'] == True) & (~dataset['text_content_anonymous'].str.contains(\"trava-zaps\", na=False))]\n",
    "\n",
    "# 4. Verificar se viral é 1 apenas quando há duplicatas em text_content_anonymous\n",
    "inconsistencies['viral'] = dataset[(dataset['viral'] == 1) & (~dataset.duplicated(subset=['text_content_anonymous'], keep=False))]\n",
    "\n",
    "# Exibir inconsistências\n",
    "for key, value in inconsistencies.items():\n",
    "  print(f\"Inconsistências em {key}: {len(value)} registros\")\n",
    "  print(value)"
   ]
  }
 ],
 "metadata": {
  "kernelspec": {
   "display_name": "Ciencia de Dados",
   "language": "python",
   "name": "python3"
  },
  "language_info": {
   "codemirror_mode": {
    "name": "ipython",
    "version": 3
   },
   "file_extension": ".py",
   "mimetype": "text/x-python",
   "name": "python",
   "nbconvert_exporter": "python",
   "pygments_lexer": "ipython3",
   "version": "3.12.7"
  }
 },
 "nbformat": 4,
 "nbformat_minor": 2
}
