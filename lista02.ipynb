{
 "cells": [
  {
   "cell_type": "markdown",
   "id": "2ce7624c",
   "metadata": {},
   "source": [
    "### Aluno: Luiz Zairo Bastos Viana - 586107"
   ]
  },
  {
   "cell_type": "markdown",
   "id": "75f6b46f",
   "metadata": {},
   "source": [
    "1. Importação das bibliotecas"
   ]
  },
  {
   "cell_type": "code",
   "execution_count": 1,
   "id": "dbed0c28",
   "metadata": {},
   "outputs": [],
   "source": [
    "import duckdb\n",
    "import pandas as pd\n",
    "import re"
   ]
  },
  {
   "cell_type": "markdown",
   "id": "1c520a66",
   "metadata": {},
   "source": [
    "2. Leitura da base de dados e convertendo para parquet"
   ]
  },
  {
   "cell_type": "markdown",
   "id": "987d0bb0",
   "metadata": {},
   "source": [
    "b) Removendo os trava-zap"
   ]
  },
  {
   "cell_type": "code",
   "execution_count": 2,
   "id": "48f340f7",
   "metadata": {},
   "outputs": [],
   "source": [
    "dataset = pd.read_pickle(\"./data/fakeTelegram.BR_2022_clean.pkl\")"
   ]
  },
  {
   "cell_type": "markdown",
   "id": "90ea57c0",
   "metadata": {},
   "source": [
    "c) Exportando os dados para o `.parquet`"
   ]
  },
  {
   "cell_type": "code",
   "execution_count": 3,
   "id": "eb9814d9",
   "metadata": {},
   "outputs": [
    {
     "data": {
      "text/plain": [
       "<duckdb.duckdb.DuckDBPyConnection at 0x7b3f51e591b0>"
      ]
     },
     "execution_count": 3,
     "metadata": {},
     "output_type": "execute_result"
    }
   ],
   "source": [
    "duckdb.register(\"telegram_df\", dataset)\n",
    "\n",
    "# Exporta para Parquet\n",
    "duckdb.execute(\"\"\"\n",
    "    COPY telegram_df TO './data/fakeTelegram.BR_2022.parquet' (FORMAT 'parquet');\n",
    "\"\"\")\n"
   ]
  },
  {
   "cell_type": "markdown",
   "id": "1c291838",
   "metadata": {},
   "source": [
    "d) Exportando os dados para o `DuckDB`"
   ]
  },
  {
   "cell_type": "code",
   "execution_count": 4,
   "id": "f3c4e11f",
   "metadata": {},
   "outputs": [
    {
     "data": {
      "text/plain": [
       "┌─────────────────────┬──────────────────────────────────┬──────────────────────────────────┬──────────────────────────────────────┬────────────┬─────────────────────────────────────────────────────────────────┬───────────┬───────────────┬───────────┬───────────────────────────────────────────────────────────────────────────────────────────────────────────────────────────────────────────────────────────────────────────────────────────────────────────────────────────────────────────────────────────────────────────────────────────────────────────────────────────────────────────────────────────────────────────────────────────────────────────────────────────────────────────────────────────────────────────────────────────────────────────────────────────────────────────────────────────────────────────────────────────────────────────────────────────────────────────────────────────────────────────────────────────────────────────────────────────────────────────────────────────────────────────────────────────────────────────────────────────────────────────────────────────────────────────────────────────────────────────────────────────────────────────────────────────────────────────────────────────────────────────────────────────────────────────────────────────────────────────────────────────────────────────────────────────────────────────────────────────────────────────────────────────────────────────────────────────────────────────────────────────────────────────────────────────────────────────┬─────────────────┬────────────────────────────┬─────────────────┬──────────────────────┬────────────┬──────────────┬───────────┬────────────┬──────────────────────────────────┬────────────┬───────┬───────┬──────────┬───────────┬─────────────┬────────────────┬─────────────────┬─────────────┬────────────┐\n",
       "│    date_message     │       id_member_anonymous        │        id_group_anonymous        │                media                 │ media_type │                            media_url                            │ has_media │ has_media_url │ trava_zap │                                                                                                                                                                                                                                                                                                                                                                                                                                                                                                                                                                                                                                          text_content_anonymous                                                                                                                                                                                                                                                                                                                                                                                                                                                                                                                                                                                                                                           │ dataset_info_id │        date_system         │ score_sentiment │ score_misinformation │ id_message │ message_type │ messenger │ media_name │            media_md5             │ caracteres │ words │ viral │ sharings │ sentiment │ qtde_emojis │ qtde_especiais │ qtde_repeticoes │ qtde_linhas │ trava_zap2 │\n",
       "│       varchar       │             varchar              │             varchar              │               varchar                │  varchar   │                             varchar                             │  boolean  │    boolean    │  boolean  │                                                                                                                                                                                                                                                                                                                                                                                                                                                                                                                                                                                                                                                  varchar                                                                                                                                                                                                                                                                                                                                                                                                                                                                                                                                                                                                                                                  │      int64      │          varchar           │     double      │        double        │   int64    │   varchar    │  varchar  │  varchar   │             varchar              │   int64    │ int64 │ int64 │  int64   │   int64   │    int64    │     int64      │      int64      │    int64    │   int64    │\n",
       "├─────────────────────┼──────────────────────────────────┼──────────────────────────────────┼──────────────────────────────────────┼────────────┼─────────────────────────────────────────────────────────────────┼───────────┼───────────────┼───────────┼───────────────────────────────────────────────────────────────────────────────────────────────────────────────────────────────────────────────────────────────────────────────────────────────────────────────────────────────────────────────────────────────────────────────────────────────────────────────────────────────────────────────────────────────────────────────────────────────────────────────────────────────────────────────────────────────────────────────────────────────────────────────────────────────────────────────────────────────────────────────────────────────────────────────────────────────────────────────────────────────────────────────────────────────────────────────────────────────────────────────────────────────────────────────────────────────────────────────────────────────────────────────────────────────────────────────────────────────────────────────────────────────────────────────────────────────────────────────────────────────────────────────────────────────────────────────────────────────────────────────────────────────────────────────────────────────────────────────────────────────────────────────────────────────────────────────────────────────────────────────────────────────────────────────────────────────────────────┼─────────────────┼────────────────────────────┼─────────────────┼──────────────────────┼────────────┼──────────────┼───────────┼────────────┼──────────────────────────────────┼────────────┼───────┼───────┼──────────┼───────────┼─────────────┼────────────────┼─────────────────┼─────────────┼────────────┤\n",
       "│ 2022-10-05 06:25:04 │ 1078cc958f0febe28f4d03207660715f │ 12283e08a2eb5789201e105b34489ee7 │ NULL                                 │ NULL       │ NULL                                                            │ false     │ false         │ false     │ Então é Fato Renato o áudio que eu ouvi no whatsapp isso ocorreu em Niterói principalmente no bairro Fonseca ?                                                                                                                                                                                                                                                                                                                                                                                                                                                                                                                                                                                                                                                                                                                                                                                                                                                                                                                                                                                                                                                                                                                                                                                            │               5 │ 2022-10-05 06:25:28.863641 │             0.0 │                 NULL │      16385 │ Texto        │ telegram  │ NULL       │ NULL                             │        110 │    20 │     0 │        1 │         0 │           0 │              1 │               1 │           1 │          0 │\n",
       "│ 2022-10-05 06:25:08 │ NULL                             │ 12283e08a2eb5789201e105b34489ee7 │ NULL                                 │ NULL       │ NULL                                                            │ false     │ false         │ false     │ Saiu no YouTube do presidente a 8 horas atrás, infelizmente não consigo enviar para cá, mas é facilmente verificável no YouTube do presidente                                                                                                                                                                                                                                                                                                                                                                                                                                                                                                                                                                                                                                                                                                                                                                                                                                                                                                                                                                                                                                                                                                                                                             │               5 │ 2022-10-05 06:25:28.926311 │          0.0644 │                 NULL │      16386 │ Texto        │ telegram  │ NULL       │ NULL                             │        141 │    23 │     0 │        1 │         1 │           0 │              2 │               1 │           1 │          0 │\n",
       "│ 2022-10-05 06:26:28 │ 92a2d8fd7144074f659d1d29dc3751da │ 9f2d7394334eb224c061c9740b5748fc │ NULL                                 │ NULL       │ NULL                                                            │ false     │ false         │ false     │ É isso, nossa parte já foi quase toda feita. No segundo turno completamos nossa parte desse teatro. Essa é uma guerra de 4* geração na dimensão humana e uma guerra espiritual do bem contra o mal na dimensão do Universo. Pensamento positivo é fundamental, pensem sempre em algo bom. Deus continua nos abençoando, nosso livre arbítrio completa o curso.                                                                                                                                                                                                                                                                                                                                                                                                                                                                                                                                                                                                                                                                                                                                                                                                                                                                                                                                            │               5 │ 2022-10-05 06:26:29.361949 │         -0.3551 │   0.1572422223558243 │      16366 │ Texto        │ telegram  │ NULL       │ NULL                             │        350 │    59 │     0 │        1 │        -1 │           0 │              9 │               1 │           1 │          0 │\n",
       "│ 2022-10-05 06:27:28 │ d60aa38f62b4977426b70944af4aff72 │ c8f2de56550ed0bf85249608b7ead93d │ 94dca4cda503100ebfda7ce2bcc060eb.jpg │ image/jpg  │ NULL                                                            │ true      │ false         │ false     │ GENTE ACHEI ELES EM UMA SEITA MAÇONÁRICA                                                                                                                                                                                                                                                                                                                                                                                                                                                                                                                                                                                                                                                                                                                                                                                                                                                                                                                                                                                                                                                                                                                                                                                                                                                                  │               5 │ 2022-10-05 06:27:29.935624 │             0.0 │                 NULL │      19281 │ Imagem       │ telegram  │ NULL       │ 94dca4cda503100ebfda7ce2bcc060eb │         40 │     7 │     0 │        1 │         0 │           0 │              0 │               1 │           1 │          0 │\n",
       "│ 2022-10-05 06:27:44 │ cd6979b0b5265f08468fa1689b6300ce │ e56ec342fc599ebb4ed89655eb6f03aa │ 5ad5c8bbe9da93a37fecf3e5aa5b0637.jpg │ image/jpg  │ NULL                                                            │ true      │ false         │ false     │                                                                                                                                                                                                                                                                                                                                                                                                                                                                                                                                                                                                                                                                                                                                                                                                                                                                                                                                                                                                                                                                                                                                                                                                                                                                                                           │               5 │ 2022-10-05 06:28:29.316325 │            NULL │                 NULL │     507185 │ Imagem       │ telegram  │ NULL       │ 5ad5c8bbe9da93a37fecf3e5aa5b0637 │          0 │     0 │     1 │        0 │         0 │           0 │              0 │               0 │           1 │          0 │\n",
       "│ 2022-10-05 06:28:30 │ NULL                             │ b52442a5fbc459ae590dca0d215e32f9 │ NULL                                 │ NULL       │ NULL                                                            │ false     │ false         │ false     │ Kķkkkkk to rindo até agora....Quem disse q ia fazer acordo até com o diabo nao foi o presidente Bolsonaro e sim a estoca vento 😂😂😂😂😂😂                                                                                                                                                                                                                                                                                                                                                                                                                                                                                                                                                                                                                                                                                                                                                                                                                                                                                                                                                                                                                                                                                                                                                               │               5 │ 2022-10-05 06:29:29.046694 │          0.7003 │   0.1978134643781744 │       2735 │ Texto        │ telegram  │ NULL       │ NULL                             │        133 │    25 │     0 │        1 │         1 │           6 │             10 │               1 │           1 │          0 │\n",
       "│ 2022-10-05 06:43:51 │ a7db4ff6a6d35e57be5bcf02f400cec6 │ 857cd5311da1bdc15eb9e6918a47c6c6 │ 4fe93a3772445f64173ef03db1fed83c.jpg │ image/jpg  │ NULL                                                            │ true      │ false         │ false     │                                                                                                                                                                                                                                                                                                                                                                                                                                                                                                                                                                                                                                                                                                                                                                                                                                                                                                                                                                                                                                                                                                                                                                                                                                                                                                           │               5 │ 2022-10-05 06:43:54.51408  │            NULL │                 NULL │     891535 │ Imagem       │ telegram  │ NULL       │ 4fe93a3772445f64173ef03db1fed83c │          0 │     0 │     1 │        0 │         0 │           0 │              0 │               0 │           1 │          0 │\n",
       "│ 2022-10-05 07:09:39 │ d2c33afd13a3165be031b6c244f7140d │ d9c080b9db8cd9d0e88e870ce782c01a │ 30f29cca618753961cb97be95e87e3b4.jpg │ image/jpg  │ NULL                                                            │ true      │ false         │ false     │                                                                                                                                                                                                                                                                                                                                                                                                                                                                                                                                                                                                                                                                                                                                                                                                                                                                                                                                                                                                                                                                                                                                                                                                                                                                                                           │               5 │ 2022-10-05 07:10:16.569761 │            NULL │                 NULL │     314861 │ Imagem       │ telegram  │ NULL       │ 30f29cca618753961cb97be95e87e3b4 │          0 │     0 │     1 │        0 │         0 │           0 │              0 │               0 │           1 │          0 │\n",
       "│ 2022-10-05 06:29:48 │ a7e85072244cae15446c9d517dc01a1a │ b8a8737812c7fd7d3e0bdbb65ef6306f │ NULL                                 │ NULL       │ www.marketingdigitalparavencer.com.br                           │ false     │ true          │ false     │ O Deputado Federal pelo NOVO e que foi candidato ao Governo do RJ Paulo Ganime declarou seu apoio ao Bolsonaro com isso a União do Bem contra o Mal só cresce cada vez mais, assim vamos juntos lutar pelo Bem do Brasil, vamos juntos tbm pra ruas nos dias 9 e 12 para mostrar que as urnas foram fraudadas sem esquecer as Campanhas do #MDPV como Vista Verde e Amarelo nas Eleições Pró #Bolsonaro22 e Contra as Fraudes nas Urnas, tbm a do Não Vote Nulo ou se abstenha, o Bem contra o Mal tem que se posicionar para o Bem do Povo e do Brasil, meu voto é no Capitão do Povo, até pq não voto em Ladrão, saiba mais #Bolsonaro2022 no site www.marketingdigitalparavencer.com.br #MarketingDigitalParaVencer #MovimentoDireitaParaVencer #bolsonarocadavezmaisforte #bolsonaroday #bolsonaromito #bolsonaroreeleito2022 #bolsonaroorgulhodobrasil #bolsonaropresidente2022 #bolsonaroaté2026 #bolsonarosim #jairbolsonaro #Bolsonaro #bolsonaroestamoscontigo #BolsonaroReeleito #bolsonaroate2026 #bolsonaronossopresidente #bolsonaroépresidente #bolsonaroestavacerto #bolsonaro2022🇧🇷 #bolsonaropresidente #bolsomito #bolsonarotemrazao #bolsonaromerepresenta #brasil #riodejaneiro #saopaulo #minasgerais\\nhttps://www.instagram.com/reel/CjUlbWsPoxI/?igshid=ZWFiZDJlMTg=               │               5 │ 2022-10-05 06:29:49.901419 │         -0.8779 │   0.0358757342093885 │       7248 │ Texto        │ telegram  │ NULL       │ NULL                             │       1242 │   153 │     0 │        1 │        -1 │           2 │             53 │               1 │           2 │          0 │\n",
       "│ 2022-10-05 06:30:45 │ e964b908e836949e3b461fbd90c3eee3 │ c8f2de56550ed0bf85249608b7ead93d │ NULL                                 │ NULL       │ NULL                                                            │ false     │ false         │ false     │ Saiam desse grupo amigos bolsonaristas, urgente e tirem seus companheiros, esse grupo é de lulistas pegando os dados de vcs e votarem no lugar de vcs, não acreditam em nada que eles postando é tudo fake, esse grupo é fake, avisem a todos e saiam daqui e avisem o máximo de pessoas pra não mandarem comprovante da votação  pq falei com CARLA ZAMBELLE E ELA DISSE QUE ESSES GRUPOS FORAM FEITOS PRA NOS DIVIDIR E PEGAR DADOS FOS ELEITORES DO BOLSONARO, POR FAVOR PARRM AMIGOS, NÃO PREJUDIQUEM NOSSO CAPITÃO, NÃO DRIXEM ELEA NOS DERROTAREM, NÃO ACREDITEM EM MENTIRAS E FAKE NEWS! Grupo se fingindo de bolsonaristas, avisem seus familiares para não entrarem e não mandarem comprovante nenhum, é tudo mentira esses links de pedir comprovante, são petistas pegando os nossos dados. Socorroooooo não façam isso, avisem amigos pra ter cuidado com fakes e links desses grupos, estou entrando nos grupos avisando, me ajudem!! ELES ESTAO NESSES GRUPOS, POSTANFO MENTIRAS SOBRE O NOSSO PRESIDENTE, É ESTRATÉGIA DELES  PARA NOS DIVIDIR, PELO AMOR DE DEUS, NÃO ACREGITRM NESSAS MENTIRAS, É SÓ O QUE ELES QUEREM, O LEMA DELES É DIVIDIR PRA CONQUISTA!! SAIAM DESSE GRUPO URGENTE!!Eles pedindo os comprovantes, não mandem , e avisem seus familiares pra não caírem nesse golpe │               5 │ 2022-10-05 06:31:29.216572 │         -0.9423 │   0.9343087563983398 │      19282 │ Texto        │ telegram  │ NULL       │ NULL                             │       1257 │   209 │     1 │       14 │        -1 │           0 │             31 │               1 │           1 │          0 │\n",
       "│          ·          │  ·                               │                ·                 │  ·                                   │  ·         │  ·                                                              │  ·        │   ·           │   ·       │                                                          ·                                                                                                                                                                                                                                                                                                                                                                                                                                                                                                                                                                                                                                                                                                                                                                                                                                                                                                                                                                                                                                                                                                                                                                                                                                                │               · │             ·              │             ·   │            ·         │         ·  │   ·          │    ·      │  ·         │  ·                               │         ·  │     · │     · │        · │         · │           · │              · │               · │           · │          · │\n",
       "│          ·          │  ·                               │                ·                 │  ·                                   │  ·         │  ·                                                              │  ·        │   ·           │   ·       │                                                          ·                                                                                                                                                                                                                                                                                                                                                                                                                                                                                                                                                                                                                                                                                                                                                                                                                                                                                                                                                                                                                                                                                                                                                                                                                                                │               · │             ·              │             ·   │            ·         │         ·  │   ·          │    ·      │  ·         │  ·                               │         ·  │     · │     · │        · │         · │           · │              · │               · │           · │          · │\n",
       "│          ·          │  ·                               │                ·                 │  ·                                   │  ·         │  ·                                                              │  ·        │   ·           │   ·       │                                                          ·                                                                                                                                                                                                                                                                                                                                                                                                                                                                                                                                                                                                                                                                                                                                                                                                                                                                                                                                                                                                                                                                                                                                                                                                                                                │               · │             ·              │             ·   │            ·         │         ·  │   ·          │    ·      │  ·         │  ·                               │         ·  │     · │     · │        · │         · │           · │              · │               · │           · │          · │\n",
       "│ 2022-10-06 00:32:34 │ NULL                             │ f37c013cea79cd61e948603e637fd2c4 │ ce99afa0ce09c0f778729cf50e1be4c3.jpg │ image/jpg  │ NULL                                                            │ true      │ false         │ false     │ Feedback de Afonso Rico 27 anos. Brazil, Limeira.\\n\\nVocê pode ativar o bot e começar a ganhar dinheiro aqui: [USER]                                                                                                                                                                                                                                                                                                                                                                                                                                                                                                                                                                                                                                                                                                                                                                                                                                                                                                                                                                                                                                                                                                                                                                                      │               5 │ 2022-10-06 00:32:37.249161 │          0.8126 │   0.0455411663498895 │        982 │ Imagem       │ telegram  │ NULL       │ ce99afa0ce09c0f778729cf50e1be4c3 │        114 │    20 │     1 │        8 │         1 │           0 │              6 │               1 │           3 │          0 │\n",
       "│ 2022-10-06 00:32:34 │ NULL                             │ f37c013cea79cd61e948603e637fd2c4 │ b778c3446003162a7c821eb32588cc8b.jpg │ image/jpg  │ NULL                                                            │ true      │ false         │ false     │ Feedback de Thomaz Medina 28 anos. Brazil, Joinville.\\n\\nVocê pode ativar o bot e começar a ganhar dinheiro aqui\\nConecte-se comigo: [USER]                                                                                                                                                                                                                                                                                                                                                                                                                                                                                                                                                                                                                                                                                                                                                                                                                                                                                                                                                                                                                                                                                                                                                               │               5 │ 2022-10-06 00:32:37.932896 │          0.7096 │   0.0262710522751091 │        985 │ Imagem       │ telegram  │ NULL       │ b778c3446003162a7c821eb32588cc8b │        136 │    22 │     1 │        6 │         1 │           0 │              7 │               1 │           4 │          0 │\n",
       "│ 2022-10-06 00:33:12 │ 90b31918abe777f107f957d8c530ed38 │ 5b10d7739171149be6d9961e3350c071 │ NULL                                 │ NULL       │ NULL                                                            │ false     │ false         │ false     │ 125 milhões de pessoas com fome e bolsonarista querendo dividir o país para provar quem é mais burro os mesmo ou os petistas \\nA clara diferença entre eles é que o Bolsonaro promove o identitarismo em marcha lenta, eu desafio qualquer bolsonarista para debate                                                                                                                                                                                                                                                                                                                                                                                                                                                                                                                                                                                                                                                                                                                                                                                                                                                                                                                                                                                                                                       │               5 │ 2022-10-06 00:33:15.646488 │         -0.6369 │   0.2882984796858508 │    1093631 │ Texto        │ telegram  │ NULL       │ NULL                             │        258 │    44 │     0 │        1 │        -1 │           0 │              1 │               1 │           2 │          0 │\n",
       "│ 2022-10-06 00:33:12 │ NULL                             │ 5b10d7739171149be6d9961e3350c071 │ 43b2f5690d497c5433d9e23e7c115ddf.jpg │ url        │ https://vm.tiktok.com/ZMFFouswD/                                │ true      │ true          │ false     │ https://vm.tiktok.com/ZMFFouswD/                                                                                                                                                                                                                                                                                                                                                                                                                                                                                                                                                                                                                                                                                                                                                                                                                                                                                                                                                                                                                                                                                                                                                                                                                                                                          │               5 │ 2022-10-06 00:33:16.276697 │             0.0 │                 NULL │    1093630 │ Url          │ telegram  │ NULL       │ 43b2f5690d497c5433d9e23e7c115ddf │         32 │     1 │     0 │        1 │         0 │           0 │              7 │               1 │           1 │          0 │\n",
       "│ 2022-10-06 00:33:19 │ 065039508ed6e276e5f092dd22eaef94 │ 959f13e0079883060632c74ffc81c547 │ NULL                                 │ NULL       │ NULL                                                            │ false     │ false         │ false     │ Alguém tem o link do grupo da Bahia? Ceará e Rio grande norte?                                                                                                                                                                                                                                                                                                                                                                                                                                                                                                                                                                                                                                                                                                                                                                                                                                                                                                                                                                                                                                                                                                                                                                                                                                            │               5 │ 2022-10-06 00:33:27.887962 │          0.5204 │                 NULL │      30626 │ Texto        │ telegram  │ NULL       │ NULL                             │         62 │    13 │     0 │        1 │         1 │           0 │              2 │               1 │           1 │          0 │\n",
       "│ 2022-10-06 00:33:44 │ 1665e22b0f564cd46d343f7677014821 │ 64201f236fb5cc9f867d233ec48c0e2c │ NULL                                 │ NULL       │ NULL                                                            │ false     │ false         │ false     │ fwck, pressione o botão abaixo dentro de 2 Minutos para poder escrever no grupo👇🏻                                                                                                                                                                                                                                                                                                                                                                                                                                                                                                                                                                                                                                                                                                                                                                                                                                                                                                                                                                                                                                                                                                                                                                                                                       │               5 │ 2022-10-06 00:33:49.339275 │         -0.1531 │                 NULL │      34276 │ Texto        │ telegram  │ NULL       │ NULL                             │         81 │    14 │     0 │        1 │        -1 │           2 │              3 │               1 │           1 │          0 │\n",
       "│ 2022-10-06 00:33:52 │ 3e49fd40fd973ee1b8f1a6d58feb4a54 │ 4c6519d965020abc048521dfa837b9bb │ 8a91cb2159aac2b8a835e3bbb066f465.jpg │ image/jpg  │ NULL                                                            │ true      │ false         │ false     │                                                                                                                                                                                                                                                                                                                                                                                                                                                                                                                                                                                                                                                                                                                                                                                                                                                                                                                                                                                                                                                                                                                                                                                                                                                                                                           │               5 │ 2022-10-06 00:33:55.647387 │            NULL │                 NULL │      81925 │ Imagem       │ telegram  │ NULL       │ 8a91cb2159aac2b8a835e3bbb066f465 │          0 │     0 │     1 │        0 │         0 │           0 │              0 │               0 │           1 │          0 │\n",
       "│ 2022-10-06 00:34:00 │ NULL                             │ b11f2df64ac19aad47a50accf32052d6 │ NULL                                 │ NULL       │ NULL                                                            │ false     │ false         │ false     │ Esse é o papel desse jornalismo lixo que nós temos, manter o gado distraído sem perceber o que de fato está acontecendo.                                                                                                                                                                                                                                                                                                                                                                                                                                                                                                                                                                                                                                                                                                                                                                                                                                                                                                                                                                                                                                                                                                                                                                                  │               5 │ 2022-10-06 00:34:11.826948 │           -0.34 │                 NULL │     157666 │ Texto        │ telegram  │ NULL       │ NULL                             │        120 │    22 │     0 │        1 │        -1 │           0 │              2 │               1 │           1 │          0 │\n",
       "│ 2022-10-06 00:33:56 │ bcc74b8973242eb62d92e3d7bcecf704 │ 64201f236fb5cc9f867d233ec48c0e2c │ 5a256e2882a7cd01d2961cf9c798f5d2.jpg │ image/jpg  │ NULL                                                            │ true      │ false         │ false     │                                                                                                                                                                                                                                                                                                                                                                                                                                                                                                                                                                                                                                                                                                                                                                                                                                                                                                                                                                                                                                                                                                                                                                                                                                                                                                           │               5 │ 2022-10-06 00:34:12.2748   │            NULL │                 NULL │      34278 │ Imagem       │ telegram  │ NULL       │ 5a256e2882a7cd01d2961cf9c798f5d2 │          0 │     0 │     1 │        0 │         0 │           0 │              0 │               0 │           1 │          0 │\n",
       "│ 2022-10-06 00:34:31 │ NULL                             │ e56ec342fc599ebb4ed89655eb6f03aa │ a7572c2a26b4e579eddbaa4447e95dd3.jpg │ image/jpg  │ https://www.instagram.com/reel/CjS3DbPu9--/?igshid=ZjA0NjI3M2I= │ true      │ true          │ false     │ Vejam isso! 👀\\nhttps://www.instagram.com/reel/CjS3DbPu9--/?igshid=ZjA0NjI3M2I=                                                                                                                                                                                                                                                                                                                                                                                                                                                                                                                                                                                                                                                                                                                                                                                                                                                                                                                                                                                                                                                                                                                                                                                                                           │               5 │ 2022-10-06 00:34:39.19508  │             0.0 │                 NULL │     508289 │ Imagem       │ telegram  │ NULL       │ a7572c2a26b4e579eddbaa4447e95dd3 │         77 │     4 │     1 │        4 │         0 │           1 │             15 │               1 │           2 │          0 │\n",
       "├─────────────────────┴──────────────────────────────────┴──────────────────────────────────┴──────────────────────────────────────┴────────────┴─────────────────────────────────────────────────────────────────┴───────────┴───────────────┴───────────┴───────────────────────────────────────────────────────────────────────────────────────────────────────────────────────────────────────────────────────────────────────────────────────────────────────────────────────────────────────────────────────────────────────────────────────────────────────────────────────────────────────────────────────────────────────────────────────────────────────────────────────────────────────────────────────────────────────────────────────────────────────────────────────────────────────────────────────────────────────────────────────────────────────────────────────────────────────────────────────────────────────────────────────────────────────────────────────────────────────────────────────────────────────────────────────────────────────────────────────────────────────────────────────────────────────────────────────────────────────────────────────────────────────────────────────────────────────────────────────────────────────────────────────────────────────────────────────────────────────────────────────────────────────────────────────────────────────────────────────────────────────────────────────────────────────────────────────────────────────────────────────────────────────────────────────────────────────────┴─────────────────┴────────────────────────────┴─────────────────┴──────────────────────┴────────────┴──────────────┴───────────┴────────────┴──────────────────────────────────┴────────────┴───────┴───────┴──────────┴───────────┴─────────────┴────────────────┴─────────────────┴─────────────┴────────────┤\n",
       "│ ? rows (>9999 rows, 20 shown)                                                                                                                                                                                                                                                                                                                                                                                                                                                                                                                                                                                                                                                                                                                                                                                                                                                                                                                                                                                                                                                                                                                                                                                                                                                                                                                                                                                                                                                                                                                                                                                                                                                                                                                                                                                                                                            29 columns │\n",
       "└─────────────────────────────────────────────────────────────────────────────────────────────────────────────────────────────────────────────────────────────────────────────────────────────────────────────────────────────────────────────────────────────────────────────────────────────────────────────────────────────────────────────────────────────────────────────────────────────────────────────────────────────────────────────────────────────────────────────────────────────────────────────────────────────────────────────────────────────────────────────────────────────────────────────────────────────────────────────────────────────────────────────────────────────────────────────────────────────────────────────────────────────────────────────────────────────────────────────────────────────────────────────────────────────────────────────────────────────────────────────────────────────────────────────────────────────────────────────────────────────────────────────────────────────────────────────────────────────────────────────────────────────────────────────────────────────────────────────────────────────────────────────────────────────────────────────────────────────────────────────────────────────────────────────────────────────────────────────────────────────────────────────────────────────────────────────────────────────────────────────────────────────────────────────────────────────────────────────────────────────────────────────────────────────────────────────────────────────────────────────────────────────────────────────────────────────────────────────────────────────────────────────────────────────────────────────────────────────────────────────────────────────────────────────────────────────────────────────────────────────────────────────────────────────────────────────────────┘"
      ]
     },
     "execution_count": 4,
     "metadata": {},
     "output_type": "execute_result"
    }
   ],
   "source": [
    "duckdb.sql(\"SELECT * FROM read_parquet('./data/fakeTelegram.BR_2022.parquet')\")\n"
   ]
  },
  {
   "cell_type": "markdown",
   "id": "353d2cd0",
   "metadata": {},
   "source": [
    "e) Utilizando o `DuckDB`recupere:\n",
    "  1. A quantidade de Mensagens"
   ]
  },
  {
   "cell_type": "code",
   "execution_count": 5,
   "id": "2551d638",
   "metadata": {},
   "outputs": [
    {
     "name": "stdout",
     "output_type": "stream",
     "text": [
      "Quantidade de mensagens do dataset: 550570\n"
     ]
    }
   ],
   "source": [
    "tamanho_dataset = duckdb.sql(\"SELECT COUNT(*) AS tamanho FROM telegram_df\").fetchone()[0]\n",
    "print(f\"Quantidade de mensagens do dataset: {tamanho_dataset}\")"
   ]
  },
  {
   "cell_type": "markdown",
   "id": "b8aa8f25",
   "metadata": {},
   "source": [
    "  2. Quantidade de Usuários"
   ]
  },
  {
   "cell_type": "code",
   "execution_count": 6,
   "id": "ef0a8c28",
   "metadata": {},
   "outputs": [
    {
     "name": "stdout",
     "output_type": "stream",
     "text": [
      "Quantidade de usuários: 14696\n"
     ]
    }
   ],
   "source": [
    "unique_count = duckdb.sql(\"SELECT COUNT(DISTINCT id_member_anonymous) AS unique_count FROM telegram_df\").fetchone()[0]\n",
    "print(f\"Quantidade de usuários: {unique_count}\")"
   ]
  },
  {
   "cell_type": "markdown",
   "id": "fc23da9f",
   "metadata": {},
   "source": [
    "  3. Quantidade de grupos"
   ]
  },
  {
   "cell_type": "code",
   "execution_count": 7,
   "id": "54d8aab2",
   "metadata": {},
   "outputs": [
    {
     "name": "stdout",
     "output_type": "stream",
     "text": [
      "Quantidade de grupos: 178\n"
     ]
    }
   ],
   "source": [
    "unique_count = duckdb.sql(\"SELECT COUNT(DISTINCT id_group_anonymous) AS unique_count FROM telegram_df\").fetchone()[0]\n",
    "print(f\"Quantidade de grupos: {unique_count}\")"
   ]
  },
  {
   "cell_type": "markdown",
   "id": "dfeb4033",
   "metadata": {},
   "source": [
    "4. Quantidade de mensagens que possuem apenas texto"
   ]
  },
  {
   "cell_type": "code",
   "execution_count": 8,
   "id": "e71af95e",
   "metadata": {},
   "outputs": [
    {
     "name": "stdout",
     "output_type": "stream",
     "text": [
      "Quantidade de mensagens que possuem apenas texto: 437201\n"
     ]
    }
   ],
   "source": [
    "qtd_mensagens_nao_nulas = duckdb.sql(\"SELECT COUNT(*) AS qtd_mensagens_nao_nulas FROM telegram_df WHERE text_content_anonymous <> '' \").fetchone()[0]\n",
    "print(f\"Quantidade de mensagens que possuem apenas texto: {qtd_mensagens_nao_nulas}\")"
   ]
  },
  {
   "cell_type": "markdown",
   "id": "4067090e",
   "metadata": {},
   "source": [
    "  5. Quantidade de mensagens contendo mídias"
   ]
  },
  {
   "cell_type": "code",
   "execution_count": 9,
   "id": "36f97f55",
   "metadata": {},
   "outputs": [
    {
     "name": "stdout",
     "output_type": "stream",
     "text": [
      "Quantidade de valores True na coluna 'has_media': 331159\n"
     ]
    }
   ],
   "source": [
    "qtd_has_media_true = duckdb.sql(\"SELECT COUNT(*) AS qtd_has_media_true FROM telegram_df WHERE has_media = TRUE\").fetchone()[0]\n",
    "print(f\"Quantidade de valores True na coluna 'has_media': {qtd_has_media_true}\")"
   ]
  },
  {
   "cell_type": "markdown",
   "id": "69bf12f0",
   "metadata": {},
   "source": [
    "  6. Quantidade de mensagens por tipo de mídia (jpg, mp4 etc)"
   ]
  },
  {
   "cell_type": "code",
   "execution_count": 11,
   "id": "31ce3155",
   "metadata": {},
   "outputs": [
    {
     "name": "stdout",
     "output_type": "stream",
     "text": [
      "                                 media_type   count\n",
      "0                                 image/jpg  199917\n",
      "1                                       url   99942\n",
      "2                                 video/mp4   18494\n",
      "3   application/vnd.android.package-archive    7159\n",
      "4                           application/pdf    2850\n",
      "..                                      ...     ...\n",
      "62   image/08e8201b6f32c358808c7ac89d8c8422       1\n",
      "63                        application/x-msi       1\n",
      "64                                audio/m4a       1\n",
      "65                           audio/x-ms-wma       1\n",
      "66   image/af75130da3b6516eb3c1eb9ab62b5219       1\n",
      "\n",
      "[67 rows x 2 columns]\n"
     ]
    }
   ],
   "source": [
    "media_type_counts = duckdb.sql(\"SELECT media_type, COUNT(media_type) AS count FROM telegram_df WHERE has_media = TRUE GROUP BY media_type ORDER BY count DESC\").df()\n",
    "print(media_type_counts)"
   ]
  },
  {
   "cell_type": "markdown",
   "id": "596c4a58",
   "metadata": {},
   "source": [
    "Os seguintes itens não possui dados referentes no dataset fornecido:  \n",
    "  7. Quantidade de mensagens por estado;  \n",
    "  8. Quantidade de usuários por estado;  \n",
    "  9. Relação quantidade de usuários por quantidade de mensagens por estado;  \n",
    "  10.  Quantidade de mensagens por país;  \n",
    "  11.  Quantidade de mensagens Brasil X Países Estrangeiros;  "
   ]
  },
  {
   "cell_type": "markdown",
   "id": "4d10286d",
   "metadata": {},
   "source": [
    "  12. As 30 URLs que mais se repetem (mais compartilhadas)"
   ]
  },
  {
   "cell_type": "code",
   "execution_count": 12,
   "id": "493ad020",
   "metadata": {},
   "outputs": [
    {
     "name": "stdout",
     "output_type": "stream",
     "text": [
      "                                            media_url  count\n",
      "0                                   t.me/alexeconomia   4112\n",
      "1     https://youtube.com/c/especulandoosfatosoficial   1607\n",
      "2                                   t.me/fimtaproximo   1581\n",
      "3                              t.me/+EWlGMatRZGg3OTlh   1419\n",
      "4                        https://youtu.be/qbTzhB0akt8   1160\n",
      "5                        https://youtu.be/zDuOoyhyN-4   1020\n",
      "6                              t.me/+ewZIPdZ42vEyNzJh    772\n",
      "7                https://t.me/canalselvabrasiloficial    707\n",
      "8                        https://youtu.be/4DHk9KZ01HM    660\n",
      "9                           T.me/Arthur_Senna_Trader2    639\n",
      "10                       https://youtu.be/x2uiakywcrI    576\n",
      "11                             t.me/+bseuTTFOO8c5YWFh    515\n",
      "12                          https://t.me/Ovetoroculto    394\n",
      "13  https://noticias.uol.com.br/politica/ultimas-n...    387\n",
      "14          https://t.me/ContagemDeVotosPRO_BOLSONARO    375\n",
      "15                         https://t.me/ipiranoticias    358\n",
      "16  https://instagram.com/exercito_oficial?igshid=...    353\n",
      "17  https://youtube.com/channel/UCVvPvyD-zdnTTapAb...    349\n",
      "18                       https://youtu.be/wGpTY8GH568    332\n",
      "19                       https://youtu.be/u-ZGL90PfeI    282\n",
      "20                             t.me/+L987ddlsBJVkYzAx    273\n",
      "21  https://scriptsamp.forumeiros.com/t16154-enque...    260\n",
      "22                           https://lulaflix.com.br/    255\n",
      "23                        t.me/direitologicoparatodos    255\n",
      "24                       https://youtu.be/aJ7uw_d-dUI    250\n",
      "25                 https://t.me/misteriosdomundobruno    249\n",
      "26                  http://ligapatriota.blogspot.com/    244\n",
      "27                       https://youtu.be/a4IjtAhIVbI    222\n",
      "28      https://t.me/Votei_Bolsonaro_22_Distrito_Fede    213\n",
      "29        https://www.youtube.com/watch?v=qbTzhB0akt8    208\n"
     ]
    }
   ],
   "source": [
    "top_30_media_urls = duckdb.sql(\"\"\"\n",
    "  SELECT media_url, COUNT(*) AS count\n",
    "  FROM telegram_df\n",
    "  WHERE media_url IS NOT NULL\n",
    "  GROUP BY media_url\n",
    "  ORDER BY count DESC\n",
    "  LIMIT 30\n",
    "\"\"\").df()\n",
    "\n",
    "print(top_30_media_urls)"
   ]
  },
  {
   "cell_type": "markdown",
   "id": "7824d7f7",
   "metadata": {},
   "source": [
    "  13. Os 30 domínios que mais se repetem (mais compartilhados)"
   ]
  },
  {
   "cell_type": "code",
   "execution_count": 18,
   "id": "46b32f86",
   "metadata": {},
   "outputs": [
    {
     "name": "stdout",
     "output_type": "stream",
     "text": [
      "                        dominio  quantidade\n",
      "0                      youtu.be       52618\n",
      "1                          t.me       19436\n",
      "2                   youtube.com       14468\n",
      "3       terrabrasilnoticias.com        8280\n",
      "4                 instagram.com        6588\n",
      "5   jornaldacidadeonline.com.br        4801\n",
      "6                   twitter.com        4435\n",
      "7           gazetabrasil.com.br        1777\n",
      "8                    pleno.news        1600\n",
      "9                  facebook.com        1366\n",
      "10                 bitchute.com        1174\n",
      "11                         T.me         992\n",
      "12  aliadosbrasiloficial.com.br         945\n",
      "13             revistaoeste.com         928\n",
      "14               kwai-video.com         863\n",
      "15                    gettr.com         840\n",
      "16           vistapatria.com.br         830\n",
      "17      verdadecensurada.com.br         829\n",
      "18       conexaopolitica.com.br         746\n",
      "19                vm.tiktok.com         744\n",
      "20                m.youtube.com         693\n",
      "21          noticias.uol.com.br         622\n",
      "22       tribunanacional.com.br         609\n",
      "23                     fb.watch         572\n",
      "24             apostagem.com.br         568\n",
      "25            veja.abril.com.br         565\n",
      "26                   rumble.com         505\n",
      "27  redemption3301.blogspot.com         478\n",
      "28                 g1.globo.com         442\n",
      "29         direitaonline.com.br         422\n"
     ]
    }
   ],
   "source": [
    "dominios = duckdb.sql(\"\"\"\n",
    "  SELECT \n",
    "    regexp_extract(media_url, '^(?:https?://)?(?:www\\\\.)?([^/]+)', 1) AS dominio, \n",
    "    COUNT(media_url) AS quantidade\n",
    "  FROM telegram_df\n",
    "  WHERE media_url IS NOT NULL\n",
    "  GROUP BY dominio\n",
    "  ORDER BY quantidade DESC\n",
    "  LIMIT 30\n",
    "\"\"\").df()\n",
    "\n",
    "print(dominios)"
   ]
  },
  {
   "cell_type": "markdown",
   "id": "5919739d",
   "metadata": {},
   "source": [
    "  14. Os 30 usuários mais ativos"
   ]
  },
  {
   "cell_type": "code",
   "execution_count": 19,
   "id": "b48d948e",
   "metadata": {},
   "outputs": [
    {
     "name": "stdout",
     "output_type": "stream",
     "text": [
      "                 id_member_anonymous  count\n",
      "0   abe534d581ec6d552243d6955d3c3cd8  12289\n",
      "1   1665e22b0f564cd46d343f7677014821   5452\n",
      "2   1ac091b8ed5c4e42383f1b4ff4cc9b2d   5031\n",
      "3   c743967449a387ad2c1c7e03b2c45b36   2793\n",
      "4   e7998863ac2a40086657fab4a6b463c9   1911\n",
      "5   e8fd8fee8c39342d37993775da7756d5   1703\n",
      "6   2f4be6244ede15b46e8329a2c975be30   1620\n",
      "7   d49f81df0c75d1d72bee6c5b2d707da0   1565\n",
      "8   4f7d493f0f6222d56e5b19a4f7c336cc   1435\n",
      "9   773b9bd5b02a2e96f9d732c29bfcb663   1407\n",
      "10  c052c859b42c5a1923c22f5a201de746   1374\n",
      "11  f233cf8b1d4ede06f32199a7e0081bf5   1257\n",
      "12  56b8359fd127312651b80b8ed8030085   1198\n",
      "13  e5e3e38d433016adf62ea34432853a3c   1088\n",
      "14  fa582c9e95da255e44f4c198d0daf3df   1029\n",
      "15  cf061f911f3df59fca0b3f084abe88cc    963\n",
      "16  3e49fd40fd973ee1b8f1a6d58feb4a54    955\n",
      "17  bd7859770eef94f34d0344a5397c5443    942\n",
      "18  f4561a21fb26cfbebf48dcd5c557f82f    939\n",
      "19  40743c2ea5139af088057763ab069b1a    933\n",
      "20  beb77036ff26e78865da19310ac95169    890\n",
      "21  50cc2b20a3c2c24ce68bb2c0554ddae1    850\n",
      "22  79fa510c3ab44548d903284ab9162c9d    824\n",
      "23  fbbbfb737acb18812f7de2400841abc3    810\n",
      "24  566ba5c5eeeac2fc18b65965c3909a1f    786\n",
      "25  27f5833380581fab3453c1acd26427d5    746\n",
      "26  22da7e558d613074dc701f8a40bc955b    731\n",
      "27  74ce4ba0ef6c0d51e6a508b0bb2d37b8    722\n",
      "28  cb68fd028cfdfc837248144a18673ffb    712\n",
      "29  a378e9743fa3ca297df321cfa0e7cf6a    712\n"
     ]
    }
   ],
   "source": [
    "top_30_users = duckdb.sql(\"\"\"\n",
    "  SELECT id_member_anonymous, COUNT(*) AS count\n",
    "  FROM telegram_df\n",
    "  WHERE id_member_anonymous IS NOT NULL\n",
    "  GROUP BY id_member_anonymous\n",
    "  ORDER BY count DESC\n",
    "  LIMIT 30\n",
    "\"\"\").df()\n",
    "\n",
    "print(top_30_users)"
   ]
  },
  {
   "cell_type": "markdown",
   "id": "aa5400cd",
   "metadata": {},
   "source": [
    "  15. Os 30 usuários que mais compartilharam texto"
   ]
  },
  {
   "cell_type": "code",
   "execution_count": 26,
   "id": "7e6198a0",
   "metadata": {},
   "outputs": [
    {
     "name": "stdout",
     "output_type": "stream",
     "text": [
      "                 id_member_anonymous  count\n",
      "0   abe534d581ec6d552243d6955d3c3cd8  12289\n",
      "1   1665e22b0f564cd46d343f7677014821   5452\n",
      "2   1ac091b8ed5c4e42383f1b4ff4cc9b2d   3993\n",
      "3   c743967449a387ad2c1c7e03b2c45b36   2793\n",
      "4   d49f81df0c75d1d72bee6c5b2d707da0   1565\n",
      "5   e7998863ac2a40086657fab4a6b463c9   1384\n",
      "6   4f7d493f0f6222d56e5b19a4f7c336cc   1353\n",
      "7   773b9bd5b02a2e96f9d732c29bfcb663   1309\n",
      "8   e8fd8fee8c39342d37993775da7756d5   1222\n",
      "9   f233cf8b1d4ede06f32199a7e0081bf5   1133\n",
      "10  c052c859b42c5a1923c22f5a201de746   1065\n",
      "11  e5e3e38d433016adf62ea34432853a3c    903\n",
      "12  cf061f911f3df59fca0b3f084abe88cc    849\n",
      "13  fa582c9e95da255e44f4c198d0daf3df    838\n",
      "14  56b8359fd127312651b80b8ed8030085    819\n",
      "15  beb77036ff26e78865da19310ac95169    711\n",
      "16  a378e9743fa3ca297df321cfa0e7cf6a    699\n",
      "17  566ba5c5eeeac2fc18b65965c3909a1f    673\n",
      "18  40743c2ea5139af088057763ab069b1a    647\n",
      "19  7696d5103cdb8ac352d748a1db1126b0    640\n",
      "20  79fa510c3ab44548d903284ab9162c9d    639\n",
      "21  fbbbfb737acb18812f7de2400841abc3    615\n",
      "22  bd7859770eef94f34d0344a5397c5443    614\n",
      "23  762b3696b26db306fbd2022412c47bd1    584\n",
      "24  2e08ae4c6ec1973e7ec515d3b0ba50d0    553\n",
      "25  f4561a21fb26cfbebf48dcd5c557f82f    553\n",
      "26  53e74af95497f943c524abaaa9482e33    533\n",
      "27  065039508ed6e276e5f092dd22eaef94    533\n",
      "28  9b34f45b5f8af4c37ba9ec1ebe2e3606    530\n",
      "29  74ce4ba0ef6c0d51e6a508b0bb2d37b8    519\n"
     ]
    }
   ],
   "source": [
    "top_30_text_users = duckdb.sql(\"\"\"\n",
    "  SELECT id_member_anonymous, COUNT(*) AS count\n",
    "  FROM telegram_df\n",
    "  WHERE id_member_anonymous IS NOT NULL AND text_content_anonymous <> '' AND text_content_anonymous IS NOT NULL\n",
    "  GROUP BY id_member_anonymous\n",
    "  ORDER BY count DESC\n",
    "  LIMIT 30\n",
    "\"\"\").df()\n",
    "\n",
    "print(top_30_text_users)"
   ]
  },
  {
   "cell_type": "markdown",
   "id": "d80eb485",
   "metadata": {},
   "source": [
    "  16. Os 30 usuários que mais compartilharam mídias"
   ]
  },
  {
   "cell_type": "code",
   "execution_count": 27,
   "id": "7765ec49",
   "metadata": {},
   "outputs": [
    {
     "name": "stdout",
     "output_type": "stream",
     "text": [
      "                 id_member_anonymous  count\n",
      "0   1665e22b0f564cd46d343f7677014821   2956\n",
      "1   1ac091b8ed5c4e42383f1b4ff4cc9b2d   2105\n",
      "2   4f7d493f0f6222d56e5b19a4f7c336cc   1053\n",
      "3   773b9bd5b02a2e96f9d732c29bfcb663    982\n",
      "4   c052c859b42c5a1923c22f5a201de746    761\n",
      "5   cf061f911f3df59fca0b3f084abe88cc    607\n",
      "6   e7998863ac2a40086657fab4a6b463c9    530\n",
      "7   53e74af95497f943c524abaaa9482e33    468\n",
      "8   beb77036ff26e78865da19310ac95169    458\n",
      "9   9794a13f91433216821ad18624372498    458\n",
      "10  5d321b03e74b751ac577ef022350306d    453\n",
      "11  762b3696b26db306fbd2022412c47bd1    437\n",
      "12  56b8359fd127312651b80b8ed8030085    419\n",
      "13  a7e85072244cae15446c9d517dc01a1a    378\n",
      "14  79fa510c3ab44548d903284ab9162c9d    359\n",
      "15  40743c2ea5139af088057763ab069b1a    354\n",
      "16  ffbb8aa82b50cd4fab497d5ce36627d7    343\n",
      "17  566ba5c5eeeac2fc18b65965c3909a1f    335\n",
      "18  6134f475127170f39fe48d53f874080e    335\n",
      "19  f08cb953e68eddae5d1e15edf8c8df0b    327\n",
      "20  eaef2dbdc2914b034116569bc8919403    326\n",
      "21  e5e3e38d433016adf62ea34432853a3c    315\n",
      "22  74ce4ba0ef6c0d51e6a508b0bb2d37b8    299\n",
      "23  4d1389bd32de5dfc0a3fab14573131ac    298\n",
      "24  e07f6ecfd528fc8fd8ae5eae4d3c2193    287\n",
      "25  92a98298316caf5bdbd65acfc20908a7    282\n",
      "26  9e7d2b2654294700911fb0fb00c9233b    279\n",
      "27  0f1a0bc54bfb4c24251e7a35fc02848d    275\n",
      "28  fb4a5f8c3319aa373d868e69589481f9    257\n",
      "29  c6f406117d909c73ea9c11de8560f5c3    257\n"
     ]
    }
   ],
   "source": [
    "top_30_media_users = duckdb.sql(\"\"\"\n",
    "  SELECT id_member_anonymous, COUNT(*) AS count\n",
    "  FROM telegram_df\n",
    "  WHERE has_media = TRUE AND has_media_url = TRUE AND id_member_anonymous IS NOT NULL\n",
    "  GROUP BY id_member_anonymous\n",
    "  ORDER BY count DESC\n",
    "  LIMIT 30\n",
    "\"\"\").df()\n",
    "\n",
    "print(top_30_media_users)"
   ]
  },
  {
   "cell_type": "markdown",
   "id": "1d52a4a2",
   "metadata": {},
   "source": [
    "  17. As 30 mensagens mais compartilhadas  "
   ]
  },
  {
   "cell_type": "code",
   "execution_count": 34,
   "id": "8bdc1868",
   "metadata": {
    "vscode": {
     "languageId": "sql"
    }
   },
   "outputs": [
    {
     "data": {
      "application/vnd.microsoft.datawrangler.viewer.v0+json": {
       "columns": [
        {
         "name": "index",
         "rawType": "int64",
         "type": "integer"
        },
        {
         "name": "column_name",
         "rawType": "object",
         "type": "string"
        },
        {
         "name": "value",
         "rawType": "object",
         "type": "string"
        },
        {
         "name": "count",
         "rawType": "int64",
         "type": "integer"
        }
       ],
       "conversionMethod": "pd.DataFrame",
       "ref": "4e7ef5c3-68bd-4ea6-bd9d-6e132d3d0ec3",
       "rows": [
        [
         "0",
         "text_content_anonymous",
         "This community was blocked in Brazil following a decision of the Superior Electoral Court (TSE).",
         "17422"
        ],
        [
         "1",
         "media",
         "b5ab97b82ce9a3957022b7388d8fb910.apk",
         "5473"
        ],
        [
         "2",
         "media",
         "4d60b50f292b14a9d62a0bb2f1b42796.jpg",
         "1846"
        ],
        [
         "3",
         "media",
         "5d4089a914ac6fa7d04cbe08bb8057f5.apk",
         "1481"
        ],
        [
         "4",
         "media",
         "c4266d6971f2e3517f99d5736d8f0f40.jpg",
         "1404"
        ],
        [
         "5",
         "media",
         "baba583ff1a3a79f11ed019cc319f2f2.jpg",
         "1136"
        ],
        [
         "6",
         "text_content_anonymous",
         "Rough_sex🙈",
         "1134"
        ],
        [
         "7",
         "text_content_anonymous",
         "Anal sex🙈",
         "1118"
        ],
        [
         "8",
         "text_content_anonymous",
         "سکس مردان ازبک با زن انگلیسی با این vpn از سایتهای ممنوعه ببینید🙈\n\nشاهد الرجال الأوزبكيين يمارسون الجنس مع النساء الإنجليزيات باستخدام VPN هذا من المواقع المحظورة🚫\n\nTaqiqlangan saytlardan bu vpn orqali o'zbek erkaklari ingliz ayollari bilan jinsiy aloqa qilishlarini ko'ring\n\nSee Uzbek men having sex with English women with this vpn from banned sites",
         "1019"
        ],
        [
         "9",
         "media",
         "7786c121f410f21595063c22689e2866.jpg",
         "764"
        ],
        [
         "10",
         "text_content_anonymous",
         "https://youtu.be/qbTzhB0akt8",
         "758"
        ],
        [
         "11",
         "text_content_anonymous",
         "https://youtu.be/zDuOoyhyN-4",
         "712"
        ],
        [
         "12",
         "media",
         "8a8fdfe369f16d7e1b1bd01b4f09d500.jpg",
         "636"
        ],
        [
         "13",
         "text_content_anonymous",
         "فیلم سوپر با زیرنویس فارسی ببین😍😍\nبا این فیلترشکن میتونی هروقت دلت خواست فیلم سوپر ببینی😍\n\nAmerikalik ayolni arab erkaklari tomonidan zo'rlanganini ushbu vpn bilan tomosha qiling\nFaqat 18 yoshdan oshganlar\n\nWatch the rape of an American woman by Arab men with this vpn\nOnly people over 18 years old",
         "632"
        ],
        [
         "14",
         "text_content_anonymous",
         "Rough😱",
         "570"
        ],
        [
         "15",
         "text_content_anonymous",
         "Foto de Nélia Barros",
         "548"
        ],
        [
         "16",
         "media",
         "499c1b631969c3dadc205b1846949fea.jpg",
         "542"
        ],
        [
         "17",
         "media",
         "d924f2afaeeac65064cd85ed8724aac8.jpg",
         "512"
        ],
        [
         "18",
         "text_content_anonymous",
         "We had no choice but to remain in the shadows.  \nThey intended to eliminate [us].  \nThey wish to destroy what they are unable to control. \nWe are ready to emerge from the shadows. THE TIME HAS COME! \n \nYou only have a few hours to join this channel before it goes private! After that, only those who are invited will be able to see what I have to [REVEAL] – tonight - midnight. \n \nYou have a choice. Take a look around! \n \n❗️ТYРЕ lN ЅЕАRСН ВАR: theQwakening17",
         "480"
        ],
        [
         "19",
         "text_content_anonymous",
         "Rough😨💦",
         "471"
        ],
        [
         "20",
         "text_content_anonymous",
         "https://t.me/canalselvabrasiloficial\nSELVA BRASIL OFICIAL 🇧🇷🇧🇷",
         "461"
        ],
        [
         "21",
         "text_content_anonymous",
         "Foto de Marcelo Rossi",
         "421"
        ],
        [
         "22",
         "text_content_anonymous",
         "HD (1080p) sex🙈",
         "418"
        ],
        [
         "23",
         "text_content_anonymous",
         "🇮🇷 سکس با دختر 14 ساله را در سایتهای پورن\nبیینید با این vpn 😍😍😍\n\n🇺🇸 Watch sex with a 14-year-old girl on 😱😱porn sites with this vpn\n\n🇹🇷 Ushbu vpn orqali porno saytlarda 14 yoshli qiz bilan jinsiy aloqani tomosha 🤩🤩qiling\n\n🇸🇦 شاهد الجنس مع فتاة تبلغ من العمر 14 عامًا على المواقع الإباحية باستخدام VPN هذا🥰",
         "400"
        ],
        [
         "24",
         "text_content_anonymous",
         "https://youtu.be/x2uiakywcrI",
         "395"
        ],
        [
         "25",
         "text_content_anonymous",
         "A.n.a.l🙈",
         "390"
        ],
        [
         "26",
         "text_content_anonymous",
         "Vídeo de Rosa",
         "384"
        ],
        [
         "27",
         "media",
         "1e8bca13acd844bbad8746174423a3f7.jpg",
         "382"
        ],
        [
         "28",
         "media",
         "2b7b0ed294940aefd5a5e9c9025f1796.jpg",
         "379"
        ],
        [
         "29",
         "text_content_anonymous",
         "https://noticias.uol.com.br/politica/ultimas-noticias/2022/08/30/patrimonio-familia-jair-bolsonaro-dinheiro-vivo.htm",
         "378"
        ]
       ],
       "shape": {
        "columns": 3,
        "rows": 30
       }
      },
      "text/html": [
       "<div>\n",
       "<style scoped>\n",
       "    .dataframe tbody tr th:only-of-type {\n",
       "        vertical-align: middle;\n",
       "    }\n",
       "\n",
       "    .dataframe tbody tr th {\n",
       "        vertical-align: top;\n",
       "    }\n",
       "\n",
       "    .dataframe thead th {\n",
       "        text-align: right;\n",
       "    }\n",
       "</style>\n",
       "<table border=\"1\" class=\"dataframe\">\n",
       "  <thead>\n",
       "    <tr style=\"text-align: right;\">\n",
       "      <th></th>\n",
       "      <th>column_name</th>\n",
       "      <th>value</th>\n",
       "      <th>count</th>\n",
       "    </tr>\n",
       "  </thead>\n",
       "  <tbody>\n",
       "    <tr>\n",
       "      <th>0</th>\n",
       "      <td>text_content_anonymous</td>\n",
       "      <td>This community was blocked in Brazil following...</td>\n",
       "      <td>17422</td>\n",
       "    </tr>\n",
       "    <tr>\n",
       "      <th>1</th>\n",
       "      <td>media</td>\n",
       "      <td>b5ab97b82ce9a3957022b7388d8fb910.apk</td>\n",
       "      <td>5473</td>\n",
       "    </tr>\n",
       "    <tr>\n",
       "      <th>2</th>\n",
       "      <td>media</td>\n",
       "      <td>4d60b50f292b14a9d62a0bb2f1b42796.jpg</td>\n",
       "      <td>1846</td>\n",
       "    </tr>\n",
       "    <tr>\n",
       "      <th>3</th>\n",
       "      <td>media</td>\n",
       "      <td>5d4089a914ac6fa7d04cbe08bb8057f5.apk</td>\n",
       "      <td>1481</td>\n",
       "    </tr>\n",
       "    <tr>\n",
       "      <th>4</th>\n",
       "      <td>media</td>\n",
       "      <td>c4266d6971f2e3517f99d5736d8f0f40.jpg</td>\n",
       "      <td>1404</td>\n",
       "    </tr>\n",
       "    <tr>\n",
       "      <th>5</th>\n",
       "      <td>media</td>\n",
       "      <td>baba583ff1a3a79f11ed019cc319f2f2.jpg</td>\n",
       "      <td>1136</td>\n",
       "    </tr>\n",
       "    <tr>\n",
       "      <th>6</th>\n",
       "      <td>text_content_anonymous</td>\n",
       "      <td>Rough_sex🙈</td>\n",
       "      <td>1134</td>\n",
       "    </tr>\n",
       "    <tr>\n",
       "      <th>7</th>\n",
       "      <td>text_content_anonymous</td>\n",
       "      <td>Anal sex🙈</td>\n",
       "      <td>1118</td>\n",
       "    </tr>\n",
       "    <tr>\n",
       "      <th>8</th>\n",
       "      <td>text_content_anonymous</td>\n",
       "      <td>سکس مردان ازبک با زن انگلیسی با این vpn از سای...</td>\n",
       "      <td>1019</td>\n",
       "    </tr>\n",
       "    <tr>\n",
       "      <th>9</th>\n",
       "      <td>media</td>\n",
       "      <td>7786c121f410f21595063c22689e2866.jpg</td>\n",
       "      <td>764</td>\n",
       "    </tr>\n",
       "    <tr>\n",
       "      <th>10</th>\n",
       "      <td>text_content_anonymous</td>\n",
       "      <td>https://youtu.be/qbTzhB0akt8</td>\n",
       "      <td>758</td>\n",
       "    </tr>\n",
       "    <tr>\n",
       "      <th>11</th>\n",
       "      <td>text_content_anonymous</td>\n",
       "      <td>https://youtu.be/zDuOoyhyN-4</td>\n",
       "      <td>712</td>\n",
       "    </tr>\n",
       "    <tr>\n",
       "      <th>12</th>\n",
       "      <td>media</td>\n",
       "      <td>8a8fdfe369f16d7e1b1bd01b4f09d500.jpg</td>\n",
       "      <td>636</td>\n",
       "    </tr>\n",
       "    <tr>\n",
       "      <th>13</th>\n",
       "      <td>text_content_anonymous</td>\n",
       "      <td>فیلم سوپر با زیرنویس فارسی ببین😍😍\\nبا این فیلت...</td>\n",
       "      <td>632</td>\n",
       "    </tr>\n",
       "    <tr>\n",
       "      <th>14</th>\n",
       "      <td>text_content_anonymous</td>\n",
       "      <td>Rough😱</td>\n",
       "      <td>570</td>\n",
       "    </tr>\n",
       "    <tr>\n",
       "      <th>15</th>\n",
       "      <td>text_content_anonymous</td>\n",
       "      <td>Foto de Nélia Barros</td>\n",
       "      <td>548</td>\n",
       "    </tr>\n",
       "    <tr>\n",
       "      <th>16</th>\n",
       "      <td>media</td>\n",
       "      <td>499c1b631969c3dadc205b1846949fea.jpg</td>\n",
       "      <td>542</td>\n",
       "    </tr>\n",
       "    <tr>\n",
       "      <th>17</th>\n",
       "      <td>media</td>\n",
       "      <td>d924f2afaeeac65064cd85ed8724aac8.jpg</td>\n",
       "      <td>512</td>\n",
       "    </tr>\n",
       "    <tr>\n",
       "      <th>18</th>\n",
       "      <td>text_content_anonymous</td>\n",
       "      <td>We had no choice but to remain in the shadows....</td>\n",
       "      <td>480</td>\n",
       "    </tr>\n",
       "    <tr>\n",
       "      <th>19</th>\n",
       "      <td>text_content_anonymous</td>\n",
       "      <td>Rough😨💦</td>\n",
       "      <td>471</td>\n",
       "    </tr>\n",
       "    <tr>\n",
       "      <th>20</th>\n",
       "      <td>text_content_anonymous</td>\n",
       "      <td>https://t.me/canalselvabrasiloficial\\nSELVA BR...</td>\n",
       "      <td>461</td>\n",
       "    </tr>\n",
       "    <tr>\n",
       "      <th>21</th>\n",
       "      <td>text_content_anonymous</td>\n",
       "      <td>Foto de Marcelo Rossi</td>\n",
       "      <td>421</td>\n",
       "    </tr>\n",
       "    <tr>\n",
       "      <th>22</th>\n",
       "      <td>text_content_anonymous</td>\n",
       "      <td>HD (1080p) sex🙈</td>\n",
       "      <td>418</td>\n",
       "    </tr>\n",
       "    <tr>\n",
       "      <th>23</th>\n",
       "      <td>text_content_anonymous</td>\n",
       "      <td>🇮🇷 سکس با دختر 14 ساله را در سایتهای پورن\\nبیی...</td>\n",
       "      <td>400</td>\n",
       "    </tr>\n",
       "    <tr>\n",
       "      <th>24</th>\n",
       "      <td>text_content_anonymous</td>\n",
       "      <td>https://youtu.be/x2uiakywcrI</td>\n",
       "      <td>395</td>\n",
       "    </tr>\n",
       "    <tr>\n",
       "      <th>25</th>\n",
       "      <td>text_content_anonymous</td>\n",
       "      <td>A.n.a.l🙈</td>\n",
       "      <td>390</td>\n",
       "    </tr>\n",
       "    <tr>\n",
       "      <th>26</th>\n",
       "      <td>text_content_anonymous</td>\n",
       "      <td>Vídeo de Rosa</td>\n",
       "      <td>384</td>\n",
       "    </tr>\n",
       "    <tr>\n",
       "      <th>27</th>\n",
       "      <td>media</td>\n",
       "      <td>1e8bca13acd844bbad8746174423a3f7.jpg</td>\n",
       "      <td>382</td>\n",
       "    </tr>\n",
       "    <tr>\n",
       "      <th>28</th>\n",
       "      <td>media</td>\n",
       "      <td>2b7b0ed294940aefd5a5e9c9025f1796.jpg</td>\n",
       "      <td>379</td>\n",
       "    </tr>\n",
       "    <tr>\n",
       "      <th>29</th>\n",
       "      <td>text_content_anonymous</td>\n",
       "      <td>https://noticias.uol.com.br/politica/ultimas-n...</td>\n",
       "      <td>378</td>\n",
       "    </tr>\n",
       "  </tbody>\n",
       "</table>\n",
       "</div>"
      ],
      "text/plain": [
       "               column_name                                              value  \\\n",
       "0   text_content_anonymous  This community was blocked in Brazil following...   \n",
       "1                    media               b5ab97b82ce9a3957022b7388d8fb910.apk   \n",
       "2                    media               4d60b50f292b14a9d62a0bb2f1b42796.jpg   \n",
       "3                    media               5d4089a914ac6fa7d04cbe08bb8057f5.apk   \n",
       "4                    media               c4266d6971f2e3517f99d5736d8f0f40.jpg   \n",
       "5                    media               baba583ff1a3a79f11ed019cc319f2f2.jpg   \n",
       "6   text_content_anonymous                                         Rough_sex🙈   \n",
       "7   text_content_anonymous                                          Anal sex🙈   \n",
       "8   text_content_anonymous  سکس مردان ازبک با زن انگلیسی با این vpn از سای...   \n",
       "9                    media               7786c121f410f21595063c22689e2866.jpg   \n",
       "10  text_content_anonymous                       https://youtu.be/qbTzhB0akt8   \n",
       "11  text_content_anonymous                       https://youtu.be/zDuOoyhyN-4   \n",
       "12                   media               8a8fdfe369f16d7e1b1bd01b4f09d500.jpg   \n",
       "13  text_content_anonymous  فیلم سوپر با زیرنویس فارسی ببین😍😍\\nبا این فیلت...   \n",
       "14  text_content_anonymous                                             Rough😱   \n",
       "15  text_content_anonymous                               Foto de Nélia Barros   \n",
       "16                   media               499c1b631969c3dadc205b1846949fea.jpg   \n",
       "17                   media               d924f2afaeeac65064cd85ed8724aac8.jpg   \n",
       "18  text_content_anonymous  We had no choice but to remain in the shadows....   \n",
       "19  text_content_anonymous                                            Rough😨💦   \n",
       "20  text_content_anonymous  https://t.me/canalselvabrasiloficial\\nSELVA BR...   \n",
       "21  text_content_anonymous                              Foto de Marcelo Rossi   \n",
       "22  text_content_anonymous                                    HD (1080p) sex🙈   \n",
       "23  text_content_anonymous  🇮🇷 سکس با دختر 14 ساله را در سایتهای پورن\\nبیی...   \n",
       "24  text_content_anonymous                       https://youtu.be/x2uiakywcrI   \n",
       "25  text_content_anonymous                                           A.n.a.l🙈   \n",
       "26  text_content_anonymous                                      Vídeo de Rosa   \n",
       "27                   media               1e8bca13acd844bbad8746174423a3f7.jpg   \n",
       "28                   media               2b7b0ed294940aefd5a5e9c9025f1796.jpg   \n",
       "29  text_content_anonymous  https://noticias.uol.com.br/politica/ultimas-n...   \n",
       "\n",
       "    count  \n",
       "0   17422  \n",
       "1    5473  \n",
       "2    1846  \n",
       "3    1481  \n",
       "4    1404  \n",
       "5    1136  \n",
       "6    1134  \n",
       "7    1118  \n",
       "8    1019  \n",
       "9     764  \n",
       "10    758  \n",
       "11    712  \n",
       "12    636  \n",
       "13    632  \n",
       "14    570  \n",
       "15    548  \n",
       "16    542  \n",
       "17    512  \n",
       "18    480  \n",
       "19    471  \n",
       "20    461  \n",
       "21    421  \n",
       "22    418  \n",
       "23    400  \n",
       "24    395  \n",
       "25    390  \n",
       "26    384  \n",
       "27    382  \n",
       "28    379  \n",
       "29    378  "
      ]
     },
     "metadata": {},
     "output_type": "display_data"
    }
   ],
   "source": [
    "combined_top_30 = duckdb.sql(\"\"\"\n",
    "  SELECT 'media' AS column_name, media AS value, COUNT(*) AS count\n",
    "  FROM telegram_df\n",
    "  WHERE media IS NOT NULL\n",
    "  GROUP BY media\n",
    "  UNION ALL\n",
    "  SELECT 'text_content_anonymous' AS column_name, text_content_anonymous AS value, COUNT(*) AS count\n",
    "  FROM telegram_df\n",
    "  WHERE text_content_anonymous IS NOT NULL AND text_content_anonymous <> ''\n",
    "  GROUP BY text_content_anonymous\n",
    "  ORDER BY count DESC\n",
    "  LIMIT 30\n",
    "\"\"\").df()\n",
    "\n",
    "display(combined_top_30)\n"
   ]
  },
  {
   "cell_type": "markdown",
   "id": "a2b392a1",
   "metadata": {},
   "source": [
    "  18. As 30 mensagens mais compartilhadas em grupos diferentes"
   ]
  },
  {
   "cell_type": "code",
   "execution_count": 40,
   "id": "873c72bf",
   "metadata": {
    "vscode": {
     "languageId": "sql"
    }
   },
   "outputs": [
    {
     "name": "stdout",
     "output_type": "stream",
     "text": [
      "    id_message  group_count\n",
      "0         1396           18\n",
      "1         1023           18\n",
      "2         1638           18\n",
      "3         1614           18\n",
      "4         1031           18\n",
      "5         1012           18\n",
      "6         1395           18\n",
      "7         1399           17\n",
      "8         1285           17\n",
      "9         1013           17\n",
      "10        1099           17\n",
      "11        1116           17\n",
      "12        1032           17\n",
      "13        1382           17\n",
      "14        1006           17\n",
      "15        1434           17\n",
      "16        1014           17\n",
      "17         804           17\n",
      "18        2694           16\n",
      "19         938           16\n",
      "20         674           16\n",
      "21        1015           16\n",
      "22        1438           16\n",
      "23        1376           16\n",
      "24        1100           16\n",
      "25        1606           16\n",
      "26        1076           16\n",
      "27         635           16\n",
      "28        2237           16\n",
      "29         782           16\n"
     ]
    }
   ],
   "source": [
    "top_30_messages_groups = duckdb.sql(\"\"\"\n",
    "  SELECT id_message, COUNT(DISTINCT id_group_anonymous) AS group_count\n",
    "  FROM telegram_df\n",
    "  GROUP BY id_message\n",
    "  ORDER BY group_count DESC\n",
    "  LIMIT 30\n",
    "\"\"\").df()\n",
    "\n",
    "print(top_30_messages_groups)\n"
   ]
  },
  {
   "cell_type": "markdown",
   "id": "10eb0f5e",
   "metadata": {},
   "source": [
    "  19. Mensagens  idênticas  compartilhadas  pelo  mesmo  usuário  (e  suas quantidades)"
   ]
  },
  {
   "cell_type": "code",
   "execution_count": 42,
   "id": "40320b38",
   "metadata": {},
   "outputs": [
    {
     "data": {
      "application/vnd.microsoft.datawrangler.viewer.v0+json": {
       "columns": [
        {
         "name": "index",
         "rawType": "int64",
         "type": "integer"
        },
        {
         "name": "id_member_anonymous",
         "rawType": "object",
         "type": "string"
        },
        {
         "name": "text_content_anonymous",
         "rawType": "object",
         "type": "string"
        },
        {
         "name": "quantidade",
         "rawType": "int64",
         "type": "integer"
        }
       ],
       "conversionMethod": "pd.DataFrame",
       "ref": "c09839f6-6316-46b9-a3f2-69a892641bb7",
       "rows": [
        [
         "0",
         "f233cf8b1d4ede06f32199a7e0081bf5",
         "This community was blocked in Brazil following a decision of the Superior Electoral Court (TSE).",
         "838"
        ],
        [
         "1",
         "c743967449a387ad2c1c7e03b2c45b36",
         "This community was blocked in Brazil following a decision of the Superior Electoral Court (TSE).",
         "532"
        ],
        [
         "2",
         "7696d5103cdb8ac352d748a1db1126b0",
         "This community was blocked in Brazil following a decision of the Superior Electoral Court (TSE).",
         "530"
        ],
        [
         "3",
         "1665e22b0f564cd46d343f7677014821",
         "Bem vindo(a) ao grupo Ipirá Notícias. \n\nCompartilhe nosso link. https://t.me/ipiranoticias",
         "357"
        ],
        [
         "4",
         "a398999c55f8d6f0c65760522ae12e45",
         "This community was blocked in Brazil following a decision of the Superior Electoral Court (TSE).",
         "308"
        ],
        [
         "5",
         "9b371a7d40877606e49d03281c8ba0f4",
         "Anal sex🙈",
         "272"
        ],
        [
         "6",
         "f3a914b5f81379cdf1689f202fe5ccd9",
         "Anal sex🙈",
         "270"
        ],
        [
         "7",
         "f48d327d4d2e0542af2d0d6e47503ad2",
         "Rough_sex🙈",
         "245"
        ],
        [
         "8",
         "bbfbcf36aa8384a943aa8928f98e5b99",
         "Rough_sex🙈",
         "233"
        ],
        [
         "9",
         "6908364802e043e85b1f2bff313e0926",
         "Rough_sex🙈",
         "195"
        ],
        [
         "10",
         "2a4827f1d9ac158e15c1db59c038bea8",
         "This community was blocked in Brazil following a decision of the Superior Electoral Court (TSE).",
         "193"
        ],
        [
         "11",
         "729e5594ec58c1e89ca10c8cee073bdf",
         "Vaginall sex🙈",
         "190"
        ],
        [
         "12",
         "e7998863ac2a40086657fab4a6b463c9",
         "Vídeo de Maria Teresa D  Valente",
         "187"
        ],
        [
         "13",
         "14d6d666bec8fb0ea9a66fc1aa0ef5a0",
         "HD (1080p) sex🙈",
         "183"
        ],
        [
         "14",
         "e7998863ac2a40086657fab4a6b463c9",
         "Foto de Maria Teresa D  Valente",
         "175"
        ],
        [
         "15",
         "00f84f574e0b22419dc4ea6b703dc30e",
         "Rough_sex🙈",
         "173"
        ],
        [
         "16",
         "fba2e18e4328fe3d8029e44c542fe988",
         "This community was blocked in Brazil following a decision of the Superior Electoral Court (TSE).",
         "171"
        ],
        [
         "17",
         "8c5e8ef2c1b1fc8f3edead5c2bc66857",
         "Anal sex🙈",
         "164"
        ],
        [
         "18",
         "ff641ad3b925b40c4183a929ddea8c1a",
         "HD (1080p) sex🙈",
         "159"
        ],
        [
         "19",
         "c743967449a387ad2c1c7e03b2c45b36",
         "Grupo Para Organizar 200 MIL Eleitores do Bolsonaro, Que Comprovará a Maioria Dos Eleitores Que Votarão no Bolsonaro 22.\n\nSe Você Apoia o PRESIDENTE JAIR MESSIAS BOLSONARO, só Divulgue Suas Realizações, Programas e Pronunciamentos Que Nos Interessam.\n\nNão Daremos Voz ou Notoriedade a Nenhum Outro Presidenciável.\n\nO GRUPO NÃO se Responsabiliza Pela Postagem de Nenhum Membro, o Autor da Publicação Será o Responsável.\n\nNÃO Publique NEM Compartilhe NADA Sem a Fonte Confirmada ou Conteúdo Que Contenha FAKE NEWS.\n\n✔️ Se Ver Algo de Errado no Grupo, Como Mensagens Impróprias de Infiltrados, Digite: [USER] Que um Administrador Será Chamado.\n\n\n⚠️ Copie o Texto Abaixo e Divulgue o Para Todos:\n\nGrupo: 🇧🇷 EXÉRCITO PATRIOTA 🇧🇷\n\nLink:👉 https://t.me/+DnJpx-HxNCFkMmUx\n\nOu Whatsapp: https://baixaogratis.blogspot.com/p/entrar-para-o-grupo.html\n\nCOMPARTILHE O GRUPO PARA TODOS !!\n\n\nE Conhecereis a Verdade, e a Verdade Vos Libertará. João 8:32\n\nA Verdade Será Inevitável 🕊\n\nO BRASIL É DE JESUS!\n\n\n👇🏻👇🏻 MAIS NOS LINKS ABAIXO 👇🏻👇🏻",
         "152"
        ],
        [
         "20",
         "e3b2ad172093d30591063f71344cf177",
         "Anal sex🙈",
         "148"
        ],
        [
         "21",
         "6adfedbb5ebea15b89d785ce436f6bc0",
         "This community was blocked in Brazil following a decision of the Superior Electoral Court (TSE).",
         "134"
        ],
        [
         "22",
         "e5e3e38d433016adf62ea34432853a3c",
         "Foto de Marcelo Rossi",
         "131"
        ],
        [
         "23",
         "3f4ca971a4e468405d92d7b34416d60e",
         "Foto de Gláucio Souza",
         "130"
        ],
        [
         "24",
         "1665e22b0f564cd46d343f7677014821",
         "Regras do Grupo \n\n1° Regra do grupo é respeito aos integrantes e moderadores.\n\n▪️ Somos o 1° grupo que representamos genuinamente a população sem interesses escusos.\n\n▪️Não temos partidos políticos ou políticos de estimações, mas obviamente quem é oposição ao establishment representa a população.\n\n▪️Somos o único grupo contra todos os regimes coletivistas que levam a ditadura.\n\n▪️ Somos contra socialismo, socialismo fabiano, comunismo, nazismo, fascismo, globalismo, ou seja, somos contra o totalitarismo.\n\n▪️Somos contra as seitas satânicas (\"maçonaria, rosa cruz, \ndemolay, Illuminati...\"\n\n▪️Somos contra monopólios, oligopólios e cartéis.\n\n▪️Somos contra as agendas 21, 2030 da ONU, fórum econômico mundial (NOM).\n\n▪️Somos a favor do cristianismo, legítima defesa (porte/posse), livre mercado, destatização, menos políticos, mordomias e privilégios das elites política e do funcionalismo público.\n\n▪️ Infelizmente a maioria dos grupos contra o sistema são alunos do comunista Paulo Freire, somos à exceção.\n\n▪️Somos contra qualquer grupo que fazem propagandas de soluções para o Brasil, mas as evidências de comprovantes de transferências bancárias e conversas divulgadas, mostram os recursos adquiridos sendo distribuídos entre os \"organizadores\".\n\n▪️Não faça refutações sem apresentar evidências. Caso contrário serão banidos, devido atrapalhar o despertar.\n\n▪️ Proibido vendas, bitcoins ou similares.",
         "127"
        ],
        [
         "25",
         "17916aca7f2d50e4f30761dd76986ff6",
         "سکس مردان ازبک با زن انگلیسی با این vpn از سایتهای ممنوعه ببینید🙈\n\nشاهد الرجال الأوزبكيين يمارسون الجنس مع النساء الإنجليزيات باستخدام VPN هذا من المواقع المحظورة🚫\n\nTaqiqlangan saytlardan bu vpn orqali o'zbek erkaklari ingliz ayollari bilan jinsiy aloqa qilishlarini ko'ring\n\nSee Uzbek men having sex with English women with this vpn from banned sites",
         "127"
        ],
        [
         "26",
         "566ba5c5eeeac2fc18b65965c3909a1f",
         "https://t.me/canalselvabrasiloficial\nSELVA BRASIL OFICIAL 🇧🇷🇧🇷",
         "125"
        ],
        [
         "27",
         "f32fb55955515e8a98429f9089df960f",
         "سکس مردان ازبک با زن انگلیسی با این vpn از سایتهای ممنوعه ببینید🙈\n\nشاهد الرجال الأوزبكيين يمارسون الجنس مع النساء الإنجليزيات باستخدام VPN هذا من المواقع المحظورة🚫\n\nTaqiqlangan saytlardan bu vpn orqali o'zbek erkaklari ingliz ayollari bilan jinsiy aloqa qilishlarini ko'ring\n\nSee Uzbek men having sex with English women with this vpn from banned sites",
         "124"
        ],
        [
         "28",
         "653febf2475e940cae6567f8f6c9102a",
         "A.n.a.l🙈",
         "124"
        ],
        [
         "29",
         "1665e22b0f564cd46d343f7677014821",
         "🌒 ENCERRAR MODO NOTURNO\n\n✅ De agora em diante, os usuários podem enviar novamente mídia (fotos, vídeos, arquivos...) e links no grupo.",
         "117"
        ],
        [
         "30",
         "691ec9ff5769680d6debb56d2fe5e62e",
         "Rough_sex🙈",
         "116"
        ],
        [
         "31",
         "5428d7add9f8e29dc2bbdcc85f75f9d6",
         "Rough😱",
         "116"
        ],
        [
         "32",
         "773b9bd5b02a2e96f9d732c29bfcb663",
         "https://t.me/canalselvabrasiloficial\nSELVA BRASIL OFICIAL 🇧🇷🇧🇷",
         "114"
        ],
        [
         "33",
         "5c5bbff6e0b2b7d4abb0aa5b9ae8f8b0",
         "Rough😨💦",
         "113"
        ],
        [
         "34",
         "e1976c56bc0662c60e0161fc79b94e34",
         "Rough😱",
         "112"
        ],
        [
         "35",
         "e12cd087a297593d24f7c92d6309f105",
         "Rough😨💦",
         "112"
        ],
        [
         "36",
         "b4f036ff7f9596869c16255630ea1a72",
         "Vídeo de Marcelo Massote",
         "111"
        ],
        [
         "37",
         "167db5613cd8235c443146d086ef40aa",
         "فیلم سوپر با زیرنویس فارسی ببین😍😍\nبا این فیلترشکن میتونی هروقت دلت خواست فیلم سوپر ببینی😍\n\nAmerikalik ayolni arab erkaklari tomonidan zo'rlanganini ushbu vpn bilan tomosha qiling\nFaqat 18 yoshdan oshganlar\n\nWatch the rape of an American woman by Arab men with this vpn\nOnly people over 18 years old",
         "110"
        ],
        [
         "38",
         "b1143aaa0fed123a4f6af9200df8d02b",
         "Lesbian👩‍❤‍👩",
         "108"
        ],
        [
         "39",
         "773b9bd5b02a2e96f9d732c29bfcb663",
         "This community was blocked in Brazil following a decision of the Superior Electoral Court (TSE).",
         "107"
        ],
        [
         "40",
         "55a14665c42142001c5145ad315f0e19",
         "Lesbian👩‍❤‍👩",
         "107"
        ],
        [
         "41",
         "a56c3098383c741719f222fbd807ccdb",
         "Vaginal sex🙈",
         "107"
        ],
        [
         "42",
         "23d14a50cb82952a04645e779f48206a",
         "سکس مردان ازبک با زن انگلیسی با این vpn از سایتهای ممنوعه ببینید🙈\n\nشاهد الرجال الأوزبكيين يمارسون الجنس مع النساء الإنجليزيات باستخدام VPN هذا من المواقع المحظورة🚫\n\nTaqiqlangan saytlardan bu vpn orqali o'zbek erkaklari ingliz ayollari bilan jinsiy aloqa qilishlarini ko'ring\n\nSee Uzbek men having sex with English women with this vpn from banned sites",
         "104"
        ],
        [
         "43",
         "5f47c8d650969393e25000a927219611",
         "Vídeo de Jane M.A.Coletti ☺️🇧🇷🇧🇷🇧🇷",
         "104"
        ],
        [
         "44",
         "400ff18531c9aa277eadfd78d5a54a1e",
         "This community was blocked in Brazil following a decision of the Superior Electoral Court (TSE).",
         "98"
        ],
        [
         "45",
         "441fd1aad6d5d5fb355ec50f5b2b07cf",
         "Anal sex🙈",
         "98"
        ],
        [
         "46",
         "37eee205efaacd6dc3b079e0f5bed817",
         "Rough_sex🙈",
         "96"
        ],
        [
         "47",
         "b931bad9b759d8f473fc8eb65ed22426",
         "Vídeo de Flavio",
         "96"
        ],
        [
         "48",
         "396c035099bb75f47a1f08f59432f82c",
         "فیلم سوپر با زیرنویس فارسی ببین😍😍\nبا این فیلترشکن میتونی هروقت دلت خواست فیلم سوپر ببینی😍\n\nAmerikalik ayolni arab erkaklari tomonidan zo'rlanganini ushbu vpn bilan tomosha qiling\nFaqat 18 yoshdan oshganlar\n\nWatch the rape of an American woman by Arab men with this vpn\nOnly people over 18 years old",
         "94"
        ],
        [
         "49",
         "1665e22b0f564cd46d343f7677014821",
         "🌒 MODO NOTURNO INICIADO\n\n❌ A partir deste momento, até 8 NENHUM USUÁRIO poderá enviar mídia (fotos, vídeos, arquivos...) e links no grupo.",
         "94"
        ]
       ],
       "shape": {
        "columns": 3,
        "rows": 18332
       }
      },
      "text/html": [
       "<div>\n",
       "<style scoped>\n",
       "    .dataframe tbody tr th:only-of-type {\n",
       "        vertical-align: middle;\n",
       "    }\n",
       "\n",
       "    .dataframe tbody tr th {\n",
       "        vertical-align: top;\n",
       "    }\n",
       "\n",
       "    .dataframe thead th {\n",
       "        text-align: right;\n",
       "    }\n",
       "</style>\n",
       "<table border=\"1\" class=\"dataframe\">\n",
       "  <thead>\n",
       "    <tr style=\"text-align: right;\">\n",
       "      <th></th>\n",
       "      <th>id_member_anonymous</th>\n",
       "      <th>text_content_anonymous</th>\n",
       "      <th>quantidade</th>\n",
       "    </tr>\n",
       "  </thead>\n",
       "  <tbody>\n",
       "    <tr>\n",
       "      <th>0</th>\n",
       "      <td>f233cf8b1d4ede06f32199a7e0081bf5</td>\n",
       "      <td>This community was blocked in Brazil following...</td>\n",
       "      <td>838</td>\n",
       "    </tr>\n",
       "    <tr>\n",
       "      <th>1</th>\n",
       "      <td>c743967449a387ad2c1c7e03b2c45b36</td>\n",
       "      <td>This community was blocked in Brazil following...</td>\n",
       "      <td>532</td>\n",
       "    </tr>\n",
       "    <tr>\n",
       "      <th>2</th>\n",
       "      <td>7696d5103cdb8ac352d748a1db1126b0</td>\n",
       "      <td>This community was blocked in Brazil following...</td>\n",
       "      <td>530</td>\n",
       "    </tr>\n",
       "    <tr>\n",
       "      <th>3</th>\n",
       "      <td>1665e22b0f564cd46d343f7677014821</td>\n",
       "      <td>Bem vindo(a) ao grupo Ipirá Notícias. \\n\\nComp...</td>\n",
       "      <td>357</td>\n",
       "    </tr>\n",
       "    <tr>\n",
       "      <th>4</th>\n",
       "      <td>a398999c55f8d6f0c65760522ae12e45</td>\n",
       "      <td>This community was blocked in Brazil following...</td>\n",
       "      <td>308</td>\n",
       "    </tr>\n",
       "    <tr>\n",
       "      <th>...</th>\n",
       "      <td>...</td>\n",
       "      <td>...</td>\n",
       "      <td>...</td>\n",
       "    </tr>\n",
       "    <tr>\n",
       "      <th>18327</th>\n",
       "      <td>88d15f878ab3b7965752ff0ad296c331</td>\n",
       "      <td>Atenção: Boicote Geral\\n\\nRepasse, Copie e col...</td>\n",
       "      <td>2</td>\n",
       "    </tr>\n",
       "    <tr>\n",
       "      <th>18328</th>\n",
       "      <td>2ca5e50e644ef3b09f675b71a8339153</td>\n",
       "      <td>Atenção: Boicote Geral\\n\\nRepasse, Copie e col...</td>\n",
       "      <td>2</td>\n",
       "    </tr>\n",
       "    <tr>\n",
       "      <th>18329</th>\n",
       "      <td>22da7e558d613074dc701f8a40bc955b</td>\n",
       "      <td>Qual é a legitimidade de um processo eleitoral...</td>\n",
       "      <td>2</td>\n",
       "    </tr>\n",
       "    <tr>\n",
       "      <th>18330</th>\n",
       "      <td>27f5833380581fab3453c1acd26427d5</td>\n",
       "      <td>Tô falando ... Aquilo é false flag. E eles tem...</td>\n",
       "      <td>2</td>\n",
       "    </tr>\n",
       "    <tr>\n",
       "      <th>18331</th>\n",
       "      <td>a7e85072244cae15446c9d517dc01a1a</td>\n",
       "      <td>Seja um fiscal do Mito nas Eleições, é só se c...</td>\n",
       "      <td>2</td>\n",
       "    </tr>\n",
       "  </tbody>\n",
       "</table>\n",
       "<p>18332 rows × 3 columns</p>\n",
       "</div>"
      ],
      "text/plain": [
       "                    id_member_anonymous  \\\n",
       "0      f233cf8b1d4ede06f32199a7e0081bf5   \n",
       "1      c743967449a387ad2c1c7e03b2c45b36   \n",
       "2      7696d5103cdb8ac352d748a1db1126b0   \n",
       "3      1665e22b0f564cd46d343f7677014821   \n",
       "4      a398999c55f8d6f0c65760522ae12e45   \n",
       "...                                 ...   \n",
       "18327  88d15f878ab3b7965752ff0ad296c331   \n",
       "18328  2ca5e50e644ef3b09f675b71a8339153   \n",
       "18329  22da7e558d613074dc701f8a40bc955b   \n",
       "18330  27f5833380581fab3453c1acd26427d5   \n",
       "18331  a7e85072244cae15446c9d517dc01a1a   \n",
       "\n",
       "                                  text_content_anonymous  quantidade  \n",
       "0      This community was blocked in Brazil following...         838  \n",
       "1      This community was blocked in Brazil following...         532  \n",
       "2      This community was blocked in Brazil following...         530  \n",
       "3      Bem vindo(a) ao grupo Ipirá Notícias. \\n\\nComp...         357  \n",
       "4      This community was blocked in Brazil following...         308  \n",
       "...                                                  ...         ...  \n",
       "18327  Atenção: Boicote Geral\\n\\nRepasse, Copie e col...           2  \n",
       "18328  Atenção: Boicote Geral\\n\\nRepasse, Copie e col...           2  \n",
       "18329  Qual é a legitimidade de um processo eleitoral...           2  \n",
       "18330  Tô falando ... Aquilo é false flag. E eles tem...           2  \n",
       "18331  Seja um fiscal do Mito nas Eleições, é só se c...           2  \n",
       "\n",
       "[18332 rows x 3 columns]"
      ]
     },
     "metadata": {},
     "output_type": "display_data"
    }
   ],
   "source": [
    "identical_messages = duckdb.sql(\"\"\"\n",
    "  SELECT \n",
    "    id_member_anonymous, \n",
    "    text_content_anonymous, \n",
    "    COUNT(*) AS quantidade\n",
    "  FROM telegram_df\n",
    "  WHERE text_content_anonymous IS NOT NULL AND text_content_anonymous <> '' AND id_member_anonymous IS NOT NULL\n",
    "  GROUP BY id_member_anonymous, text_content_anonymous\n",
    "  HAVING COUNT(*) > 1\n",
    "  ORDER BY quantidade DESC\n",
    "\"\"\").df()\n",
    "\n",
    "display(identical_messages)"
   ]
  },
  {
   "cell_type": "markdown",
   "id": "e26cec87",
   "metadata": {},
   "source": [
    "  20. Mensagens  idênticas  compartilhadas  pelo  mesmo  usuário  em  grupos distintos (e suas quantidades)"
   ]
  },
  {
   "cell_type": "code",
   "execution_count": 46,
   "id": "d6bfe9fb",
   "metadata": {
    "vscode": {
     "languageId": "sql"
    }
   },
   "outputs": [
    {
     "data": {
      "application/vnd.microsoft.datawrangler.viewer.v0+json": {
       "columns": [
        {
         "name": "index",
         "rawType": "int64",
         "type": "integer"
        },
        {
         "name": "id_member_anonymous",
         "rawType": "object",
         "type": "string"
        },
        {
         "name": "text_content_anonymous",
         "rawType": "object",
         "type": "string"
        },
        {
         "name": "grupos_distintos",
         "rawType": "int64",
         "type": "integer"
        }
       ],
       "conversionMethod": "pd.DataFrame",
       "ref": "bb57e53e-a1c8-4914-8806-f34df78c2757",
       "rows": [
        [
         "0",
         "a7840e7844020149e197272748965862",
         "ALERTA\nESSE GRUPO FOI CRIADO PELA ESQUERDA COM NOME DE BOLSONARO E ESTA PEDINDO FOTO DO COMPROVANTE, PRA FRAUDAR AS URNAS COMO JÁ FIZERAM, Ñ MANDEM MAIS FOTO ALGUMA, E TEM VÁRIOS AQUI TENTANDO DENEGRIR A IMAGEM E CARATER DO PRESIDENTE, TENTANDO GERAR DUVIDA EM VCS, SAIAM RÁPIDO DESSE CANAL E Ñ ENTREM E NEM COMPARTILHEM COM MAIS NINGUÉM ESSE LINK AQUI QUE ELES MESMO COMPARTILHAM, ESTÃO TENTANDO TE ENGANAR SAIAM DAQUI E PERMANEÇAM COM VOTO NO BOLSONARO ELE TEM VALORES QUE A ESQUERDA JAMAIS VAI SABER O QUE É VALOR EM UMA PESSOA, DEUS ABENÇOE",
         "16"
        ],
        [
         "1",
         "326d0a2f1bc5a1ede446fcf5dc31ff2e",
         "💣💥((((( URGENTÍSSIMO )))))💥💣\nESSE GRUPO É UMA FRAUDE 💥 SAIAM DESSE GRUPO É UM GRUPO DE ESQUERDA QUERENDO COLOCARMOS CONTRA O NOSSO PRESIDENTE 💥💣 SAIM SAIM SAIM... E QUEM POSTOU SEU COMPROVANTE DE VOTAÇÃO, APAGUEM URGENTE, NAO CAIAM NESSE GOLPE... SAIAM SAIAM!!! 💣💥💥💥 GRUPO ESQUERDISTA 💥💥💥💥",
         "14"
        ],
        [
         "2",
         "326d0a2f1bc5a1ede446fcf5dc31ff2e",
         "💣💣💣💥💥🔰BOMBA BOMBA🔰💥💥💣💣💣\nVCS ESTÃO ACHANDO QUE IRÃO CONSEGUIR DESESTABILIZAR OS BOLSONARISTAS, VCS NÃO PASSAM DE ESTRUME, A ESCÓRIA DA SOCIEDADE, SEM VALOR ALGUM, LIXO HUMANO, ISSO Q VCS SÃO, GRUPO DE LIXO, TERÃO QUE CHUPAR ESSA MANGA MAIS 4 ANOS KKKKK CHUPAAA SEUS ESQUERDOPATAS.. Q DESESPERO HEIN PRA FAZER UM GRUPINHO MEQUETREFE DESSE KKKKK\n\n⏰🖐️💦🌊💧🐯🐆🐅\n\nBOA NOITE A TODOS. O QUE EU VOU DIZER É SÉRIO A ESQUERDA ESTA AGINDO NOS GRUPOS DE WHATSAPP POSTANDO LINKS NAS REDES SOCIAIS DIRECIONADOS AO TELEGRAN. \n\nO NOME DO GRUPO É \n\nMEU VOTO É BOLSONARO 22\n\nTEM DE VÁRIOS ESTADOS.\nELES ESTÃO PEDINDO A FOTO DO COMPROVANTE DE VOTAÇÃO E ATÉ TÍTULOS DE ELEITOR. \nE AS PESSOAS MUITAS DELAS ESTÃO POSTANDO. \n\nELES VEM COM ALEGAÇÃO QUE QUEREM CHEGAR A 60 MILHÕES DE COMPROVANTES PRA MOVER UMA AÇÃO CONTRA FRAUDE. ISSO É MENTIRA. É FALSO. \nPEÇO AJUDA DE VCS POIS ESTOU DESDE ONTEM TENTANDO ABRIR OS OLHOS DAS PESSOAS QUE ESTÃO NOS GRUPOS POSTANDO SEUS COMPROVANTES.  POIS NO SEGUNDO TURNO VÃO VOTAR NO LUGAR DESSAS PESSOAS. E NÃO VAI ADIANTAR RECLAMAR.\n\nPEÇO AJUDA DE VCS PARA VCS ENTRAREM NO BUSCADOR DO TELEGRAN DESSES GRUPOS E DENUNCIAR. COM A OPÇÃO DOCUMENTOS PESSOAIS.\n\nPAREM DE POSTAR ISSO É SÉRIO.\n\nO GRUPO DELES ESTA CONFIGURADO PRA POSTAGEM DE MENSAGENS DE 1H EM 1HORA. EVITANDO ASSIM ALERTAR AS PESSOAS DO GRUPO. EU FUI DELETADO DO GRUPO DO RIO DE JANEIRO PQ ESTAVA INCOMODANDO.\n\nSE NÃO AGIRMOS AGORA PERDEREMOS A ELEIÇÃO.\n\nELES ESTÃO AGINDO EM TODO O PAÍS.\n\nACORDEM NÃO É BRINCADEIRA",
         "12"
        ],
        [
         "3",
         "29dda76df3384c28a07e8bad1ee9ceed",
         "BOA NOITE A TODOS. O QUE EU VOU DIZER É SÉRIO A ESQUERDA ESTA AGINDO NOS GRUPOS DE WHATSAPP POSTANDO LINKS NAS REDES SOCIAIS DIRECIONADOS AO TELEGRAN. \n\nO NOME DO GRUPO É \n\nMEU VOTO É BOLSONARO 22\n\nTEM DE VÁRIOS ESTADOS.\nELES ESTÃO PEDINDO A FOTO DO COMPROVANTE DE VOTAÇÃO E ATÉ TÍTULOS DE ELEITOR. \nE AS PESSOAS MUITAS DELAS ESTÃO POSTANDO. \n\nELES VEM COM ALEGAÇÃO QUE QUEREM CHEGAR A 60 MILHÕES DE COMPROVANTES PRA MOVER UMA AÇÃO CONTRA FRAUDE. ISSO É MENTIRA. É FALSO. \nPEÇO AJUDA DE VCS POIS ESTOU DESDE ONTEM TENTANDO ABRIR OS OLHOS DAS PESSOAS QUE ESTÃO NOS GRUPOS POSTANDO SEUS COMPROVANTES.  POIS NO SEGUNDO TURNO VÃO VOTAR NO LUGAR DESSAS PESSOAS. E NÃO VAI ADIANTAR RECLAMAR.\n\nPEÇO AJUDA DE VCS PARA VCS ENTRAREM NO BUSCADOR DO TELEGRAN DESSES GRUPOS E DENUNCIAR. COM A OPÇÃO DOCUMENTOS PESSOAIS.\n\nPAREM DE POSTAR ISSO É SÉRIO.\n\nO GRUPO DELES ESTA CONFIGURADO PRA POSTAGEM DE MENSAGENS DE 1H EM 1HORA. EVITANDO ASSIM ALERTAR AS PESSOAS DO GRUPO. EU FUI DELETADO DO GRUPO DO RIO DE JANEIRO PQ ESTAVA INCOMODANDO.\n\nSE NÃO AGIRMOS AGORA PERDEREMOS A ELEIÇÃO.\n\nELES ESTÃO AGINDO EM TODO O PAÍS.\n\nACORDEM NÃO É BRINCADEIRA",
         "11"
        ],
        [
         "4",
         "4e93f1d3c83fd6041314517363b14ed5",
         "Pessoal não envie seus comprovantes de votação pra esse grupo,  tão colhendo seus dados pra fraudar nas eleições do segundo turno, não é grupo de Patriota não entre em nenhum aplicativo e mentiras. DENUNCIE ESSE GRUPO E SAIAM E COMPARTILHEM , VCS TÃO SENDO ENGANADOS!!! Não tem administradores são Rackeres colhendo informações,  saiam denunciam e compartilham ...Grupo esquerdista 👆👆👆👆",
         "10"
        ],
        [
         "5",
         "dc60c84ed8dec03b667c577e124c5540",
         "INTERCESSÃO PELO BRASIL!!\n\nChegou a hora da Igreja se unir em CONSCIÊNCIA e em INTERCESSÃO a favor da nossa Nação. Levantando um grande clamor a Deus para que a vontade Dele seja estabelecida:\n\nJAIR MESSIAS BOLSONARO\n\nEntre em nosso grupo de Intercessão pelo Brasil através do link:\n\nhttps://t.me/intercessaobrasil",
         "10"
        ],
        [
         "6",
         "8aefec38fba2426877f7fccbfbd9846f",
         "MEU PRESIDENTE MAÇOM SATÂNICO E DEFENSOR DO ABORTO. DECEPCIONADO, IRMÃOS 😭😭😭😭😭😭😭",
         "9"
        ],
        [
         "7",
         "67aef6d8321facd89b2f5ebbb0825b77",
         "https://t.me/+hXARlf2UnEEwOTVh\nESTÃO QUERENDO FRAUDAR AS URNAS PRECISAMOS COLOCAR 70 MILHÕES DE ELEITORES DO BOLSONARO NO GRUPO \n\nCOMPARTILHA PRA TODOS ESSE LINK \nTODOS QUE VÃO VOTAR NO BOLSONARO \nBAIXE O TELEGRAM  E ENTRE NO GRUPO \nASSIM PROVAREMOS A VITÓRIA DO BOLSONARO\nENTRA NO GRUPO E COMPARTILHA O MÁXIMO QUE VOCÊ PUDER",
         "9"
        ],
        [
         "8",
         "b3489cb73e571d03d359a79ca41e1c9c",
         "ESSE GRUPO PODE SER DE ESQUERDA CUIDADO🚫🚫🚫🚫🚫🚫🚫🚫🚫🚫🚫\n\n🚫🚫 VAMOS DENUNCIAR🚫🚫\nTODOS OS GRUPOS USANDO A FOTO DE BOLSONARO 🇧🇷🇧🇷 PRA ESPALHAR FAKE NEWS \nSÃO O POVO DO PT😡😡😡😡\nESSA DESGRAÇA QUEREM CONFUNDIR VOCÊS. ❌❌\nNAO MANDEM COMPROVANTE🚫🚫🚫🚫🚫🚫🚫🚫🚫🚫🚫\nELES VÃO USAR SEU TÍTULO NO 2° TURNO PRA VOTAR NO LULA\n❌❌❌❌❌❌❌❌❌\nELES SÃO PIOR QUE CORONA VÍRUS, QUEREM ROER SUA MENTE E DESGRAÇAR NOSSA PAÍS \n🙏🙏🙏ACORDEM🙏🙏🙏\n\nCOPIE COLA E TODOS OS GRUPOS",
         "8"
        ],
        [
         "9",
         "2f1f74f54c07fa852f6526ff10d4bab6",
         "https://youtu.be/9G3NUBnrtQs",
         "8"
        ],
        [
         "10",
         "2f1f74f54c07fa852f6526ff10d4bab6",
         "https://youtu.be/jMs7JyIoGlc",
         "8"
        ],
        [
         "11",
         "170c5c5b240f668bca7b25e677283c06",
         "Orem pela nação!!!!",
         "8"
        ],
        [
         "12",
         "170c5c5b240f668bca7b25e677283c06",
         "Acabei de receber  a informação que esse grupo não é pra apoiadores do Bolsonaro e sim foi formado por petistas para tentar descobrir nossos planos e roubar dados tanto que eles ficam pedindo pra compartilhar os comprovantes de votação, eles estão juntando os dados vazados dos comprovantes, com esses dados eles vão conseguir implantar o comunismo a força \n tomem cuidado patriotas \nJair messias Bolsonaro nosso Salvador!!!!",
         "8"
        ],
        [
         "13",
         "96d3fa497dc935a2b1dd3da9da7aba7d",
         "https://youtu.be/GVYTit753qs",
         "8"
        ],
        [
         "14",
         "fd91a031b77ce4f2ce42756e891774ad",
         "https://youtu.be/4Wn-cz5Rq7I",
         "7"
        ],
        [
         "15",
         "fd91a031b77ce4f2ce42756e891774ad",
         "https://youtu.be/909FQUeKxig",
         "7"
        ],
        [
         "16",
         "fd91a031b77ce4f2ce42756e891774ad",
         "R7: Campanha de Bolsonaro diz que Lula teve 154.085 inserções de rádio a mais do que o presidente\nhttps://noticias.r7.com/eleicoes-2022/campanha-de-bolsonaro-diz-que-lula-teve-154085-insercoes-de-radio-a-mais-do-que-o-presidente-24102022",
         "7"
        ],
        [
         "17",
         "96d3fa497dc935a2b1dd3da9da7aba7d",
         "https://youtu.be/l0OWJy2RVWo",
         "7"
        ],
        [
         "18",
         "fd91a031b77ce4f2ce42756e891774ad",
         "https://youtu.be/pUjx0dOunYs",
         "7"
        ],
        [
         "19",
         "fd91a031b77ce4f2ce42756e891774ad",
         "https://www.r7.com/p1ci",
         "7"
        ],
        [
         "20",
         "96d3fa497dc935a2b1dd3da9da7aba7d",
         "https://youtu.be/lL72SAS_jrk",
         "7"
        ],
        [
         "21",
         "fd91a031b77ce4f2ce42756e891774ad",
         "https://youtu.be/RahB38Rgd6w",
         "7"
        ],
        [
         "22",
         "4e93f1d3c83fd6041314517363b14ed5",
         "🚫🚫 VAMOS DENUNCIAR🚫🚫\nTODOS OS GRUPOS USANDO A FOTO DE BOLSONARO 🇧🇷🇧🇷 PRA ESPALHAR FAKE NEWS \nSÃO O POVO DO PT😡😡😡😡\nESSA DESGRAÇA QUEREM CONFUNDIR VOCÊS. ❌❌\nNAO MANDEM COMPROVANTE🚫🚫🚫🚫🚫🚫🚫🚫🚫🚫🚫\nELES VÃO USAR SEU TÍTULO NO 2° TURNO PRA VOTAR NO LULA\n❌❌❌❌❌❌❌❌❌\nELES SÃO PIOR QUE CORONA VÍRUS, QUEREM ROER SUA MENTE E DESGRAÇAR NOSSA PAÍS \n🙏🙏🙏ACORDEM🙏🙏🙏\n\nCOPIE COLA E TODOS OS GRUPOS\nSAIAM DESSE GRUPO AQUI NAO MANDE COMPROVANTE E DE ESQUERDA , VAO USAR SEUS COMPROVANTE PRA FRAUDE NO SEGUNDO TURNO ...",
         "7"
        ],
        [
         "23",
         "5358e8926f7faebab66b09a87945f2a9",
         "🔴🔴🔴Alerta para salafrário se fingindo de conservador para te enganar 🔴🔴🔴\n\nQuem ainda está aqui está atrapalhando o nosso PRESIDENTE BOLSONARO saia deste grupo. \n\nEste grupo não tem adm é um grupo criado pela esquerda para pegar seus dados e atrapalhar a reeleição do nosso presidente BOLSONARO .\n\n\n⚠️⚠️⚠️ATENÇÃO ⚠️⚠️⚠️\n\n ESSE GRUPO É FAKE NÃO É PRO BOLSONARO, ESTÃO AQUI PARA DIFAMAR O NOSSO PRESIDENTE  E DESENFORMAR OS CONSERVADORES, PEÇO QUE COPIE E COLE ESTA MENSAGEM AQUI NOVAMENTE E SAIA IMEDIATAMENTE DESTE GRUPO\n\n\nPEÇO QUE COPIE E COLE ESTA MENSAGEM AQUI NOVAMENTE PARA INFORMAR OUTROS CONSERVADORES ⚠️⚠️⚠️⚠️\n\n✅👉 Acompanhe o presidente BOLSONARO no canal oficial acesse :\n\n https://t.me/jairbolsonarobrasil",
         "7"
        ],
        [
         "24",
         "29dda76df3384c28a07e8bad1ee9ceed",
         "*“E aí?”: Malafaia resgata vídeo de Alckmin na maçonaria*\n\nhttps://pleno.news/brasil/politica-nacional/e-ai-malafaia-resgata-video-de-alckmin-na-maconaria.html\n\n\n https://terrabrasilnoticias.com/2022/10/malafaia-nao-vao-manipular-evangelicos-com-video-de-bolsonaro-na-maconaria-veja-video/",
         "7"
        ],
        [
         "25",
         "fd91a031b77ce4f2ce42756e891774ad",
         "Diário do Poder: Marco Aurélio: ‘homens de bem precisam reagir’ à censura do TSE\nhttps://diariodopoder.com.br/justica/marco-aurelio-afirma-que-homens-de-bem-precisam-reagir-a-censura-do-tse",
         "7"
        ],
        [
         "26",
         "fd91a031b77ce4f2ce42756e891774ad",
         "https://youtu.be/Sb2_qB3iit4",
         "7"
        ],
        [
         "27",
         "fd91a031b77ce4f2ce42756e891774ad",
         "https://youtu.be/x2uiakywcrI",
         "7"
        ],
        [
         "28",
         "bad95a1894e094db36714e5eea1cf0b8",
         "TELEGRAM NEWS:\n\nBOLSONARO É VISTO EM MAÇONARIA JUNTO À SÉRGIO MORO.... \n\nE PROMETE ENTREGAR O BRASIL AO SATANÁS CASO SEJA REELEITO NO SEGUNDO TURNO \n\nCOMPARTILHE ESSA NOTÍCIA COM TODOS, MOSTRE PARA CATÓLICOS E EVANGÉLICOS A VERDADE!!!!!",
         "7"
        ],
        [
         "29",
         "a49d88be9798210cb06f9171b4d7317c",
         "Conheça a Aloe Vera, conhecida como a \"planta da eternidade\". Show!!!!!!\n\n\n\n\n\n\n\n\n\n\n\n\n\n\nhttps://youtu.be/w6qCX_nin_U",
         "7"
        ],
        [
         "30",
         "fd91a031b77ce4f2ce42756e891774ad",
         "Rádios confirmam que não receberam do TSE materiais de campanha de Bolsonaro ☛ https://terrabrasilnoticias.com/2022/10/radios-confirmam-que-nao-receberam-do-tse-materiais-de-campanha-de-bolsonaro/",
         "7"
        ],
        [
         "31",
         "96d3fa497dc935a2b1dd3da9da7aba7d",
         "https://youtu.be/HPVj2J18Am8",
         "7"
        ],
        [
         "32",
         "fd91a031b77ce4f2ce42756e891774ad",
         "https://youtu.be/zDuOoyhyN-4",
         "7"
        ],
        [
         "33",
         "fd91a031b77ce4f2ce42756e891774ad",
         "LulaFlix – Conheça a verdade sobre o ex-presidiário\nhttps://lulaflix.com.br/",
         "7"
        ],
        [
         "34",
         "96d3fa497dc935a2b1dd3da9da7aba7d",
         "https://youtu.be/x2uiakywcrI",
         "7"
        ],
        [
         "35",
         "6af5166069b463db5980d6f68eaac7a5",
         "Desculpa, pessoal, eu sei que esse pode não ser objetivo do grupo, mas desejo muito passar essa informação. Até porque as pessoas estão muito doentes! Se os adms discordarem podem apagar a postagem. \n\n\nPara quem gosta de MEDICINA NATURAL, esse é, SEM DÚVIDA, um dos melhores canais que apareceram nos últimos meses no YouTube. Vale muito a pena se inscrever, seguir e compartilhar! \n\n\n\n\n\n\n\n\n\nhttps://youtube.com/channel/UCVvPvyD-zdnTTapAbF6BbzA",
         "7"
        ],
        [
         "36",
         "fd91a031b77ce4f2ce42756e891774ad",
         "https://youtu.be/4PUsnihNiXw",
         "7"
        ],
        [
         "37",
         "96d3fa497dc935a2b1dd3da9da7aba7d",
         "https://youtu.be/CFnO4YIiyiI",
         "7"
        ],
        [
         "38",
         "fd91a031b77ce4f2ce42756e891774ad",
         "https://youtu.be/Bnn1Wl1uETI",
         "7"
        ],
        [
         "39",
         "fd91a031b77ce4f2ce42756e891774ad",
         "Em relação a reunião do Presidente Bolsonaro com a alto cúpula das FFAA. Paulo Figueiredo: Certas coisas não são ditas, são feitas. \n\nhttps://youtu.be/Rp6KbsTejc0",
         "7"
        ],
        [
         "40",
         "823d50d70391d543ef35dfa7f6737610",
         "ATENÇÃO A TODOS OS PATRIOTAS CRISTÃOS!!!! \nBolsonaro está pagando pessoas para informar que os cidadãos devem IGNORAR as informações de que ele é maçom! \nAdmins dos grupos te removem assim que vc questiona o fato do presidente maçom!!! Estão dizendo que ele só foi \"visitar\", cristão que é cristão não pisa os pés em templo maçom MUITO MENOS FAZ O CUMPRIMENTO DESSA CEITA! \nEste homem fez pacto para atrair eleitores, por isso tem muitos fãs!!! NÃO ACREDITEM EM QUEM DIZ QUE É FAKE!! estão comprados e provavelmente compactuam com este ser satânico!",
         "7"
        ],
        [
         "41",
         "fd91a031b77ce4f2ce42756e891774ad",
         "https://youtu.be/xbVOdbHtb0c",
         "7"
        ],
        [
         "42",
         "d846b401cb960c00a22af5697cabf015",
         "Esse video da maçonaria foi a pá de cal meus irmãos. Infelizmente no grupo da minha igreja, nosso pastor já passou a instrução a toda a congregação para não votar no nosso capitão. Acredito que isso vá gerar uma onda em outras igrejas. Muito triste irmãos, nao estava esperando esse golpe.   💔",
         "7"
        ],
        [
         "43",
         "fd91a031b77ce4f2ce42756e891774ad",
         "O caso de desvio de dinheiro destinado a respiradores, citado por Bolsonaro no último debate, tem uma sequência de eventos perturbadora https://veja.abril.com.br/politica/os-detalhes-do-escandalo-de-r-48-mi-que-envolveu-nomes-do-pt-na-pandemia/",
         "7"
        ],
        [
         "44",
         "fd91a031b77ce4f2ce42756e891774ad",
         "https://youtu.be/WHSuc1xjucQ",
         "7"
        ],
        [
         "45",
         "fd91a031b77ce4f2ce42756e891774ad",
         "https://youtu.be/wGpTY8GH568",
         "7"
        ],
        [
         "46",
         "fd91a031b77ce4f2ce42756e891774ad",
         "https://youtu.be/4KQDQP5LsoI",
         "7"
        ],
        [
         "47",
         "fd91a031b77ce4f2ce42756e891774ad",
         "A expectativa dos auxiliares do presidente é de que ele vá para cima de Alexandre de Moraes e do TSE https://veja.abril.com.br/brasil/bolsonaro-chama-reuniao-no-alvorada-e-guerra-diz-aliado/",
         "7"
        ],
        [
         "48",
         "cdafe8bef79fe7104e4c893f2c0b8e40",
         "Voto confirmado! ✌️😎✌️\n\nPatriotas, agora vamos fiscalizar as urnas. \n\najudem a fazer a totalização paralela! \nEsteja as 17h na seção eleitoral mais próxima da sua casa!\n\nhttps://app.totalizacaoparalela.com.br\n\nSem o voto impresso, é só isso e esse grupo que temos!",
         "7"
        ],
        [
         "49",
         "fd91a031b77ce4f2ce42756e891774ad",
         "Gazeta do Povo: Alexandre de Moraes obriga Jovem Pan a informar que Lula é inocente\nhttps://www.gazetadopovo.com.br/eleicoes/2022/alexandre-de-moraes-obriga-jovem-pan-a-informar-que-lula-e-inocente/",
         "7"
        ]
       ],
       "shape": {
        "columns": 3,
        "rows": 12942
       }
      },
      "text/html": [
       "<div>\n",
       "<style scoped>\n",
       "    .dataframe tbody tr th:only-of-type {\n",
       "        vertical-align: middle;\n",
       "    }\n",
       "\n",
       "    .dataframe tbody tr th {\n",
       "        vertical-align: top;\n",
       "    }\n",
       "\n",
       "    .dataframe thead th {\n",
       "        text-align: right;\n",
       "    }\n",
       "</style>\n",
       "<table border=\"1\" class=\"dataframe\">\n",
       "  <thead>\n",
       "    <tr style=\"text-align: right;\">\n",
       "      <th></th>\n",
       "      <th>id_member_anonymous</th>\n",
       "      <th>text_content_anonymous</th>\n",
       "      <th>grupos_distintos</th>\n",
       "    </tr>\n",
       "  </thead>\n",
       "  <tbody>\n",
       "    <tr>\n",
       "      <th>0</th>\n",
       "      <td>a7840e7844020149e197272748965862</td>\n",
       "      <td>ALERTA\\nESSE GRUPO FOI CRIADO PELA ESQUERDA CO...</td>\n",
       "      <td>16</td>\n",
       "    </tr>\n",
       "    <tr>\n",
       "      <th>1</th>\n",
       "      <td>326d0a2f1bc5a1ede446fcf5dc31ff2e</td>\n",
       "      <td>💣💥((((( URGENTÍSSIMO )))))💥💣\\nESSE GRUPO É UMA...</td>\n",
       "      <td>14</td>\n",
       "    </tr>\n",
       "    <tr>\n",
       "      <th>2</th>\n",
       "      <td>326d0a2f1bc5a1ede446fcf5dc31ff2e</td>\n",
       "      <td>💣💣💣💥💥🔰BOMBA BOMBA🔰💥💥💣💣💣\\nVCS ESTÃO ACHANDO QUE...</td>\n",
       "      <td>12</td>\n",
       "    </tr>\n",
       "    <tr>\n",
       "      <th>3</th>\n",
       "      <td>29dda76df3384c28a07e8bad1ee9ceed</td>\n",
       "      <td>BOA NOITE A TODOS. O QUE EU VOU DIZER É SÉRIO ...</td>\n",
       "      <td>11</td>\n",
       "    </tr>\n",
       "    <tr>\n",
       "      <th>4</th>\n",
       "      <td>4e93f1d3c83fd6041314517363b14ed5</td>\n",
       "      <td>Pessoal não envie seus comprovantes de votação...</td>\n",
       "      <td>10</td>\n",
       "    </tr>\n",
       "    <tr>\n",
       "      <th>...</th>\n",
       "      <td>...</td>\n",
       "      <td>...</td>\n",
       "      <td>...</td>\n",
       "    </tr>\n",
       "    <tr>\n",
       "      <th>12937</th>\n",
       "      <td>27f5833380581fab3453c1acd26427d5</td>\n",
       "      <td>Roraima está virando paraíso...\\nGovernador do...</td>\n",
       "      <td>2</td>\n",
       "    </tr>\n",
       "    <tr>\n",
       "      <th>12938</th>\n",
       "      <td>1c0774aae1e3ce3b6ced876b4e614900</td>\n",
       "      <td>👆👆🔴😡🤮🤮VEJA ISSO! DAQUI A POUCO OS DEMÔNIOS VÃO...</td>\n",
       "      <td>2</td>\n",
       "    </tr>\n",
       "    <tr>\n",
       "      <th>12939</th>\n",
       "      <td>d36c39da7c9705400e5056e033363b65</td>\n",
       "      <td>Screenshot (12 de out. de 2022 22:42:07)</td>\n",
       "      <td>2</td>\n",
       "    </tr>\n",
       "    <tr>\n",
       "      <th>12940</th>\n",
       "      <td>f479c092ac0e7ead34fb08af36708ec6</td>\n",
       "      <td>\"CPX\" escrito no boné de LULA quando ele subiu...</td>\n",
       "      <td>2</td>\n",
       "    </tr>\n",
       "    <tr>\n",
       "      <th>12941</th>\n",
       "      <td>b1882640f0e3e2d5c28d2e59d90643ae</td>\n",
       "      <td>Meu Primo trabalha como Uber , não gosta de po...</td>\n",
       "      <td>2</td>\n",
       "    </tr>\n",
       "  </tbody>\n",
       "</table>\n",
       "<p>12942 rows × 3 columns</p>\n",
       "</div>"
      ],
      "text/plain": [
       "                    id_member_anonymous  \\\n",
       "0      a7840e7844020149e197272748965862   \n",
       "1      326d0a2f1bc5a1ede446fcf5dc31ff2e   \n",
       "2      326d0a2f1bc5a1ede446fcf5dc31ff2e   \n",
       "3      29dda76df3384c28a07e8bad1ee9ceed   \n",
       "4      4e93f1d3c83fd6041314517363b14ed5   \n",
       "...                                 ...   \n",
       "12937  27f5833380581fab3453c1acd26427d5   \n",
       "12938  1c0774aae1e3ce3b6ced876b4e614900   \n",
       "12939  d36c39da7c9705400e5056e033363b65   \n",
       "12940  f479c092ac0e7ead34fb08af36708ec6   \n",
       "12941  b1882640f0e3e2d5c28d2e59d90643ae   \n",
       "\n",
       "                                  text_content_anonymous  grupos_distintos  \n",
       "0      ALERTA\\nESSE GRUPO FOI CRIADO PELA ESQUERDA CO...                16  \n",
       "1      💣💥((((( URGENTÍSSIMO )))))💥💣\\nESSE GRUPO É UMA...                14  \n",
       "2      💣💣💣💥💥🔰BOMBA BOMBA🔰💥💥💣💣💣\\nVCS ESTÃO ACHANDO QUE...                12  \n",
       "3      BOA NOITE A TODOS. O QUE EU VOU DIZER É SÉRIO ...                11  \n",
       "4      Pessoal não envie seus comprovantes de votação...                10  \n",
       "...                                                  ...               ...  \n",
       "12937  Roraima está virando paraíso...\\nGovernador do...                 2  \n",
       "12938  👆👆🔴😡🤮🤮VEJA ISSO! DAQUI A POUCO OS DEMÔNIOS VÃO...                 2  \n",
       "12939           Screenshot (12 de out. de 2022 22:42:07)                 2  \n",
       "12940  \"CPX\" escrito no boné de LULA quando ele subiu...                 2  \n",
       "12941  Meu Primo trabalha como Uber , não gosta de po...                 2  \n",
       "\n",
       "[12942 rows x 3 columns]"
      ]
     },
     "metadata": {},
     "output_type": "display_data"
    }
   ],
   "source": [
    "identical_messages_groups = duckdb.sql(\"\"\"\n",
    "  SELECT \n",
    "    id_member_anonymous, \n",
    "    text_content_anonymous, \n",
    "    COUNT(DISTINCT id_group_anonymous) AS grupos_distintos\n",
    "  FROM telegram_df\n",
    "  WHERE text_content_anonymous IS NOT NULL AND text_content_anonymous <> '' AND id_member_anonymous IS NOT NULL\n",
    "  GROUP BY id_member_anonymous, text_content_anonymous\n",
    "  HAVING COUNT(DISTINCT id_group_anonymous) > 1\n",
    "  ORDER BY grupos_distintos DESC\n",
    "\"\"\").df()\n",
    "\n",
    "display(identical_messages_groups)"
   ]
  },
  {
   "cell_type": "markdown",
   "id": "2b527f01",
   "metadata": {},
   "source": [
    "  21.  Os 30 unigramas, bigramas e trigramas mais compartilhados"
   ]
  },
  {
   "cell_type": "code",
   "execution_count": 48,
   "id": "6771a8fa",
   "metadata": {},
   "outputs": [
    {
     "name": "stdout",
     "output_type": "stream",
     "text": [
      "Top 30 Unigrams:\n"
     ]
    },
    {
     "data": {
      "application/vnd.microsoft.datawrangler.viewer.v0+json": {
       "columns": [
        {
         "name": "index",
         "rawType": "int64",
         "type": "integer"
        },
        {
         "name": "ngram",
         "rawType": "object",
         "type": "string"
        },
        {
         "name": "count",
         "rawType": "int64",
         "type": "integer"
        }
       ],
       "conversionMethod": "pd.DataFrame",
       "ref": "d0f03616-35f1-452f-b666-6bbdbddb09b5",
       "rows": [
        [
         "0",
         "de",
         "325103"
        ],
        [
         "1",
         "e",
         "245433"
        ],
        [
         "2",
         "a",
         "244867"
        ],
        [
         "3",
         "o",
         "242071"
        ],
        [
         "4",
         "que",
         "228826"
        ],
        [
         "5",
         "do",
         "141206"
        ],
        [
         "6",
         "para",
         "114385"
        ],
        [
         "7",
         "é",
         "96876"
        ],
        [
         "8",
         "não",
         "96508"
        ],
        [
         "9",
         "no",
         "92723"
        ],
        [
         "10",
         "da",
         "87513"
        ],
        [
         "11",
         "em",
         "86115"
        ],
        [
         "12",
         "com",
         "73397"
        ],
        [
         "13",
         "O",
         "71441"
        ],
        [
         "14",
         "os",
         "59265"
        ],
        [
         "15",
         "um",
         "58658"
        ],
        [
         "16",
         "se",
         "55344"
        ],
        [
         "17",
         "[USER]",
         "54762"
        ],
        [
         "18",
         "A",
         "52506"
        ],
        [
         "19",
         "uma",
         "47350"
        ],
        [
         "20",
         "as",
         "46694"
        ],
        [
         "21",
         "na",
         "46074"
        ],
        [
         "22",
         "por",
         "45369"
        ],
        [
         "23",
         "E",
         "44383"
        ],
        [
         "24",
         "mais",
         "40067"
        ],
        [
         "25",
         "DE",
         "35952"
        ],
        [
         "26",
         "-",
         "34504"
        ],
        [
         "27",
         "ao",
         "32272"
        ],
        [
         "28",
         "Bolsonaro",
         "32199"
        ],
        [
         "29",
         "está",
         "31111"
        ]
       ],
       "shape": {
        "columns": 2,
        "rows": 30
       }
      },
      "text/html": [
       "<div>\n",
       "<style scoped>\n",
       "    .dataframe tbody tr th:only-of-type {\n",
       "        vertical-align: middle;\n",
       "    }\n",
       "\n",
       "    .dataframe tbody tr th {\n",
       "        vertical-align: top;\n",
       "    }\n",
       "\n",
       "    .dataframe thead th {\n",
       "        text-align: right;\n",
       "    }\n",
       "</style>\n",
       "<table border=\"1\" class=\"dataframe\">\n",
       "  <thead>\n",
       "    <tr style=\"text-align: right;\">\n",
       "      <th></th>\n",
       "      <th>ngram</th>\n",
       "      <th>count</th>\n",
       "    </tr>\n",
       "  </thead>\n",
       "  <tbody>\n",
       "    <tr>\n",
       "      <th>0</th>\n",
       "      <td>de</td>\n",
       "      <td>325103</td>\n",
       "    </tr>\n",
       "    <tr>\n",
       "      <th>1</th>\n",
       "      <td>e</td>\n",
       "      <td>245433</td>\n",
       "    </tr>\n",
       "    <tr>\n",
       "      <th>2</th>\n",
       "      <td>a</td>\n",
       "      <td>244867</td>\n",
       "    </tr>\n",
       "    <tr>\n",
       "      <th>3</th>\n",
       "      <td>o</td>\n",
       "      <td>242071</td>\n",
       "    </tr>\n",
       "    <tr>\n",
       "      <th>4</th>\n",
       "      <td>que</td>\n",
       "      <td>228826</td>\n",
       "    </tr>\n",
       "    <tr>\n",
       "      <th>5</th>\n",
       "      <td>do</td>\n",
       "      <td>141206</td>\n",
       "    </tr>\n",
       "    <tr>\n",
       "      <th>6</th>\n",
       "      <td>para</td>\n",
       "      <td>114385</td>\n",
       "    </tr>\n",
       "    <tr>\n",
       "      <th>7</th>\n",
       "      <td>é</td>\n",
       "      <td>96876</td>\n",
       "    </tr>\n",
       "    <tr>\n",
       "      <th>8</th>\n",
       "      <td>não</td>\n",
       "      <td>96508</td>\n",
       "    </tr>\n",
       "    <tr>\n",
       "      <th>9</th>\n",
       "      <td>no</td>\n",
       "      <td>92723</td>\n",
       "    </tr>\n",
       "    <tr>\n",
       "      <th>10</th>\n",
       "      <td>da</td>\n",
       "      <td>87513</td>\n",
       "    </tr>\n",
       "    <tr>\n",
       "      <th>11</th>\n",
       "      <td>em</td>\n",
       "      <td>86115</td>\n",
       "    </tr>\n",
       "    <tr>\n",
       "      <th>12</th>\n",
       "      <td>com</td>\n",
       "      <td>73397</td>\n",
       "    </tr>\n",
       "    <tr>\n",
       "      <th>13</th>\n",
       "      <td>O</td>\n",
       "      <td>71441</td>\n",
       "    </tr>\n",
       "    <tr>\n",
       "      <th>14</th>\n",
       "      <td>os</td>\n",
       "      <td>59265</td>\n",
       "    </tr>\n",
       "    <tr>\n",
       "      <th>15</th>\n",
       "      <td>um</td>\n",
       "      <td>58658</td>\n",
       "    </tr>\n",
       "    <tr>\n",
       "      <th>16</th>\n",
       "      <td>se</td>\n",
       "      <td>55344</td>\n",
       "    </tr>\n",
       "    <tr>\n",
       "      <th>17</th>\n",
       "      <td>[USER]</td>\n",
       "      <td>54762</td>\n",
       "    </tr>\n",
       "    <tr>\n",
       "      <th>18</th>\n",
       "      <td>A</td>\n",
       "      <td>52506</td>\n",
       "    </tr>\n",
       "    <tr>\n",
       "      <th>19</th>\n",
       "      <td>uma</td>\n",
       "      <td>47350</td>\n",
       "    </tr>\n",
       "    <tr>\n",
       "      <th>20</th>\n",
       "      <td>as</td>\n",
       "      <td>46694</td>\n",
       "    </tr>\n",
       "    <tr>\n",
       "      <th>21</th>\n",
       "      <td>na</td>\n",
       "      <td>46074</td>\n",
       "    </tr>\n",
       "    <tr>\n",
       "      <th>22</th>\n",
       "      <td>por</td>\n",
       "      <td>45369</td>\n",
       "    </tr>\n",
       "    <tr>\n",
       "      <th>23</th>\n",
       "      <td>E</td>\n",
       "      <td>44383</td>\n",
       "    </tr>\n",
       "    <tr>\n",
       "      <th>24</th>\n",
       "      <td>mais</td>\n",
       "      <td>40067</td>\n",
       "    </tr>\n",
       "    <tr>\n",
       "      <th>25</th>\n",
       "      <td>DE</td>\n",
       "      <td>35952</td>\n",
       "    </tr>\n",
       "    <tr>\n",
       "      <th>26</th>\n",
       "      <td>-</td>\n",
       "      <td>34504</td>\n",
       "    </tr>\n",
       "    <tr>\n",
       "      <th>27</th>\n",
       "      <td>ao</td>\n",
       "      <td>32272</td>\n",
       "    </tr>\n",
       "    <tr>\n",
       "      <th>28</th>\n",
       "      <td>Bolsonaro</td>\n",
       "      <td>32199</td>\n",
       "    </tr>\n",
       "    <tr>\n",
       "      <th>29</th>\n",
       "      <td>está</td>\n",
       "      <td>31111</td>\n",
       "    </tr>\n",
       "  </tbody>\n",
       "</table>\n",
       "</div>"
      ],
      "text/plain": [
       "        ngram   count\n",
       "0          de  325103\n",
       "1           e  245433\n",
       "2           a  244867\n",
       "3           o  242071\n",
       "4         que  228826\n",
       "5          do  141206\n",
       "6        para  114385\n",
       "7           é   96876\n",
       "8         não   96508\n",
       "9          no   92723\n",
       "10         da   87513\n",
       "11         em   86115\n",
       "12        com   73397\n",
       "13          O   71441\n",
       "14         os   59265\n",
       "15         um   58658\n",
       "16         se   55344\n",
       "17     [USER]   54762\n",
       "18          A   52506\n",
       "19        uma   47350\n",
       "20         as   46694\n",
       "21         na   46074\n",
       "22        por   45369\n",
       "23          E   44383\n",
       "24       mais   40067\n",
       "25         DE   35952\n",
       "26          -   34504\n",
       "27         ao   32272\n",
       "28  Bolsonaro   32199\n",
       "29       está   31111"
      ]
     },
     "metadata": {},
     "output_type": "display_data"
    },
    {
     "name": "stdout",
     "output_type": "stream",
     "text": [
      "Top 30 Bigrams:\n"
     ]
    },
    {
     "data": {
      "application/vnd.microsoft.datawrangler.viewer.v0+json": {
       "columns": [
        {
         "name": "index",
         "rawType": "int64",
         "type": "integer"
        },
        {
         "name": "ngram",
         "rawType": "object",
         "type": "string"
        },
        {
         "name": "count",
         "rawType": "int64",
         "type": "integer"
        }
       ],
       "conversionMethod": "pd.DataFrame",
       "ref": "72880c71-c70d-48a2-9d6d-05f994224b12",
       "rows": [
        [
         "0",
         "o que",
         "18844"
        ],
        [
         "1",
         "of the",
         "18199"
        ],
        [
         "2",
         "que o",
         "18133"
        ],
        [
         "3",
         "in Brazil",
         "17437"
        ],
        [
         "4",
         "a decision",
         "17427"
        ],
        [
         "5",
         "Superior Electoral",
         "17426"
        ],
        [
         "6",
         "the Superior",
         "17421"
        ],
        [
         "7",
         "Brazil following",
         "17420"
        ],
        [
         "8",
         "Court (TSE).",
         "17420"
        ],
        [
         "9",
         "following a",
         "17420"
        ],
        [
         "10",
         "Electoral Court",
         "17420"
        ],
        [
         "11",
         "community was",
         "17420"
        ],
        [
         "12",
         "decision of",
         "17418"
        ],
        [
         "13",
         "This community",
         "17418"
        ],
        [
         "14",
         "was blocked",
         "17418"
        ],
        [
         "15",
         "blocked in",
         "17414"
        ],
        [
         "16",
         "professional tool",
         "14169"
        ],
        [
         "17",
         "Telegram groups",
         "14167"
        ],
        [
         "18",
         "managing Telegram",
         "14167"
        ],
        [
         "19",
         "[USER] —",
         "14167"
        ],
        [
         "20",
         "🔸 [USER]",
         "14167"
        ],
        [
         "21",
         "tool for",
         "14166"
        ],
        [
         "22",
         "— professional",
         "14165"
        ],
        [
         "23",
         "for managing",
         "14164"
        ],
        [
         "24",
         "para o",
         "12884"
        ],
        [
         "25",
         "com o",
         "10769"
        ],
        [
         "26",
         "que não",
         "10604"
        ],
        [
         "27",
         "Vídeo de",
         "10323"
        ],
        [
         "28",
         "e o",
         "9712"
        ],
        [
         "29",
         "é o",
         "9427"
        ]
       ],
       "shape": {
        "columns": 2,
        "rows": 30
       }
      },
      "text/html": [
       "<div>\n",
       "<style scoped>\n",
       "    .dataframe tbody tr th:only-of-type {\n",
       "        vertical-align: middle;\n",
       "    }\n",
       "\n",
       "    .dataframe tbody tr th {\n",
       "        vertical-align: top;\n",
       "    }\n",
       "\n",
       "    .dataframe thead th {\n",
       "        text-align: right;\n",
       "    }\n",
       "</style>\n",
       "<table border=\"1\" class=\"dataframe\">\n",
       "  <thead>\n",
       "    <tr style=\"text-align: right;\">\n",
       "      <th></th>\n",
       "      <th>ngram</th>\n",
       "      <th>count</th>\n",
       "    </tr>\n",
       "  </thead>\n",
       "  <tbody>\n",
       "    <tr>\n",
       "      <th>0</th>\n",
       "      <td>o que</td>\n",
       "      <td>18844</td>\n",
       "    </tr>\n",
       "    <tr>\n",
       "      <th>1</th>\n",
       "      <td>of the</td>\n",
       "      <td>18199</td>\n",
       "    </tr>\n",
       "    <tr>\n",
       "      <th>2</th>\n",
       "      <td>que o</td>\n",
       "      <td>18133</td>\n",
       "    </tr>\n",
       "    <tr>\n",
       "      <th>3</th>\n",
       "      <td>in Brazil</td>\n",
       "      <td>17437</td>\n",
       "    </tr>\n",
       "    <tr>\n",
       "      <th>4</th>\n",
       "      <td>a decision</td>\n",
       "      <td>17427</td>\n",
       "    </tr>\n",
       "    <tr>\n",
       "      <th>5</th>\n",
       "      <td>Superior Electoral</td>\n",
       "      <td>17426</td>\n",
       "    </tr>\n",
       "    <tr>\n",
       "      <th>6</th>\n",
       "      <td>the Superior</td>\n",
       "      <td>17421</td>\n",
       "    </tr>\n",
       "    <tr>\n",
       "      <th>7</th>\n",
       "      <td>Brazil following</td>\n",
       "      <td>17420</td>\n",
       "    </tr>\n",
       "    <tr>\n",
       "      <th>8</th>\n",
       "      <td>Court (TSE).</td>\n",
       "      <td>17420</td>\n",
       "    </tr>\n",
       "    <tr>\n",
       "      <th>9</th>\n",
       "      <td>following a</td>\n",
       "      <td>17420</td>\n",
       "    </tr>\n",
       "    <tr>\n",
       "      <th>10</th>\n",
       "      <td>Electoral Court</td>\n",
       "      <td>17420</td>\n",
       "    </tr>\n",
       "    <tr>\n",
       "      <th>11</th>\n",
       "      <td>community was</td>\n",
       "      <td>17420</td>\n",
       "    </tr>\n",
       "    <tr>\n",
       "      <th>12</th>\n",
       "      <td>decision of</td>\n",
       "      <td>17418</td>\n",
       "    </tr>\n",
       "    <tr>\n",
       "      <th>13</th>\n",
       "      <td>This community</td>\n",
       "      <td>17418</td>\n",
       "    </tr>\n",
       "    <tr>\n",
       "      <th>14</th>\n",
       "      <td>was blocked</td>\n",
       "      <td>17418</td>\n",
       "    </tr>\n",
       "    <tr>\n",
       "      <th>15</th>\n",
       "      <td>blocked in</td>\n",
       "      <td>17414</td>\n",
       "    </tr>\n",
       "    <tr>\n",
       "      <th>16</th>\n",
       "      <td>professional tool</td>\n",
       "      <td>14169</td>\n",
       "    </tr>\n",
       "    <tr>\n",
       "      <th>17</th>\n",
       "      <td>Telegram groups</td>\n",
       "      <td>14167</td>\n",
       "    </tr>\n",
       "    <tr>\n",
       "      <th>18</th>\n",
       "      <td>managing Telegram</td>\n",
       "      <td>14167</td>\n",
       "    </tr>\n",
       "    <tr>\n",
       "      <th>19</th>\n",
       "      <td>[USER] —</td>\n",
       "      <td>14167</td>\n",
       "    </tr>\n",
       "    <tr>\n",
       "      <th>20</th>\n",
       "      <td>🔸 [USER]</td>\n",
       "      <td>14167</td>\n",
       "    </tr>\n",
       "    <tr>\n",
       "      <th>21</th>\n",
       "      <td>tool for</td>\n",
       "      <td>14166</td>\n",
       "    </tr>\n",
       "    <tr>\n",
       "      <th>22</th>\n",
       "      <td>— professional</td>\n",
       "      <td>14165</td>\n",
       "    </tr>\n",
       "    <tr>\n",
       "      <th>23</th>\n",
       "      <td>for managing</td>\n",
       "      <td>14164</td>\n",
       "    </tr>\n",
       "    <tr>\n",
       "      <th>24</th>\n",
       "      <td>para o</td>\n",
       "      <td>12884</td>\n",
       "    </tr>\n",
       "    <tr>\n",
       "      <th>25</th>\n",
       "      <td>com o</td>\n",
       "      <td>10769</td>\n",
       "    </tr>\n",
       "    <tr>\n",
       "      <th>26</th>\n",
       "      <td>que não</td>\n",
       "      <td>10604</td>\n",
       "    </tr>\n",
       "    <tr>\n",
       "      <th>27</th>\n",
       "      <td>Vídeo de</td>\n",
       "      <td>10323</td>\n",
       "    </tr>\n",
       "    <tr>\n",
       "      <th>28</th>\n",
       "      <td>e o</td>\n",
       "      <td>9712</td>\n",
       "    </tr>\n",
       "    <tr>\n",
       "      <th>29</th>\n",
       "      <td>é o</td>\n",
       "      <td>9427</td>\n",
       "    </tr>\n",
       "  </tbody>\n",
       "</table>\n",
       "</div>"
      ],
      "text/plain": [
       "                 ngram  count\n",
       "0                o que  18844\n",
       "1               of the  18199\n",
       "2                que o  18133\n",
       "3            in Brazil  17437\n",
       "4           a decision  17427\n",
       "5   Superior Electoral  17426\n",
       "6         the Superior  17421\n",
       "7     Brazil following  17420\n",
       "8         Court (TSE).  17420\n",
       "9          following a  17420\n",
       "10     Electoral Court  17420\n",
       "11       community was  17420\n",
       "12         decision of  17418\n",
       "13      This community  17418\n",
       "14         was blocked  17418\n",
       "15          blocked in  17414\n",
       "16   professional tool  14169\n",
       "17     Telegram groups  14167\n",
       "18   managing Telegram  14167\n",
       "19            [USER] —  14167\n",
       "20            🔸 [USER]  14167\n",
       "21            tool for  14166\n",
       "22      — professional  14165\n",
       "23        for managing  14164\n",
       "24              para o  12884\n",
       "25               com o  10769\n",
       "26             que não  10604\n",
       "27            Vídeo de  10323\n",
       "28                 e o   9712\n",
       "29                 é o   9427"
      ]
     },
     "metadata": {},
     "output_type": "display_data"
    },
    {
     "name": "stdout",
     "output_type": "stream",
     "text": [
      "Top 30 Trigrams:\n"
     ]
    },
    {
     "data": {
      "application/vnd.microsoft.datawrangler.viewer.v0+json": {
       "columns": [
        {
         "name": "index",
         "rawType": "int64",
         "type": "integer"
        },
        {
         "name": "ngram",
         "rawType": "object",
         "type": "string"
        },
        {
         "name": "count",
         "rawType": "int64",
         "type": "integer"
        }
       ],
       "conversionMethod": "pd.DataFrame",
       "ref": "34c2d9c0-dc23-4956-bde0-0ca00036372a",
       "rows": [
        [
         "0",
         "Superior Electoral Court",
         "17420"
        ],
        [
         "1",
         "the Superior Electoral",
         "17419"
        ],
        [
         "2",
         "Electoral Court (TSE).",
         "17419"
        ],
        [
         "3",
         "a decision of",
         "17416"
        ],
        [
         "4",
         "in Brazil following",
         "17416"
        ],
        [
         "5",
         "Brazil following a",
         "17415"
        ],
        [
         "6",
         "decision of the",
         "17414"
        ],
        [
         "7",
         "This community was",
         "17414"
        ],
        [
         "8",
         "following a decision",
         "17414"
        ],
        [
         "9",
         "community was blocked",
         "17413"
        ],
        [
         "10",
         "of the Superior",
         "17412"
        ],
        [
         "11",
         "blocked in Brazil",
         "17411"
        ],
        [
         "12",
         "was blocked in",
         "17408"
        ],
        [
         "13",
         "— professional tool",
         "14168"
        ],
        [
         "14",
         "professional tool for",
         "14166"
        ],
        [
         "15",
         "[USER] — professional",
         "14165"
        ],
        [
         "16",
         "🔸 [USER] —",
         "14163"
        ],
        [
         "17",
         "tool for managing",
         "14163"
        ],
        [
         "18",
         "managing Telegram groups",
         "14161"
        ],
        [
         "19",
         "for managing Telegram",
         "14161"
        ],
        [
         "20",
         "começar a ganhar",
         "7379"
        ],
        [
         "21",
         "o bot e",
         "7345"
        ],
        [
         "22",
         "e começar a",
         "7338"
        ],
        [
         "23",
         "13 13 13",
         "7330"
        ],
        [
         "24",
         "ativar o bot",
         "7286"
        ],
        [
         "25",
         "bot e começar",
         "7192"
        ],
        [
         "26",
         "a ganhar dinheiro",
         "7036"
        ],
        [
         "27",
         "pode ativar o",
         "6910"
        ],
        [
         "28",
         "Você pode ativar",
         "6594"
        ],
        [
         "29",
         "ganhar dinheiro aqui",
         "5520"
        ]
       ],
       "shape": {
        "columns": 2,
        "rows": 30
       }
      },
      "text/html": [
       "<div>\n",
       "<style scoped>\n",
       "    .dataframe tbody tr th:only-of-type {\n",
       "        vertical-align: middle;\n",
       "    }\n",
       "\n",
       "    .dataframe tbody tr th {\n",
       "        vertical-align: top;\n",
       "    }\n",
       "\n",
       "    .dataframe thead th {\n",
       "        text-align: right;\n",
       "    }\n",
       "</style>\n",
       "<table border=\"1\" class=\"dataframe\">\n",
       "  <thead>\n",
       "    <tr style=\"text-align: right;\">\n",
       "      <th></th>\n",
       "      <th>ngram</th>\n",
       "      <th>count</th>\n",
       "    </tr>\n",
       "  </thead>\n",
       "  <tbody>\n",
       "    <tr>\n",
       "      <th>0</th>\n",
       "      <td>Superior Electoral Court</td>\n",
       "      <td>17420</td>\n",
       "    </tr>\n",
       "    <tr>\n",
       "      <th>1</th>\n",
       "      <td>the Superior Electoral</td>\n",
       "      <td>17419</td>\n",
       "    </tr>\n",
       "    <tr>\n",
       "      <th>2</th>\n",
       "      <td>Electoral Court (TSE).</td>\n",
       "      <td>17419</td>\n",
       "    </tr>\n",
       "    <tr>\n",
       "      <th>3</th>\n",
       "      <td>a decision of</td>\n",
       "      <td>17416</td>\n",
       "    </tr>\n",
       "    <tr>\n",
       "      <th>4</th>\n",
       "      <td>in Brazil following</td>\n",
       "      <td>17416</td>\n",
       "    </tr>\n",
       "    <tr>\n",
       "      <th>5</th>\n",
       "      <td>Brazil following a</td>\n",
       "      <td>17415</td>\n",
       "    </tr>\n",
       "    <tr>\n",
       "      <th>6</th>\n",
       "      <td>decision of the</td>\n",
       "      <td>17414</td>\n",
       "    </tr>\n",
       "    <tr>\n",
       "      <th>7</th>\n",
       "      <td>This community was</td>\n",
       "      <td>17414</td>\n",
       "    </tr>\n",
       "    <tr>\n",
       "      <th>8</th>\n",
       "      <td>following a decision</td>\n",
       "      <td>17414</td>\n",
       "    </tr>\n",
       "    <tr>\n",
       "      <th>9</th>\n",
       "      <td>community was blocked</td>\n",
       "      <td>17413</td>\n",
       "    </tr>\n",
       "    <tr>\n",
       "      <th>10</th>\n",
       "      <td>of the Superior</td>\n",
       "      <td>17412</td>\n",
       "    </tr>\n",
       "    <tr>\n",
       "      <th>11</th>\n",
       "      <td>blocked in Brazil</td>\n",
       "      <td>17411</td>\n",
       "    </tr>\n",
       "    <tr>\n",
       "      <th>12</th>\n",
       "      <td>was blocked in</td>\n",
       "      <td>17408</td>\n",
       "    </tr>\n",
       "    <tr>\n",
       "      <th>13</th>\n",
       "      <td>— professional tool</td>\n",
       "      <td>14168</td>\n",
       "    </tr>\n",
       "    <tr>\n",
       "      <th>14</th>\n",
       "      <td>professional tool for</td>\n",
       "      <td>14166</td>\n",
       "    </tr>\n",
       "    <tr>\n",
       "      <th>15</th>\n",
       "      <td>[USER] — professional</td>\n",
       "      <td>14165</td>\n",
       "    </tr>\n",
       "    <tr>\n",
       "      <th>16</th>\n",
       "      <td>🔸 [USER] —</td>\n",
       "      <td>14163</td>\n",
       "    </tr>\n",
       "    <tr>\n",
       "      <th>17</th>\n",
       "      <td>tool for managing</td>\n",
       "      <td>14163</td>\n",
       "    </tr>\n",
       "    <tr>\n",
       "      <th>18</th>\n",
       "      <td>managing Telegram groups</td>\n",
       "      <td>14161</td>\n",
       "    </tr>\n",
       "    <tr>\n",
       "      <th>19</th>\n",
       "      <td>for managing Telegram</td>\n",
       "      <td>14161</td>\n",
       "    </tr>\n",
       "    <tr>\n",
       "      <th>20</th>\n",
       "      <td>começar a ganhar</td>\n",
       "      <td>7379</td>\n",
       "    </tr>\n",
       "    <tr>\n",
       "      <th>21</th>\n",
       "      <td>o bot e</td>\n",
       "      <td>7345</td>\n",
       "    </tr>\n",
       "    <tr>\n",
       "      <th>22</th>\n",
       "      <td>e começar a</td>\n",
       "      <td>7338</td>\n",
       "    </tr>\n",
       "    <tr>\n",
       "      <th>23</th>\n",
       "      <td>13 13 13</td>\n",
       "      <td>7330</td>\n",
       "    </tr>\n",
       "    <tr>\n",
       "      <th>24</th>\n",
       "      <td>ativar o bot</td>\n",
       "      <td>7286</td>\n",
       "    </tr>\n",
       "    <tr>\n",
       "      <th>25</th>\n",
       "      <td>bot e começar</td>\n",
       "      <td>7192</td>\n",
       "    </tr>\n",
       "    <tr>\n",
       "      <th>26</th>\n",
       "      <td>a ganhar dinheiro</td>\n",
       "      <td>7036</td>\n",
       "    </tr>\n",
       "    <tr>\n",
       "      <th>27</th>\n",
       "      <td>pode ativar o</td>\n",
       "      <td>6910</td>\n",
       "    </tr>\n",
       "    <tr>\n",
       "      <th>28</th>\n",
       "      <td>Você pode ativar</td>\n",
       "      <td>6594</td>\n",
       "    </tr>\n",
       "    <tr>\n",
       "      <th>29</th>\n",
       "      <td>ganhar dinheiro aqui</td>\n",
       "      <td>5520</td>\n",
       "    </tr>\n",
       "  </tbody>\n",
       "</table>\n",
       "</div>"
      ],
      "text/plain": [
       "                       ngram  count\n",
       "0   Superior Electoral Court  17420\n",
       "1     the Superior Electoral  17419\n",
       "2     Electoral Court (TSE).  17419\n",
       "3              a decision of  17416\n",
       "4        in Brazil following  17416\n",
       "5         Brazil following a  17415\n",
       "6            decision of the  17414\n",
       "7         This community was  17414\n",
       "8       following a decision  17414\n",
       "9      community was blocked  17413\n",
       "10           of the Superior  17412\n",
       "11         blocked in Brazil  17411\n",
       "12            was blocked in  17408\n",
       "13       — professional tool  14168\n",
       "14     professional tool for  14166\n",
       "15     [USER] — professional  14165\n",
       "16                🔸 [USER] —  14163\n",
       "17         tool for managing  14163\n",
       "18  managing Telegram groups  14161\n",
       "19     for managing Telegram  14161\n",
       "20          começar a ganhar   7379\n",
       "21                   o bot e   7345\n",
       "22               e começar a   7338\n",
       "23                  13 13 13   7330\n",
       "24              ativar o bot   7286\n",
       "25             bot e começar   7192\n",
       "26         a ganhar dinheiro   7036\n",
       "27             pode ativar o   6910\n",
       "28          Você pode ativar   6594\n",
       "29      ganhar dinheiro aqui   5520"
      ]
     },
     "metadata": {},
     "output_type": "display_data"
    }
   ],
   "source": [
    "# Unigramas\n",
    "unigrams = duckdb.sql(\"\"\"\n",
    "  SELECT word AS ngram, COUNT(*) AS count\n",
    "  FROM (\n",
    "    SELECT UNNEST(regexp_split_to_array(text_content_anonymous, '\\\\s+')) AS word\n",
    "    FROM telegram_df\n",
    "    WHERE text_content_anonymous IS NOT NULL AND text_content_anonymous <> ''\n",
    "  )\n",
    "  GROUP BY ngram\n",
    "  ORDER BY count DESC\n",
    "  LIMIT 30\n",
    "\"\"\").df()\n",
    "\n",
    "print(\"Top 30 Unigrams:\")\n",
    "display(unigrams)\n",
    "\n",
    "# Bigramas\n",
    "bigrams = duckdb.sql(\"\"\"\n",
    "  SELECT bigram AS ngram, COUNT(*) AS count\n",
    "  FROM (\n",
    "    SELECT CONCAT_WS(' ', word1, word2) AS bigram\n",
    "    FROM (\n",
    "      SELECT \n",
    "        LAG(word) OVER (PARTITION BY id_message ORDER BY position) AS word1,\n",
    "        word AS word2\n",
    "      FROM (\n",
    "        SELECT id_message, UNNEST(regexp_split_to_array(text_content_anonymous, '\\\\s+')) AS word, ROW_NUMBER() OVER () AS position\n",
    "        FROM telegram_df\n",
    "        WHERE text_content_anonymous IS NOT NULL AND text_content_anonymous <> ''\n",
    "      )\n",
    "    )\n",
    "    WHERE word1 IS NOT NULL\n",
    "  )\n",
    "  GROUP BY ngram\n",
    "  ORDER BY count DESC\n",
    "  LIMIT 30\n",
    "\"\"\").df()\n",
    "\n",
    "print(\"Top 30 Bigrams:\")\n",
    "display(bigrams)\n",
    "\n",
    "# Trigramas\n",
    "trigrams = duckdb.sql(\"\"\"\n",
    "  SELECT trigram AS ngram, COUNT(*) AS count\n",
    "  FROM (\n",
    "    SELECT CONCAT_WS(' ', word1, word2, word3) AS trigram\n",
    "    FROM (\n",
    "      SELECT \n",
    "        LAG(word, 2) OVER (PARTITION BY id_message ORDER BY position) AS word1,\n",
    "        LAG(word, 1) OVER (PARTITION BY id_message ORDER BY position) AS word2,\n",
    "        word AS word3\n",
    "      FROM (\n",
    "        SELECT id_message, UNNEST(regexp_split_to_array(text_content_anonymous, '\\\\s+')) AS word, ROW_NUMBER() OVER () AS position\n",
    "        FROM telegram_df\n",
    "        WHERE text_content_anonymous IS NOT NULL AND text_content_anonymous <> ''\n",
    "      )\n",
    "    )\n",
    "    WHERE word1 IS NOT NULL AND word2 IS NOT NULL\n",
    "  )\n",
    "  GROUP BY ngram\n",
    "  ORDER BY count DESC\n",
    "  LIMIT 30\n",
    "\"\"\").df()\n",
    "\n",
    "print(\"Top 30 Trigrams:\")\n",
    "display(trigrams)"
   ]
  },
  {
   "cell_type": "markdown",
   "id": "190f5368",
   "metadata": {},
   "source": [
    "22. As 30 mensagens mais positivas (distintas)"
   ]
  },
  {
   "cell_type": "code",
   "execution_count": 53,
   "id": "fa8e0f8f",
   "metadata": {},
   "outputs": [
    {
     "data": {
      "application/vnd.microsoft.datawrangler.viewer.v0+json": {
       "columns": [
        {
         "name": "index",
         "rawType": "int64",
         "type": "integer"
        },
        {
         "name": "text_content_anonymous",
         "rawType": "object",
         "type": "string"
        }
       ],
       "conversionMethod": "pd.DataFrame",
       "ref": "cd6bb4be-c789-44e3-8397-65c6d01eb3a9",
       "rows": [
        [
         "0",
         "This community was blocked in Brazil following a decision of the Superior Electoral Court (TSE)."
        ],
        [
         "1",
         "\"E conhecereis a verdade, e a verdade vos libertará.\"\nJoão 8:32\n\nSe inscreva em nosso CANAL e compartilhe a nossa RED PILL.\n\nCanal [USER]\nGrupo [USER]"
        ],
        [
         "2",
         "Bem vindo(a) ao grupo Ipirá Notícias. \n\nCompartilhe nosso link. https://t.me/ipiranoticias"
        ],
        [
         "3",
         "Vídeo de Maria Teresa D  Valente"
        ],
        [
         "4",
         "Para quem gosta de MEDICINA NATURAL, esse é, SEM DÚVIDA, um dos melhores canais que apareceram nos últimos meses no YouTube. Vale muito a pena se inscrever, seguir e compartilhar!\n\n\n\n\n\n\n\n\n\nhttps://youtube.com/channel/UCVvPvyD-zdnTTapAbF6BbzA"
        ],
        [
         "5",
         "Foto de Maria Teresa D  Valente"
        ],
        [
         "6",
         "O Meu amigo NÃO sou infiltrado ... meu voto foi para #Bolsonaro no primeiro turno e será para o segundo turno... \n\nEu disse Há infiltrados AQUI e é VERDADE     ..e disse que o verdadeiro apoio ao NOSSO presidente para o bem Da família Brasileira para nossa liberdade de culto e expressão..para uma pátria forte é necessário entrarmos no telegram do PRESIDENTE.\n\nVAMOS ENTRAR NO GRUPO DO PRESIDENTE LÁ SIM VALE A PENA ... NÃO ESTOU DIZENDO PARA SAIR DAQUI MAS ENTRAR LÁ TAMBÉM\n\nO Meu amigo NÃO sou infiltrado ... meu voto foi para #Bolsonaro no primeiro turno e será para o segundo turno... \n\nEu disse Há infiltrados AQUI e é VERDADE     ..e disse que o verdadeiro apoio ao NOSSO presidente para o bem Da família Brasileira para nossa liberdade de culto e expressão..para uma pátria forte é necessário entrarmos no telegram do PRESIDENTE.\n\nVAMOS ENTRAR NO GRUPO DO PRESIDENTE LÁ SIM VALE A PENA ... NÃO ESTOU DIZENDO PARA SAIR DAQUI MAS ENTRAR LÁ TAMBÉM\n\nO Meu amigo NÃO sou infiltrado ... meu voto foi para #Bolsonaro no primeiro turno e será para o segundo turno... \n\nEu disse Há infiltrados AQUI e é VERDADE     ..e disse que o verdadeiro apoio ao NOSSO presidente para o bem Da família Brasileira para nossa liberdade de culto e expressão..para uma pátria forte é necessário entrarmos no telegram do PRESIDENTE.\n\nVAMOS ENTRAR NO GRUPO DO PRESIDENTE LÁ SIM VALE A PENA ... NÃO ESTOU DIZENDO PARA SAIR DAQUI MAS ENTRAR LÁ TAMBÉM\n\nO Meu amigo NÃO sou infiltrado ... meu voto foi para #Bolsonaro no primeiro turno e será para o segundo turno... \n\nEu disse Há infiltrados AQUI e é VERDADE     ..e disse que o verdadeiro apoio ao NOSSO presidente para o bem Da família Brasileira para nossa liberdade de culto e expressão..para uma pátria forte é necessário entrarmos no telegram do PRESIDENTE.\n\nVAMOS ENTRAR NO GRUPO DO PRESIDENTE LÁ SIM VALE A PENA ... NÃO ESTOU DIZENDO PARA SAIR DAQUI MAS ENTRAR LÁ TAMBÉM"
        ],
        [
         "7",
         "INVISTA CONOSCO E RECEBA✅\n SEU LUCRO ESTÁ SEGURO E RETORNO 100% GARANTIDO✅ ...\n MUITO FÁCIL DE COMEÇAR A GANHAR DINHEIRO COM BITCOIN.\n (CONTACTE-ME AGORA)\n\n ⚪ COMO INVESTIR\n\n ⚪ COMO FAÇO SOBRE ISSO\n\n ⚪ COMO POSSO COMEÇAR\n\n ⚪ COMO FUNCIONA\n\n ⚪ NÃO SEI NADA SOBRE ISSO E QUERO QUE VOCÊ ME DÊ INFORMAÇÕES SOBRE ISSO\n\n ⚪ QUERO INVESTIR\n\n CONTACTE-ME E VOU APRESENTAR COMO COMEÇAR A GANHAR CONOSCO\n ✍️𝐃𝐌\n [USER]"
        ],
        [
         "8",
         "🚨Pessoal, estamos correndo contra o tempo para informar o maior número de pessoas possíveis das coisas que estão para acontecer. Por isso peço quem puder entrar no nosso canal se INSCREVER e compartilhar a informação com outras pessoas ficarei muito grato. Por que estou pedindo isso? Porque o canal ganha um pouco de relevância no YouTube e assim podemos ser recomendados e conseguiremos alcançar mais vidas. \n\nLink do canal⤵️\nhttps://youtube.com/c/especulandoosfatosoficial"
        ],
        [
         "9",
         "Desculpa, pessoal, eu sei que esse pode não ser objetivo do grupo, mas desejo muito passar essa informação. Até porque as pessoas estão muito doentes! Se os adms discordarem podem apagar a postagem. \n\n\nPara quem gosta de MEDICINA NATURAL, esse é, SEM DÚVIDA, um dos melhores canais que apareceram nos últimos meses no YouTube. Vale muito a pena se inscrever, seguir e compartilhar! \n\n\n\n\n\n\n\n\n\nhttps://youtube.com/channel/UCVvPvyD-zdnTTapAbF6BbzA"
        ],
        [
         "10",
         "*VAMOS SEGUIR O INSTAGRAM DO EXÉRCITO BRASILEIRO SERÁ MUITO BOM SE MUDARMOS DE 2.1 MILHÕES PARA NO MINIMO 20 MILHÕES, ACREDITO QUE SERÁ UMA MENSAGEM CLARA DO DESEJO DO POVO QUEM PUDER E TIVER CONDIÇÕES PELO BEM DO BRASIL FAÇA CAMPANHA DE IMPULSIONAMENTO E QUEM NÃO TIVER COMPARTILHA AO MÁXIMO SOMENTE COM PATRIOTAS*\n\n\n\nhttps://instagram.com/exercito_oficial?igshid=YmMyMTA2M2Y="
        ],
        [
         "11",
         "Já que lula colocou um milhão no podcast do flow ontem, que tal nós nos unirmos e colocar o dobro com o nosso presidente Bolsonaro hoje? Vamos com tudo, mostrar a nossa força na entrevista do presidente com Cláudio Dantas!!\nEntre no Link abaixo e aperte em “Receber Notificações” onde tem o Sininho 🛎\nE encaminhe para esta mensagem pra apenas 2 pessoas, Deus e o Mundo\nhttps://youtu.be/4DHk9KZ01HM"
        ],
        [
         "12",
         "\"E conhecereis a verdade, e a verdade vos libertará.\"\nJoão 8:32\n\n\"And ye shall know the truth, and the truth shall make you free.\"\nJohn 8:32\n\nSe inscreva em nosso CANAL e compartilhe a nossa RED PILL.\n\nCanal [USER]\nGrupo [USER]"
        ],
        [
         "13",
         "⚡️🇧🇷 Actus Liberandi - Ordem De Cristo 🇧🇷\n\n✨🛡 Sejam Bem Vindos🛡\n\n⚖️ Somos a Sociedade Civil Organizada \n⚖️  Patriotas em Unidade, em Cooperação mútua, pelo Resgate dos Valores Legais da Nação Brasileira! \n\n⚖️ Somos todos investigadores e Peritos de diversos ramos da ciência da Segurança Pública, trabalhando pela Nação de forma voluntária, não somos remunerados por nenhuma instituição governamental ou particular, sobrevivemos pela ajuda de nossos membros... \n\n⚖️ Esse Grupo apoia e trabalhou fortemente para eleger o presidente do Brasil Jair Messias Bolsonaro. \n\n ⚖️ Siga as regras do grupo e não terá problemas com os administradores. \n\n ⚖️ Nosso Grupo é de Direito Privado, pertence a uma Instituição Real devidamente constituída na ação em Prol da Liberdade do Povo Brasileiro. \n\n⚖️ Combatemos diretamente o Foro de São Paulo. Os Traíras não passarão. Aquele que Teme as ações e difama a Ordem Dourada do Brasil revela-se incontestavelmente a nós um braço do crime politico organizado e institucionalizado no Brasil - Tenha certeza que iremos combate-lo severamente. ⚖️ \n\n⚖️  Somos Cristãos em unidade não temos rabo preso com o diabo, mas pelo contrário nossa espada de fogo sempre estará pronta para o combate contra essa legião de bestas e homúnculos inumanos, hoje, amanhã e sempre.\n\n⚖️  Somos A Reserva Pro-Ativa Sempre do Lado do Povo. Força e Honra \n(Nando Patriota - Presidente da ODB).\n\n\n⚖️  Pelo Resgate da Inteligência!\n\n⚖️  Honra - Justiça - Liberdade\n\n🕵🏻  Si vis Pacem, para bellum 👮🏻‍♂️\n\n\n   🕵🏼‍♂️ 🛡Força e Honra 🛡\n\n\nFraternalmente,\nMembros e Peritos da Actus Liberandi"
        ],
        [
         "14",
         "Confie em mim com esta plataforma, não acho que você tenha que ficar procurando trabalho de novo, acredite, sua história vai mudar com apenas um passo, tudo o que você precisa fazer é tentar arranjar algum dinheiro para começar.  melhore seu plano de investimento e seja seu próprio patrão\n   DM👇\n   [USER]"
        ],
        [
         "15",
         "Ola! Tudo bem? A nossa enquete eleitoral esta aberta para que todos possam participar, nossa enquete é transparente e livre de alterações de votos, participem e compartilhem!  \n\nEnquete atualizada, apenas 4 candidatos competindo no 1° turno, participem da enquete e compartilhem!       \n       \nLINK: https://scriptsamp.forumeiros.com/t16154-enquetecandidatos-a-presidencia-do-brasil"
        ],
        [
         "16",
         "- Contra tudo e contra todos, tivemos no 1° turno de 2022 uma votação mais expressiva do que aquela que tivemos em 2018. Foram quase 2 milhões de votos a mais! Também elegemos as maiores bancadas da Câmara e do Senado, o que era a nossa maior prioridade neste primeiro momento.\n\n- Elegemos governadores no 1° turno em 8 estados e elegeremos nossos aliados em outros 8 estados neste 2° turno. Esta é a maior vitória dos patriotas na história do Brasil: 60% do território brasileiro será governado por quem defende nossos valores e luta por um país mais livre.\n\n- Muita gente se deixou levar pelas mentiras propagadas pelos institutos de pesquisas, que saíram do 1° turno completamente desmoralizados. Erraram todas as previsões e já são os maiores derrotados desta eleição. Vencemos essa mentira e agora vamos vencer a eleição!\n\n- Esta disputa não decidirá apenas quem assumirá um cargo nos próximos quatro anos. Esta disputa decidirá nossa identidade, nossos valores e a forma como seremos vistos pelo mundo e pelo próprio Deus. Lutemos pela liberdade, pela honestidade, por nossos filhos e pelo Brasil.\n\n- Sabemos do tamanho da nossa responsabilidade e dos desafios que vamos enfrentar. Mas sabemos aonde queremos chegar e como chegaremos lá. Pela graça de Deus, nunca perdi uma eleição e sei que não será agora, quando a liberdade do Brasil inteiro depende de nós, que iremos perder.\n\n- Nossos adversários só se prepararam para uma corrida de 100 metros. Nós estamos prontos para uma maratona. Vamos lutar com confiança e com força cada vez maior, certos de que vamos prevalecer pela pátria, pela família, pela vida, pela liberdade e pela vontade de Deus! 🇧🇷\n\nPresidente Jair Messias Bolsonaro"
        ],
        [
         "17",
         "Irmãos de DIREITA, COMPARTILHEM o MÁXIMO, VAMOS LEVAR a VERDADE a esse Povo Sofrido. 💪🏻💪🏻🤜🏽🤜🏽🤜🏽🙂👍🏼🙏🏻"
        ],
        [
         "18",
         "JUNTE-SE A NÓS TAMBÉM E MANTENHA-SE INFORMADO 🧠\n🇧🇷Clique no link: ➘  ➘  ➘\n╰─►Canal [USER]"
        ],
        [
         "19",
         "Bom dia"
        ],
        [
         "20",
         "meu grande investidor está testemunhando como ela obteve seus lucros apenas em 24 horas"
        ],
        [
         "21",
         "R $ 1.000 para ganhar R $ 10.000\nR $ 1.500 para ganhar R $ 15.000\nR $ 2.000 para ganhar R $ 20.000\nR $ 3.000 para ganhar R $ 30.000\nR $ 4.000 para ganhar R $ 40.000\nR $ 5.000 para ganhar R $ 50.000. \nse você está interessado em ganhar dinheiro, clique em\n🇧🇷🇧🇷🇧🇷🇧🇷🇧🇷🇧🇷🇧🇷🇧🇷\n👇👇👇👇👇👇👇\n[USER]"
        ],
        [
         "22",
         "Ola! Tudo bem? A nossa enquete eleitoral esta aberta para que todos possam participar, nossa enquete é transparente e livre de alterações de votos, participem e compartilhem!   \n\nEnquete atualizada, apenas 4 candidatos competindo no 1° turno, participem da enquete e compartilhem!        \n        \nLINK: https://scriptsamp.forumeiros.com/t16154-enquetecandidatos-a-presidencia-do-brasil"
        ],
        [
         "23",
         "*Não é só nas ruas que podemos protestar !!!*\n\nVocê que não pode sair para protestar nas ruas pode fazer o seu protesto, envie um email ao *Ministro da Defesa Paulo Sérgio Nogueira de Oliveira*, não precisa escrever nada mas coloque no titulo do email: *INTERVENÇÃO FEDERAL*\n\n*INTERVENÇÃO FEDERAL*\n[EMAIL]\n\n*Pátria Amada Brasil !!!*\n\n*COMPARTILHE*"
        ],
        [
         "24",
         "ENVIE SEU PEDIDO !!!\n\nOI ?\n\nOLÁ ?\n\nQUÃO?\n\nQUER INVESTIR?\n \nQUER SABER MAIS SOBRE INVESTIMENTOS?\n\nCOMO DEVO COMEÇAR?\n\nCOMO POSSO INVESTIR?\n\nCOMO SABER MAIS DO QUE ESTAMOS FAZENDO AQUI?\n\n👇👇👇👇👇👇\n\nClique no link\ne me mande uma mensagem agora\n\n   👇👇👇\n\n https://t.me/Manager_Marcus_Chat_Up_Now"
        ],
        [
         "25",
         "É bom ver todos felizes, estou muito feliz com a forma como minhas finanças têm sido tratadas aqui com o máximo de flexibilidade e transparência.  Mais uma vez, aplaudo a todos que estão por trás deste projeto ou plataforma, eu diriapara se sentir à vontade e fazer seus investimentos com a melhor plataforma de todos os tempos"
        ],
        [
         "26",
         "Pessoal orientação do nosso amigo da PRF, acabou de nos informar que podemos ficar na BR e que não seremos multados, o que pode multar são carros trancando a passagem, então passagem devem ser trancadas com terra, pneu, etc e não carros e nem caminhões . Se caso a Polícia perguntar quem é o líder que está organizando dizer que não temos líder que estamos todos juntos. Isso não dará o direito de multas em cpfs e nem cnpj. Temos no total 347 locais bloqueados no momento.  Repassem por favor para a maior quantidade de pessoas possível."
        ],
        [
         "27",
         "\"E conhecereis a verdade, e a verdade vos libertará.\"\nJoão 8:32\n\nSe inscreva em nosso Canal e compartilhe a nossa RED PILL.\n\nCanal [USER]\nGrupo [USER]"
        ],
        [
         "28",
         "Kit maçônico, projeto do governo bolsonaro para nossas crianças caso seja reeleito em 2022, vamos anular o voto ou votar no lula, não podemos deixar esse satanista acabar com inocência das nossas crianças.\n\nDivulguem é sério!!! Alerta máximo 🚨🚨‼️‼️"
        ],
        [
         "29",
         "PESSOAL, DESCODIFIQUEI O DISCURSO DELE, SEU RECADO PARA NÓS\n\nEle disse que: os atuais movimentos populares são fruto de indignação e sentimento de injustiça de como se deu o processo eleitoral *(NOSSO MOTIVO)*\n\nAs manifestações pacíficas são bem vindas *(CONTINUEM)*\n\nDisse que temos valores fortes: Deus, Patria, Familia, Liberdade *(PARA DEFENDERMOS)*\n\nNossos sonhos seguem mais vivos do que nunca *(EU NÃO DESISTI DE LUTAR)*\n\nSomos pela Ordem e pelo Progresso *(RESISTÊNCIA AO COMUNISMO)*\n\nEnquanto presidente da republica, continuarei cumprindo todos os mandamentos da constituição *(AQUI FOI O PULO DO GATO, OU SEJA, ME OBRIGUEM A CUMPRIR)*\n\né uma honra ser o lider de milhoes de brasileiros que defendem a LIBERDADE *(CONTEM COMIGO)*"
        ]
       ],
       "shape": {
        "columns": 1,
        "rows": 30
       }
      },
      "text/html": [
       "<div>\n",
       "<style scoped>\n",
       "    .dataframe tbody tr th:only-of-type {\n",
       "        vertical-align: middle;\n",
       "    }\n",
       "\n",
       "    .dataframe tbody tr th {\n",
       "        vertical-align: top;\n",
       "    }\n",
       "\n",
       "    .dataframe thead th {\n",
       "        text-align: right;\n",
       "    }\n",
       "</style>\n",
       "<table border=\"1\" class=\"dataframe\">\n",
       "  <thead>\n",
       "    <tr style=\"text-align: right;\">\n",
       "      <th></th>\n",
       "      <th>text_content_anonymous</th>\n",
       "    </tr>\n",
       "  </thead>\n",
       "  <tbody>\n",
       "    <tr>\n",
       "      <th>0</th>\n",
       "      <td>This community was blocked in Brazil following...</td>\n",
       "    </tr>\n",
       "    <tr>\n",
       "      <th>1</th>\n",
       "      <td>\"E conhecereis a verdade, e a verdade vos libe...</td>\n",
       "    </tr>\n",
       "    <tr>\n",
       "      <th>2</th>\n",
       "      <td>Bem vindo(a) ao grupo Ipirá Notícias. \\n\\nComp...</td>\n",
       "    </tr>\n",
       "    <tr>\n",
       "      <th>3</th>\n",
       "      <td>Vídeo de Maria Teresa D  Valente</td>\n",
       "    </tr>\n",
       "    <tr>\n",
       "      <th>4</th>\n",
       "      <td>Para quem gosta de MEDICINA NATURAL, esse é, S...</td>\n",
       "    </tr>\n",
       "    <tr>\n",
       "      <th>5</th>\n",
       "      <td>Foto de Maria Teresa D  Valente</td>\n",
       "    </tr>\n",
       "    <tr>\n",
       "      <th>6</th>\n",
       "      <td>O Meu amigo NÃO sou infiltrado ... meu voto fo...</td>\n",
       "    </tr>\n",
       "    <tr>\n",
       "      <th>7</th>\n",
       "      <td>INVISTA CONOSCO E RECEBA✅\\n SEU LUCRO ESTÁ SEG...</td>\n",
       "    </tr>\n",
       "    <tr>\n",
       "      <th>8</th>\n",
       "      <td>🚨Pessoal, estamos correndo contra o tempo para...</td>\n",
       "    </tr>\n",
       "    <tr>\n",
       "      <th>9</th>\n",
       "      <td>Desculpa, pessoal, eu sei que esse pode não se...</td>\n",
       "    </tr>\n",
       "    <tr>\n",
       "      <th>10</th>\n",
       "      <td>*VAMOS SEGUIR O INSTAGRAM DO EXÉRCITO BRASILEI...</td>\n",
       "    </tr>\n",
       "    <tr>\n",
       "      <th>11</th>\n",
       "      <td>Já que lula colocou um milhão no podcast do fl...</td>\n",
       "    </tr>\n",
       "    <tr>\n",
       "      <th>12</th>\n",
       "      <td>\"E conhecereis a verdade, e a verdade vos libe...</td>\n",
       "    </tr>\n",
       "    <tr>\n",
       "      <th>13</th>\n",
       "      <td>⚡️🇧🇷 Actus Liberandi - Ordem De Cristo 🇧🇷\\n\\n✨...</td>\n",
       "    </tr>\n",
       "    <tr>\n",
       "      <th>14</th>\n",
       "      <td>Confie em mim com esta plataforma, não acho qu...</td>\n",
       "    </tr>\n",
       "    <tr>\n",
       "      <th>15</th>\n",
       "      <td>Ola! Tudo bem? A nossa enquete eleitoral esta ...</td>\n",
       "    </tr>\n",
       "    <tr>\n",
       "      <th>16</th>\n",
       "      <td>- Contra tudo e contra todos, tivemos no 1° tu...</td>\n",
       "    </tr>\n",
       "    <tr>\n",
       "      <th>17</th>\n",
       "      <td>Irmãos de DIREITA, COMPARTILHEM o MÁXIMO, VAMO...</td>\n",
       "    </tr>\n",
       "    <tr>\n",
       "      <th>18</th>\n",
       "      <td>JUNTE-SE A NÓS TAMBÉM E MANTENHA-SE INFORMADO ...</td>\n",
       "    </tr>\n",
       "    <tr>\n",
       "      <th>19</th>\n",
       "      <td>Bom dia</td>\n",
       "    </tr>\n",
       "    <tr>\n",
       "      <th>20</th>\n",
       "      <td>meu grande investidor está testemunhando como ...</td>\n",
       "    </tr>\n",
       "    <tr>\n",
       "      <th>21</th>\n",
       "      <td>R $ 1.000 para ganhar R $ 10.000\\nR $ 1.500 pa...</td>\n",
       "    </tr>\n",
       "    <tr>\n",
       "      <th>22</th>\n",
       "      <td>Ola! Tudo bem? A nossa enquete eleitoral esta ...</td>\n",
       "    </tr>\n",
       "    <tr>\n",
       "      <th>23</th>\n",
       "      <td>*Não é só nas ruas que podemos protestar !!!*\\...</td>\n",
       "    </tr>\n",
       "    <tr>\n",
       "      <th>24</th>\n",
       "      <td>ENVIE SEU PEDIDO !!!\\n\\nOI ?\\n\\nOLÁ ?\\n\\nQUÃO?...</td>\n",
       "    </tr>\n",
       "    <tr>\n",
       "      <th>25</th>\n",
       "      <td>É bom ver todos felizes, estou muito feliz com...</td>\n",
       "    </tr>\n",
       "    <tr>\n",
       "      <th>26</th>\n",
       "      <td>Pessoal orientação do nosso amigo da PRF, acab...</td>\n",
       "    </tr>\n",
       "    <tr>\n",
       "      <th>27</th>\n",
       "      <td>\"E conhecereis a verdade, e a verdade vos libe...</td>\n",
       "    </tr>\n",
       "    <tr>\n",
       "      <th>28</th>\n",
       "      <td>Kit maçônico, projeto do governo bolsonaro par...</td>\n",
       "    </tr>\n",
       "    <tr>\n",
       "      <th>29</th>\n",
       "      <td>PESSOAL, DESCODIFIQUEI O DISCURSO DELE, SEU RE...</td>\n",
       "    </tr>\n",
       "  </tbody>\n",
       "</table>\n",
       "</div>"
      ],
      "text/plain": [
       "                               text_content_anonymous\n",
       "0   This community was blocked in Brazil following...\n",
       "1   \"E conhecereis a verdade, e a verdade vos libe...\n",
       "2   Bem vindo(a) ao grupo Ipirá Notícias. \\n\\nComp...\n",
       "3                    Vídeo de Maria Teresa D  Valente\n",
       "4   Para quem gosta de MEDICINA NATURAL, esse é, S...\n",
       "5                     Foto de Maria Teresa D  Valente\n",
       "6   O Meu amigo NÃO sou infiltrado ... meu voto fo...\n",
       "7   INVISTA CONOSCO E RECEBA✅\\n SEU LUCRO ESTÁ SEG...\n",
       "8   🚨Pessoal, estamos correndo contra o tempo para...\n",
       "9   Desculpa, pessoal, eu sei que esse pode não se...\n",
       "10  *VAMOS SEGUIR O INSTAGRAM DO EXÉRCITO BRASILEI...\n",
       "11  Já que lula colocou um milhão no podcast do fl...\n",
       "12  \"E conhecereis a verdade, e a verdade vos libe...\n",
       "13  ⚡️🇧🇷 Actus Liberandi - Ordem De Cristo 🇧🇷\\n\\n✨...\n",
       "14  Confie em mim com esta plataforma, não acho qu...\n",
       "15  Ola! Tudo bem? A nossa enquete eleitoral esta ...\n",
       "16  - Contra tudo e contra todos, tivemos no 1° tu...\n",
       "17  Irmãos de DIREITA, COMPARTILHEM o MÁXIMO, VAMO...\n",
       "18  JUNTE-SE A NÓS TAMBÉM E MANTENHA-SE INFORMADO ...\n",
       "19                                            Bom dia\n",
       "20  meu grande investidor está testemunhando como ...\n",
       "21  R $ 1.000 para ganhar R $ 10.000\\nR $ 1.500 pa...\n",
       "22  Ola! Tudo bem? A nossa enquete eleitoral esta ...\n",
       "23  *Não é só nas ruas que podemos protestar !!!*\\...\n",
       "24  ENVIE SEU PEDIDO !!!\\n\\nOI ?\\n\\nOLÁ ?\\n\\nQUÃO?...\n",
       "25  É bom ver todos felizes, estou muito feliz com...\n",
       "26  Pessoal orientação do nosso amigo da PRF, acab...\n",
       "27  \"E conhecereis a verdade, e a verdade vos libe...\n",
       "28  Kit maçônico, projeto do governo bolsonaro par...\n",
       "29  PESSOAL, DESCODIFIQUEI O DISCURSO DELE, SEU RE..."
      ]
     },
     "metadata": {},
     "output_type": "display_data"
    }
   ],
   "source": [
    "top_30_positive_messages = duckdb.sql(\"\"\"\n",
    "  SELECT DISTINCT text_content_anonymous\n",
    "  FROM telegram_df\n",
    "  WHERE sentiment = 1\n",
    "  ORDER BY sharings DESC\n",
    "  LIMIT 30\n",
    "\"\"\").df()\n",
    "\n",
    "display(top_30_positive_messages)"
   ]
  },
  {
   "cell_type": "markdown",
   "id": "d9ac3d71",
   "metadata": {},
   "source": [
    "23. As 30 mensagens mais negativas (distintas)"
   ]
  },
  {
   "cell_type": "code",
   "execution_count": 54,
   "id": "ea7d4fcb",
   "metadata": {},
   "outputs": [
    {
     "data": {
      "application/vnd.microsoft.datawrangler.viewer.v0+json": {
       "columns": [
        {
         "name": "index",
         "rawType": "int64",
         "type": "integer"
        },
        {
         "name": "text_content_anonymous",
         "rawType": "object",
         "type": "string"
        }
       ],
       "conversionMethod": "pd.DataFrame",
       "ref": "c8c8498c-4ca4-444b-9000-1ee95d3dc4f8",
       "rows": [
        [
         "0",
         "Grupo Para Organizar 200 MIL Eleitores do Bolsonaro, Que Comprovará a Maioria Dos Eleitores Que Votarão no Bolsonaro 22.\n\nSe Você Apoia o PRESIDENTE JAIR MESSIAS BOLSONARO, só Divulgue Suas Realizações, Programas e Pronunciamentos Que Nos Interessam.\n\nNão Daremos Voz ou Notoriedade a Nenhum Outro Presidenciável.\n\nO GRUPO NÃO se Responsabiliza Pela Postagem de Nenhum Membro, o Autor da Publicação Será o Responsável.\n\nNÃO Publique NEM Compartilhe NADA Sem a Fonte Confirmada ou Conteúdo Que Contenha FAKE NEWS.\n\n✔️ Se Ver Algo de Errado no Grupo, Como Mensagens Impróprias de Infiltrados, Digite: [USER] Que um Administrador Será Chamado.\n\n\n⚠️ Copie o Texto Abaixo e Divulgue o Para Todos:\n\nGrupo: 🇧🇷 EXÉRCITO PATRIOTA 🇧🇷\n\nLink:👉 https://t.me/+DnJpx-HxNCFkMmUx\n\nOu Whatsapp: https://baixaogratis.blogspot.com/p/entrar-para-o-grupo.html\n\nCOMPARTILHE O GRUPO PARA TODOS !!\n\n\nE Conhecereis a Verdade, e a Verdade Vos Libertará. João 8:32\n\nA Verdade Será Inevitável 🕊\n\nO BRASIL É DE JESUS!\n\n\n👇🏻👇🏻 MAIS NOS LINKS ABAIXO 👇🏻👇🏻"
        ],
        [
         "1",
         "BOA NOITE A TODOS. O QUE EU VOU DIZER É SÉRIO A ESQUERDA ESTA AGINDO NOS GRUPOS DE WHATSAPP POSTANDO LINKS NAS REDES SOCIAIS DIRECIONADOS AO TELEGRAN. \n\nO NOME DO GRUPO É \n\nMEU VOTO É BOLSONARO 22\n\nTEM DE VÁRIOS ESTADOS.\nELES ESTÃO PEDINDO A FOTO DO COMPROVANTE DE VOTAÇÃO E ATÉ TÍTULOS DE ELEITOR. \nE AS PESSOAS MUITAS DELAS ESTÃO POSTANDO. \n\nELES VEM COM ALEGAÇÃO QUE QUEREM CHEGAR A 60 MILHÕES DE COMPROVANTES PRA MOVER UMA AÇÃO CONTRA FRAUDE. ISSO É MENTIRA. É FALSO. \nPEÇO AJUDA DE VCS POIS ESTOU DESDE ONTEM TENTANDO ABRIR OS OLHOS DAS PESSOAS QUE ESTÃO NOS GRUPOS POSTANDO SEUS COMPROVANTES.  POIS NO SEGUNDO TURNO VÃO VOTAR NO LUGAR DESSAS PESSOAS. E NÃO VAI ADIANTAR RECLAMAR.\n\nPEÇO AJUDA DE VCS PARA VCS ENTRAREM NO BUSCADOR DO TELEGRAN DESSES GRUPOS E DENUNCIAR. COM A OPÇÃO DOCUMENTOS PESSOAIS.\n\nPAREM DE POSTAR ISSO É SÉRIO.\n\nO GRUPO DELES ESTA CONFIGURADO PRA POSTAGEM DE MENSAGENS DE 1H EM 1HORA. EVITANDO ASSIM ALERTAR AS PESSOAS DO GRUPO. EU FUI DELETADO DO GRUPO DO RIO DE JANEIRO PQ ESTAVA INCOMODANDO.\n\nSE NÃO AGIRMOS AGORA PERDEREMOS A ELEIÇÃO.\n\nELES ESTÃO AGINDO EM TODO O PAÍS.\n\nACORDEM NÃO É BRINCADEIRA"
        ],
        [
         "2",
         "Regras do Grupo \n\n1° Regra do grupo é respeito aos integrantes e moderadores.\n\n▪️ Somos o 1° grupo que representamos genuinamente a população sem interesses escusos.\n\n▪️Não temos partidos políticos ou políticos de estimações, mas obviamente quem é oposição ao establishment representa a população.\n\n▪️Somos o único grupo contra todos os regimes coletivistas que levam a ditadura.\n\n▪️ Somos contra socialismo, socialismo fabiano, comunismo, nazismo, fascismo, globalismo, ou seja, somos contra o totalitarismo.\n\n▪️Somos contra as seitas satânicas (\"maçonaria, rosa cruz, \ndemolay, Illuminati...\"\n\n▪️Somos contra monopólios, oligopólios e cartéis.\n\n▪️Somos contra as agendas 21, 2030 da ONU, fórum econômico mundial (NOM).\n\n▪️Somos a favor do cristianismo, legítima defesa (porte/posse), livre mercado, destatização, menos políticos, mordomias e privilégios das elites política e do funcionalismo público.\n\n▪️ Infelizmente a maioria dos grupos contra o sistema são alunos do comunista Paulo Freire, somos à exceção.\n\n▪️Somos contra qualquer grupo que fazem propagandas de soluções para o Brasil, mas as evidências de comprovantes de transferências bancárias e conversas divulgadas, mostram os recursos adquiridos sendo distribuídos entre os \"organizadores\".\n\n▪️Não faça refutações sem apresentar evidências. Caso contrário serão banidos, devido atrapalhar o despertar.\n\n▪️ Proibido vendas, bitcoins ou similares."
        ],
        [
         "3",
         "Notícia de dentro do quartel. Os militares JÁ QUEREM E ESTÃO DE PRONTIDÃO, todo efetivo foi chamado. \nMas PRECISA de mais gente nas ruas, principalmente nas capitais. Pediram para NÃO desistirem. Se o movimento ficar bem forte talves as 20:00 teremos surpresas positivas. Repassem em todos os grupos de WhatsApp, telegram e todos que vcs conhecem. Está MUITO perto!!!\n\nPor favor guerreiros NÃO desistam. Se em Brasília for 50% do público da última vez já será o suficiente, NÃO SAIAM DAS RUAS!!!"
        ],
        [
         "4",
         "Ola pessoal acessem o nosso grupo. \n✅Sem ofensas\n✅Entre apenas se tiver maturidade para debates\n✅Seja bem vindo(a)\n\nLink 👉🏻[USER]"
        ],
        [
         "5",
         "🟢 PASSAPORTE SANITÁRIO 🟢\n\nRegistro doses da vacina diretamente no ConectSus e entram na hora!\n\n👉🏻 Entre na faculdade sem medo!\n👉🏻 Continue em seu emprego!\n👉🏻 Faça a sua viagem sem preocupação!\n👉🏻 Seu filho em paz na escola!\n👉🏻 Apresente no concurso ou hospitais\n\nATUALIZE SUAS DOSES\n\nAPROVEITE para fazer o seu PASSAPORTE SANITÁRIO HOJE!!!\n\n👇🏻 Me Chame no privado Agora 👇🏻\n[USER]"
        ],
        [
         "6",
         "*ATENÇÃO*\nFaça chegar a Brasília-DF \nVários ônibus estão saindo de São Paulo da zona Leste carregando meliantes e torcedores da Gaviões, outros ônibus da radial leste levando \"torcedores\" e infiltrados do crime PCC para fazer desordem em Brasília-DF.\nObjetivo:\nInvadir o Congresso Senado e tentar invadir o STF.\nDizendo que são a favor do Bolsonaro.\nTentarão os mesmos modos operandi que ocorreu no Capitólio Americano.\nPara tentarem jogar a culpa e os crimes nas costas do Presidente.\nDenunciem e façam chegar aos grupos que estão em Brasília-DF, peçam as autoridades que interceptem os ônibus e o pessoal que lá estiver denunciem é urgente.\nJá sairam alguns ônibus e agora es tão saindo mais o filho da minha vizinha esta indo e ela me contou, estão recebendo dinheiro do bandidos através de um pessoal do sindicato e do PT que estiveram na comunidade convidando e aliciando com dinheiro eles pra irem.\nTemo pela vida de meu vizinho vi ele crescer aqui, anda errado mas a mãe é boa e esta sofrendo.\nAvisem urgente enviem para o pessoal do distrito de Brasília-DF. \n\nCompartilhem.🚨🚨🚨🚨🚨🚨🚨"
        ],
        [
         "7",
         "Regras do Grupo \n\n1° Regra do grupo é respeito aos integrantes e moderadores.\n\n▪️ Somos o 1° grupo que representamos genuinamente a população sem interesses escusos.\n\n▪️Não temos partidos políticos ou políticos de estimações, mas obviamente quem é oposição ao establishment representa a população.\n\n▪️Somos o único grupo contra todos os regimes coletivistas que levam a ditadura.\n\n▪️ Somos contra socialismo, socialismo fabiano, comunismo, nazismo, fascismo, globalismo, ou seja, somos contra totalitarismo.\n\n▪️Somos contra as seitas satânicas (\"maçonaria, rosa cruz, \ndemolay, Illuminati...\"\n\n▪️Somos contra monopólios, oligopólios e cartéis.\n\n▪️Somos contra as agendas 21, 2030 da ONU, fórum econômico mundial (NOM).\n\n▪️Somos a favor do cristianismo, legítima defesa (porte/posse), livre mercado, destatização, menos políticos, mordomias e privilégios das elites política e do funcionalismo público.\n\n▪️ Infelizmente a maioria dos grupos contra o sistema são alunos do comunista Paulo Freire, somos à excessão.\n\n▪️Somos contra qualquer grupo que fazem propagandas de soluções para o Brasil, mas as evidências de comprovantes de transferências bancárias e conversas divulgadas, mostram os recursos adquiridos sendo distribuídos entre os \"organizadores\".\n\n▪️Não faça refutações sem apresentar evidências. Caso contrário serão banidos, devido atrapalhar o despertar.\n\n▪️ Proibido vendas, bitcoins ou similares.\n\n▪️ Caso não goste do grupo, simplesmente saía dele."
        ],
        [
         "8",
         "Cuidado pessoal tão postando em todos os grupos pró Bolsonaro sobre maconaria é fakes... Não se enganem tão tentando manchar pro pessoal espalhar isso, pesquisem os grupos dos outro estados que eles estão com esses perfis entrando nos grupos e postando as mesmas mensagem, e perfis abaixo falando, meu deus e etc... E notem que estão volte e meio trocando foto de perfil. Cuidado... Notem o padrão demoníaco deles ai\n\nJá já entra outro perfil abaixo tentando falar mal do meu contato\nCuidado pessoal não se engane com os lulistas ai\n\nSe puderem me ajudar nos demais grupos agradeço :)\n\nSão alguns perfis são uns 5 a 7 perfis vejam nos demais grupos ;)\n\nDepois eles ficam nos papos precisam provar e etc... Cuidado pessoal\n\nVai ter perfil falando que vou pensar em votar no Bolsonaro e etc.. tudo fake pra colocar dúvidas aqui no grupo, não caia no papo deles"
        ],
        [
         "9",
         "ATENÇÃO !!! ALERTA A TODOS!!\n\nA ESQUERDA ESTA AGINDO NOS GRUPOS DE WHATSAPP POSTANDO LINKS NAS REDES SOCIAIS DIRECIONADOS AO TELEGRAN. \n\nO NOME DO GRUPO É:\nMEU VOTO É BOLSONARO 22\n\nESTÃO PEDINDO A FOTO DO COMPROVANTE DE VOTAÇÃO E ATÉ TÍTULOS DE ELEITOR. ELES VEM COM ALEGAÇÃO QUE QUEREM CHEGAR A 60 MILHÕES DE COMPROVANTES PARA MOVER UMA AÇÃO CONTRA FRAUDE. \n\nISSO É MENTIRA!!! \nISSO É FALSO!!\n\nFIQUEM ALERTA! NÃO POSTEM NADA ! \nPOIS NO SEGUNDO TURNO VÃO VOTAR NO LUGAR DAS PESSOAS QUE POSTARAM OS COMPROVANTES DE VOTAÇÃO DO 1o TURNO.\n\nENTREM NO BUSCADOR DO TELEGRAN DESSES GRUPOS E DENUNCIEM NA OPÇÃO DOCUMENTOS PESSOAIS.\n\nPAREM DE POSTAR !! ISSO É MUITO SÉRIO !!!\n\nO GRUPO DELES ESTÁ CONFIGURADO PARA POSTAGEM DE 1H EM 1H. \n\nSE NÃO AGIRMOS AGORA PERDEREMOS A ELEIÇÃO.\n\nELES ESTÃO AGINDO EM TODO O PAÍS.\n\nACORDEM NÃO É BRINCADEIRA !!!"
        ],
        [
         "10",
         "ATENÇÃO PATRIOTAS 🇧🇷\n\nUm jornalista da CNN acabou de apurar a Notícia. Alexandre de Morais acabou de mandar uma notificação extra judicial para Anatel que vai ser passada agora para as empresas de internet a partir das 22:00 horas todos os servidores de internet do Brasil vão ser desligados para evitar que seja coordenada a maior manifestação da história do Brasil nessa quarta feira (Repassem urgente)"
        ],
        [
         "11",
         "Orientação de nosso presidente, Jair Bolsonaro.\n\nTodos os anti-brasileiros, os partidos vermelhos, planejam realizar manifestações em todo o Brasil. A principal finalidade é a provocação, gerar o descrédito das autoridades e perturbar a ordem. \nVocês que são brasileiros do bem, não filmem os eventos, não repassem o que receberem, não encaminhem para ninguém. Apaguem a propaganda vermelha, force-os a fazerem propaganda para si mesmos. \nQuebrem a rede de difusão do mal.\nNÃO DISCUTAM. NÃO CRIEM ECO. IGNORE-OS NA REDE. NÃO FAÇA COMENTÁRIOS. \nAs redes sociais só funcionarão como uma mídia de divulgação para eles se assim o permitirmos.\nTrate-os como se não existissem. Eles só ganham força se tiverem contrapontos, discussões, divulgação e encaminhamento de mensagens. Não caia na armadilha de disseminar o ódio e quebre a corrente.\nPara eles, Deus, o país, a família e os valores não têm nenhum sentido.\nNÃO DÊ ECO!\nEles cairão por si só! \nIgnore-os!\nRepassem essa mensagem em todas as suas redes sociais.\n\nCOMPARTILHAR COM TODOS...\nBRASIL ACIMA DE TUDO!\nDEUS ACIMA DE TODOS!\n🇧🇷🙏🏻🇧🇷🙏🏻🇧🇷🙏🏻🇧🇷🙏🏻"
        ],
        [
         "12",
         "Oficiais do exército estão dizendo que a população não tá sabendo manifestar, a população não pode  ficar colocando música que se referem ao presidente não!  Tem que colocar o hino Nacional da bandeira do exército brasileiro   senão poderão interpretação que estão defendendo o Bolsonaro e não à pátria\n*Não vincular nome do Bolsonaro nas manifestações.*🇧🇷🇧🇷🇧🇷🇧🇷🇧🇷🇧🇷☝🏿☝🏿☝🏿☝🏿👂🏾👂🏾👂🏾👂🏾👂🏾👂🏾👂🏾"
        ],
        [
         "13",
         "⚠️URGENTE⚠️\nCOMEÇOU O COMUNISMO🇨🇳\nTA PROIBIDO❌ PREGAR A PALAVRA DE DEUS✝️A PARTIR DE 00:00 🕛 TODES ES CRIANÇES IRAO P ESCOLA DE ALL STAR 👟 E IRAO APRENDER SOBRE ADAO E IVY🏳️‍🌈\nHORMONIO EM TODAS AS 🥬🍅MEREDAS ESCOLARES🥔 & MARTELO🔨 E FOICE 🇨🇳AGORA EH PARTE DO MATERIAL ESCOLAR🎒📚 REPITO🚨🚨🚨🚨 QUEM NAO TIVER PELO MENOS ⚧🚺🚹🚻50 GENEROS MORRE🏳️‍🌈PRONOME NA NA BIO OU CADEIA👮‍♀👮FUNCIONARIOS DA SMARTFIT 💪🏋️‍♀️🏋️‍♂️PASSARÃO PARA DEIXAR OS🏳️‍🌈 KITGAYS 🏳️‍🌈DE CASA🏠 EM CASA🏠 FIQUEM LIGADOS⚠️⚠️⚠️⚠️\nAGORA TODO MUNDO VAI TER QUE DIVIDIR A COMIDA🍅🍞🍟🧅🥬 VOU COMER VOCE🫵 SUA ESPOSA 👰‍♀SEU PAI 👴E SUA MAE👵"
        ],
        [
         "14",
         "#Eleições2022\n\n🛑🇺🇸🔥🇧🇷 ATENÇÃO! - Segundo o site Kaspersky, empresa especializada em cibersegurança, esta ocorrendo um grande volume de tentativas e de ataques aos sistemas brasileiros vindas diretamente dos Estados Unidos.\n\nCOMPARTILHE !!! 🛑🛑🛑\n\n❤Siga o [USER] e a nossa rede [USER] para acompanhar todas as atualizações.✅️"
        ],
        [
         "15",
         "para mais informações sobre nossa plataforma de investimento e para iniciar um investimento conosco contato: [USER]"
        ],
        [
         "16",
         "ESTA FALTANDO BRASILEIROS QUE VOTOU NO BOLSONARO ENVIAR O COMPROVANTE. TIRA UMA FOTO E ENVIA RAPIDO DO JEITO QUE ESTIVER, NAO PRECISA NEM ESCREVER NADA. SE VOTOU NO BOUSONARO TIRA FOTO E ENVIA, ESTAMOS PRECISANDO COMPROVAR A FRAUDE.\n\nCONVOQUEM TODOS OS ELEITORES DO BOLSONARO ENVIAR O COMPROVANTE!!!!!!!!!!!!!!!!!!!!!!!!!!!!!!!!!!!"
        ],
        [
         "17",
         "O ex-presidente e ex-presidiário Lula deu entrevista ao jornal El País dizendo que não vai participar de “uma frente ampla” para tentar derrotar o presidente Jair Bolsonaro nas eleições de 2022.\n\nSegundo o petista, Ela já tem “idade demais”, já “viveu demais” e tem “experiência demais” e não vai “enganar o povo mais uma vez”.\n\nEle tentou se explicar afirmando que sempre aparece alguém propondo uma frente ampla para alguma coisa e, segundo ele, “frente ampla virou uma coisa mágica” e só estaria disposto se fosse para “recuperar os direitos que os trabalhadores perderam, para fazer uma reforma tributária em que os ricos paguem imposto de verdade, para que possa dar cidadania ao povo excluído desde o tempo da escravidão”.\n\nLula não explicou, porém, por que não fez a reforma tributária enquanto ficou oito anos à frente da Presidência da República ou nos outros cinco anos em que Dilma Rousseff, também do PT, o sucedeu.\n\nFonte: Diário do Poder\n\nLink: https://diariodopoder.com.br/brasil-e-regioes/lula-diz-em-entrevista-que-nao-quer-enganar-o-povo-mais-uma-vez"
        ],
        [
         "18",
         "https://enqueteeleicoes2022.com.br/\nENQUETE OFICIAL 2º turno para Presidente da Republica 2022: Entre e Vote"
        ],
        [
         "19",
         "Estou vendo aqui a matemática q percebo agora. Antes do resultado final. \n\nEstou vendo q está assim:\nCom 12% temos:\n\nBolsonaro 48% \nLula 42%\n\n-----------------------\n\nEntão, observem o seguinte: nos votos totais.\n\nA cada 12% de apuração\nSe lula sobe 1% e JB desce 0,5%> \n\nEntão:\n\n12% - JB 48%    L 42%\n24% - JB 47,5% L 43%\n36% - JB 47%    L 44%\n48% - JB 46,5% L 45%\n60% - JB 46%    L 46%\n72% - JB 45,5% L 47%\n84% - JB 45%    L 48%\n96% - JB 44,5% L 49%\n\nAcompanhem o resultado a cada % q marquei, sobre o total. \n\nEstou acompanhando pela Jovem Pan.\n\nIsto acontecendo, e se confirmando, é sinal d algoritmo e fraude eleitoral. As FFAA deverão estar d olho neste acontecimento. Ou algo bem parecido com estes números. \n\nCom 60% estarão empatados....\n\nAss: Heberbio"
        ],
        [
         "20",
         "Ola irmãos  meu nome é Marcia Rocha e sou a fundadora da rede Judah 🙏❤️nunca pedi nada aos membros do canal e do grupo ,mas nao tenho a quem recorrer 😞 sou mãe sozinha  e estou passando por problemas delicados financeiro , e  desempregada  devido o problema atual, pagando aluguel fora os problemas de contas  e outras privacoes com meu filho , 😢por isso pela primeira e com o coração apertado venho pedir  ajuda a vcs . \n\nDesde ja agradeco , qualquer contribuicao e válida. Conto com suas orações tbm !Que o Eterno Abencoe🙏\n\nMarcia cristina dos santos rocha \nItaú \nAgência: 0684\nConta corrente: 04616 dig: 2\nCPF e Pix : 60646187104"
        ],
        [
         "21",
         "Bom dia!! Sou advogada e vou dar um conselho. Caso a polícia compareça nas manifestações com ordens judiciais para liberação das vias, não discutam, não reajam, não toquem neles ou nas viaturas. Permaneçam em silêncio e imóveis. Assim eles não podem imputar delitos como desacato, resistência, desobediência (o que ainda é muito comum) e, como consequência, \"legitimar\" uma prisão. Todos somos cidadãos brasileiros e temos direito de nos manifestarmos, porém já vi muitos abusos ocorrerem contra nós. Outra dica: caso eles conduzam alguém na viatura sob qualquer alegação, os demais manifestantes imediatamente liguem para um advogado para ir atrás deles. O conduzido permaneça em  silêncio e sem reagir, deixa que o advogado tome as providências. Não vamos permitir que nosso direito de manifestação pacífica seja banido, somos cidadãos brasileiros e temos esse direito sim. Avisem os manifestantes, pois se exaltar durante uma abordagem, por mais que seja revoltante, não ajudará, apenas agravará a situação.\n\n🚨🚨INFORMACOES IMPORTANTES 🚨🚨\n\nNão pode camisa com o fotos ou o número do Presidente, para que não seja invalidado a nossa manifestação, nosso pedido não pode ser o artigo 142 ou intervenção militar.\nÉ para pedir INTERVENÇÃO FEDERAL.\nPersistir por mais de 72hs.\nNao podemos falar o nome do Bolsonaro para não  prejudica-lo.\nA manifestação  tem que ficar  clara que nao e pq o Bolsanaro perdeu e sim pq nao queremos  um Ladrão  no governo, isso e para nao perdermos o Bolsonaro e nao tornar inválida  as manifestações.\nO mais  importante, deixe sempre dentro  do carro água  e se possível  alguma comida, que ao passar pelos camioneiros consigam dar apoio.\neles precisam  muito  nesse momento.\nNossa inflação  ja esta subindo, dólar  subindo, ações  da Petrobrás  caindo, entao temos que resistir.\nOrientação tb  de um amigo da PRF, que acabou de nos informar que podemos ficar na BR e que não seremos multados, o que pode multar são carros trancando a passagem, então passagem devem ser trancadas com terra, pneu, etc e não carros e nem caminhões . Se caso a Polícia perguntar quem é o líder que está organizando dizer que não temos líder que estamos todos juntos. Isso não dará o direito de multas em cpfs e nem cnpj. Temos no total 347 locais bloqueados no momento.  Repassem por favor para a maior quantidade de pessoas possível.\nRepassem para todos os grupos.\nVamos pra cima.\nDeus, Pátria, Familia"
        ],
        [
         "22",
         "*REPASSEM AOS GRUPOS URGENTE*\n\n*CONTINUAÇÃO DAS MANIFESTAÇÕES NA FRENTE DOS QUARTÉIS DO EXÉRCITO*\n\nQuinta dia 03- início 9:00\nSexta dia 04- início 9:00\nSábado- dia todo\n( Terá tendas ) \nDomingo- dia todo\n( Terá tendas ) \n\nPrecisamos do maior número de pessoas lá! Não tenham medo de ir! Muito organizado e lindo! Vão para lutar pelo nosso país!\n\n#🚨🚨🚨🚨🚨⬇️⬆️⬇️⬆️⬇️⬆️REPASSEM URGENTE!"
        ],
        [
         "23",
         "O medo do fracasso não é um trampolim para o sucesso.  Todo mundo falha, não há como escapar de sua sombra, sem medo do fracasso, sem entusiasmo para vencer.  Portanto, não devemos deixar que esse medo ocupe muito espaço em nossa mente, impedindo-nos de tomar a decisão certa, se você ver uma oportunidade que pode mudar sua vida para sempre, sinta-se à vontade para experimentá-la.\n        “Se você quer algo, vá buscar!\n        gerenciar\n        [USER] \n        [USER] \n        [USER]"
        ],
        [
         "24",
         "*🚨🚨🚨🚨Urgente povo🚨🚨🚨🚨* \n*Presidente vai se pronunciar! e vai pedir para o povo desistir! Mais não é para ninguém desistir! ele não pode pedir para o povo ficar na rua (Repassem) essa notícia para todos! Fiquem fortes nossa última chance*"
        ],
        [
         "25",
         "🚨 PASSAPORTE SANITÁRIO 🚨\n\nRegistro doses da vacina diretamente no ConectSus e entram na hora!\n\n👉🏻 Entre na faculdade sem medo!\n👉🏻 Continue em seu emprego!\n👉🏻 Faça a sua viagem sem preocupação!\n👉🏻 Seu filho em paz na escola!\n👉🏻 Apresente no concurso ou hospitais\n\nATUALIZE SUAS DOSES\n💥 Dose 4 disponível acima dos 18 anos.\n💥 Dose 3 acima dos 12 anos\n💥 Dose 2 acima dos 5 anos\nEm breve, doses acima dos 3 anos\n\nAPROVEITE para fazer o seu PASSAPORTE SANITÁRIO HOJE!!!\n\n👇🏻 Me Chame no privado Agora 👇🏻\n[USER]"
        ],
        [
         "26",
         "Oficiais do exército estão dizendo que a população não tá sabendo manifestar, a população não pode  ficar colocando música que se referem ao presidente não!  Tem que colocar o hino Nacional da bandeira do exército brasileiro   senão poderão interpretação que estão defendendo o Bolsonaro e não à pátria\n *Não vincular nome do Bolsonaro nas manifestações.*🇧🇷🇧🇷🇧🇷🇧🇷🇧🇷🇧🇷☝🏿☝🏿☝🏿☝🏿👂🏾👂🏾👂🏾👂🏾👂🏾👂🏾👂🏾"
        ],
        [
         "27",
         "POVOOOOOOO ACORDA!!! AGORA É A HORA de ELEGER OS CANDIDATOS DO PARTIDO DO NOSSO PRESIDENTE Rondônia MARCOS ROGÉRIO 22      São Paulo  TARCÍSIO 10                       Espírito santo  MANATO 22.                  Santa Catarina  JORGINHO MELO 22.   Rio grande do Sul  ONIX 22.                    PRECISAMOS ELEGER eles para ajudar o nosso presidente.VAMOS CENTRALIZAR NAS ELEIÇÕES do nosso BOLSONARO 22 💪🙏🙏🙏🙏🙏🙏🙏💪💪🇧🇷💪🙏💪🙏💪💪🇧🇷💪💪🇧🇷💪🙏💪🙏🙏💪💪💪💪💪💪💪💪💪💪💪💪🇧🇷💪💪🇧🇷💪🙏💪VEncer,vencer,vencer NÃO TEM OUTRA SAÍDA Povooooooo"
        ],
        [
         "28",
         "Feedback de Leandro. C\n37 anos. Brasil, Maranhao\n \n\nIsso não é mágica, se você não sofreu na vida então você nunca pode se relacionar com nenhuma dessas pessoas investindo aqui e dando testemunho o dia todo, ao invés de sair na rua roubando, trapaceando, se preocupando ou reclamando do trabalho enquanto não Não tome uma decisão ousada e sábia de investir em seu futuro!\n\nVocê pode ativar o bot e começar a ganhar dinheiro aqui \nConecte-se comigo: [USER]"
        ],
        [
         "29",
         "A DITA FICOU DURA: NÃO DÁ PRA DISFARÇAR\nCÔRTE ASSUME SER QUEM MANDA NO BRASIL\nVotação dá direito de fecharem qualquer canal ou página na internet sem ação judicial\nhttps://youtu.be/d9DKFN6kYNc"
        ]
       ],
       "shape": {
        "columns": 1,
        "rows": 30
       }
      },
      "text/html": [
       "<div>\n",
       "<style scoped>\n",
       "    .dataframe tbody tr th:only-of-type {\n",
       "        vertical-align: middle;\n",
       "    }\n",
       "\n",
       "    .dataframe tbody tr th {\n",
       "        vertical-align: top;\n",
       "    }\n",
       "\n",
       "    .dataframe thead th {\n",
       "        text-align: right;\n",
       "    }\n",
       "</style>\n",
       "<table border=\"1\" class=\"dataframe\">\n",
       "  <thead>\n",
       "    <tr style=\"text-align: right;\">\n",
       "      <th></th>\n",
       "      <th>text_content_anonymous</th>\n",
       "    </tr>\n",
       "  </thead>\n",
       "  <tbody>\n",
       "    <tr>\n",
       "      <th>0</th>\n",
       "      <td>Grupo Para Organizar 200 MIL Eleitores do Bols...</td>\n",
       "    </tr>\n",
       "    <tr>\n",
       "      <th>1</th>\n",
       "      <td>BOA NOITE A TODOS. O QUE EU VOU DIZER É SÉRIO ...</td>\n",
       "    </tr>\n",
       "    <tr>\n",
       "      <th>2</th>\n",
       "      <td>Regras do Grupo \\n\\n1° Regra do grupo é respei...</td>\n",
       "    </tr>\n",
       "    <tr>\n",
       "      <th>3</th>\n",
       "      <td>Notícia de dentro do quartel. Os militares JÁ ...</td>\n",
       "    </tr>\n",
       "    <tr>\n",
       "      <th>4</th>\n",
       "      <td>Ola pessoal acessem o nosso grupo. \\n✅Sem ofen...</td>\n",
       "    </tr>\n",
       "    <tr>\n",
       "      <th>5</th>\n",
       "      <td>🟢 PASSAPORTE SANITÁRIO 🟢\\n\\nRegistro doses da ...</td>\n",
       "    </tr>\n",
       "    <tr>\n",
       "      <th>6</th>\n",
       "      <td>*ATENÇÃO*\\nFaça chegar a Brasília-DF \\nVários ...</td>\n",
       "    </tr>\n",
       "    <tr>\n",
       "      <th>7</th>\n",
       "      <td>Regras do Grupo \\n\\n1° Regra do grupo é respei...</td>\n",
       "    </tr>\n",
       "    <tr>\n",
       "      <th>8</th>\n",
       "      <td>Cuidado pessoal tão postando em todos os grupo...</td>\n",
       "    </tr>\n",
       "    <tr>\n",
       "      <th>9</th>\n",
       "      <td>ATENÇÃO !!! ALERTA A TODOS!!\\n\\nA ESQUERDA EST...</td>\n",
       "    </tr>\n",
       "    <tr>\n",
       "      <th>10</th>\n",
       "      <td>ATENÇÃO PATRIOTAS 🇧🇷\\n\\nUm jornalista da CNN a...</td>\n",
       "    </tr>\n",
       "    <tr>\n",
       "      <th>11</th>\n",
       "      <td>Orientação de nosso presidente, Jair Bolsonaro...</td>\n",
       "    </tr>\n",
       "    <tr>\n",
       "      <th>12</th>\n",
       "      <td>Oficiais do exército estão dizendo que a popul...</td>\n",
       "    </tr>\n",
       "    <tr>\n",
       "      <th>13</th>\n",
       "      <td>⚠️URGENTE⚠️\\nCOMEÇOU O COMUNISMO🇨🇳\\nTA PROIBID...</td>\n",
       "    </tr>\n",
       "    <tr>\n",
       "      <th>14</th>\n",
       "      <td>#Eleições2022\\n\\n🛑🇺🇸🔥🇧🇷 ATENÇÃO! - Segundo o s...</td>\n",
       "    </tr>\n",
       "    <tr>\n",
       "      <th>15</th>\n",
       "      <td>para mais informações sobre nossa plataforma d...</td>\n",
       "    </tr>\n",
       "    <tr>\n",
       "      <th>16</th>\n",
       "      <td>ESTA FALTANDO BRASILEIROS QUE VOTOU NO BOLSONA...</td>\n",
       "    </tr>\n",
       "    <tr>\n",
       "      <th>17</th>\n",
       "      <td>O ex-presidente e ex-presidiário Lula deu entr...</td>\n",
       "    </tr>\n",
       "    <tr>\n",
       "      <th>18</th>\n",
       "      <td>https://enqueteeleicoes2022.com.br/\\nENQUETE O...</td>\n",
       "    </tr>\n",
       "    <tr>\n",
       "      <th>19</th>\n",
       "      <td>Estou vendo aqui a matemática q percebo agora....</td>\n",
       "    </tr>\n",
       "    <tr>\n",
       "      <th>20</th>\n",
       "      <td>Ola irmãos  meu nome é Marcia Rocha e sou a fu...</td>\n",
       "    </tr>\n",
       "    <tr>\n",
       "      <th>21</th>\n",
       "      <td>Bom dia!! Sou advogada e vou dar um conselho. ...</td>\n",
       "    </tr>\n",
       "    <tr>\n",
       "      <th>22</th>\n",
       "      <td>*REPASSEM AOS GRUPOS URGENTE*\\n\\n*CONTINUAÇÃO ...</td>\n",
       "    </tr>\n",
       "    <tr>\n",
       "      <th>23</th>\n",
       "      <td>O medo do fracasso não é um trampolim para o s...</td>\n",
       "    </tr>\n",
       "    <tr>\n",
       "      <th>24</th>\n",
       "      <td>*🚨🚨🚨🚨Urgente povo🚨🚨🚨🚨* \\n*Presidente vai se pr...</td>\n",
       "    </tr>\n",
       "    <tr>\n",
       "      <th>25</th>\n",
       "      <td>🚨 PASSAPORTE SANITÁRIO 🚨\\n\\nRegistro doses da ...</td>\n",
       "    </tr>\n",
       "    <tr>\n",
       "      <th>26</th>\n",
       "      <td>Oficiais do exército estão dizendo que a popul...</td>\n",
       "    </tr>\n",
       "    <tr>\n",
       "      <th>27</th>\n",
       "      <td>POVOOOOOOO ACORDA!!! AGORA É A HORA de ELEGER ...</td>\n",
       "    </tr>\n",
       "    <tr>\n",
       "      <th>28</th>\n",
       "      <td>Feedback de Leandro. C\\n37 anos. Brasil, Maran...</td>\n",
       "    </tr>\n",
       "    <tr>\n",
       "      <th>29</th>\n",
       "      <td>A DITA FICOU DURA: NÃO DÁ PRA DISFARÇAR\\nCÔRTE...</td>\n",
       "    </tr>\n",
       "  </tbody>\n",
       "</table>\n",
       "</div>"
      ],
      "text/plain": [
       "                               text_content_anonymous\n",
       "0   Grupo Para Organizar 200 MIL Eleitores do Bols...\n",
       "1   BOA NOITE A TODOS. O QUE EU VOU DIZER É SÉRIO ...\n",
       "2   Regras do Grupo \\n\\n1° Regra do grupo é respei...\n",
       "3   Notícia de dentro do quartel. Os militares JÁ ...\n",
       "4   Ola pessoal acessem o nosso grupo. \\n✅Sem ofen...\n",
       "5   🟢 PASSAPORTE SANITÁRIO 🟢\\n\\nRegistro doses da ...\n",
       "6   *ATENÇÃO*\\nFaça chegar a Brasília-DF \\nVários ...\n",
       "7   Regras do Grupo \\n\\n1° Regra do grupo é respei...\n",
       "8   Cuidado pessoal tão postando em todos os grupo...\n",
       "9   ATENÇÃO !!! ALERTA A TODOS!!\\n\\nA ESQUERDA EST...\n",
       "10  ATENÇÃO PATRIOTAS 🇧🇷\\n\\nUm jornalista da CNN a...\n",
       "11  Orientação de nosso presidente, Jair Bolsonaro...\n",
       "12  Oficiais do exército estão dizendo que a popul...\n",
       "13  ⚠️URGENTE⚠️\\nCOMEÇOU O COMUNISMO🇨🇳\\nTA PROIBID...\n",
       "14  #Eleições2022\\n\\n🛑🇺🇸🔥🇧🇷 ATENÇÃO! - Segundo o s...\n",
       "15  para mais informações sobre nossa plataforma d...\n",
       "16  ESTA FALTANDO BRASILEIROS QUE VOTOU NO BOLSONA...\n",
       "17  O ex-presidente e ex-presidiário Lula deu entr...\n",
       "18  https://enqueteeleicoes2022.com.br/\\nENQUETE O...\n",
       "19  Estou vendo aqui a matemática q percebo agora....\n",
       "20  Ola irmãos  meu nome é Marcia Rocha e sou a fu...\n",
       "21  Bom dia!! Sou advogada e vou dar um conselho. ...\n",
       "22  *REPASSEM AOS GRUPOS URGENTE*\\n\\n*CONTINUAÇÃO ...\n",
       "23  O medo do fracasso não é um trampolim para o s...\n",
       "24  *🚨🚨🚨🚨Urgente povo🚨🚨🚨🚨* \\n*Presidente vai se pr...\n",
       "25  🚨 PASSAPORTE SANITÁRIO 🚨\\n\\nRegistro doses da ...\n",
       "26  Oficiais do exército estão dizendo que a popul...\n",
       "27  POVOOOOOOO ACORDA!!! AGORA É A HORA de ELEGER ...\n",
       "28  Feedback de Leandro. C\\n37 anos. Brasil, Maran...\n",
       "29  A DITA FICOU DURA: NÃO DÁ PRA DISFARÇAR\\nCÔRTE..."
      ]
     },
     "metadata": {},
     "output_type": "display_data"
    }
   ],
   "source": [
    "top_30_negative_messages = duckdb.sql(\"\"\"\n",
    "  SELECT DISTINCT text_content_anonymous\n",
    "  FROM telegram_df\n",
    "  WHERE sentiment = -1\n",
    "  ORDER BY sharings DESC\n",
    "  LIMIT 30\n",
    "\"\"\").df()\n",
    "\n",
    "display(top_30_negative_messages)"
   ]
  },
  {
   "cell_type": "markdown",
   "id": "60c4b1b6",
   "metadata": {},
   "source": [
    "24. O usuário mais otimista"
   ]
  },
  {
   "cell_type": "code",
   "execution_count": 61,
   "id": "dad67a95",
   "metadata": {},
   "outputs": [
    {
     "name": "stdout",
     "output_type": "stream",
     "text": [
      "                id_member_anonymous  total_sentiment\n",
      "0  1665e22b0f564cd46d343f7677014821           3371.0\n"
     ]
    }
   ],
   "source": [
    "most_optimistic_user = duckdb.sql(\"\"\"\n",
    "  SELECT id_member_anonymous, SUM(sentiment) AS total_sentiment\n",
    "  FROM telegram_df\n",
    "  WHERE id_member_anonymous IS NOT NULL\n",
    "  GROUP BY id_member_anonymous\n",
    "  ORDER BY total_sentiment DESC\n",
    "  LIMIT 1\n",
    "\"\"\").df()\n",
    "\n",
    "print(most_optimistic_user)"
   ]
  },
  {
   "cell_type": "markdown",
   "id": "5009c5a1",
   "metadata": {},
   "source": [
    "25. O usuário mais negativista"
   ]
  },
  {
   "cell_type": "code",
   "execution_count": 64,
   "id": "97869420",
   "metadata": {},
   "outputs": [
    {
     "name": "stdout",
     "output_type": "stream",
     "text": [
      "                id_member_anonymous  total_sentiment\n",
      "0  c743967449a387ad2c1c7e03b2c45b36          -1677.0\n"
     ]
    }
   ],
   "source": [
    "most_negative_user = duckdb.sql(\"\"\"\n",
    "  SELECT id_member_anonymous, SUM(sentiment) AS total_sentiment\n",
    "  FROM telegram_df\n",
    "  WHERE id_member_anonymous IS NOT NULL\n",
    "  GROUP BY id_member_anonymous\n",
    "  ORDER BY total_sentiment ASC\n",
    "  LIMIT 1\n",
    "\"\"\").df()\n",
    "\n",
    "print(most_negative_user)"
   ]
  },
  {
   "cell_type": "markdown",
   "id": "8e1072ca",
   "metadata": {},
   "source": [
    "26. As 30 maiores mensagens"
   ]
  },
  {
   "cell_type": "code",
   "execution_count": 66,
   "id": "1fb99dfc",
   "metadata": {
    "vscode": {
     "languageId": "markdown"
    }
   },
   "outputs": [
    {
     "data": {
      "application/vnd.microsoft.datawrangler.viewer.v0+json": {
       "columns": [
        {
         "name": "index",
         "rawType": "int64",
         "type": "integer"
        },
        {
         "name": "text_content_anonymous",
         "rawType": "object",
         "type": "string"
        },
        {
         "name": "caracteres",
         "rawType": "int64",
         "type": "integer"
        }
       ],
       "conversionMethod": "pd.DataFrame",
       "ref": "9acbc1bd-d3fc-44b6-9cb8-3b462e64528d",
       "rows": [
        [
         "0",
         "PROPOSTAS DE BOLSONARO PARA 2023 - POSTADAS AGORA À NOITE - 29/10/22\n____________________________________________________________________\n É preciso compreender aqueles que ainda não decidiram e lhes oferecer segurança para que façam a melhor escolha para o futuro da nossa nação. Mais do que promessas vazias e abstratas, o Brasil precisa de um caminho sólido, pautado em ações concretas e, sobretudo, em princípios.\n- A partir de 2023, com um Congresso em sintonia com o nosso Governo, será possível avançar não apenas em novas propostas, mas naquelas boas medidas que foram travadas pelo caminho. Dito isso segue abaixo 22 COMPROMISSOS que farão do Brasil um país mais próspero, mais livre e mais seguro para todos os brasileiros:\n1. Reduzir maioridade penal para crimes hediondos, como estupro, homicídio e latrocínio.\n2. Acabar com a audiência de custódia, hoje um dos maiores estímulos à impunidade no país.\n3. Endurecer penas para crimes violentos e os critérios para progressão de\nregime.\n4. Criar o Estatuto de Direitos das Vítimas, em contrapartida à crescente inversão de valores percebida nas últimas décadas, onde o bandido é a vítima e a polícia e os cidadãos são os vilões.\n5. Garantir retaguarda jurídica e excludente de ilicitude para agentes de segurança, respaldando nossos policiais no combate ao crime.\n6. Aumentar o Fundo Nacional de Segurança Pública para garantir a aparelhagem e a modernização das forças de segurança.\n7. Com as medidas de combate à impunidade apresentadas acima, buscaremos reduzir em mais 20% os homicídios nos próximos 4 anos, chegando a uma queda de 50% do pico de mortes violentas atingido no último ano de governo do PT.\n8. Implementar uma Política Nacional de Fortalecimento dos Laços Familiares, um conjunto de medidas e diretrizes que visam incentivar a criação e preservação das famílias, que são a base da sociedade.\n9. Garantir o bônus de produtividade de 200 reais adicionais para beneficiários do Auxílio Brasil permanente de no mínimo 600 reais, para estimular o trabalho produtividade e a ascensão dos mais pobres.\n10. Entregar no mínimo mais 2 milhões de moradias a famílias de baixa renda.\n11. Democratizar os serviços digitais, por meio da isenção de impostos para compra de aparelhos celulares populares e do estabelecimento de uma tarifa social para planos de dados.\n12. Aumentar o salário mínimo para 1400 reais em 2023 e acima da inflação todos os anos até 2026.\n13. Seguir indicando de forma independente nomes técnicos e de Ficha Limpa para Ministérios, bancos públicos e estatais, impedindo que interesses escusos façam florescer a corrupção sistêmica no Governo.\n14. Manter uma política econômica pautada no livre mercado e na responsabilidade fiscal, propiciando um ambiente favorável à atração de investimentos e à geração de pelo menos mais 6 milhões de empregos.\n15. Criar e implementar o SUS Online: Modernização dos serviços de saúde pública, com agendamento, pré-triagem e prontuário digital, visando reduzir e zerar as filas nos hospitais (Zap da Saúde).\n16. Promover a desoneração da folha de pagamento para profissionais de saúde e buscar a desoneração gradual para os demais profissionais.\n17. Corrigir Tabela do IRPF; com isenção para quem ganha até cinco salários mínimos; e implementar o IRPF familiar, que permite um imposto de renda menor para quem realizar a declaração em família.\n18. Fazer do Nordeste o centro mundial de geração de energia verde e converter os royalties em benefícios sociais para a população, como o Auxílio Brasil.\n19. Implementar o FIES/TEC, para financiar cursos técnicos e profissionalizantes, permitindo aos brasileiros uma inserção maior no mercado de trabalho e um retorno financeiro mais rápido ao estudante.\n20. Implementar o Programa Educação para o Futuro, que pretende, com base no sucesso que tivemos com os cursos de alfabetização, disponibilizar para a população também o ensino de Programação, Inglês e Educação Financeira, essenciais para o crescimento profissional.\n21. Não controlar nem interferir na imprensa e preservar a liberdade de expressão, inclusive na Internet.",
         "4096"
        ],
        [
         "1",
         "Amados!\nOs olhos do mundo estavam voltados para o Brasil neste dia 2 de outubro de 2022. Não podia ser diferente, pois muita coisa se decide agora, dentro do rumo que a humanidade vai tomar.\nNão somente os olhos físicos estiveram olhando para as terras brasileiras, mas principalmente os olhos daqueles que não possuem forma física, ou seja, as entidades etéricas. \nA Terra e sua humanidade cumprem um Plano Divino estabelecido antes mesmo da criação deste Planeta. Apesar das invasões Arcontes que tentaram estabelecer as Trevas aqui, nada vai impedir a humanidade de seguir o seu propósito estabelecido.\nTudo o que foi transmitido até aqui, é apenas uma minúscula amostra do que é de fato. E o mais importante, continua dentro do que está determinado. Pequenos percalços podem ocorrer, porém, não mudarão o Plano Maior.\nSe os olhos da Luz estão atentos e vigilantes, também os olhos da não Luz se voltaram para a Pátria do Evangelho. Sabem eles que daqui sairá a Luz que banhará definitivamente o Planeta. \nUma última tentativa dos sombrios em impedir o final de um Ciclo dominado pelas trevas, foi colocada em prática agora. Uma grande invasão de seres extra físicos juntaram forças e se dirigiram ao Brasil nos últimos meses. Todas essas egrégoras ainda remanescentes na Crosta da Terra, aportaram no Astral brasileiro. \nO objetivo seria impedir a vitória da Luz nas Terras de Santa Cruz. Aproveitando-se dos encarnados que se alinham com tais vibrações, usaram de todas as ferramentas possíveis a fim de obter os resultados que precisavam. A Magia Negra ganhou força e escureceu de certa forma o manto azulado da Planeta Terra.\nMas o Plano Divino não pode ser mudado por nenhuma força que não seja daquele que o criou. Uma estratégia utilizada é até muito praticada por todos os encarnados. Quando se quer capturar os animais com facilidade, o melhor a fazer é reuní-los todos no curral. \nFoi o que aconteceu. Todos os remanescentes da não Luz que ainda não haviam sido removidos, agora estavam reunidos na atmosfera do Brasil. Houve de fato a remossão em uma só tacada, de todas as egrégoras  remanescentes. \nVocê não pode ver isso na forma física, mas na visão dos olhos da alma, tudo está muito claro. No seu devido tempo, as revelações chegarão aos olhos físicos também. O Grande Plano Divino está nos seus últimos lances. Nada mais será como antes, pois assim o Criador projetou.\nÉ preciso apenas que você entenda isso. Ninguém ganha e ninguém perde, pois o que resta no final, é o aprendizado de cada alma encarnada. Verdade é que cada alma está escolhendo a sua Linha de Tempo de acordo com a sua frequência. Será essa frequência que determinará aquele que seguirá para a Nova Terra e aquele que a deixará definitivamente.\nOs aconteceimentos servem apenas para mostrar aquilo que antes não se podia entender. A Limpeza está sendo feita no Plano físico, e está indo para o seu final. Lembrem das mensagens aqui trazidas desde 2016. A varredura começou pelo topo da pirâmide, e agora está na sua base. Muito pouco ainda resta a fazer. No Plano Astral tudo está plasmado e já aconteceu. Falta agora materializar-se na matéria a fim de que os olhos físicos possam ver. \nNão há nada que você possa fazer a não ser manter a tua vibração elevada. Hoje faça apenas isso. Confia e eleve a frequência, confiando no Plano Divino. Nada é por acaso, pois tudo tem sempre uma causa. Daqui a 4 semanas, exerça o teu poder de decisão. Ele te alinhará com a Luz ou te afastará dela, pois o que se está decindo agora no Brasil, é muito mais do que um simples resultado político. Mas até o dia 30 de outubro, a azul da Terra estará restaurado, pois todas as nuvens negras terão sido dissipadas. \nNão importa o que cada um interprete sobre esta reflexão, pois o que importa é a frequência em que cada um está e vai estar daqui em diante. Lembre-se de que o Universo não lê palavras e nem ações; ele leva em conta somente a frequência de cada um. Palavras e ações podem enganar pessoas, mas não enganam aquele que comanda o Plano Divino. \nEu sou Vital Frosi e minha missão é o esclarecimento! \nNamastê!",
         "4093"
        ],
        [
         "2",
         "OLE OLE OLE OLAAAA LULA LULAAAAAOLE OLE OLE OLAAAA LULA LULAAAAA OLE OLE OLE OLAAAA LULA LULAAAAA OLE OLE OLE OLAAAA LULA LULAAAAA OLE OLE OLE OLAAAA LULA LULAAAAA OLE OLE OLE OLAAAA LULA LULAAAAA  OLE OLE OLE OLAAAA LULA LULAAAAA OLE OLE OLE OLAAAA LULA LULAAAAA OLE OLE OLE OLAAAA LULA LULAAAAA OLE OLE OLE OLAAAA LULA LULAAAAAOLE OLE OLE OLAAAA LULA LULAAAAA OLE OLE OLE OLAAAA LULA LULAAAAA OLE OLE OLE OLAAAA LULA LULAAAAA OLE OLE OLE OLAAAA LULA LULAAAAA OLE OLE OLE OLAAAA LULA LULAAAAA  OLE OLE OLE OLAAAA LULA LULAAAAA OLE OLE OLE OLAAAA LULA LULAAAAA OLE OLE OLE OLAAAA LULA LULAAAAA OLE OLE OLE OLAAAA LULA LULAAAAAOLE OLE OLE OLAAAA LULA LULAAAAA OLE OLE OLE OLAAAA LULA LULAAAAA OLE OLE OLE OLAAAA LULA LULAAAAA OLE OLE OLE OLAAAA LULA LULAAAAA OLE OLE OLE OLAAAA LULA LULAAAAA  OLE OLE OLE OLAAAA LULA LULAAAAA OLE OLE OLE OLAAAA LULA LULAAAAA OLE OLE OLE OLAAAA LULA LULAAAAA OLE OLE OLE OLAAAA LULA LULAAAAAOLE OLE OLE OLAAAA LULA LULAAAAA OLE OLE OLE OLAAAA LULA LULAAAAA OLE OLE OLE OLAAAA LULA LULAAAAA OLE OLE OLE OLAAAA LULA LULAAAAA OLE OLE OLE OLAAAA LULA LULAAAAA  OLE OLE OLE OLAAAA LULA LULAAAAA OLE OLE OLE OLAAAA LULA LULAAAAA OLE OLE OLE OLAAAA LULA LULAAAAA OLE OLE OLE OLAAAA LULA LULAAAAAOLE OLE OLE OLAAAA LULA LULAAAAA OLE OLE OLE OLAAAA LULA LULAAAAA OLE OLE OLE OLAAAA LULA LULAAAAA OLE OLE OLE OLAAAA LULA LULAAAAA OLE OLE OLE OLAAAA LULA LULAAAAA  OLE OLE OLE OLAAAA LULA LULAAAAA OLE OLE OLE OLAAAA LULA LULAAAAA OLE OLE OLE OLAAAA LULA LULAAAAAOLE OLE OLE OLAAAA LULA LULAAAAAOLE OLE OLE OLAAAA LULA LULAAAAA OLE OLE OLE OLAAAA LULA LULAAAAA OLE OLE OLE OLAAAA LULA LULAAAAA OLE OLE OLE OLAAAA LULA LULAAAAA OLE OLE OLE OLAAAA LULA LULAAAAA  OLE OLE OLE OLAAAA LULA LULAAAAA OLE OLE OLE OLAAAA LULA LULAAAAA OLE OLE OLE OLAAAA LULA LULAAAAA OLE OLE OLE OLAAAA LULA LULAAAAAOLE OLE OLE OLAAAA LULA LULAAAAA OLE OLE OLE OLAAAA LULA LULAAAAA OLE OLE OLE OLAAAA LULA LULAAAAA OLE OLE OLE OLAAAA LULA LULAAAAA OLE OLE OLE OLAAAA LULA LULAAAAA  OLE OLE OLE OLAAAA LULA LULAAAAA OLE OLE OLE OLAAAA LULA LULAAAAA OLE OLE OLE OLAAAA LULA LULAAAAA OLE OLE OLE OLAAAA LULA LULAAAAAOLE OLE OLE OLAAAA LULA LULAAAAA OLE OLE OLE OLAAAA LULA LULAAAAA OLE OLE OLE OLAAAA LULA LULAAAAA OLE OLE OLE OLAAAA LULA LULAAAAA OLE OLE OLE OLAAAA LULA LULAAAAA  OLE OLE OLE OLAAAA LULA LULAAAAA OLE OLE OLE OLAAAA LULA LULAAAAA OLE OLE OLE OLAAAA LULA LULAAAAA OLE OLE OLE OLAAAA LULA LULAAAAAOLE OLE OLE OLAAAA LULA LULAAAAA OLE OLE OLE OLAAAA LULA LULAAAAA OLE OLE OLE OLAAAA LULA LULAAAAA OLE OLE OLE OLAAAA LULA LULAAAAA OLE OLE OLE OLAAAA LULA LULAAAAA  OLE OLE OLE OLAAAA LULA LULAAAAA OLE OLE OLE OLAAAA LULA LULAAAAA OLE OLE OLE OLAAAA LULA LULAAAAA OLE OLE OLE OLAAAA LULA LULAAAAAOLE OLE OLE OLAAAA LULA LULAAAAA OLE OLE OLE OLAAAA LULA LULAAAAA OLE OLE OLE OLAAAA LULA LULAAAAA OLE OLE OLE OLAAAA LULA LULAAAAA OLE OLE OLE OLAAAA LULA LULAAAAA  OLE OLE OLE OLAAAA LULA LULAAAAA OLE OLE OLE OLAAAA LULA LULAAAAA OLE OLE OLE OLAAAA LULA LULAAAAA \n\nOLE OLE OLE OLAAAA LULA LULAAAAAOLE OLE OLE OLAAAA LULA LULAAAAA OLE OLE OLE OLAAAA LULA LULAAAAA OLE OLE OLE OLAAAA LULA LULAAAAA OLE OLE OLE OLAAAA LULA LULAAAAA OLE OLE OLE OLAAAA LULA LULAAAAA  OLE OLE OLE OLAAAA LULA LULAAAAA OLE OLE OLE OLAAAA LULA LULAAAAA OLE OLE OLE OLAAAA LULA LULAAAAA OLE OLE OLE OLAAAA LULA LULAAAAAOLE OLE OLE OLAAAA LULA LULAAAAA OLE OLE OLE OLAAAA LULA LULAAAAA OLE OLE OLE OLAAAA LULA LULAAAAA OLE OLE OLE OLAAAA LULA LULAAAAA OLE OLE OLE OLAAAA LULA LULAAAAA  OLE OLE OLE OLAAAA LULA LULAAAAA OLE OLE OLE OLAAAA LULA LULAAAAA OLE OLE OLE OLAAAA LULA LULAAAAA OLE OLE OLE OLAAAA LULA LULAAAAAOLE OLE OLE OLAAAA LULA LULAAAAA OLE OLE OLE OLAAAA LULA LULAAAAA OLE OLE OLE OLAAAA LULA LULAAAAA OLE OLE OLE OLAAAA LULA LULAAAAA OLE OLE OLE OLAAAA LULA LULAAAAA  OLE OLE OLE OLAAAA LULA LULAAAAA OLE OLE OLE OLAAAA LULA LULAAAAA OLE OLE OLE OLAAAA LULA LULAAAAA OLE OLE OLE OLAAAA LULA LULAAAAAOLE OLE OLE OLAAAA LULA LULAAAAA OLE OLE OLE OLAAAA LULA LULAAAAA OLE OLE OLE OLAAAA LULA LULAAAAA OLE OLE OLE OLAAAA LULA LULAAAAA OLE OLE OLE OLAAAA LULA LULAAAAA  OLE OLE OLE OLAAAA LULA LULAAAAA",
         "4092"
        ],
        [
         "3",
         "PETISTAS COMENDO MULHER D QUEM TÁ NOS BLOQUEIOS \nPETISTAS COMENDO MULHER D QUEM TÁ NOS BLOQUEIOS \nPETISTAS COMENDO MULHER D QUEM TÁ NOS BLOQUEIOS \nPETISTAS COMENDO MULHER D QUEM TÁ NOS BLOQUEIOS \nPETISTAS COMENDO MULHER D QUEM TÁ NOS BLOQUEIOS \nPETISTAS COMENDO MULHER D QUEM TÁ NOS BLOQUEIOS \nPETISTAS COMENDO MULHER D QUEM TÁ NOS BLOQUEIOS \nPETISTAS COMENDO MULHER D QUEM TÁ NOS BLOQUEIOS \nPETISTAS COMENDO MULHER D QUEM TÁ NOS BLOQUEIOS \nPETISTAS COMENDO MULHER D QUEM TÁ NOS BLOQUEIOS \nPETISTAS COMENDO MULHER D QUEM TÁ NOS BLOQUEIOS \nPETISTAS COMENDO MULHER D QUEM TÁ NOS BLOQUEIOS \nPETISTAS COMENDO MULHER D QUEM TÁ NOS BLOQUEIOS \nPETISTAS COMENDO MULHER D QUEM TÁ NOS BLOQUEIOS \nPETISTAS COMENDO MULHER D QUEM TÁ NOS BLOQUEIOS \nPETISTAS COMENDO MULHER D QUEM TÁ NOS BLOQUEIOS \nPETISTAS COMENDO MULHER D QUEM TÁ NOS BLOQUEIOS \nPETISTAS COMENDO MULHER D QUEM TÁ NOS BLOQUEIOS \nPETISTAS COMENDO MULHER D QUEM TÁ NOS BLOQUEIOS \nPETISTAS COMENDO MULHER D QUEM TÁ NOS BLOQUEIOS \nPETISTAS COMENDO MULHER D QUEM TÁ NOS BLOQUEIOS \nPETISTAS COMENDO MULHER D QUEM TÁ NOS BLOQUEIOS \nPETISTAS COMENDO MULHER D QUEM TÁ NOS BLOQUEIOS \nPETISTAS COMENDO MULHER D QUEM TÁ NOS BLOQUEIOS \nPETISTAS COMENDO MULHER D QUEM TÁ NOS BLOQUEIOS \nPETISTAS COMENDO MULHER D QUEM TÁ NOS BLOQUEIOS \nPETISTAS COMENDO MULHER D QUEM TÁ NOS BLOQUEIOS \nPETISTAS COMENDO MULHER D QUEM TÁ NOS BLOQUEIOS \nPETISTAS COMENDO MULHER D QUEM TÁ NOS BLOQUEIOS \nPETISTAS COMENDO MULHER D QUEM TÁ NOS BLOQUEIOS \nPETISTAS COMENDO MULHER D QUEM TÁ NOS BLOQUEIOS \nPETISTAS COMENDO MULHER D QUEM TÁ NOS BLOQUEIOS \nPETISTAS COMENDO MULHER D QUEM TÁ NOS BLOQUEIOS \nPETISTAS COMENDO MULHER D QUEM TÁ NOS BLOQUEIOS \nPETISTAS COMENDO MULHER D QUEM TÁ NOS BLOQUEIOS \nPETISTAS COMENDO MULHER D QUEM TÁ NOS BLOQUEIOS \nPETISTAS COMENDO MULHER D QUEM TÁ NOS BLOQUEIOS \nPETISTAS COMENDO MULHER D QUEM TÁ NOS BLOQUEIOS \nPETISTAS COMENDO MULHER D QUEM TÁ NOS BLOQUEIOS \nPETISTAS COMENDO MULHER D QUEM TÁ NOS BLOQUEIOS \nPETISTAS COMENDO MULHER D QUEM TÁ NOS BLOQUEIOS \nPETISTAS COMENDO MULHER D QUEM TÁ NOS BLOQUEIOS \nPETISTAS COMENDO MULHER D QUEM TÁ NOS BLOQUEIOS \nPETISTAS COMENDO MULHER D QUEM TÁ NOS BLOQUEIOS \nPETISTAS COMENDO MULHER D QUEM TÁ NOS BLOQUEIOS \nPETISTAS COMENDO MULHER D QUEM TÁ NOS BLOQUEIOS \nPETISTAS COMENDO MULHER D QUEM TÁ NOS BLOQUEIOS \nPETISTAS COMENDO MULHER D QUEM TÁ NOS BLOQUEIOS \nPETISTAS COMENDO MULHER D QUEM TÁ NOS BLOQUEIOS \nPETISTAS COMENDO MULHER D QUEM TÁ NOS BLOQUEIOS \nPETISTAS COMENDO MULHER D QUEM TÁ NOS BLOQUEIOS \nPETISTAS COMENDO MULHER D QUEM TÁ NOS BLOQUEIOS \nPETISTAS COMENDO MULHER D QUEM TÁ NOS BLOQUEIOS \nPETISTAS COMENDO MULHER D QUEM TÁ NOS BLOQUEIOS \nPETISTAS COMENDO MULHER D QUEM TÁ NOS BLOQUEIOS \nPETISTAS COMENDO MULHER D QUEM TÁ NOS BLOQUEIOS \nPETISTAS COMENDO MULHER D QUEM TÁ NOS BLOQUEIOS \nPETISTAS COMENDO MULHER D QUEM TÁ NOS BLOQUEIOS \nPETISTAS COMENDO MULHER D QUEM TÁ NOS BLOQUEIOS \nPETISTAS COMENDO MULHER D QUEM TÁ NOS BLOQUEIOS \nPETISTAS COMENDO MULHER D QUEM TÁ NOS BLOQUEIOS \nPETISTAS COMENDO MULHER D QUEM TÁ NOS BLOQUEIOS \nPETISTAS COMENDO MULHER D QUEM TÁ NOS BLOQUEIOS \nPETISTAS COMENDO MULHER D QUEM TÁ NOS BLOQUEIOS \nPETISTAS COMENDO MULHER D QUEM TÁ NOS BLOQUEIOS \nPETISTAS COMENDO MULHER D QUEM TÁ NOS BLOQUEIOS \nPETISTAS COMENDO MULHER D QUEM TÁ NOS BLOQUEIOS \nPETISTAS COMENDO MULHER D QUEM TÁ NOS BLOQUEIOS \nPETISTAS COMENDO MULHER D QUEM TÁ NOS BLOQUEIOS \nPETISTAS COMENDO MULHER D QUEM TÁ NOS BLOQUEIOS \nPETISTAS COMENDO MULHER D QUEM TÁ NOS BLOQUEIOS \nPETISTAS COMENDO MULHER D QUEM TÁ NOS BLOQUEIOS \nPETISTAS COMENDO MULHER D QUEM TÁ NOS BLOQUEIOS \nPETISTAS COMENDO MULHER D QUEM TÁ NOS BLOQUEIOS \nPETISTAS COMENDO MULHER D QUEM TÁ NOS BLOQUEIOS \nPETISTAS COMENDO MULHER D QUEM TÁ NOS BLOQUEIOS \nPETISTAS COMENDO MULHER D QUEM TÁ NOS BLOQUEIOS \nPETISTAS COMENDO MULHER D QUEM TÁ NOS BLOQUEIOS \nPETISTAS COMENDO MULHER D QUEM TÁ NOS BLOQUEIOS \nPETISTAS COMENDO MULHER D QUEM TÁ NOS BLOQUEIOS \nPETISTAS COMENDO MULHER D QUEM TÁ NOS BLOQUEIOS \nPETISTAS COMENDO MULHER D QUEM TÁ NOS BLOQUEIOS \nPETISTAS COMENDO MULHER D QUEM TÁ NOS BLOQUEIOS \nPETISTAS COMENDO MULHER D",
         "4092"
        ],
        [
         "4",
         "ANTES DE 🇨🇳LULA🇨🇳, MIL VEZES 🇧🇷BOLSONARO🇧🇷, mas tem muita coisa obscura.\n      Quero que me entendam bem amigos, pelo texto abaixo e os últimos acontecimentos e informações que venho tendo, vos digo.\n     Se as urnas não forem fraudadas, único jeito de Bolsonaro ganhar, NÓS direitas, vamos ter que peleaaaaaaaar muuuuuuito para conseguir salvar nosso país.\n     Repito, meeeesmo Bolsonaro ganhando, leiam o texto e ouçam os dois áudios por favor 🙏\n\n\"Após os últimos acontecimentos,  milhões de brasileiros, incrédulos e estupefatos, devem  estar se perguntando porque motivo o atual Presidente da República está prestes a aceitar entrar com uma venda nos olhos em um jogo de cartas marcadas onde quem conta os pontos é o adversário. \n\nNão é possível que alguém honesto e em sã consciência ainda tenha um pingo de dúvida com relação à conduta parcial do Presidente do TSE. \n\nEste elemento, que já deveria ter sido preso em flagrante por insistir na prática do delito continuado, não tem um dia sequer que não demonstre de que lado está. E obviamente que não é do lado de Bolsonaro. Portanto, aceitar que o TSE de Alexandre de Moraes assuma a tarefa de \"contar os votos\" sem que isso possa ser fiscalizado é o mesmo que entregar o ouro ao bandido.\n\nNão foi por falta de aviso que o Presidente da República e os Comandantes das Forças Armadas deixaram de tomar providências para impedir que as eleições transcorram fora das quatro linhas.\n\nApesar do desconhecimento de muitos, tanto a Lei quanto a Constituição são claras no sentido de que a contagem dos votos deve ocorrer de forma pública e transparente, sendo vedado qualquer tipo de restrição à fiscalização durante a etapa decisiva das eleições, a da apuração dos resultados.\n\nAinda assim, tanto Bolsonaro quanto seus auxiliares diretos foram por diversas vezes alertados a respeito da ilegalidade do sistema eletrônico de votação e das ações deliberadas de Ministros do STF e de servidores do TSE com o intuito de impedir a transparência, a segurança e a lisura do processo eleitoral.\n\nEntre as autoridades que foram alertadas pessoalmente está o General Paulo Sérgio Nogueira, Ministro da Defesa, cuja atenção foi chamada publicamente durante audiência ocorrida no Congresso Nacional por iniciativa do Senador Eduardo Girão. \n\nNa ocasião, o Procurador do estado do MS Felipe Gimenez deixou absolutamente claro que eleições sem contagem pública dos votos não atendem às exigências impostas pela Lei e pela Constituição. \n\nNa sequência, após  o pronunciamento do Procurador, reforçou a informação o cidadão Thomas Korontai, coordenador da Coalizão Convergências, que igualmente deixou registrada na audiência a ilegalidade do processo eleitoral e  do sistema eletrônico de votação, cuja utilização sem impressora, consequência da interferência do STF, aniquila por completo a possibilidade de se contar os votos publicamente. \n\nPortanto, considerando-se a letra da Lei e o texto Constitucional, após tantos avisos e apesar da absoluta certeza de que quem está no comando do TSE não é digno de confiança e está se utilizando do cargo para favorecer um delinquente em detrimento do candidato Bolsonaro, porque razão o Presidente da República está prestes a aceitar jogar roleta russa com uma arma carregada pelo seu pior inimigo? \n\nNão está percebendo o Presidente da República que a urna do STF não passa de uma arapuca eletrônica, uma arma cibernética que está sendo utilizada por membros de uma organização criminosa com o intuito de concretizar um golpe de Estado, visando conduzir o chefe do bando à Presidência da República?\n\nO povo e a nação brasileira não merecem passar por isso. Ainda há tempo para se evitar o pior. Não é possível que o que aconteceu com Trump nos Estados Unidos não tenha sido suficiente para se aprender a lição.\n\nAcorde Bolsonaro!  Acorde enquanto é tempo. Deus ajuda quem cedo madruga, mas esperar por um novo milagre sem tomar as rédeas dos acontecimentos é no mínimo uma enorme irresponsabilidade com aqueles que acreditaram em você e depositaram em ti suas maiores expectativas.\"\"\"\"\n\nContinuando......👇👇👇",
         "4090"
        ],
        [
         "5",
         "O príncipe Dado Ruspoli também foi ator e no filme Godfather III, que é um dos muitos exemplos de Hollywood glorificando a máfia italiana.  A família Ruspoli tem alguma propriedade da família criminosa Rizzuto, que tem conexões com cartéis de drogas sul-americanos.  Tao Ruspoli que é filho de Dado Ruspoli está na indústria do entretenimento e foi casado com a atriz Olivia Wilde.  Olivia Wilde dirige um violento culto feminista amazônico que estupra, assassina e canibaliza crianças.  O outro filho de Dado, Bartolomeo Ruspoli, que não deve ser confundido com seu primo, também chamado Bart Ruspoli, de Londres, é casado com a família Getty, que estabeleceu a Getty Oil Company.  Jean Paul Getty foi considerado o homem mais rico da América em seu tempo e descendem do fundador de Gettysburg.  O banqueiro cavaleiro britânico e multimilionário Mark Getty nasceu em Roma.  A Forbes estima a riqueza da família Getty em mais de 5 bilhões.  O chefe oficial da família Ruspoli, o príncipe Francesco Ruspoli, é casado com Angelica Visconti Ferragamo, da rica família Ferragamo.  A Casa de Ruspoli é casada com bilionários brasileiros, italianos e americanos.  O príncipe Francesco Ruspoli é amigo da família Sturdza da Romênia e os romenos Sturdzas possuem um banco privado na Suíça chamado Banque Eric Sturdza.  A família Ruspoli era originalmente de uma tribo Romani.\n\n O príncipe Lilio Sforza Ruspoli-Marescotti era um alto executivo da Banca Romana e trabalhava para o Banco Italiano do Sul.  O príncipe Lilio também foi o alto comissário italiano da Soberana Ordem Militar de Malta e ex-embaixador do SMOM.  O príncipe Lilio também foi a uma festa organizada pelo depravado predador sexual Harvey Weinstein.  A família Marescotti fundiu um ramo familiar com a família Del Drago de Viterbo, Itália.  O príncipe Filipo del Drago pode ser visto na mesma festa que o grão-duque George Mikhailovich Romanov da Rússia.  O nome Del Drago significa “do dragão” e eles provavelmente são um ramo da antiga família romena Drago.  O Marquês Luis Ruspoli, que morreu em 2011, era Cavaleiro de Malta e o Duque Carlos Ruspoli de Alcudia e Sueca, que morreu em 2016, também era Cavaleiro de Malta.  A família Ruspoli tem duas videiras em seu brasão.  Uvas e vinho são frequentemente usados como metáforas de sangue pelos Illuminati.  A Igreja Católica Romana bebe vinho como uma metáfora para o “Sangue de Cristo” e os Illuminati realmente bebem sangue humano e adrenocromo e entram em estados mentais psicóticos.  A família Ruspoli está profundamente envolvida com abuso ritual satânico e controle mental.  As famílias Blumenthal e Lichnowsky do Sacro Império Romano usam as mesmas videiras em seu brasão e provavelmente têm uma relação de sangue com a Casa de Ruspoli.  A família Ruspoli também são todos príncipes honorários do Sacro Império Romano.  A Ruspolis está ligada à Itália, Escócia, Espanha, Sacro Império Romano e América do Sul.\n\n A Casa de Ruspoli financiou e administrou pequenos regimentos militares para o Vaticano ganhar posições de alto nível como nobreza romana.  Eles ainda são comandantes militares de alto nível na Ordem de Malta e na Ordem Militar Constantiniana de São Jorge.  Príncipe Lilio Sforza Ruspoli com o nome de Sforza sugere que ele trabalha para a família Sforza-Cesarini.  Don Enrique Jaime Ruspoli é conde de Banares na Espanha e a princesa Giacinta Ruspoli também detém títulos na Espanha.  A família Ruspoli se casou com as casas espanholas de Bourbon, Alvarez e Arteaga.  A grã-duquesa Maria Vladimirovna da Rússia e seu filho, o grão-duque George Mikhailovich da Rússia, nasceram na Espanha e residem lá hoje trabalhando secretamente com a família Ruspoli.  A grã-duquesa Maria Vladimirovna da Rússia é a chefe do moderno Culto de Cibele, um antigo culto de homens castrados que adoram mulheres e a Magna Mater ou Grande Mãe.  Os padres católicos são baseados neste culto e são celibatários semelhantes aos eunucos.  Alguns padres católicos se castram secretamente.  A Rússia leva o nome de Rus.  A família Ruspoli supervisiona um espectro da Rússia de Roma.",
         "4089"
        ],
        [
         "6",
         "Nada para efetuar seguros, porém, unicamente o quarto por cento do costume ao pagá-los.\nUm e meio por cento sobre o pagamento de dividendos dos empréstimos de que os Agentes não forem contratantes.\nUm por cento, como está estipulado no respectivo contrato, sobre o pagamento de dividendos dos empréstimos de que forem contratantes, ficando entendido que o presente contrato não poderá ir de encontro a nenhum outro contrato em vigor. As comissões sobre as quantias entregues a outros contratantes para o pagamento dos dividendos a seu cargo entram na regra geral do quarto por cento de comissão.\nUm quarto por cento, não incluindo a corretagem, sobre as quantias empregadas na compra de Bonus de qualquer empréstimo para amortização ou depósito.\n\nARTIGO III\nNa conta corrente com o Governo, os Agentes escriturarão os juros no passivo e ativo da mesma, com a diferença, contudo, de um e meio por cento anualmente em favor dos Agentes, pelo seguinte: o Governo pagará juros de um por cento, no mínimo, pela taxa de desconto no banco da Inglaterra e receberá meio por cento menos do que a mesma taxa de desconto no Banco.\n\nARTIGO IV\nOs Agentes combinam em adiantar ao Governo Imperial qualquer quantia, desde que não exceda de cem mil libras esterlinas, ficando o Governo obrigado a pagar na expiração do prazo deste contrato as somas que os Agentes assim lhes tenham adiantado.\n\nARTIGO V\nO modo de ter a seu cargo as contas com o Governo Imperial, o prazo de sua transmissão ao Ministério da Fazenda e os meios dos Agentes se corresponderem com o Governo Imperial continuarão os mesmos dos Agentes anteriores e serão modificados de acordo com as instruções dadas pelo Ministro do Brasil em Londres, cujas inspeção e determinações sobre todos esses assuntos continuarão a ser como anteriormente, e a quem os Agentes fornecerão qualquer informação que lhes peçam sobre a situação dos negócios.\n\nARTIGO VI\nAs cláusulas do presente acordo entrarão em vigor no dia 1.° de Julho do corrente ano de 1855 e valerão por três anos a contar dessa data, isto é até 1.° de Julho de 1858.\n\n\nARTIGO VII\nSe, seis meses antes do dia da expiação do prazo do presente acordo, nenhuma das partes tiver declarado à outra a intenção de rescindi-lo, ele continuará em vigor por mais um ano a contar de 1.° de Julho de 1858. Se, seis meses antes de terminar esse ano, a referida declaração não for feita, o mesmo contrato continuará por um ano mais e assim continuamente até ser feita a declaração com a antecedência de seis meses.\nTodas as declarações e notificações do Governo aos Agentes podem ser feitas pelo Ministro em Londres.\n\nARTIGO VIII\nAo terminar o contrato de qualquer maneira, os Agentes não deixarão de ser empregados como Agentes até que tenham sido pagos de todas as quantias que lhes forem devidas pelo Governo.\n\nO presente acordo foi assinado em três vias na Cidade de Londres no dia vinte do mês de Junho de 1855. (A.) S. de Macedo, – N. M. Rothschild e Filhos.\n\nTais evidências demonstram que Rothschild e as dinastias financeiras a ela coligadas dos dois lados do Atlântico controlam a horda de POLÍTICOS que nos governam quase que exclusivamente para os interesses da City há quase duzentos anos!\n\nAtualmente, na falsa democracia (NOVA ORDEM MUNDIAL) do liberalismo, controlam o candidato do partido A, do partido B e do partido C, de modo que a escolha do povo seja sempre a mesma: um governante QUE ELES ESCOLHEREM  apátrida e a serviço dos interesses do capitalismo internacional. Sabendo que o povo tem obrigações maiores, como a novela das nove e as emoções do futebol, ou outra distração que possam empregar para ocultar suas transações ilícitas, FAZEM APENAS SUBSTITUIR UM GOVERNO FANTOCHE POR OUTRO GOVERNO-FANTOCHE.\n\nA complexa engenharia de controle global dos banqueiros internacionais tem por objetivo exercer controle sobre as leis, agências reguladoras, educação, agricultura, as indústrias, os transportes, o setor de construção e também sobre o setor militar, com o objetivo de criar uma moderna sociedade feudal, onde as nações “periféricas” teriam como função apenas o",
         "4084"
        ],
        [
         "7",
         "🚨ELEIÇÕES DE 2022 NO BRASIL 🇧🇷 DIVULGADO O ESCÂNDALO QUE TODO MUNDO SUSPEITAVA!\n\nTalvez, isso explique o fato do ex-deputado Roberto Jefferson ter declarado a seguinte frase: “Se as pessoas soubessem o que aconteceu nos bastidores do TSE, ficariam enojadas.”\n\nMuitos eleitores ficaram chocados e surpresos com a derrota de Bolsonaro no pleito de 2022. Não deveriam.\nO que está exposto abaixo é a notícia em primeira mão que está sendo investigada por rádios e jornais de todo o Brasil e do mundo, mais especificamente Wall Street Journal of Americas e a CBC, e deve sair na grande mídia a qualquer instante.\n\nFato comprovado: o Alexandre de Moraes VENDEU o resultado das eleições presidenciais para o PT.\nOs representantes das campanhas dos candidatos foram avisada à 00:00 do dia 29 de Outubro, logo após o debate da Rede Globo, em uma reunião envolvendo o Sr. José Roberto Marinho (na única vez que o ex-presidente da emissora compareceu no estúdio de gravação), o Sr. Cuca Belludo (diretor da campanha do PT), o próprio William Bonner, o Sr. Frederick Wassef (advogado de Bolsonaro), o Sr. Jalim Habbei (advogado de Lula no TSE).\nLula permaneceu no lobby do hotel com Janja, enquanto Bolsonaro era entrevistado ao vivo, logo após o debate.\nA princípio muito contrariado, Alckmin se recusou a participar das conversas, mas a  aceitação veio através da promessa de corrupção com a entrega dos lucros da Petrobras de mais de R$ 200 BILHÕES em propina, além da concessão de perdão presidencial aos condenados no Mensalão e no Petrolão, com a vitória de Lula e seu retorno à presidência.\n\nA fraude ao resultado se daria com a alteração interna do algoritmo das urnas eletrônicas feito pelo próprio TSE, para que, com cerca de 80% das urnas apuradas, por volta de 19:00 do domingo, a Rede Globo anunciaria a informação privilegiada de que Lula conseguiu uma “virada inédita na história”, com margem mínima de diferença de menos de 1%, alterando o prognóstico de vitória do Bolsonaro apontado pelas pesquisas DataPovo que estava se confirmando, sendo ultrapassado por Lula apenas nas últimas urnas, confirmando o acordado.\n\nO sistema de “auto hacker” feito na sala secreta do Tribunal Superior Eleitoral acordado na reunião ocorreria durante a apuração sem a fiscalização dos militares. A negociata no TSE teve o aval do Presidente da Câmara e do Senado, Arthur Lira, a quem foi prometido a continuidade do “Orçamento Secreto”, sem interferência do STF ou investigações do Ministério Público, garantindo a corrupção durante todo o mandato de Lula, juntamente com PSOL, PCdoB e toda a esquerda. Moraes assegurou que qualquer contestação ao resultado das eleições seria incluída no Inquérito das Fake News no Supremo e censurada imediatamente, retirando qualquer notícia contrária do ar para assegurar a vitória do petista até a posse de Lula.\n\nAssim, combinou-se que Lula venceria as eleições sem o auditamento das urnas e com o reconhecimento imediato do resultado da vitória do PT pelo TSE e pelo Supremo, sem direito à recontagem. A vitória do PT confirmaria o maior escândalo de corrupção da história do Brasil, acertado de antemão nas vésperas da eleição com o STF e o TSE. Assim, o PT teria facilitado o caminho para implantar o comunismo no Brasil e na América Latina, com ensino de ideologia de gênero de Paulo Freire nas escolas e o fechamento de igrejas.\n\nBolsonaro, que absolutamente não participou desta negociação, foi informado pelos militares sobre a fraude eleitoral na madrugada do dia seguinte, por meio de relatório confidencial, para que fossem adiadas as eleições até que fosse realizada a auditoria das urnas pelos militares, que demonstraria a sua reeleição dentro das 4 linhas da Constituição.\n\nJá está no Supremo a ação movida por Lula para que seja confirmada sua posse independente de auditoria das urnas, nas mãos do Ministro Dias Toffoli, indicado ao STF pelo PT, em liminar que selará a farsa das eleições de 2022. \n\nRepassem, para que todos possam saber de uma vez por todas a fraude das eleições e sobre todas as sujeiras que rondam o mundo da política.",
         "4080"
        ],
        [
         "8",
         "Bolsonaro é um porco seboso e seus apoiadores são lixos fedorentos \nBolsonaro é um porco seboso e seus apoiadores são lixos fedorentos \nBolsonaro é um porco seboso e seus apoiadores são lixos fedorentos \nBolsonaro é um porco seboso e seus apoiadores são lixos fedorentos \nBolsonaro é um porco seboso e seus apoiadores são lixos fedorentos \nBolsonaro é um porco seboso e seus apoiadores são lixos fedorentos \nBolsonaro é um porco seboso e seus apoiadores são lixos fedorentos \nBolsonaro é um porco seboso e seus apoiadores são lixos fedorentos \nBolsonaro é um porco seboso e seus apoiadores são lixos fedorentos \nBolsonaro é um porco seboso e seus apoiadores são lixos fedorentos \nBolsonaro é um porco seboso e seus apoiadores são lixos fedorentos \nBolsonaro é um porco seboso e seus apoiadores são lixos fedorentos \nBolsonaro é um porco seboso e seus apoiadores são lixos fedorentos \nBolsonaro é um porco seboso e seus apoiadores são lixos fedorentos \nBolsonaro é um porco seboso e seus apoiadores são lixos fedorentos \nBolsonaro é um porco seboso e seus apoiadores são lixos fedorentos \nBolsonaro é um porco seboso e seus apoiadores são lixos fedorentos \nBolsonaro é um porco seboso e seus apoiadores são lixos fedorentos \nBolsonaro é um porco seboso e seus apoiadores são lixos fedorentos \nBolsonaro é um porco seboso e seus apoiadores são lixos fedorentos \nBolsonaro é um porco seboso e seus apoiadores são lixos fedorentos \nBolsonaro é um porco seboso e seus apoiadores são lixos fedorentos \nBolsonaro é um porco seboso e seus apoiadores são lixos fedorentos \nBolsonaro é um porco seboso e seus apoiadores são lixos fedorentos \nBolsonaro é um porco seboso e seus apoiadores são lixos fedorentos \nBolsonaro é um porco seboso e seus apoiadores são lixos fedorentos \nBolsonaro é um porco seboso e seus apoiadores são lixos fedorentos \nBolsonaro é um porco seboso e seus apoiadores são lixos fedorentos \nBolsonaro é um porco seboso e seus apoiadores são lixos fedorentos \nBolsonaro é um porco seboso e seus apoiadores são lixos fedorentos \nBolsonaro é um porco seboso e seus apoiadores são lixos fedorentos \nBolsonaro é um porco seboso e seus apoiadores são lixos fedorentos \nBolsonaro é um porco seboso e seus apoiadores são lixos fedorentos \nBolsonaro é um porco seboso e seus apoiadores são lixos fedorentos \nBolsonaro é um porco seboso e seus apoiadores são lixos fedorentos \nBolsonaro é um porco seboso e seus apoiadores são lixos fedorentos \nBolsonaro é um porco seboso e seus apoiadores são lixos fedorentos \nBolsonaro é um porco seboso e seus apoiadores são lixos fedorentos \nBolsonaro é um porco seboso e seus apoiadores são lixos fedorentos \nBolsonaro é um porco seboso e seus apoiadores são lixos fedorentos \nBolsonaro é um porco seboso e seus apoiadores são lixos fedorentos \nBolsonaro é um porco seboso e seus apoiadores são lixos fedorentos \nBolsonaro é um porco seboso e seus apoiadores são lixos fedorentos \nBolsonaro é um porco seboso e seus apoiadores são lixos fedorentos \nBolsonaro é um porco seboso e seus apoiadores são lixos fedorentos \nBolsonaro é um porco seboso e seus apoiadores são lixos fedorentos \nBolsonaro é um porco seboso e seus apoiadores são lixos fedorentos \nBolsonaro é um porco seboso e seus apoiadores são lixos fedorentos \nBolsonaro é um porco seboso e seus apoiadores são lixos fedorentos \nBolsonaro é um porco seboso e seus apoiadores são lixos fedorentos \nBolsonaro é um porco seboso e seus apoiadores são lixos fedorentos \nBolsonaro é um porco seboso e seus apoiadores são lixos fedorentos \nBolsonaro é um porco seboso e seus apoiadores são lixos fedorentos \nBolsonaro é um porco seboso e seus apoiadores são lixos fedorentos \nBolsonaro é um porco seboso e seus apoiadores são lixos fedorentos \nBolsonaro é um porco seboso e seus apoiadores são lixos fedorentos \nBolsonaro é um porco seboso e seus apoiadores são lixos fedorentos \nBolsonaro é um porco seboso e seus apoiadores são lixos fedorentos \nBolsonaro é um porco seboso e seus apoiadores são lixos fedorentos \nBolsonaro é um porco seboso e seus apoiadores são lixos fedorentos",
         "4078"
        ],
        [
         "9",
         "Bolsonaro é um porco seboso e seus apoiadores são lixos fedorentos \nBolsonaro é um porco seboso e seus apoiadores são lixos fedorentos \nBolsonaro é um porco seboso e seus apoiadores são lixos fedorentos \nBolsonaro é um porco seboso e seus apoiadores são lixos fedorentos \nBolsonaro é um porco seboso e seus apoiadores são lixos fedorentos \nBolsonaro é um porco seboso e seus apoiadores são lixos fedorentos \nBolsonaro é um porco seboso e seus apoiadores são lixos fedorentos \nBolsonaro é um porco seboso e seus apoiadores são lixos fedorentos \nBolsonaro é um porco seboso e seus apoiadores são lixos fedorentos \nBolsonaro é um porco seboso e seus apoiadores são lixos fedorentos \nBolsonaro é um porco seboso e seus apoiadores são lixos fedorentos \nBolsonaro é um porco seboso e seus apoiadores são lixos fedorentos \nBolsonaro é um porco seboso e seus apoiadores são lixos fedorentos \nBolsonaro é um porco seboso e seus apoiadores são lixos fedorentos \nBolsonaro é um porco seboso e seus apoiadores são lixos fedorentos \nBolsonaro é um porco seboso e seus apoiadores são lixos fedorentos \nBolsonaro é um porco seboso e seus apoiadores são lixos fedorentos \nBolsonaro é um porco seboso e seus apoiadores são lixos fedorentos \nBolsonaro é um porco seboso e seus apoiadores são lixos fedorentos \nBolsonaro é um porco seboso e seus apoiadores são lixos fedorentos \nBolsonaro é um porco seboso e seus apoiadores são lixos fedorentos \nBolsonaro é um porco seboso e seus apoiadores são lixos fedorentos \nBolsonaro é um porco seboso e seus apoiadores são lixos fedorentos \nBolsonaro é um porco seboso e seus apoiadores são lixos fedorentos \nBolsonaro é um porco seboso e seus apoiadores são lixos fedorentos \nBolsonaro é um porco seboso e seus apoiadores são lixos fedorentos \nBolsonaro é um porco seboso e seus apoiadores são lixos fedorentos \nBolsonaro é um porco seboso e seus apoiadores são lixos fedorentos \nBolsonaro é um porco seboso e seus apoiadores são lixos fedorentos \nBolsonaro é um porco seboso e seus apoiadores são lixos fedorentos\nBolsonaro é um porco seboso e seus apoiadores são lixos fedorentos \nBolsonaro é um porco seboso e seus apoiadores são lixos fedorentos \nBolsonaro é um porco seboso e seus apoiadores são lixos fedorentos \nBolsonaro é um porco seboso e seus apoiadores são lixos fedorentos \nBolsonaro é um porco seboso e seus apoiadores são lixos fedorentos \nBolsonaro é um porco seboso e seus apoiadores são lixos fedorentos \nBolsonaro é um porco seboso e seus apoiadores são lixos fedorentos \nBolsonaro é um porco seboso e seus apoiadores são lixos fedorentos \nBolsonaro é um porco seboso e seus apoiadores são lixos fedorentos \nBolsonaro é um porco seboso e seus apoiadores são lixos fedorentos \nBolsonaro é um porco seboso e seus apoiadores são lixos fedorentos \nBolsonaro é um porco seboso e seus apoiadores são lixos fedorentos \nBolsonaro é um porco seboso e seus apoiadores são lixos fedorentos \nBolsonaro é um porco seboso e seus apoiadores são lixos fedorentos \nBolsonaro é um porco seboso e seus apoiadores são lixos fedorentos \nBolsonaro é um porco seboso e seus apoiadores são lixos fedorentos \nBolsonaro é um porco seboso e seus apoiadores são lixos fedorentos \nBolsonaro é um porco seboso e seus apoiadores são lixos fedorentos \nBolsonaro é um porco seboso e seus apoiadores são lixos fedorentos \nBolsonaro é um porco seboso e seus apoiadores são lixos fedorentos \nBolsonaro é um porco seboso e seus apoiadores são lixos fedorentos \nBolsonaro é um porco seboso e seus apoiadores são lixos fedorentos \nBolsonaro é um porco seboso e seus apoiadores são lixos fedorentos \nBolsonaro é um porco seboso e seus apoiadores são lixos fedorentos \nBolsonaro é um porco seboso e seus apoiadores são lixos fedorentos \nBolsonaro é um porco seboso e seus apoiadores são lixos fedorentos \nBolsonaro é um porco seboso e seus apoiadores são lixos fedorentos \nBolsonaro é um porco seboso e seus apoiadores são lixos fedorentos \nBolsonaro é um porco seboso e seus apoiadores são lixos fedorentos \nBolsonaro é um porco seboso e seus apoiadores são lixos fedorentos",
         "4077"
        ],
        [
         "10",
         "*leiam até o fim* \nBem interessante \n\nUm adolescente  escreveu no Facebook:\n\nSe eu fosse o BOLSONARO apareceria amanhã com um Rolex foda, comprado com um dos cartões corporativos, demitiria todos os ministros e colocaria todos por indicação política, liberaria os presos, aumentaria todas as taxas de juros, lotearia as estatais e distribuiria o dinheiro do roubo num novo mensalão. \n\nAcabaria com todos os acordos com os EUA e voltaria a injetar dinheiro em ditaduras estrangeiras, voltaria a dar milhões para as ONGs, estatizaria todas as empresas privatizadas nas últimas décadas, daria alvará para o MST voltar a invadir terras alheias, colocaria 2% do PIB para lei Roubanet, voltaria o sigilo para operações bancárias de crédito, voltaria a ter 29 ministérios dando um a cada partido, voltaria e aumentava a taxa sindical, tiraria os critérios de ficha limpa para cargos comissionados, revogaria o pacote anticrime, revogaria a reforma da previdência, revogaria a lei de combate a fraudes previdenciárias, voltaria com o imposto total para o câncer e HIV, devolveria todas as drogas apreendidas nesse tempo para o PCC e o CV, voltaria todos os processos que foram digitalizados para papel e presencial, voltaria os 21 mil cargos e funções remuneradas por indicação no governo, tiraria a internet gratuita para os 3 milhões de estudantes, tiraria o BRASIL do acordo de livre comércio entre o Mercosul e União Européia, voltaria a irrigar a mídia com dinheiro, entre mil e outras medidas!!! \n\nE dane-se esse povo ingrato e ignorante! Afinal a mídia iria noticiar “finalmente BOLSONARO  começou a dar certo”.\n\n Ah! se não fosse a VITÓRIA DO BOLSONARO 👇\nSe não fosse BOLSONARO nós não saberíamos que o STF protege BANDIDOS;\n\nSe não fosse BOLSONARO nós não saberíamos que a parte da mídia mente porque muitos jornalistas são militantes esquerdistas;\n\nSe não fosse BOLSONARO nós não saberíamos que o Congresso só quer ficar no velho sistema do toma lá dá cá;\n\nSe não fosse BOLSONARO nós não saberíamos que há ministérios aparelhados que resistem, querendo continuar a impor sua doutrina esquerdista;\n\nSe não fosse BOLSONARO, nós não saberíamos que há governadores autoritários e que, além de não providenciar nenhuma ajuda ao povo na pandemia, fizeram de tudo para falir empresas e de desempregar gente;\n\nSe não fosse BOLSONARO nós não saberíamos que havia centenas de obras paradas;\n\nSe não fosse BOLSONARO nós não saberíamos que os médicos cubanos não recebiam salários integrais. Cuba ficava com 80%;\n\nSe não fosse BOLSONARO nós não saberíamos que muitos \"médicos\" cubanos não eram médicos, pois fugiram do Brasil, antes da posse dele. MEDO de serem presos;\n\nSe não fosse BOLSONARO nós não saberíamos que a MÍDIA recebia BILHÕES em forma de propaganda de estatais.\n\nSe não fosse BOLSONARO nós não saberíamos que muitos jornalistas se declaram autônomos para não pagar 27,5 % de Imposto de renda;\n\nSe não fosse BOLSONARO nós não saberíamos que os nordestinos eram propositalmente deixados sem água para serem explorados por caminhões pipas de famílias poderosas;\n\nSe não fosse BOLSONARO nós não saberíamos que ONGs recebiam dinheiro sem controle;\n\nSe não fosse BOLSONARO a gente não saberia que a França tem mais de 40 usinas nucleares, os rejeitos vão ficar na natureza por centenas de anos;\n\nSe não fosse BOLSONARO a gente não saberia que a Noruega AINDA caça baleia;\n\nSe não fosse BOLSONARO a gente não saberia que universitários pensam que há girafas na Amazônia;\n\nSe não fosse BOLSONARO a gente não saberia que a ALEMANHA tem sua matriz energética baseada AINDA no carvão;\n\nSe não fosse BOLSONARO a gente não saberia que os agricultores da França estão contra a acordo UE - MERCOSUL;\n\nSe não fosse BOLSONARO a gente não saberia que a França explodiu bombas A, em Mururoa, onde a radiação acabou com a natureza por mil anos;\n\nSe não fosse BOLSONARO a gente não saberia que os europeus não têm LEI de reserva legal nem de proteção das margens;\n\nNENHUM país tem um PROJETO de PROTEÇÃO de animais marinhos como o BRASIL.\nPROJETO TAMAR.\nVão se catar europeus. Façam algo útil.",
         "4077"
        ],
        [
         "11",
         "*Fora Bolsonaro* \n\nBem Interessante \n\nUm adolescente escreveu no Facebook:\n\nSe eu fosse o BOLSONARO apareceria amanhã com um Rolex foda, comprado com um dos cartões corporativos, demitiria todos os ministros e colocaria todos por indicação política, liberaria os presos, aumentaria todas as taxas de juros, lotearia as estatais e distribuiria o dinheiro do roubo num novo mensalão. \n\nAcabaria com todos os acordos com os EUA e voltaria a injetar dinheiro em ditaduras estrangeiras, voltaria a dar milhões para as ONGs, estatizaria todas as empresas privatizadas nas últimas décadas, daria alvará para o MST voltar a invadir terras alheias, colocaria 2% do PIB para lei Roubanet, voltaria o sigilo para operações bancárias de crédito, voltaria a ter 29 ministérios dando um a cada partido, voltaria e aumentava a taxa sindical, tiraria os critérios de ficha limpa para cargos comissionados, revogaria o pacote anticrime, revogaria a reforma da previdência, revogaria a lei de combate a fraudes previdenciárias, voltaria com o imposto total para o câncer e HIV, devolveria todas as drogas apreendidas nesse tempo para o PCC e o CV, voltaria todos os processos que foram digitalizados para papel e presencial, voltaria os 21 mil cargos e funções remuneradas por indicação no governo, tiraria a internet gratuita para os 3 milhões de estudantes, tiraria o BRASIL do acordo de livre comércio entre o Mercosul e União Européia, voltaria a irrigar a mídia com dinheiro, entre mil e outras medidas!!! \n\nE dane-se esse povo ingrato e ignorante! Afinal a mídia iria noticiar “finalmente BOLSONARO  começou a dar certo”.\n\n Ah! se não fosse a VITÓRIA DO BOLSONARO 👇\nSe não fosse BOLSONARO nós não saberíamos que o STF protege BANDIDOS;\n\nSe não fosse BOLSONARO nós não saberíamos que a parte da mídia mente porque muitos jornalistas são militantes esquerdistas;\n\nSe não fosse BOLSONARO nós não saberíamos que o Congresso só quer ficar no velho sistema do toma lá dá cá;\n\nSe não fosse BOLSONARO nós não saberíamos que há ministérios aparelhados que resistem, querendo continuar a impor sua doutrina esquerdista;\n\nSe não fosse BOLSONARO, nós não saberíamos que há governadores autoritários e que, além de não providenciar nenhuma ajuda ao povo na pandemia, fizeram de tudo para falir empresas e de desempregar gente;\n\nSe não fosse BOLSONARO nós não saberíamos que havia centenas de obras paradas;\n\nSe não fosse BOLSONARO nós não saberíamos que os médicos cubanos não recebiam salários integrais. Cuba ficava com 80%;\n\nSe não fosse BOLSONARO nós não saberíamos que muitos \"médicos\" cubanos não eram médicos, pois fugiram do Brasil, antes da posse dele. MEDO de serem presos;\n\nSe não fosse BOLSONARO nós não saberíamos que a MÍDIA recebia BILHÕES em forma de propaganda de estatais.\n\nSe não fosse BOLSONARO nós não saberíamos que muitos jornalistas se declaram autônomos para não pagar 27,5 % de Imposto de renda;\n\nSe não fosse BOLSONARO nós não saberíamos que os nordestinos eram propositalmente deixados sem água para serem explorados por caminhões pipas de famílias poderosas;\n\nSe não fosse BOLSONARO nós não saberíamos que ONGs recebiam dinheiro sem controle;\n\nSe não fosse BOLSONARO a gente não saberia que a França tem mais de 40 usinas nucleares, os rejeitos vão ficar na natureza por centenas de anos;\n\nSe não fosse BOLSONARO a gente não saberia que a Noruega AINDA caça baleia;\n\nSe não fosse BOLSONARO a gente não saberia que universitários pensam que há girafas na Amazônia;\n\nSe não fosse BOLSONARO a gente não saberia que a ALEMANHA tem sua matriz energética baseada AINDA no carvão;\n\nSe não fosse BOLSONARO a gente não saberia que os agricultores da França estão contra a acordo UE - MERCOSUL;\n\nSe não fosse BOLSONARO a gente não saberia que a França explodiu bombas A, em Mururoa, onde a radiação acabou com a natureza por mil anos;\n\nSe não fosse BOLSONARO a gente não saberia que os europeus não têm LEI de reserva legal nem de proteção das margens;\n\nNENHUM país tem um PROJETO de PROTEÇÃO de animais marinhos como o BRASIL.\nPROJETO TAMAR.\nVão se catar europeus. Façam algo útil.",
         "4076"
        ],
        [
         "12",
         "*Fora Bolsonaro* \nBem interessante \n\nUm adolescente  escreveu no Facebook:\n\nSe eu fosse o BOLSONARO apareceria amanhã com um Rolex foda, comprado com um dos cartões corporativos, demitiria todos os ministros e colocaria todos por indicação política, liberaria os presos, aumentaria todas as taxas de juros, lotearia as estatais e distribuiria o dinheiro do roubo num novo mensalão. \n\nAcabaria com todos os acordos com os EUA e voltaria a injetar dinheiro em ditaduras estrangeiras, voltaria a dar milhões para as ONGs, estatizaria todas as empresas privatizadas nas últimas décadas, daria alvará para o MST voltar a invadir terras alheias, colocaria 2% do PIB para lei Roubanet, voltaria o sigilo para operações bancárias de crédito, voltaria a ter 29 ministérios dando um a cada partido, voltaria e aumentava a taxa sindical, tiraria os critérios de ficha limpa para cargos comissionados, revogaria o pacote anticrime, revogaria a reforma da previdência, revogaria a lei de combate a fraudes previdenciárias, voltaria com o imposto total para o câncer e HIV, devolveria todas as drogas apreendidas nesse tempo para o PCC e o CV, voltaria todos os processos que foram digitalizados para papel e presencial, voltaria os 21 mil cargos e funções remuneradas por indicação no governo, tiraria a internet gratuita para os 3 milhões de estudantes, tiraria o BRASIL do acordo de livre comércio entre o Mercosul e União Européia, voltaria a irrigar a mídia com dinheiro, entre mil e outras medidas!!! \n\nE dane-se esse povo ingrato e ignorante! Afinal a mídia iria noticiar “finalmente BOLSONARO  começou a dar certo”.\n\n Ah! se não fosse a VITÓRIA DO BOLSONARO 👇\nSe não fosse BOLSONARO nós não saberíamos que o STF protege BANDIDOS;\n\nSe não fosse BOLSONARO nós não saberíamos que a parte da mídia mente porque muitos jornalistas são militantes esquerdistas;\n\nSe não fosse BOLSONARO nós não saberíamos que o Congresso só quer ficar no velho sistema do toma lá dá cá;\n\nSe não fosse BOLSONARO nós não saberíamos que há ministérios aparelhados que resistem, querendo continuar a impor sua doutrina esquerdista;\n\nSe não fosse BOLSONARO, nós não saberíamos que há governadores autoritários e que, além de não providenciar nenhuma ajuda ao povo na pandemia, fizeram de tudo para falir empresas e de desempregar gente;\n\nSe não fosse BOLSONARO nós não saberíamos que havia centenas de obras paradas;\n\nSe não fosse BOLSONARO nós não saberíamos que os médicos cubanos não recebiam salários integrais. Cuba ficava com 80%;\n\nSe não fosse BOLSONARO nós não saberíamos que muitos \"médicos\" cubanos não eram médicos, pois fugiram do Brasil, antes da posse dele. MEDO de serem presos;\n\nSe não fosse BOLSONARO nós não saberíamos que a MÍDIA recebia BILHÕES em forma de propaganda de estatais.\n\nSe não fosse BOLSONARO nós não saberíamos que muitos jornalistas se declaram autônomos para não pagar 27,5 % de Imposto de renda;\n\nSe não fosse BOLSONARO nós não saberíamos que os nordestinos eram propositalmente deixados sem água para serem explorados por caminhões pipas de famílias poderosas;\n\nSe não fosse BOLSONARO nós não saberíamos que ONGs recebiam dinheiro sem controle;\n\nSe não fosse BOLSONARO a gente não saberia que a França tem mais de 40 usinas nucleares, os rejeitos vão ficar na natureza por centenas de anos;\n\nSe não fosse BOLSONARO a gente não saberia que a Noruega AINDA caça baleia;\n\nSe não fosse BOLSONARO a gente não saberia que universitários pensam que há girafas na Amazônia;\n\nSe não fosse BOLSONARO a gente não saberia que a ALEMANHA tem sua matriz energética baseada AINDA no carvão;\n\nSe não fosse BOLSONARO a gente não saberia que os agricultores da França estão contra a acordo UE - MERCOSUL;\n\nSe não fosse BOLSONARO a gente não saberia que a França explodiu bombas A, em Mururoa, onde a radiação acabou com a natureza por mil anos;\n\nSe não fosse BOLSONARO a gente não saberia que os europeus não têm LEI de reserva legal nem de proteção das margens;\n\nNENHUM país tem um PROJETO de PROTEÇÃO de animais marinhos como o BRASIL.\nPROJETO TAMAR.\nVão se catar europeus. Façam algo útil.",
         "4076"
        ],
        [
         "13",
         "*Fora Bolsonaro* \n\nBem Interessante \n\nUm adolescente escreveu no Facebook:\n\nSe eu fosse o BOLSONARO apareceria amanhã com um Rolex foda, comprado com um dos cartões corporativos, demitiria todos os ministros e colocaria todos por indicação política, liberaria os presos, aumentaria todas as taxas de juros, lotearia as estatais e distribuiria o dinheiro do roubo num novo mensalão. \n\nAcabaria com todos os acordos com os EUA e voltaria a injetar dinheiro em ditaduras estrangeiras, voltaria a dar milhões para as ONGs, estatizaria todas as empresas privatizadas nas últimas décadas, daria alvará para o MST voltar a invadir terras alheias, colocaria 2% do PIB para lei Roubanet, voltaria o sigilo para operações bancárias de crédito, voltaria a ter 29 ministérios dando um a cada partido, voltaria e aumentava a taxa sindical, tiraria os critérios de ficha limpa para cargos comissionados, revogaria o pacote anticrime, revogaria a reforma da previdência, revogaria a lei de combate a fraudes previdenciárias, voltaria com o imposto total para o câncer e HIV, devolveria todas as drogas apreendidas nesse tempo para o PCC e o CV, voltaria todos os processos que foram digitalizados para papel e presencial, voltaria os 21 mil cargos e funções remuneradas por indicação no governo, tiraria a internet gratuita para os 3 milhões de estudantes, tiraria o BRASIL do acordo de livre comércio entre o Mercosul e União Européia, voltaria a irrigar a mídia com dinheiro, entre mil e outras medidas!!! \n\nE dane-se esse povo ingrato e ignorante! Afinal a mídia iria noticiar “finalmente BOLSONARO  começou a dar certo”.\n\nAh! se não fosse a VITÓRIA DO BOLSONARO 👇\nSe não fosse BOLSONARO nós não saberíamos que o STF protege BANDIDOS;\n\nSe não fosse BOLSONARO nós não saberíamos que a parte da mídia mente porque muitos jornalistas são militantes esquerdistas;\n\nSe não fosse BOLSONARO nós não saberíamos que o Congresso só quer ficar no velho sistema do toma lá dá cá;\n\nSe não fosse BOLSONARO nós não saberíamos que há ministérios aparelhados que resistem, querendo continuar a impor sua doutrina esquerdista;\n\nSe não fosse BOLSONARO, nós não saberíamos que há governadores autoritários e que, além de não providenciar nenhuma ajuda ao povo na pandemia, fizeram de tudo para falir empresas e de desempregar gente;\n\nSe não fosse BOLSONARO nós não saberíamos que havia centenas de obras paradas;\n\nSe não fosse BOLSONARO nós não saberíamos que os médicos cubanos não recebiam salários integrais. Cuba ficava com 80%;\n\nSe não fosse BOLSONARO nós não saberíamos que muitos \"médicos\" cubanos não eram médicos, pois fugiram do Brasil, antes da posse dele. MEDO de serem presos;\n\nSe não fosse BOLSONARO nós não saberíamos que a MÍDIA recebia BILHÕES em forma de propaganda de estatais.\n\nSe não fosse BOLSONARO nós não saberíamos que muitos jornalistas se declaram autônomos para não pagar 27,5 % de Imposto de renda;\n\nSe não fosse BOLSONARO nós não saberíamos que os nordestinos eram propositalmente deixados sem água para serem explorados por caminhões pipas de famílias poderosas;\n\nSe não fosse BOLSONARO nós não saberíamos que ONGs recebiam dinheiro sem controle;\n\nSe não fosse BOLSONARO a gente não saberia que a França tem mais de 40 usinas nucleares, os rejeitos vão ficar na natureza por centenas de anos;\n\nSe não fosse BOLSONARO a gente não saberia que a Noruega AINDA caça baleia;\n\nSe não fosse BOLSONARO a gente não saberia que universitários pensam que há girafas na Amazônia;\n\nSe não fosse BOLSONARO a gente não saberia que a ALEMANHA tem sua matriz energética baseada AINDA no carvão;\n\nSe não fosse BOLSONARO a gente não saberia que os agricultores da França estão contra a acordo UE - MERCOSUL;\n\nSe não fosse BOLSONARO a gente não saberia que a França explodiu bombas A, em Mururoa, onde a radiação acabou com a natureza por mil anos;\n\nSe não fosse BOLSONARO a gente não saberia que os europeus não têm LEI de reserva legal nem de proteção das margens;\n\nNENHUM país tem um PROJETO de PROTEÇÃO de animais marinhos como o BRASIL.\nPROJETO TAMAR.\nVão se catar europeus. Façam algo útil.",
         "4075"
        ],
        [
         "14",
         " NEOQEAV \n\nMeus avós já estavam casados há mais de cinqüenta anos e continuavam jogando um jogo que haviam iniciado quando começaram a namorar.\n\nA regra do jogo era que um tinha que escrever a palavra \"NEOQEAV\" num lugar inesperado para o outro encontrar e assim quem a encontrasse deveria escrevê-la em outro lugar e assim sucessivamente.\n\nEles se revezavam deixando \"NEOQEAV\" escrita por toda a casa, e assim que um a encontrava era sua vez de escondê-la em outro local para o outro achar.\n\nEles escreviam \"NEOQEAV\" com os dedos no açúcar dentro do açucareiro ou no pote de farinha para que o próximo que fosse cozinhar a achasse. Escreviam na janela embaçada pelo sereno que dava para o pátio onde minha avó nos dava pudim que ela fazia com tanto carinho.\n\n\"NEOQEAV\" era escrita no vapor deixado no espelho depois de um banho quente, onde a palavra iria reaparecer depois do próximo banho.\n\nUma vez, minha avó até desenrolou um rolo inteiro de papel higiênico para deixar \"NEOQEAV\" na última folha e enrolou tudo de novo.\n\nNão havia limites para onde \"NEOQEAV\" pudesse surgir.\n\nPedacinhos de papel com \"NEOQEAV\" rabiscado apareciam grudados no volante do carro que eles dividiam.\n\nOs bilhetes eram enfiados dentro dos sapatos e deixados debaixo dos travesseiros.\n\n\"NEOQEAV\" era escrita com os dedos na poeira sobre as prateleiras e nas cinzas da lareira. Esta misteriosa palavra tanto fazia parte da casa de meus avós quanto da mobília. Levou bastante tempo para eu passar a entender e gostar completamente deste jogo que eles jogavam. Meu ceticismo nunca me deixou acreditar em um único e verdadeiro amor, que possa ser realmente puro e duradouro.\n\nPorém, eu nunca duvidei do amor entre meus avós.\nEste amor era profundo. Era mais do que um jogo de diversão, era um modo de vida.\n\nSeu relacionamento era baseado em devoção e uma afeição apaixonada, igual as quais nem todo mundo tem a sorte de experimentar. O vovô e a vovó ficavam de mãos dadas sempre que podiam.\n\nRoubavam beijos um do outro sempre que se batiam um contra outro naquela cozinha tão pequena. Eles conseguiam terminar a frase incompleta do outro e todo dia resolviam juntos as palavras cruzadas do jornal. Minha avó cochichava para mim dizendo o quanto meu avô era bonito, como ele havia se tornado um velho bonito e charmoso.\n\nEla se gabava de dizer que sabia como pegar os namorados mais bonitos.\nAntes de cada refeição eles se reverenciavam e davam graças a Deus e bençãos aos presentes por sermos uma família maravilhosa, para continuarmos sempre unidos e com boa sorte.\n\nMas uma nuvem escura surgiu na vida de meus avós: minha avó tinha câncer de mama. A doença tinha primeiro aparecido dez anos antes.\n\nComo sempre, vovô estava com ela a cada momento.\nEle a confortava no quarto amarelo deles, que ele havia pintado dessa cor para que ela ficasse sempre rodeada da luz do sol, mesmo quando ela não tivesse forças para sair.\nO câncer agora estava de novo atacando seu corpo.\n\nCom a ajuda de uma bengala e a mão firme do meu avô, eles iam à igreja toda manhã. E minha avó foi ficando cada vez mais fraca, até que, finalmente, ela não mais podia sair de casa. Por algum tempo, meu avô resolveu ir à igreja sozinho, rezando a Deus para zelar por sua esposa. Então, o que todos nós temíamos aconteceu.\nVovó partiu.\n\n\"NEOQEAV\" foi gravada em amarelo nas fitas cor-de-rosa dos buquês de flores do funeral da vovó.\n\nQuando os amigos começaram a ir embora, minhas tias, tios, primos e outras pessoas da família se juntaram e ficaram ao redor da vovó pela última vez.\nVovô ficou bem junto do caixão da vovó e, num suspiro bem profundo, começou a cantar para ela.\n\nAtravés de suas lágrimas e pesar, a música surgiu como uma canção de ninar que vinha bem de dentro de seu ser. Me sentindo muito triste, nunca vou me esquecer daquele momento. Porque eu sabia que mesmo sem ainda poder entender completamente a profundeza daquele amor, eu tinha tido o privilégio de testemunhar a beleza sem igual que aquilo representava.\n\nAposto que a esta altura você deve estar se perguntando:\n\"Mas o que NEOQEAV significa?\"",
         "4073"
        ],
        [
         "15",
         "Além disso, o adrenocromo é produzido através da tortura de crianças e, às vezes, de porcos, quando uma vítima infantil viva não pode ser obtida.  Este e-mail, do rico lobista de DC Tony Podesta para sua família, chamou a atenção dos pesquisadores da FULCRUM há algum tempo.\n\n “Ainda na câmara de tortura”\n\n\n\n A FAMÍLIA RUPOLI\n\n\n\n FAMÍLIA CRIMINAL RUPOLI\n\n \n A família Ruspoli é uma das linhagens criminosas mais perversas e são os principais proprietários do Vaticano com títulos principescos em toda a Itália e Espanha.  A família Ruspoli também é casada com a Casa de Sforza e está envolvida com a banca italiana.  O príncipe Alessandro Ruspoli era descendente direto da família Mattarazzo do Brasil.  A família Mattarazzo originou-se na Itália antes de imigrar para o Brasil.  O Conde Francisco Matarazzo fundou as Indústrias Reunidas Matarazzo S.A, que era uma das maiores empresas do Brasil e o príncipe Alessandro “Dado” Ruspoli herdou uma parte de sua riqueza de sua mãe Claudia de Conti Mattarazzo.  A família Ruspoli tem alguma autoridade sobre os cartéis de drogas sul-americanos.  O príncipe Dado Ruspoli também foi ator e no filme Godfather III, que é um dos muitos exemplos de Hollywood glorificando a máfia italiana.  Tao Ruspoli que é filho de Dado Ruspoli está na indústria do entretenimento e foi casado com a atriz Olivia Wilde que secretamente administra um culto satânico em Hollywood hoje.  O outro filho de Dado, Bart Ruspoli, é casado com a família Getty, que fundou a Getty Oil Company.  Jean Paul Getty foi considerado o homem mais rico da América em seu tempo.  O príncipe Lilio Ruspoli-Sforza era um alto executivo da Banca Romana e trabalhava para o Banco Italiano do Sul.  O príncipe Lilio Ruspoli-Sforza também foi o alto comissário italiano da Soberana Ordem Militar de Malta e embaixador do SMOM.  Marquês Luis Ruspoli, que morreu em 2011, também foi Cavaleiro de Malta.  A família Ruspoli tem duas videiras em seu brasão.  Uvas e vinho são frequentemente usados como metáforas de sangue pelos Illuminati.  A Igreja Católica Romana bebe vinho como uma metáfora para o “Sangue de Cristo” e os Illuminati realmente bebem sangue humano e adrenocromo.  Os membros da família criminosa extremamente perversa Ruspoli incluem o príncipe Lilio Ruspoli-Sforza, o príncipe Francesco Ruspoli, a princesa Giacinta Ruspoli, Tao Ruspoli, Bart Ruspoli e Don Enrique Jaime Ruspoli.\n\n \n\n CARTEL CRIMINAL RUSPÓLI\n\n \n\n A família Ruspoli é uma das linhagens criminosas mais perversas e são donas do Vaticano com títulos principescos em toda a Itália e Espanha.  A família tem ascendência da Escócia através de sua linhagem Marescotti e eles têm alguma autoridade secreta sobre a Maçonaria do Rito Escocês.  Ainda existe uma família nobre escocesa na Itália chamada família Gallarati-Scotti e eles residem na Lombardia.  Os Marescottis provavelmente estão relacionados ao clã Scott da Escócia atualmente liderado por Richard Scott, o 10º Duque de Buccleuch.  A Casa de Ruspoli também é casada com as famílias Orsini, Bourbon, Giustiniani, Corsini, Bonaparte e Massimo e está envolvida com bancos e militares italianos.  Eles também trabalham secretamente com uma filial da Casa Russa de Romanov.  Muitos membros da família Ruspoli foram Cavaleiros de Malta.  O príncipe Alessandro Ruspoli era descendente direto da família Mattarazzo do Brasil.  A família Mattarazzo originou-se na Itália antes de imigrar para o Brasil.  O Conde Francisco Matarazzo fundou as Indústrias Reunidas Matarazzo S.A, que era uma das maiores empresas do Brasil e o príncipe Alessandro “Dado” Ruspoli herdou parte de sua riqueza através de sua mãe Claudia de Conti Mattarazzo.  A família Ruspoli tem alguma autoridade sobre os cartéis de drogas sul-americanos através de ex-príncipes como Marcantonio Mario Ruspoli III do Brasil e Don Carlo Maurizio Ruspoli da Argentina.  Hoje o príncipe Lilio Sforza Ruspoli tem propriedades turísticas na ilha de Margarita, na Venezuela.  A russa Margarita Louis-Dreyfus, que vale mais de 9 bilhões, faz sacrifícios humanos na Ilha de Margarita.",
         "4069"
        ],
        [
         "16",
         "JAIIIIIR BOLSONARO EU SO QUERO A TUA ROLA ENCAIXADAAA NA MINHA XOOOOOOTaa JAIIIIIR BOLSONARO EU SO QUERO A TUA ROLA ENCAIXADAAA NA MINHA XOOOOOOTaa JAIIIIIR BOLSONARO EU SO QUERO A TUA ROLA ENCAIXADAAA NA MINHA XOOOOOOTaa JAIIIIIR BOLSONARO EU SO QUERO A TUA ROLA ENCAIXADAAA NA MINHA XOOOOOOTaa JAIIIIIR BOLSONARO EU SO QUERO A TUA ROLA ENCAIXADAAA NA MINHA XOOOOOOTaa JAIIIIIR BOLSONARO EU SO QUERO A TUA ROLA ENCAIXADAAA NA MINHA XOOOOOOTaa JAIIIIIR BOLSONARO EU SO QUERO A TUA ROLA ENCAIXADAAA NA MINHA XOOOOOOTaa JAIIIIIR BOLSONARO EU SO QUERO A TUA ROLA ENCAIXADAAA NA MINHA XOOOOOOTaa JAIIIIIR BOLSONARO EU SO QUERO A TUA ROLA ENCAIXADAAA NA MINHA XOOOOOOTaa JAIIIIIR BOLSONARO EU SO QUERO A TUA ROLA ENCAIXADAAA NA MINHA XOOOOOOTaa JAIIIIIR BOLSONARO EU SO QUERO A TUA ROLA ENCAIXADAAA NA MINHA XOOOOOOTaa JAIIIIIR BOLSONARO EU SO QUERO A TUA ROLA ENCAIXADAAA NA MINHA XOOOOOOTaa JAIIIIIR BOLSONARO EU SO QUERO A TUA ROLA ENCAIXADAAA NA MINHA XOOOOOOTaa JAIIIIIR BOLSONARO EU SO QUERO A TUA ROLA ENCAIXADAAA NA MINHA XOOOOOOTaa JAIIIIIR BOLSONARO EU SO QUERO A TUA ROLA ENCAIXADAAA NA MINHA XOOOOOOTaa JAIIIIIR BOLSONARO EU SO QUERO A TUA ROLA ENCAIXADAAA NA MINHA XOOOOOOTaa JAIIIIIR BOLSONARO EU SO QUERO A TUA ROLA ENCAIXADAAA NA MINHA XOOOOOOTaa JAIIIIIR BOLSONARO EU SO QUERO A TUA ROLA ENCAIXADAAA NA MINHA XOOOOOOTaa JAIIIIIR BOLSONARO EU SO QUERO A TUA ROLA ENCAIXADAAA NA MINHA XOOOOOOTaa JAIIIIIR BOLSONARO EU SO QUERO A TUA ROLA ENCAIXADAAA NA MINHA XOOOOOOTaa JAIIIIIR BOLSONARO EU SO QUERO A TUA ROLA ENCAIXADAAA NA MINHA XOOOOOOTaa JAIIIIIR BOLSONARO EU SO QUERO A TUA ROLA ENCAIXADAAA NA MINHA XOOOOOOTaa JAIIIIIR BOLSONARO EU SO QUERO A TUA ROLA ENCAIXADAAA NA MINHA XOOOOOOTaa JAIIIIIR BOLSONARO EU SO QUERO A TUA ROLA ENCAIXADAAA NA MINHA XOOOOOOTaa JAIIIIIR BOLSONARO EU SO QUERO A TUA ROLA ENCAIXADAAA NA MINHA XOOOOOOTaa JAIIIIIR BOLSONARO EU SO QUERO A TUA ROLA ENCAIXADAAA NA MINHA XOOOOOOTaa JAIIIIIR BOLSONARO EU SO QUERO A TUA ROLA ENCAIXADAAA NA MINHA XOOOOOOTaa JAIIIIIR BOLSONARO EU SO QUERO A TUA ROLA ENCAIXADAAA NA MINHA XOOOOOOTaa JAIIIIIR BOLSONARO EU SO QUERO A TUA ROLA ENCAIXADAAA NA MINHA XOOOOOOTaa JAIIIIIR BOLSONARO EU SO QUERO A TUA ROLA ENCAIXADAAA NA MINHA XOOOOOOTaa JAIIIIIR BOLSONARO EU SO QUERO A TUA ROLA ENCAIXADAAA NA MINHA XOOOOOOTaa JAIIIIIR BOLSONARO EU SO QUERO A TUA ROLA ENCAIXADAAA NA MINHA XOOOOOOTaa JAIIIIIR BOLSONARO EU SO QUERO A TUA ROLA ENCAIXADAAA NA MINHA XOOOOOOTaa JAIIIIIR BOLSONARO EU SO QUERO A TUA ROLA ENCAIXADAAA NA MINHA XOOOOOOTaa JAIIIIIR BOLSONARO EU SO QUERO A TUA ROLA ENCAIXADAAA NA MINHA XOOOOOOTaa JAIIIIIR BOLSONARO EU SO QUERO A TUA ROLA ENCAIXADAAA NA MINHA XOOOOOOTaa JAIIIIIR BOLSONARO EU SO QUERO A TUA ROLA ENCAIXADAAA NA MINHA XOOOOOOTaa JAIIIIIR BOLSONARO EU SO QUERO A TUA ROLA ENCAIXADAAA NA MINHA XOOOOOOTaa JAIIIIIR BOLSONARO EU SO QUERO A TUA ROLA ENCAIXADAAA NA MINHA XOOOOOOTaa JAIIIIIR BOLSONARO EU SO QUERO A TUA ROLA ENCAIXADAAA NA MINHA XOOOOOOTaa JAIIIIIR BOLSONARO EU SO QUERO A TUA ROLA ENCAIXADAAA NA MINHA XOOOOOOTaa JAIIIIIR BOLSONARO EU SO QUERO A TUA ROLA ENCAIXADAAA NA MINHA XOOOOOOTaa JAIIIIIR BOLSONARO EU SO QUERO A TUA ROLA ENCAIXADAAA NA MINHA XOOOOOOTaa JAIIIIIR BOLSONARO EU SO QUERO A TUA ROLA ENCAIXADAAA NA MINHA XOOOOOOTaa JAIIIIIR BOLSONARO EU SO QUERO A TUA ROLA ENCAIXADAAA NA MINHA XOOOOOOTaa JAIIIIIR BOLSONARO EU SO QUERO A TUA ROLA ENCAIXADAAA NA MINHA XOOOOOOTaa JAIIIIIR BOLSONARO EU SO QUERO A TUA ROLA ENCAIXADAAA NA MINHA XOOOOOOTaa JAIIIIIR BOLSONARO EU SO QUERO A TUA ROLA ENCAIXADAAA NA MINHA XOOOOOOTaa JAIIIIIR BOLSONARO EU SO QUERO A TUA ROLA ENCAIXADAAA NA MINHA XOOOOOOTaa JAIIIIIR BOLSONARO EU SO QUERO A TUA ROLA ENCAIXADAAA NA MINHA XOOOOOOTaa JAIIIIIR BOLSONARO EU SO QUERO A TUA ROLA ENCAIXADAAA NA MINHA XOOOOOOTaa JAIIIIIR BOLSONARO EU SO QUERO A TUA ROLA ENCAIXADAAA NA MINHA XOOOOOOTaa JAIIIIIR BOLSONARO EU SO QUERO A TUA ROLA ENCAIXADAAA NA MINHA XOOOOOOTaa JAIIIIIR BOLSONARO EU SO QUERO A TUA ROLA ENCAIXADAAA NA MINHA XOOOOOOTaa JAIIIIIR BOLSONARO EU SO QUERO A TUA ROLA ENCAIXADAAA NA MINHA XOOOOOOTaa",
         "4069"
        ],
        [
         "17",
         "TIRA DEL HILO 🧵 \n\nLas personas que se han inoculado una, dos o hasta varias veces y están expuestas a los campos microondas electromagnéticos tóxicos de las irradiaciones las antenas 5G con además de tener sus teléfonos móviles Samsung o iPhone cerca constantemente tienen sus sistemas inmunológicos bajos o están susceptibles para perder el equilibrio de la salud. Si bien los “no inoculados” que fueron también coaccionados para la inyección por supuesto también contraen o pueden enfermar en este mar de caldo de cultivo. Las inoculaciones experimentales tienen un tóxico llamado grafeno, óxido de grafeno. Tienen entonces los pinchados inmunodeficiencias de vitamínicas de D,C y Zinc.  Porqué? Primero porque la enfermedad es real. Y segundo la solución  o el remedio 💉 es peor que la enfermedad. Además para los dos tipos de personas, inoculadas o no inoculadas, las defensas del sistema inmunológico se ve gravemente afectado. \nPor ende debemos rehabilitarnos y reforzarnos nuestros sistemas inmunológicos aumentando las ingestas con estas las tres vitaminas. Así para alcanzar los niveles óptimos deseados saludables de bienestar y forma física deseada. Todas las personas han  sufrido y están sufriendo degradación de la salud, un atentado tecnológico 5G contra la salud y por tanto una perdida de calidad de vida. Si la población fuera consciente del engaño masivo y de la traición científica no quedarían títeres con cabezas en el palacio los diputados español. Eso solo para empezar. Los medios oficiales de comunicación, científicos, médicos, políticos, jueces y todos los que están a favor de la agenda 20/30 apoyándola con el logotipo circular de colores en el traje corbata 👔 serían detenidos y sentenciados a prisión. Eso para empezar. Es igual que en los juicios de Nuremberg celebrados después de la Segunda Guerra Mundial.\n\nTambién muchos de los que tienen un tipo de cáncer es por falta de vitaminas C. Recientemente hemos descubierto muchas de las enfermedades son provocadas por los campos magnéticos medioambientales. Cáncer, Alzheimer, párkinson etcétera etcétera…\nTienen esas personas el nivel de vitamina C alarmantemente bajo. Ambos grupos deben tomar de dos a tres gramos de vitamina C al día. La vitamina D y Zinc 50mg súper importantes. Hay que tener en edad adulta estos suplementos en casa. \nTodo ha sido un caldo de cultivo preparado, con pruebas y errores, durante varios años hasta conseguirlo finalmente con la tecnología implementada de la comunicación digital para provocar enfermedades a la población conscientemente. \n\nSon criminales!!\nNo obstante otros expertos (no oficiales) de la resistencia y la disidencia han diagnosticado correctamente la enfermedad covid 19 como “el síndrome de irradiación aguda “. El Síndrome de Irradiación Aguda es un caldo de cultivo medioambiental. Los Chemtrails, las estelas químicas de los aviones ✈️ son el detonante con la activación tecnológica del 3G,4G y 5G. El cuerpo humano hace de catalizador para terminar enfermándose en todo este medio ambiente insalubre.\nHay que saber como base elemental de conocimiento la naturaleza biológica humana es “electroquímica” para comprender qué nos está  afectando y perjudicando gravemente la salud en nuestra época. La relación asociada medioambiental y la biología humana y del reino animal.\n\nLa Zeolita, el Carbón Vegetal Activo y el Selenio son depurativos de sustancias químicas tóxicas depositadas en el cuerpo durante años.  El Glutation, N- Acetilcisteina los antiinflamatorios cúrcuma, gengibre y antioxidantes como la melatonina, el magnesio, colágeno y silicio orgánico.\n\nEl CDS (dióxido de Cloro) añadido a todo este entramado social conspiranoico es el químico bueno y positivo pero tabú en la medicina oficial ortodoxa(arbitraria , autoritaria, dictatorial y tiránica) porque es la cura que oxigena, un balón de oxígeno contra una invasión bacteriana y regula la ósmosis celular limpiando para sanar el sistema nervioso central humano o animal. El químico CDS trabaja rehabilitando el sistema inmunológico y sistema nervioso central.",
         "4066"
        ],
        [
         "18",
         "Crianças europeias sofrem aumento assustador de 755% no excesso de morte após aprovação da VACINA COVID\n\nEm maio de 2021, a Agência Europeia de Medicamentos (EMA) estendeu a autorização de uso emergencial da vacina Pfizer covid-19 para crianças de 12 a 15 anos. Não demorou muito para que os governos europeus empurrassem a vacina para crianças de até cinco anos.\n\nEm 30 de agosto de 2022, as crianças europeias sofreram um aumento assustador de 755% no excesso de mortes. Esse excesso de mortalidade infantil não foi observado em 2020, em uma época em que governos e sistemas escolares buscavam inundar as crianças com medo, bloqueios, isolamento social e mascaramento forçado. Essas ações foram realizadas sob o pretexto de “proteger a vida das crianças”. No entanto, esses controles mentais totalitários e abusos comportamentais foram usados ​​para coagir os pais e seus filhos a cumprir um experimento – um experimento que causou sofrimento e morte em massa.\n\nA mortalidade infantil aumenta em toda a Europa, levando a uma investigação massiva e provável acobertamento\n\nO departamento oficial de estatísticas da União Europeia está agora conduzindo uma investigação em toda a Europa sobre esse excesso de mortes em crianças. Isso levou a algumas novas revelações. A organização encarregada de publicar os dados de mortalidade, os Projetos Europeus de Monitoramento da Mortalidade (EuroMOMO), alterou a linha de base pela qual o excesso de mortes é medido, obviamente na tentativa de encobrir esses crimes históricos contra crianças. A alteração na linha de base foi notificada na semana 36, ​​logo após o anúncio da investigação. Essa ação abrupta reduziu artificialmente o número de mortes em excesso de crianças, fazendo parecer que nada de grave aconteceu com crianças nos últimos quinze meses.\n\nQuando a linha de base é restaurada, o excesso de mortalidade infantil para crianças de 1 a 14 anos aumenta para 755% e também aumenta em 630% para todas as faixas etárias. O excesso médio de mortes entre crianças de 0 a 14 anos da semana 22 de 2017 à semana 37 de 2021 foi de 169,65. Da semana 22 de 2021 à semana 37 de 2022, o número de mortes em excesso aumenta para 1.224!\n\nDe acordo com estatísticas de 2020, as mortes entre crianças estavam bem ABAIXO do normal. Curiosamente, houve 408 mortes a menos entre crianças do que o esperado em 2020, quando comparado aos anos anteriores.\n\nEssas tendências continuaram ao longo de 2021, até a semana 22, quando a EMA lançou a vacinação contra a covid para crianças de 12 a 15 anos. O excesso de mortalidade foi registrado todas as semanas a partir desse ponto, disparando além da linha de base normal. Até 2022, até três doses desnecessárias de vacina contra a covid foram disponibilizadas para crianças com 12 anos ou mais. Crianças de até cinco anos também foram apresentadas ao jab de duas doses da Pfizer. À medida que novas doses de vacina contra a Covid são aplicadas em crianças, os governos europeus estão criando uma nova linha de base normal de excesso de mortalidade em crianças.\n\nO programa de vacinas contra a covid parece ser a maior ameaça à saúde pública\n\nO sistema EUROMOMO informa semanalmente a mortalidade em 29 países europeus. O sistema é apoiado por uma rede de organizações que têm interesse em promover a vacinação. Estes incluem o Centro Europeu de Prevenção e Controlo de Doenças (ECDC) e a Organização Mundial de Saúde (OMS). Afinal, o sistema EUROMOMO foi configurado para “detectar e medir o excesso de mortes relacionadas à gripe sazonal, pandemias e outras ameaças à saúde pública”, e as campanhas de vacinação deveriam ser a resposta a essas ameaças à saúde pública.\n\nA insistência da OMS em acabar com a “hesitação da vacina” fez com que muitas pessoas sucumbissem à manipulação, coerção e destruição física de sua mente, meios de subsistência e saúde física – um ataque tão violento que violou os direitos dos pais e prejudicou a vida de uma geração inteira de crianças. A fé cega do público na vacinação resultou em excesso de mortalidade em geral, pois as crianças são vítimas.",
         "4066"
        ],
        [
         "19",
         "OLE OLE OLE OLAAAA LULA LULAAAAAOLE OLE OLE OLAAAA LULA LULAAAAA OLE OLE OLE OLAAAA LULA LULAAAAA OLE OLE OLE OLAAAA LULA LULAAAAA OLE OLE OLE OLAAAA LULA LULAAAAA OLE OLE OLE OLAAAA LULA LULAAAAA  OLE OLE OLE OLAAAA LULA LULAAAAA OLE OLE OLE OLAAAA LULA LULAAAAA OLE OLE OLE OLAAAA LULA LULAAAAA OLE OLE OLE OLAAAA LULA LULAAAAAOLE OLE OLE OLAAAA LULA LULAAAAA OLE OLE OLE OLAAAA LULA LULAAAAA OLE OLE OLE OLAAAA LULA LULAAAAA OLE OLE OLE OLAAAA LULA LULAAAAA OLE OLE OLE OLAAAA LULA LULAAAAA  OLE OLE OLE OLAAAA LULA LULAAAAA OLE OLE OLE OLAAAA LULA LULAAAAA OLE OLE OLE OLAAAA LULA LULAAAAA OLE OLE OLE OLAAAA LULA LULAAAAAOLE OLE OLE OLAAAA LULA LULAAAAA OLE OLE OLE OLAAAA LULA LULAAAAA OLE OLE OLE OLAAAA LULA LULAAAAA OLE OLE OLE OLAAAA LULA LULAAAAA OLE OLE OLE OLAAAA LULA LULAAAAA  OLE OLE OLE OLAAAA LULA LULAAAAA OLE OLE OLE OLAAAA LULA LULAAAAA OLE OLE OLE OLAAAA LULA LULAAAAA OLE OLE OLE OLAAAA LULA LULAAAAAOLE OLE OLE OLAAAA LULA LULAAAAA OLE OLE OLE OLAAAA LULA LULAAAAA OLE OLE OLE OLAAAA LULA LULAAAAA OLE OLE OLE OLAAAA LULA LULAAAAA OLE OLE OLE OLAAAA LULA LULAAAAA  OLE OLE OLE OLAAAA LULA LULAAAAA OLE OLE OLE OLAAAA LULA LULAAAAA OLE OLE OLE OLAAAA LULA LULAAAAA OLE OLE OLE OLAAAA LULA LULAAAAAOLE OLE OLE OLAAAA LULA LULAAAAA OLE OLE OLE OLAAAA LULA LULAAAAA OLE OLE OLE OLAAAA LULA LULAAAAA OLE OLE OLE OLAAAA LULA LULAAAAA OLE OLE OLE OLAAAA LULA LULAAAAA  OLE OLE OLE OLAAAA LULA LULAAAAA OLE OLE OLE OLAAAA LULA LULAAAAA OLE OLE OLE OLAAAA LULA LULAAAAAOLE OLE OLE OLAAAA LULA LULAAAAAOLE OLE OLE OLAAAA LULA LULAAAAA OLE OLE OLE OLAAAA LULA LULAAAAA OLE OLE OLE OLAAAA LULA LULAAAAA OLE OLE OLE OLAAAA LULA LULAAAAA OLE OLE OLE OLAAAA LULA LULAAAAA  OLE OLE OLE OLAAAA LULA LULAAAAA OLE OLE OLE OLAAAA LULA LULAAAAA OLE OLE OLE OLAAAA LULA LULAAAAA OLE OLE OLE OLAAAA LULA LULAAAAAOLE OLE OLE OLAAAA LULA LULAAAAA OLE OLE OLE OLAAAA LULA LULAAAAA OLE OLE OLE OLAAAA LULA LULAAAAA OLE OLE OLE OLAAAA LULA LULAAAAA OLE OLE OLE OLAAAA LULA LULAAAAA  OLE OLE OLE OLAAAA LULA LULAAAAA OLE OLE OLE OLAAAA LULA LULAAAAA OLE OLE OLE OLAAAA LULA LULAAAAA OLE OLE OLE OLAAAA LULA LULAAAAAOLE OLE OLE OLAAAA LULA LULAAAAA OLE OLE OLE OLAAAA LULA LULAAAAA OLE OLE OLE OLAAAA LULA LULAAAAA OLE OLE OLE OLAAAA LULA LULAAAAA OLE OLE OLE OLAAAA LULA LULAAAAA  OLE OLE OLE OLAAAA LULA LULAAAAA OLE OLE OLE OLAAAA LULA LULAAAAA OLE OLE OLE OLAAAA LULA LULAAAAA OLE OLE OLE OLAAAA LULA LULAAAAAOLE OLE OLE OLAAAA LULA LULAAAAA OLE OLE OLE OLAAAA LULA LULAAAAA OLE OLE OLE OLAAAA LULA LULAAAAA OLE OLE OLE OLAAAA LULA LULAAAAA OLE OLE OLE OLAAAA LULA LULAAAAA  OLE OLE OLE OLAAAA LULA LULAAAAA OLE OLE OLE OLAAAA LULA LULAAAAA OLE OLE OLE OLAAAA LULA LULAAAAA OLE OLE OLE OLAAAA LULA LULAAAAAOLE OLE OLE OLAAAA LULA LULAAAAA OLE OLE OLE OLAAAA LULA LULAAAAA OLE OLE OLE OLAAAA LULA LULAAAAA OLE OLE OLE OLAAAA LULA LULAAAAA OLE OLE OLE OLAAAA LULA LULAAAAA  OLE OLE OLE OLAAAA LULA LULAAAAA OLE OLE OLE OLAAAA LULA LULAAAAA OLE OLE OLE OLAAAA LULA LULAAAAA \n\n LULA LULAAAAA OLE OLE OLE OLAAAA LULA LULAAAAA OLE OLE OLE OLAAAA LULA LULAAAAA OLE OLE OLE OLAAAA LULA LULAAAAA OLE OLE OLE OLAAAA LULA LULAAAAA  OLE OLE OLE OLAAAA LULA LULAAAAA OLE OLE OLE OLAAAA LULA LULAAAAA OLE OLE OLE OLAAAA LULA LULAAAAA OLE OLE OLE OLAAAA LULA LULAAAAAOLE OLE OLE OLAAAA LULA LULAAAAA OLE OLE OLE OLAAAA LULA LULAAAAA OLE OLE OLE OLAAAA LULA LULAAAAA OLE OLE OLE OLAAAA LULA LULAAAAA OLE OLE OLE OLAAAA LULA LULAAAAA  OLE OLE OLE OLAAAA LULA LULAAAAA OLE OLE OLE OLAAAA LULA LULAAAAA OLE OLE OLE OLAAAA LULA LULAAAAA OLE OLE OLE OLAAAA LULA LULAAAAAOLE OLE OLE OLAAAA LULA LULAAAAA OLE OLE OLE OLAAAA LULA LULAAAAA OLE OLE OLE OLAAAA LULA LULAAAAA OLE OLE OLE OLAAAA LULA LULAAAAA OLE OLE OLE OLAAAA LULA LULAAAAA  OLE OLE OLE OLAAAA LULA LULAAAAA OLE OLE OLE OLAAAA LULA LULAAAAA OLE OLE OLE OLAAAA LULA LULAAAAA OLE OLE OLE OLAAAA LULA LULAAAAAOLE OLE OLE OLAAAA LULA LULAAAAA OLE OLE OLE OLAAAA LULA LULAAAAA OLE OLE OLE OLAAAA LULA LULAAAAA OLE OLE OLE OLAAAA LULA LULAAAAA OLE OLE OLE OLAAAA LULA LULAAAAA  OLE OLE OLE OLAAAA LULA LULAAAAA OLE OLE OLE OLAAAA LULA",
         "4066"
        ],
        [
         "20",
         "Transcrevo a carta de um adolescente de 17 anos.\nLeia com atenção e prepare se para o amanhã.\nAbraços.\n\nFora Bolsonaro\nBem interessante .\nVale a leitura.\n\nUm adolescente  escreveu no Facebook:\n\nSe eu fosse o BOLSONARO apareceria amanhã com um Rolex foda, comprado com um dos cartões corporativos, demitiria todos os ministros e colocaria todos por indicação política, liberaria os presos, aumentaria todas as taxas de juros, lotearia as estatais e distribuiria o dinheiro do roubo num novo mensalão. \n\nAcabaria com todos os acordos com os EUA e voltaria a injetar dinheiro em ditaduras estrangeiras, voltaria a dar milhões para as ONGs, estatizaria todas as empresas privatizadas nas últimas décadas, daria alvará para o MST voltar a invadir terras alheias, colocaria 2% do PIB para lei Roubanet, voltaria o sigilo para operações bancárias de crédito, voltaria a ter 29 ministérios dando um a cada partido, voltaria e aumentava a taxa sindical, tiraria os critérios de ficha limpa para cargos comissionados, revogaria o pacote anticrime, revogaria a reforma da previdência, revogaria a lei de combate a fraudes previdenciárias, voltaria com o imposto total para o câncer e HIV, devolveria todas as drogas apreendidas nesse tempo para o PCC e o CV, voltaria todos os processos que foram digitalizados para papel e presencial, voltaria os 21 mil cargos e funções remuneradas por indicação no governo, tiraria a internet gratuita para os 3 milhões de estudantes, tiraria o BRASIL do acordo de livre comércio entre o Mercosul e União Européia, voltaria a  irrigar a mídia com dinheiro, entre mil e outras medidas!!! \n\nE dane-se esse povo ingrato e ignorante! Afinal a mídia iria noticiar “finalmente BOLSONARO  começou a dar certo”.\n\n Ah! se não fosse a VITÓRIA DO BOLSONARO 👇\nSe não fosse BOLSONARO nós não saberíamos que o STF protege BANDIDOS;\n\nSe não fosse BOLSONARO nós não saberíamos que a parte da mídia mente porque muitos jornalistas são militantes esquerdistas;\n\nSe não fosse BOLSONARO nós não saberíamos que o Congresso só quer ficar no velho sistema do toma lá dá cá;\n\nSe não fosse BOLSONARO nós não saberíamos que há ministérios aparelhados que resistem, querendo continuar a impor sua doutrina esquerdista;\n\nSe não fosse BOLSONARO, nós não saberíamos que há governadores autoritários e que, além de não providenciar nenhuma ajuda ao povo na pandemia, fizeram de tudo para falir empresas e de desempregar gente;\n\nSe não fosse BOLSONARO nós não saberíamos que havia centenas de obras paradas;\n\nSe não fosse BOLSONARO nós não saberíamos que os médicos cubanos não recebiam salários integrais. Cuba ficava com 80%;\n\nSe não fosse BOLSONARO nós não saberíamos que muitos \"médicos\" cubanos não eram médicos, pois fugiram do Brasil, antes da posse dele. MEDO de serem presos;\n\nSe não fosse BOLSONARO nós não saberíamos que a MÍDIA recebia BILHÕES em forma de propaganda de estatais.\n\nSe não fosse BOLSONARO nós não saberíamos que muitos jornalistas se declaram autônomos para não pagar 27,5 % de Imposto de renda;\n\nSe não fosse BOLSONARO nós não saberíamos que os nordestinos eram propositalmente deixados sem água para serem explorados por caminhões pipas de famílias poderosas;\n\nSe não fosse BOLSONARO nós não saberíamos que ONGs recebiam dinheiro sem controle;\n\nSe não fosse BOLSONARO a gente não saberia que a França tem mais de 40 usinas nucleares, os rejeitos vão ficar na natureza por centenas de anos;\n\nSe não fosse BOLSONARO a gente não saberia que a Noruega AINDA caça baleia;\n\nSe não fosse BOLSONARO a gente não saberia que universitários pensam que há girafas na Amazônia;\n\nSe não fosse BOLSONARO a gente não saberia que a ALEMANHA tem sua matriz energética baseada AINDA no carvão;\n\nSe não fosse BOLSONARO a gente não saberia que os agricultores da França estão contra a acordo UE - MERCOSUL;\n\nSe não fosse BOLSONARO a gente não saberia que a França explodiu bombas A, em Mururoa, onde a radiação acabou com a natureza por mil anos;\n\nSe não fosse BOLSONARO a gente não saberia que os europeus não têm LEI de reserva legal nem de proteção das margens;",
         "4065"
        ],
        [
         "21",
         ":\nI'm sharing my excitement about this platform to everyone I come across by chance \nCongratulations to we investors\n\n:\nThey are back again with their successful payment\nNo platform like this company.\n\nTracey Lolli:\nEveryone is just happy about this platform, immediate withdrawals.  Congratulations to you on your joyful earnings today.\n\nAbdo Douaihy:\nCongrats my dear friend you are doing well, keep winning we  choose the right investment company. That's why we all receive our payouts peacefully from the company.\n\nIna Templin:\nThat's good, your hard work has earned you more profits, I congratulate you on your withdrawal and wish you many  to come.\n\nIna lavenderlhexe:\nCongratulations i hope you win more.This company is really the best place to be no doubt i just hope they keep up with this good work.\n\nGold:\nTrading with EXPERT MANAGER is just the perfect desicion, because smart bit  investment takes care of my financial desires and makes me debt free.\n\nIna Templin:\nAmazing Grace werk regtig hier, ek is so lief vir hierdie maatskappy. Baie geluk my vriend het meer en meer onttrekkings om te troos.\n\nFred 85 Battut:\nCongratulations more profit to you my co-investor here once you invest in expert traders, you need to know you are in the right place\n\nkanoa44 carole legeron:\ncongratulations still profit to come, This company works hard here God will continue to bless expert traders for us here\n\nShan:\nI invest here and I allow my money to work for me, Investment is good if you are with the right company like expert traders are you now\n\n:\nCongratulations to all who successfully withdrew.  The best thing that happened in my life recently is to come across this platform.🥳\n\nابو عامر:\nI never knew this kind of reliable and genuine platform still exists, you are one among a million, indeed you are a born leader, thank you so much EXPERT MANAGER congratulations to you\n\nTracey Lolli:\nCongratulations on your winnings, many people get real benefit from this company, I can take every opportunity to grab this opportunity\n\nSpencer:\nThanks to this platform for being there in  times of need, I will continue to invest here I really have so many things to do.\nCongratulations to you.\n\nSamuelle Z.G. Dimairho:\nDie vreugde wat ek kry om 'n belegger in hierdie platform te wees, is geweldig. Ek is mal oor die manier waarop hulle beleggers betyds betaal en hul eie egtheid .. Hierdie platform is eenvoudig die beste\n\nKlaus:\nBaie geluk, ! Dit is 'n platform waarop u met selfvertroue kan vertrou. Hulle het 'n paar fantastiese administrateurs en 'n wonderlike span by die agterkant om die beleggers soos ons sulke massiewe winste te gee!\n\nEdinaldo DaSilva:\nIt's win, win and win for all our investors around the world.  Keep investing for more profit\n\n:\nWe keep getting the best of services here. That's what tells of a good platform. Keep winning\n\nAmbo:\nBaie geluk dit is ongelooflik hierdie platform het die vermoë om mense gelukkig te maak ek is bly om onder die mega pro sa te wees ... hulle is die beste betalende platform tot dusver\n\nGeorg saunders:\nCongrats to you, Here is the best place for trading all withdrawal are being processed automatically\nAm happy to be an investor of this well paying platform\n\nSuma Chekeche:\nCongratulations 🎊 🎊 🎊\n It is so satisfying to know that we will always get our withdrawals instantly\n\nTracey Lolli:\nIt's really wonderful and amazing to join this company and all we get is the best congratulations..\n\nFlorian:\nThis platform keeps surprising people everyday with successful withdrawal congratulation on your payment received.\n\nIna Templin:\nThis platform have changed Alot of people you can find hope here at all time congratulation to you. I got my profit early today. Congrat to you.\n\nKevin David:\nCongratulations to everyone for the successful withdrawals. This company has never failed any investor and I don't see any possibility of that happening\n\n:\nEk vier jou verdienste saam met jou en nog meer om te kom liewe . Wys jou vriende 'n beter en veiliger manier om elke dag wins te verdien sonder om te stres",
         "4063"
        ],
        [
         "22",
         "🚨ELEIÇÕES DE 2022 NO BRASIL 🇧🇷 DIVULGADO O ESCÂNDALO QUE TODO MUNDO SUSPEITAVA!\n\nTalvez, isso explique o fato do ex-deputado Roberto Jefferson ter declarado a seguinte frase: “Se as pessoas soubessem o que aconteceu nos bastidores do TSE, ficariam enojadas.”\n\nMuitos eleitores ficaram chocados e surpresos com a derrota de Bolsonaro no pleito de 2022. Não deveriam.\nO que está exposto abaixo é a notícia em primeira mão que está sendo investigada por rádios e jornais de todo o Brasil e do mundo, mais especificamente Wall Street Journal of Americas e a CBC, e deve sair na grande mídia a qualquer instante.\n\nFato comprovado: o Alexandre de Moraes VENDEU o resultado das eleições presidenciais para o PT.\nOs representantes das campanhas dos candidatos foram avisada à 00:00 do dia 29 de Outubro, logo após o debate da Rede Globo, em uma reunião envolvendo o Sr. José Roberto Marinho (na única vez que o ex-presidente da emissora compareceu no estúdio de gravação), o (diretor da campanha do PT), o próprio William Bonner, o Sr. Frederick Wassef (advogado de Bolsonaro), o Sr. Jalim Habbei (advogado de Lula no TSE).\nLula permaneceu no lobby do hotel com Janja, enquanto Bolsonaro era entrevistado ao vivo, logo após o debate.\nA princípio muito contrariado, Alckmin se recusou a participar das conversas, mas a  aceitação veio através da promessa de corrupção com a entrega dos lucros da Petrobras de mais de R$ 200 BILHÕES em propina, além da concessão de perdão presidencial aos condenados no Mensalão e no Petrolão, com a vitória de Lula e seu retorno à presidência.\n\nA fraude ao resultado se daria com a alteração interna do algoritmo das urnas eletrônicas feito pelo próprio TSE, para que, com cerca de 80% das urnas apuradas, por volta de 19:00 do domingo, a Rede Globo anunciaria a informação privilegiada de que Lula conseguiu uma “virada inédita na história”, com margem mínima de diferença de menos de 1%, alterando o prognóstico de vitória do Bolsonaro apontado pelas pesquisas DataPovo que estava se confirmando, sendo ultrapassado por Lula apenas nas últimas urnas, confirmando o acordado.\n\nO sistema de “auto hacker” feito na sala secreta do Tribunal Superior Eleitoral acordado na reunião ocorreria durante a apuração sem a fiscalização dos militares. A negociata no TSE teve o aval do Presidente da Câmara e do Senado, Arthur Lira, a quem foi prometido a continuidade do “Orçamento Secreto”, sem interferência do STF ou investigações do Ministério Público, garantindo a corrupção durante todo o mandato de Lula, juntamente com PSOL, PCdoB e toda a esquerda. Moraes assegurou que qualquer contestação ao resultado das eleições seria incluída no Inquérito das Fake News no Supremo e censurada imediatamente, retirando qualquer notícia contrária do ar para assegurar a vitória do petista até a posse de Lula.\n\nAssim, combinou-se que Lula venceria as eleições sem o auditamento das urnas e com o reconhecimento imediato do resultado da vitória do PT pelo TSE e pelo Supremo, sem direito à recontagem. A vitória do PT confirmaria o maior escândalo de corrupção da história do Brasil, acertado de antemão nas vésperas da eleição com o STF e o TSE. Assim, o PT teria facilitado o caminho para implantar o comunismo no Brasil e na América Latina, com ensino de ideologia de gênero de Paulo Freire nas escolas e o fechamento de igrejas.\n\nBolsonaro, que absolutamente não participou desta negociação, foi informado pelos militares sobre a fraude eleitoral na madrugada do dia seguinte, por meio de relatório confidencial, para que fossem adiadas as eleições até que fosse realizada a auditoria das urnas pelos militares, que demonstraria a sua reeleição dentro das 4 linhas da Constituição.\n\nJá está no Supremo a ação movida por Lula para que seja confirmada sua posse independente de auditoria das urnas, nas mãos do Ministro Dias Toffoli, indicado ao STF pelo PT, em liminar que selará a farsa das eleições de 2022. \n\nRepassem, para que todos possam saber de uma vez por todas a fraude das eleições e sobre todas as sujeiras que rondam o mundo da política.",
         "4063"
        ],
        [
         "23",
         "🚨ELEIÇÕES DE 2022 NO BRASIL 🇧🇷 DIVULGADO O ESCÂNDALO QUE TODO MUNDO SUSPEITAVA!\n\nTalvez, isso explique o fato do ex-deputado Roberto Jefferson ter declarado a seguinte frase: “Se as pessoas soubessem o que aconteceu nos bastidores do TSE, ficariam enojadas.”\n\nMuitos eleitores ficaram chocados e surpresos com a derrota de Bolsonaro no pleito de 2022. Não deveriam.\nO que está exposto abaixo é a notícia em primeira mão que está sendo investigada por rádios e jornais de todo o Brasil e do mundo, mais especificamente Wall Street Journal of Americas e a CBC, e deve sair na grande mídia a qualquer instante.\n\nFato comprovado: o Alexandre de Moraes VENDEU o resultado das eleições presidenciais para o PT.\nOs representantes das campanhas dos candidatos foram avisada à 00:00 do dia 29 de Outubro, logo após o debate da Rede Globo, em uma reunião envolvendo o Sr. José Roberto Marinho (na única vez que o ex-presidente da emissora compareceu no estúdio de gravação), o (diretor da campanha do PT), o próprio William Bonner, o Sr. Frederick Wassef (advogado de Bolsonaro), o Sr. Jalim Habbei (advogado de Lula no TSE).\nLula permaneceu no lobby do hotel com Janja, enquanto Bolsonaro era entrevistado ao vivo, logo após o debate.\nA princípio muito contrariado, Alckmin se recusou a participar das conversas, mas a  aceitação veio através da promessa de corrupção com a entrega dos lucros da Petrobras de mais de R$ 200 BILHÕES em propina, além da concessão de perdão presidencial aos condenados no Mensalão e no Petrolão, com a vitória de Lula e seu retorno à presidência.\n\nA fraude ao resultado se daria com a alteração interna do algoritmo das urnas eletrônicas feito pelo próprio TSE, para que, com cerca de 80% das urnas apuradas, por volta de 19:00 do domingo, a Rede Globo anunciaria a informação privilegiada de que Lula conseguiu uma “virada inédita na história”, com margem mínima de diferença de menos de 1%, alterando o prognóstico de vitória do Bolsonaro apontado pelas pesquisas DataPovo que estava se confirmando, sendo ultrapassado por Lula apenas nas últimas urnas, confirmando o acordado.\n\nO sistema de “auto hacker” feito na sala secreta do Tribunal Superior Eleitoral acordado na reunião ocorreria durante a apuração sem a fiscalização dos militares. A negociata no TSE teve o aval do Presidente da Câmara e do Senado, Arthur Lira, a quem foi prometido a continuidade do “Orçamento Secreto”, sem interferência do STF ou investigações do Ministério Público, garantindo a corrupção durante todo o mandato de Lula, juntamente com PSOL, PCdoB e toda a esquerda. Moraes assegurou que qualquer contestação ao resultado das eleições seria incluída no Inquérito das Fake News no Supremo e censurada imediatamente, retirando qualquer notícia contrária do ar para assegurar a vitória do petista até a posse de Lula.\n\nAssim, combinou-se que Lula venceria as eleições sem o auditamento das urnas e com o reconhecimento imediato do resultado da vitória do PT pelo TSE e pelo Supremo, sem direito à recontagem. A vitória do PT confirmaria o maior escândalo de corrupção da história do Brasil, acertado de antemão nas vésperas da eleição com o STF e o TSE. Assim, o PT teria facilitado o caminho para implantar o comunismo no Brasil e na América Latina, com ensino de ideologia de gênero de Paulo Freire nas escolas e o fechamento de igrejas.\n\nBolsonaro, que absolutamente não participou desta negociação, foi informado pelos militares sobre a fraude eleitoral na madrugada do dia seguinte, por meio de relatório confidencial, para que fossem adiadas as eleições até que fosse realizada a auditoria das urnas pelos militares, que demonstraria a sua reeleição dentro das 4 linhas da Constituição.\n\nJá está no Supremo a ação movida por Lula para que seja confirmada sua posse independente de auditoria das urnas, nas mãos do Ministro Dias Toffoli, indicado ao STF pelo PT, em liminar que selará a farsa das eleições de 2022. \n\nRepassem, para que todos possam saber de uma vez por todas a fraude das eleições e sobre todas as sujeiras que rondam o mundo da política.",
         "4063"
        ],
        [
         "24",
         "URGENTE: Peritos forenses sugerem matemática “bandeiras vermelhas” no primeiro turno da eleição presidencial brasileira, cita a lei de Benford\npor Matt Tyrmand30 de outubro de 2022222755\nCOMPARTILHAR18\n\nImagem de Marcelo Camargo/Agência Brasil\nPor favor, siga-nos no Gab , Minds , Telegram , Rumble , Gab TV , GETTR , Truth Social \n\nEste dossiê nos foi fornecido por uma fonte confiável de especialistas e foi criado por um pequeno grupo de especialistas técnicos nas áreas de matemática, ciência política e análise forense, todos bem versados em estatísticas eleitorais e anomalias eleitorais.\n\nA fonte disponibilizou este documento e demonstrou a credibilidade dos autores que aqui apresentam seus resultados estatísticos sobre o primeiro turno das eleições brasileiras (domingo 2 de outubro).\n\nO grupo fonte aplicou a Lei de Benford , uma fórmula estatística altamente reconhecida , para analisar dados disponíveis publicamente fornecidos pelo Tribunal Eleitoral (TSE). A fórmula mostrou inconsistências no apuramento de votos em várias regiões do país.\n\nOs links para os dados publicamente disponíveis do TSE estão no documento, e outros especialistas são convidados a realizar o mesmo teste da Lei de Benford sobre os dados. Os gráficos de apuração de votos também estão disponíveis — mostrando a região, o candidato e o dígito analisado. Vários gráficos mostram a curva da Lei de Benford em um determinado formato, enquanto a curva real da tabulação dos votos se desvia completamente dela. Isso é o que aponta para manipulação de acordo com a fonte do especialista.\n\nAssinatura 'NO AD' para CDM! Inscreva-se aqui e apoie o jornalismo investigativo real e ajude a salvar a república!'\nA Lei de Benford nunca prova definitivamente a fraude em si. É uma metodologia que é usada para detectar anomalias em grandes conjuntos de dados e, assim, ajudar um auditor a focar sua auditoria nos clusters de dados que apresentam as anomalias. Serve como uma “bandeira vermelha” que, segundo nossa fonte, deve catalisar uma revisão de auditoria dos dados em um sistema onde os auditores operam de boa fé.\n\nDe acordo com a fonte: os padrões de dados descritos no dossiê contêm muitas anomalias fortes que são flagrantes bandeiras vermelhas. Este é especialmente o caso na região nordeste do país.\n\nAs curvas e gráficos nesses padrões de gráficos compilados apresentam semelhanças com eleições questionáveis no Irã e na Venezuela no passado. Isso também alarmou muito a equipe de fontes especializadas.\n\nRecomendamos que as próprias pessoas leiam o documento e tirem suas próprias conclusões.\n\nÉ importante destacar que as pessoas no Brasil não conseguem relatar notícias sobre esses assuntos devido ao medo de perseguição judicial. Como a Fox News e o New York Times noticiaram recentemente, há uma clara indicação de que os Tribunais Supremo e Eleitoral são tendenciosos e vão reprimir qualquer pessoa que investigue a integridade eleitoral no Brasil ou jornalistas que reportem informações que possam ser interpretadas como questionando a integridade dos sistemas eleitorais ou as ações de execução do próprio tribunal.\n\nSegundo nossa fonte, o órgão central eleitoral brasileiro insiste em ofuscar a transparência do processo eleitoral, que deve ser cristalino e aberto a todas as formas de visibilidade e prevê uma contagem aberta e pública que permite uma posterior auditoria física. Que quaisquer especialistas das ciências tenham que publicar este documento sem atribuição por medo de entrar em conflito com os tribunais federais brasileiros politicamente motivados a cumprir a “justiça” e a atividade de fiscalização inconstitucional da força policial da Guarda Pretoriana a mando do tribunal, é uma grande tragédia para Brasil contemporâneo.\n\nEscusado será dizer que a ameaça à democracia ao sufocar o debate aberto, especialmente sobre questões controversas, como mecanismos e sistemas eleitorais, é manifestamente clara.\n\nNota: Este relatório foi liberado para distribuição após o encerramento do segundo turno para não interferir na tomada de decisão eleitoral",
         "4062"
        ],
        [
         "25",
         "Esta é basicamente a diferença entre as duas visões, mas o princípio aceito é o mesmo: cada um é responsável pelas suas próprias conquistas ou derrotas, pela sua força ou fraqueza, por ser um senhor ou um escravo.\nQualquer subordinação à uma Vontade alheia a sua é um tipo de servidão, e por isso mesmo o Luciferiano não permite nem deseja ser controlado por outros seres, como é a idéia inicial do pacto com uma entidade qualquer. Para alcançar sua evolução ele precisa experimentar e transpassar todas as barreiras por si mesmo. Se ele recebesse tudo facilmente, qual seria o sentido nisso? Apenas desfrutar temporariamente destes prodíg\n\nios? Para que, já que ele sabe que pode desfrutar de tudo ao mesmo tempo que ao conseguí-lo estará dando mais um passo rumo ao encontro com sua divindade interior?\nOutra barreira preocupante à evolução individual, e mais perigosa do que qualquer outra é a auto-ilusão. Alguns tornam-se cegos por ela, enlouquecendo e nem percebendo isso. Começam a ver seres em tudo, e a acreditar que estão no fim da jornada quando mal começaram a dar os primeiros passos. Para estes que se perderam nada resta e por isso não merecem nada além de nosso desprezo. Não devemos perder nossas energias com eles. O caminho da evolução é também o da separação entre os Deuses e os Servidores.\nMas a simbologia do pacto também pode ser aplicada de uma maneira mais sensata ao Luciferianismo. Não o pacto com o demônio pelos motivos já explicados, mas um compromisso consigo mesmo, com sua própria Vontade para lutar por tudo aquilo que deseja, e principalmente pelo grande ideal Universal, que é o encontro com sua própria divindade. Este é o único tipo de pacto aceitável dentro da filosofia Luciferiana, e qualquer outro sai totalmente do propósito desta.\n\nO Pentagrama\nEscrito por Lilith Ashtart( agradecimentos e consulta Literária)\n\nO pentagrama é um símbolo extremamente antigo, ao contrário do que algumas pessoas pensam, e já foi e ainda é utilizado em diferentes filosofias tendo diferentes significados do que o utilizado por nós. Ele é o símbolo mágico por excelência, representando os quatro elementos: ar, terra, fogo e água, além do espírito (a luz é utilizada ao invés do espírito pelos gnósticos-maniqueístas).\nA primeira representação do pentagrama utilizada como um símbolo que continha significado oculto data de Pitágoras que acreditava estar nele a perfeição, já que representava o equilíbrio entre o corpo e a alma.\nHá duas maneiras de representar o pentagrama, conforme ilustrado na figura abaixo:\n\nA forma \"normal\" compreende dentro da estrela a figura de um ser humano e os nomes dos supostos pais da humanidade, Adão e Eva, enquanto a forma \"invertida\" possui desenhada em seu interior a cabeça de um bode e traz o nome dos supostos pais dos demônios, Lilith e Samael. Devido a estes nomes a primeira forma geralmente é associada a magia branca, enquanto a segunda a magia negra ( é importante ressaltar que magia \"branca\" ou \"negra\" é a mesma magia, apenas possuindo propósito diferente, como já foi visto anteriormente. Esta separação entre os dois tipos de magia foi criada por pessoas que insistem no duelo entre o bem e o mal, que se deixam escravizar por um renegando o outro, o que jamais é aceito por um Luciferiano. Sendo assim, no Luciferianismo esta separação não é utilizada, já que há tanto rituais destinados a causar o bem quanto ao mal, isso dependendo apenas da vontade do magista).\nA forma \"normal\" simboliza o espírito acima da matéria, enquanto a forma \"invertida\" simboliza o contrário, ou seja, a matéria sobre o espírito. Uma visão que pode ser considerada tanto Satânica como Luciferiana deste símbolo pode ser exemplificada pelo que o Templo de Shaitan cita em um de seus escritos: \" ... no centro do símbolo está o pentagrama representando o homem finito dentro de um universo infinito, compreendendo que os limites impostos pela serpente podem ser transcendidos ou expandidos através da própria compreensão de si mesmo. O pentagrama representa os quatro elementos encimados pelo espírito.",
         "4059"
        ],
        [
         "26",
         "ATENÇÃO! URGENTE!\n\nJAIR MESSIAS BOLSONARO\nDIVULGA 22 COMPROMISSOS COM VOCÊ.\n\n\"- É preciso compreender aqueles que ainda não decidiram e lhes oferecer segurança para que façam a melhor escolha para o futuro da nossa nação. Mais do que promessas vazias e abstratas, o Brasil precisa de um caminho sólido, pautado em ações concretas e, sobretudo, em princípios.\n\n- A partir de 2023, com um Congresso em sintonia com o nosso Governo, será possível avançar não apenas em novas propostas, mas naquelas boas medidas que foram travadas pelo caminho. Dito isso segue abaixo 22 COMPROMISSOS que farão do Brasil um país mais próspero, mais livre e mais seguro para todos os brasileiros:\n\n1. Reduzir maioridade penal para crimes hediondos, como estupro, homicídio e latrocínio.\n\n2. Acabar com a audiência de custódia, hoje um dos maiores estímulos à impunidade no país.\n\n3. Endurecer penas para crimes violentos e os critérios para progressão de\nregime.\n\n4. Criar o Estatuto de Direitos das Vítimas, em contrapartida à crescente inversão de valores percebida nas últimas décadas, onde o bandido é a vítima e a polícia e os cidadãos são os vilões.\n\n5. Garantir retaguarda jurídica e excludente de ilicitude para agentes de segurança, respaldando nossos policiais no combate ao crime.\n\n6. Aumentar o Fundo Nacional de Segurança Pública para garantir a aparelhagem e a modernização das forças de segurança.\n\n7. Com as medidas de combate à impunidade apresentadas acima, buscaremos reduzir em mais 20% os homicídios nos próximos 4 anos, chegando a uma queda de 50% do pico de mortes violentas atingido no último ano de governo do PT.\n\n8. Implementar uma Política Nacional de Fortalecimento dos Laços Familiares, um conjunto de medidas e diretrizes que visam incentivar a criação e preservação das famílias, que são a base da sociedade.\n\n9. Garantir o bônus de produtividade de 200 reais adicionais para beneficiários do Auxílio Brasil permanente de no mínimo 600 reais, para estimular o trabalho produtividade e a ascensão dos mais pobres.\n\n10. Entregar no mínimo mais 2 milhões de moradias a famílias de baixa renda.\n\n11. Democratizar os serviços digitais, por meio da isenção de impostos para compra de aparelhos celulares populares e do estabelecimento de uma tarifa social para planos de dados.\n\n12. Aumentar o salário mínimo para 1400 reais em 2023 e acima da inflação todos os anos até 2026.\n\n13. Seguir indicando de forma independente nomes técnicos e de Ficha Limpa para Ministérios, bancos públicos e estatais, impedindo que interesses escusos façam florescer a corrupção sistêmica no Governo.\n\n14. Manter uma política econômica pautada no livre mercado e na responsabilidade fiscal, propiciando um ambiente favorável à atração de investimentos e à geração de pelo menos mais 6 milhões de empregos.\n\n15. Criar e implementar o SUS Online: Modernização dos serviços de saúde pública, com agendamento, pré-triagem e prontuário digital, visando reduzir e zerar as filas nos hospitais (Zap da Saúde).\n\n16. Promover a desoneração da folha de pagamento para profissionais de saúde e buscar a desoneração gradual para os demais profissionais.\n\n17. Corrigir Tabela do IRPF; com isenção para quem ganha até cinco salários mínimos; e implementar o IRPF familiar, que permite um imposto de renda menor para quem realizar a declaração em família.\n\n18. Fazer do Nordeste o centro mundial de geração de energia verde e converter os royalties em benefícios sociais para a população, como o Auxílio Brasil.\n\n19. Implementar o FIES/TEC, para financiar cursos técnicos e profissionalizantes, permitindo aos brasileiros uma inserção maior no mercado de trabalho e um retorno financeiro mais rápido ao estudante.\n\n20. Implementar o Programa Educação para o Futuro, que pretende, com base no sucesso que tivemos com os cursos de alfabetização, disponibilizar para a população também o ensino de Programação, Inglês e Educação Financeira, essenciais para o crescimento profissional.\n\n21. Não controlar nem interferir na imprensa e preservar a liberdade de expressão, inclusive na Internet.",
         "4059"
        ],
        [
         "27",
         "Congratulations congratulations I am very happy for you too because I have received money from them and I trust the process of trading here is the best ever honestly\n\nSmile will always remain in your face when you are participating in the Best company☺️😊 Congratulations\n\nIf you want to gain massively in this company. Just follow the step of registration and depositing well you will surely make it big here congratulations.\n\nCongratulations dear, best wishes\nthis platform keeps blessing investors and most of the investors are here testifying how good this platform is to them. congratulations\n\n100% safe and reliable platform\ncongratulations as you keep investing with this great establishment\n\nThis is the right place, investing here is a pleasure to each and every investor. i'm so happy to earn profits from this platform\n\nReliable and trusted paying site of the moment, let us appreciate this company for all the incredible service performance through out, that had started\n\nSuccess is assured when you're investing and getting paid instantly from a real platform. This platform is good\n\nThis platform is so amazing, every investors here receives their payments without complaints. Congratulations to you 🤑🤑🤑\n\nCongratulaion. I'm delighted to see every Investor in this platform receiving their withdrawal successfully\n\nAs investors with this company we win together your success is good for all of us let us continue Investing and earning profit\n\nMoney on this platform. That's a characteristic of a legit platform. They never let their investors down\nCongratulations to you\n\nCongratulations to you for getting this prestigious payment. This will give you a lot of motivation to make a good investment in the future.\n\nThis is the best feeling ever. The feeling of joy whenever you receive payout of your investment. It's so amazing FXTM CRYPTO INVESTMENT is real and genuine paying platform.\n\nMore blessings. Don't settle for the less. Spread the news to your friends so that they can enjoy with us here..Congratulation🥂🥂\n\nThis company is really doing their best in satisfying their customers... And  it's visible in all earned testimonies from investors around the world..congrats\n\nCongratulation on your withdrawal. I'm really so happy to seeing my fellow Investors winning alongside with me here, may God continue to bless every one here.\n\nI have been with this platform for a short period of time now.And they have always remained the same. Always working on improving the happiness of all investors here, \nCongratulations\n\nCan't believe this platform is becoming so interesting each day. The management is really doing a good job\n\nI'm really impressed with the activities taking place in this platform, earning investors and sharing testimony .. Congratulations 🎉👏\n\nInvest with the best \nAnd get nothing but the best\nI'm so proud to be here\nCongratulations\nMore success\n\nCongratulations to you, this is the best company to invest and have rest of mind.\nFXTM CRYPTO INVESTMENT to the world!!\n\nThis platform is really wonderful and great, steady Withdrawal is all we see here everyday\n\nThere is no platform so genuine and trustworthy like this great platform  the admin always keep to her words.\n\nNice one. It's all becoming comfortable financially with the help of this FXTM CRYPTO INVESTMENT company.\nCongratulations\n\nA platform like this can never be found elsewhere. I have no fear investing here, it is just so legit\n\nI celebrate your winnings with you my fellow investor, more winnings to celebrate as long as we keep investing in this platform, congratulations 🎉🎉\n\nCongratulations dear this is what we always pray to get, whenever we pray to God for directions on the right path in whatever we do congrats\n\nI remain ever greatful to this company for upholding to their high standard and status. Congratulations my friend\n\nThis is the only platform i have done anything online with. Congratulations on your Withdrawal\n\nThere's no equal to this great company. I encourage everyone that cares to invest smart to start with this great company.",
         "4057"
        ],
        [
         "28",
         "May you always have the same zeal to face the challenges that will come your way in life. Congratulations for a brilliant and well deserved success\n\nSome people will still be surprised how things are done here and how people are getting paid in this company too\n\nCongtatulations Thanks for showing your withdrawal proof, it has been a motivation to many people in this group.\n\nYou are like a ballerina standing on point for the first time. The goal you have been able to achieve makes all the pain and hard work worth it. Congratulations. I can’t wait to see where you’ll point your toe next.\n\nAwesome congratulations to you every single penny you receive from the company you deserve it what I mean is you took a bold step like every other person here.\n\nCongratulations, this is really impressive, I love being here and this platform has proven to be the best platform.  company is a legit place to invest.\n\nThey will always give everyone the best that's why in everything am doing I keep remembering this company, they gave me the best all the time...congratulations.\n\nEvery withdrawal achievement is a servitude. It compels us to a higher achievement when you keep on investing with this platform.\n\nEnjoy your day with a full attention to invest more with Standard Bank Bitcoin Company because they will keep paying you at the due time according to your investment plan.\n\nThis is the more reason why I can not stop investing here, they never grab to amaze me\n✅✅✅✅✅\n\nCongratulations to you this company never ceases to amaze me, investors always give good comments about this company.\n\nCongratulations, FUTURE 🇿🇦 trader's is a God-sent platform with a mandate to end suffering\n\nCongratulations 👏👏 I am glad for everyone who withdraws here, keep investing in future 🇿🇦🇿🇦🇿🇦🇿🇦🇿🇦🇿🇦 trader's company for good profit\n\nGeluk aan jou.  Dit is so groot, my liefde vir hierdie platform word steeds groter vanweë hul outomatiese betaling ...\n\nThis is practically the best place one can choose to invest because here gives you peace of mind. Congrats.\n\nCongratulaions on your successful withdrawal, I'm so happy you're earning from this company, I pray they continue the good work\n\nLife is all about taking risk and getting the best \nOpportunity which comes your way, Congratulations am so happy that you take the risk\n\nSeeing your investment paying off is really a joyous thing to behold\nCongratulations on your withdrawals\n\nOm deel te wees van hierdie platform is 'n wonderlike geleentheid. Een groot ding oor hierdie platform is die konsekwentheid van 'n wins, dit is so goed\n\nThis company is real 100%, that's why I would advice everyone to invest here because they are legitimate and secured\n\nThis just made me smile, thank you for this and every other thing you've been doing for us. We appreciate you our leader\n\nBaie geluk baie geluk\nOns is nie meer bekommerd oor die wettigheid van die maatskappy nie, dit is seker dat hulle omgee en hul beleggers waardeer.\n\nEk is mal oor alles aan hierdie platform, van sy waarborgwinste tot sy oorweldigende getuienisse.  Hulle is regtig die beste.  Baie geluk aan jou 🎉🎉\n\nIt is a success, you truly deserved. It is an achievement you have truly earned. I congratulate you on  I success and wish you all the best for your future.\n\nWhen you finally get to invest with a legit platform like this one, you don't have anything to worry about anymore.. Congrats friend\n\nBest of luck to you. Keep earning , keep imparting your knowledge to others as to start earning like yourself\nCongrats\n\nCongratulations congratulations\nThe head admin of this company are really working hard to make sure everyone makes a profit. I can testify to that\n\nVandat ek hier begin belê het, het ek altyd gesien hoe ander beleggers hul getuigskrifte hier deel en ek is mal oor wat in hierdie groep verskyn.  Gelukkige betaaldag\n\nDit is net wonderlik.  Ek koester hierdie platform so baie en ek is regtig beïndruk met hul bedrywighede.\n\nEk raai almal altyd aan om hier te belê, want dit is 'n goeie plek om geld te belê en wins terug te kry",
         "4046"
        ],
        [
         "29",
         "O conceito de \"manipulação\" do qual estamos tratando é o seguinte: fazer com que uma pessoa se comporte no interesse de alguém ou de um grupo, em detrimento do interesse próprio.\n\nAssim, ser manipulado nada mais é que estar submetido ao poder de outras pessoas.\n\nPara saber como a TV manipula as pessoas é necessário verificar para que serve a manipulação e como ela é feita. A manipulação é necessária para fazer com que as pessoas cooperem pacificamente. As sociedades complexas só existem porque encontraram formas eficientes de manipular as pessoas. A manipulação visa a fazer com que as pessoas não se interessem em questionar se os papéis que exercem nos relacionamentos sociais são justos ou não. Assim, uma pessoa bem ajustada à sociedade não questiona seu papel como cidadão e trabalhador e obedece todas as leis sem crítica.\n\nSempre que estivermos em um grupo social organizado, estamos submetido ao poder de outros e exercemos o poder sobre outros. Em outras palavras, ou fazemos parte da manipulação, manipulando e sendo manipulado, ou não pertencemos a esse grupo social.\n\nA manipulação em benefício dos grupos que dominam uma sociedade é feita de três formas: por meio da violência física e psicológica, por meio da negociação, e por meio da doutrinação. Essas três formas são usadas ao mesmo tempo pelos grupos que exercem o poder, por meio de seus colaboradores diretos e indiretos. Ela mantém toda a sociedade submissa, por meio de um exército de colaboradores, uma doutrina — que reúne um conjunto de crenças, valores e princípios, que resulta em um regramento oficial, e um conjunto de equipamentos.\n\nA violência pode ser de dois tipos: a violência física direta, por meio de tortura, prisão, banimento e assassinato; ou a violência psicológica, praticada por meio de ameaças, humilhações, mentiras, intrigas, isolamento moral e discriminação. Ambos os tipos de violência estão a cargo das forças paramilitares ( tais como as milícias ilegais), forças policiais, forças armadas e pelo sistema de justiça.\n\nA negociação se dá por meio de prêmios e sanções. A forma mais comum de premiação é a concessão de privilégios, enquanto a sanção mais comum é a perda dos privilégios. A negociação é feita principalmente por meio dos órgãos que fazem parte da organização do Estado, tais como: partidos políticos, órgãos representativos da sociedade e tribunais. Mas, todas as entidades do Estado e da sociedade civil podem ser usados.\n\nA doutrinação é feita por meio das três principais ideologias: moral, religiosa e política. Ela está a cargo das seguintes entidades: famílias, igrejas, escolas, imprensa, indústrias de entretenimento, órgãos e empresas de produção cultural, forças policiais, forças armadas, órgãos públicos em geral, empresas privadas e até mesmo as organizações ilegais que conseguem o apoio das autoridades, por meio de alianças ocultas.\n\nPortanto, a manipulação feita pela televisão é uma modalidade de doutrinação que é usada para induzir as pessoas a pensar e se comportar de uma determinada maneira que interessa aos grupos que exercem o poder. Os programas de televisão induzem as pessoas a se comportarem de certas formas consideradas corretas, adotar certos estilos de vida considerados melhores, consumir certos produtos apresentados como mais adequados e a pensar de um modo cooperativo e virtuoso, de acordo com o interesse dos grupos dominantes.\n\nA televisão, por meio de seus diversos tipos de programa de entretenimento, influenciam toda a vida das pessoas, desde o nascimento até a morte. Hoje, até mesmo o nome que a criança recebe ao nascer é tirado dos personagens das novelas, dos filmes e das celebridades. A vida das celebridades serve de modelo para que as pessoas vivam suas vidas.\n\nTudo que você consome tem de ter o aval dos modelos de comportamento criados pelas empresas de propaganda.\n\nMesmo o modo de pensar passa a ser influenciado pelos \"formadores de opinião\", contratados pelas empresas de produção cultural associadas às grandes mídias (tv, jornais, revistas, blogs, sites etc.).",
         "4044"
        ]
       ],
       "shape": {
        "columns": 2,
        "rows": 30
       }
      },
      "text/html": [
       "<div>\n",
       "<style scoped>\n",
       "    .dataframe tbody tr th:only-of-type {\n",
       "        vertical-align: middle;\n",
       "    }\n",
       "\n",
       "    .dataframe tbody tr th {\n",
       "        vertical-align: top;\n",
       "    }\n",
       "\n",
       "    .dataframe thead th {\n",
       "        text-align: right;\n",
       "    }\n",
       "</style>\n",
       "<table border=\"1\" class=\"dataframe\">\n",
       "  <thead>\n",
       "    <tr style=\"text-align: right;\">\n",
       "      <th></th>\n",
       "      <th>text_content_anonymous</th>\n",
       "      <th>caracteres</th>\n",
       "    </tr>\n",
       "  </thead>\n",
       "  <tbody>\n",
       "    <tr>\n",
       "      <th>0</th>\n",
       "      <td>PROPOSTAS DE BOLSONARO PARA 2023 - POSTADAS AG...</td>\n",
       "      <td>4096</td>\n",
       "    </tr>\n",
       "    <tr>\n",
       "      <th>1</th>\n",
       "      <td>Amados!\\nOs olhos do mundo estavam voltados pa...</td>\n",
       "      <td>4093</td>\n",
       "    </tr>\n",
       "    <tr>\n",
       "      <th>2</th>\n",
       "      <td>OLE OLE OLE OLAAAA LULA LULAAAAAOLE OLE OLE OL...</td>\n",
       "      <td>4092</td>\n",
       "    </tr>\n",
       "    <tr>\n",
       "      <th>3</th>\n",
       "      <td>PETISTAS COMENDO MULHER D QUEM TÁ NOS BLOQUEIO...</td>\n",
       "      <td>4092</td>\n",
       "    </tr>\n",
       "    <tr>\n",
       "      <th>4</th>\n",
       "      <td>ANTES DE 🇨🇳LULA🇨🇳, MIL VEZES 🇧🇷BOLSONARO🇧🇷, ma...</td>\n",
       "      <td>4090</td>\n",
       "    </tr>\n",
       "    <tr>\n",
       "      <th>5</th>\n",
       "      <td>O príncipe Dado Ruspoli também foi ator e no f...</td>\n",
       "      <td>4089</td>\n",
       "    </tr>\n",
       "    <tr>\n",
       "      <th>6</th>\n",
       "      <td>Nada para efetuar seguros, porém, unicamente o...</td>\n",
       "      <td>4084</td>\n",
       "    </tr>\n",
       "    <tr>\n",
       "      <th>7</th>\n",
       "      <td>🚨ELEIÇÕES DE 2022 NO BRASIL 🇧🇷 DIVULGADO O ESC...</td>\n",
       "      <td>4080</td>\n",
       "    </tr>\n",
       "    <tr>\n",
       "      <th>8</th>\n",
       "      <td>Bolsonaro é um porco seboso e seus apoiadores ...</td>\n",
       "      <td>4078</td>\n",
       "    </tr>\n",
       "    <tr>\n",
       "      <th>9</th>\n",
       "      <td>Bolsonaro é um porco seboso e seus apoiadores ...</td>\n",
       "      <td>4077</td>\n",
       "    </tr>\n",
       "    <tr>\n",
       "      <th>10</th>\n",
       "      <td>*leiam até o fim* \\nBem interessante \\n\\nUm ad...</td>\n",
       "      <td>4077</td>\n",
       "    </tr>\n",
       "    <tr>\n",
       "      <th>11</th>\n",
       "      <td>*Fora Bolsonaro* \\n\\nBem Interessante \\n\\nUm a...</td>\n",
       "      <td>4076</td>\n",
       "    </tr>\n",
       "    <tr>\n",
       "      <th>12</th>\n",
       "      <td>*Fora Bolsonaro* \\nBem interessante \\n\\nUm ado...</td>\n",
       "      <td>4076</td>\n",
       "    </tr>\n",
       "    <tr>\n",
       "      <th>13</th>\n",
       "      <td>*Fora Bolsonaro* \\n\\nBem Interessante \\n\\nUm a...</td>\n",
       "      <td>4075</td>\n",
       "    </tr>\n",
       "    <tr>\n",
       "      <th>14</th>\n",
       "      <td>NEOQEAV \\n\\nMeus avós já estavam casados há m...</td>\n",
       "      <td>4073</td>\n",
       "    </tr>\n",
       "    <tr>\n",
       "      <th>15</th>\n",
       "      <td>Além disso, o adrenocromo é produzido através ...</td>\n",
       "      <td>4069</td>\n",
       "    </tr>\n",
       "    <tr>\n",
       "      <th>16</th>\n",
       "      <td>JAIIIIIR BOLSONARO EU SO QUERO A TUA ROLA ENCA...</td>\n",
       "      <td>4069</td>\n",
       "    </tr>\n",
       "    <tr>\n",
       "      <th>17</th>\n",
       "      <td>TIRA DEL HILO 🧵 \\n\\nLas personas que se han in...</td>\n",
       "      <td>4066</td>\n",
       "    </tr>\n",
       "    <tr>\n",
       "      <th>18</th>\n",
       "      <td>Crianças europeias sofrem aumento assustador d...</td>\n",
       "      <td>4066</td>\n",
       "    </tr>\n",
       "    <tr>\n",
       "      <th>19</th>\n",
       "      <td>OLE OLE OLE OLAAAA LULA LULAAAAAOLE OLE OLE OL...</td>\n",
       "      <td>4066</td>\n",
       "    </tr>\n",
       "    <tr>\n",
       "      <th>20</th>\n",
       "      <td>Transcrevo a carta de um adolescente de 17 ano...</td>\n",
       "      <td>4065</td>\n",
       "    </tr>\n",
       "    <tr>\n",
       "      <th>21</th>\n",
       "      <td>:\\nI'm sharing my excitement about this platfo...</td>\n",
       "      <td>4063</td>\n",
       "    </tr>\n",
       "    <tr>\n",
       "      <th>22</th>\n",
       "      <td>🚨ELEIÇÕES DE 2022 NO BRASIL 🇧🇷 DIVULGADO O ESC...</td>\n",
       "      <td>4063</td>\n",
       "    </tr>\n",
       "    <tr>\n",
       "      <th>23</th>\n",
       "      <td>🚨ELEIÇÕES DE 2022 NO BRASIL 🇧🇷 DIVULGADO O ESC...</td>\n",
       "      <td>4063</td>\n",
       "    </tr>\n",
       "    <tr>\n",
       "      <th>24</th>\n",
       "      <td>URGENTE: Peritos forenses sugerem matemática “...</td>\n",
       "      <td>4062</td>\n",
       "    </tr>\n",
       "    <tr>\n",
       "      <th>25</th>\n",
       "      <td>Esta é basicamente a diferença entre as duas v...</td>\n",
       "      <td>4059</td>\n",
       "    </tr>\n",
       "    <tr>\n",
       "      <th>26</th>\n",
       "      <td>ATENÇÃO! URGENTE!\\n\\nJAIR MESSIAS BOLSONARO\\nD...</td>\n",
       "      <td>4059</td>\n",
       "    </tr>\n",
       "    <tr>\n",
       "      <th>27</th>\n",
       "      <td>Congratulations congratulations I am very happ...</td>\n",
       "      <td>4057</td>\n",
       "    </tr>\n",
       "    <tr>\n",
       "      <th>28</th>\n",
       "      <td>May you always have the same zeal to face the ...</td>\n",
       "      <td>4046</td>\n",
       "    </tr>\n",
       "    <tr>\n",
       "      <th>29</th>\n",
       "      <td>O conceito de \"manipulação\" do qual estamos tr...</td>\n",
       "      <td>4044</td>\n",
       "    </tr>\n",
       "  </tbody>\n",
       "</table>\n",
       "</div>"
      ],
      "text/plain": [
       "                               text_content_anonymous  caracteres\n",
       "0   PROPOSTAS DE BOLSONARO PARA 2023 - POSTADAS AG...        4096\n",
       "1   Amados!\\nOs olhos do mundo estavam voltados pa...        4093\n",
       "2   OLE OLE OLE OLAAAA LULA LULAAAAAOLE OLE OLE OL...        4092\n",
       "3   PETISTAS COMENDO MULHER D QUEM TÁ NOS BLOQUEIO...        4092\n",
       "4   ANTES DE 🇨🇳LULA🇨🇳, MIL VEZES 🇧🇷BOLSONARO🇧🇷, ma...        4090\n",
       "5   O príncipe Dado Ruspoli também foi ator e no f...        4089\n",
       "6   Nada para efetuar seguros, porém, unicamente o...        4084\n",
       "7   🚨ELEIÇÕES DE 2022 NO BRASIL 🇧🇷 DIVULGADO O ESC...        4080\n",
       "8   Bolsonaro é um porco seboso e seus apoiadores ...        4078\n",
       "9   Bolsonaro é um porco seboso e seus apoiadores ...        4077\n",
       "10  *leiam até o fim* \\nBem interessante \\n\\nUm ad...        4077\n",
       "11  *Fora Bolsonaro* \\n\\nBem Interessante \\n\\nUm a...        4076\n",
       "12  *Fora Bolsonaro* \\nBem interessante \\n\\nUm ado...        4076\n",
       "13  *Fora Bolsonaro* \\n\\nBem Interessante \\n\\nUm a...        4075\n",
       "14   NEOQEAV \\n\\nMeus avós já estavam casados há m...        4073\n",
       "15  Além disso, o adrenocromo é produzido através ...        4069\n",
       "16  JAIIIIIR BOLSONARO EU SO QUERO A TUA ROLA ENCA...        4069\n",
       "17  TIRA DEL HILO 🧵 \\n\\nLas personas que se han in...        4066\n",
       "18  Crianças europeias sofrem aumento assustador d...        4066\n",
       "19  OLE OLE OLE OLAAAA LULA LULAAAAAOLE OLE OLE OL...        4066\n",
       "20  Transcrevo a carta de um adolescente de 17 ano...        4065\n",
       "21  :\\nI'm sharing my excitement about this platfo...        4063\n",
       "22  🚨ELEIÇÕES DE 2022 NO BRASIL 🇧🇷 DIVULGADO O ESC...        4063\n",
       "23  🚨ELEIÇÕES DE 2022 NO BRASIL 🇧🇷 DIVULGADO O ESC...        4063\n",
       "24  URGENTE: Peritos forenses sugerem matemática “...        4062\n",
       "25  Esta é basicamente a diferença entre as duas v...        4059\n",
       "26  ATENÇÃO! URGENTE!\\n\\nJAIR MESSIAS BOLSONARO\\nD...        4059\n",
       "27  Congratulations congratulations I am very happ...        4057\n",
       "28  May you always have the same zeal to face the ...        4046\n",
       "29  O conceito de \"manipulação\" do qual estamos tr...        4044"
      ]
     },
     "metadata": {},
     "output_type": "display_data"
    }
   ],
   "source": [
    "top_30_distinct_largest_messages = duckdb.sql(\"\"\"\n",
    "  SELECT DISTINCT text_content_anonymous, caracteres\n",
    "  FROM telegram_df\n",
    "  ORDER BY caracteres DESC\n",
    "  LIMIT 30\n",
    "\"\"\").df()\n",
    "\n",
    "display(top_30_distinct_largest_messages)\n"
   ]
  },
  {
   "cell_type": "markdown",
   "id": "003699f0",
   "metadata": {},
   "source": [
    "27. As 30 menores mensagens"
   ]
  },
  {
   "cell_type": "code",
   "execution_count": 67,
   "id": "bc510570",
   "metadata": {},
   "outputs": [
    {
     "data": {
      "application/vnd.microsoft.datawrangler.viewer.v0+json": {
       "columns": [
        {
         "name": "index",
         "rawType": "int64",
         "type": "integer"
        },
        {
         "name": "text_content_anonymous",
         "rawType": "object",
         "type": "string"
        },
        {
         "name": "caracteres",
         "rawType": "int64",
         "type": "integer"
        }
       ],
       "conversionMethod": "pd.DataFrame",
       "ref": "f7e1bfd4-6e5f-4a36-952f-da877591538e",
       "rows": [
        [
         "0",
         "😂",
         "1"
        ],
        [
         "1",
         "👁",
         "1"
        ],
        [
         "2",
         "🤮",
         "1"
        ],
        [
         "3",
         "🧐",
         "1"
        ],
        [
         "4",
         "🙏",
         "1"
        ],
        [
         "5",
         "✅",
         "1"
        ],
        [
         "6",
         "😜",
         "1"
        ],
        [
         "7",
         "🟡",
         "1"
        ],
        [
         "8",
         "👆",
         "1"
        ],
        [
         "9",
         "🔜",
         "1"
        ],
        [
         "10",
         "/",
         "1"
        ],
        [
         "11",
         "?",
         "1"
        ],
        [
         "12",
         "S",
         "1"
        ],
        [
         "13",
         "🤥",
         "1"
        ],
        [
         "14",
         "🙂",
         "1"
        ],
        [
         "15",
         "🥱",
         "1"
        ],
        [
         "16",
         "😏",
         "1"
        ],
        [
         "17",
         "🤬",
         "1"
        ],
        [
         "18",
         "F",
         "1"
        ],
        [
         "19",
         "👀",
         "1"
        ],
        [
         "20",
         "🙄",
         "1"
        ],
        [
         "21",
         "💣",
         "1"
        ],
        [
         "22",
         "'",
         "1"
        ],
        [
         "23",
         "🙌",
         "1"
        ],
        [
         "24",
         "B",
         "1"
        ],
        [
         "25",
         "😔",
         "1"
        ],
        [
         "26",
         "@",
         "1"
        ],
        [
         "27",
         "🤭",
         "1"
        ],
        [
         "28",
         "🍾",
         "1"
        ],
        [
         "29",
         "😅",
         "1"
        ]
       ],
       "shape": {
        "columns": 2,
        "rows": 30
       }
      },
      "text/html": [
       "<div>\n",
       "<style scoped>\n",
       "    .dataframe tbody tr th:only-of-type {\n",
       "        vertical-align: middle;\n",
       "    }\n",
       "\n",
       "    .dataframe tbody tr th {\n",
       "        vertical-align: top;\n",
       "    }\n",
       "\n",
       "    .dataframe thead th {\n",
       "        text-align: right;\n",
       "    }\n",
       "</style>\n",
       "<table border=\"1\" class=\"dataframe\">\n",
       "  <thead>\n",
       "    <tr style=\"text-align: right;\">\n",
       "      <th></th>\n",
       "      <th>text_content_anonymous</th>\n",
       "      <th>caracteres</th>\n",
       "    </tr>\n",
       "  </thead>\n",
       "  <tbody>\n",
       "    <tr>\n",
       "      <th>0</th>\n",
       "      <td>😂</td>\n",
       "      <td>1</td>\n",
       "    </tr>\n",
       "    <tr>\n",
       "      <th>1</th>\n",
       "      <td>👁</td>\n",
       "      <td>1</td>\n",
       "    </tr>\n",
       "    <tr>\n",
       "      <th>2</th>\n",
       "      <td>🤮</td>\n",
       "      <td>1</td>\n",
       "    </tr>\n",
       "    <tr>\n",
       "      <th>3</th>\n",
       "      <td>🧐</td>\n",
       "      <td>1</td>\n",
       "    </tr>\n",
       "    <tr>\n",
       "      <th>4</th>\n",
       "      <td>🙏</td>\n",
       "      <td>1</td>\n",
       "    </tr>\n",
       "    <tr>\n",
       "      <th>5</th>\n",
       "      <td>✅</td>\n",
       "      <td>1</td>\n",
       "    </tr>\n",
       "    <tr>\n",
       "      <th>6</th>\n",
       "      <td>😜</td>\n",
       "      <td>1</td>\n",
       "    </tr>\n",
       "    <tr>\n",
       "      <th>7</th>\n",
       "      <td>🟡</td>\n",
       "      <td>1</td>\n",
       "    </tr>\n",
       "    <tr>\n",
       "      <th>8</th>\n",
       "      <td>👆</td>\n",
       "      <td>1</td>\n",
       "    </tr>\n",
       "    <tr>\n",
       "      <th>9</th>\n",
       "      <td>🔜</td>\n",
       "      <td>1</td>\n",
       "    </tr>\n",
       "    <tr>\n",
       "      <th>10</th>\n",
       "      <td>/</td>\n",
       "      <td>1</td>\n",
       "    </tr>\n",
       "    <tr>\n",
       "      <th>11</th>\n",
       "      <td>?</td>\n",
       "      <td>1</td>\n",
       "    </tr>\n",
       "    <tr>\n",
       "      <th>12</th>\n",
       "      <td>S</td>\n",
       "      <td>1</td>\n",
       "    </tr>\n",
       "    <tr>\n",
       "      <th>13</th>\n",
       "      <td>🤥</td>\n",
       "      <td>1</td>\n",
       "    </tr>\n",
       "    <tr>\n",
       "      <th>14</th>\n",
       "      <td>🙂</td>\n",
       "      <td>1</td>\n",
       "    </tr>\n",
       "    <tr>\n",
       "      <th>15</th>\n",
       "      <td>🥱</td>\n",
       "      <td>1</td>\n",
       "    </tr>\n",
       "    <tr>\n",
       "      <th>16</th>\n",
       "      <td>😏</td>\n",
       "      <td>1</td>\n",
       "    </tr>\n",
       "    <tr>\n",
       "      <th>17</th>\n",
       "      <td>🤬</td>\n",
       "      <td>1</td>\n",
       "    </tr>\n",
       "    <tr>\n",
       "      <th>18</th>\n",
       "      <td>F</td>\n",
       "      <td>1</td>\n",
       "    </tr>\n",
       "    <tr>\n",
       "      <th>19</th>\n",
       "      <td>👀</td>\n",
       "      <td>1</td>\n",
       "    </tr>\n",
       "    <tr>\n",
       "      <th>20</th>\n",
       "      <td>🙄</td>\n",
       "      <td>1</td>\n",
       "    </tr>\n",
       "    <tr>\n",
       "      <th>21</th>\n",
       "      <td>💣</td>\n",
       "      <td>1</td>\n",
       "    </tr>\n",
       "    <tr>\n",
       "      <th>22</th>\n",
       "      <td>'</td>\n",
       "      <td>1</td>\n",
       "    </tr>\n",
       "    <tr>\n",
       "      <th>23</th>\n",
       "      <td>🙌</td>\n",
       "      <td>1</td>\n",
       "    </tr>\n",
       "    <tr>\n",
       "      <th>24</th>\n",
       "      <td>B</td>\n",
       "      <td>1</td>\n",
       "    </tr>\n",
       "    <tr>\n",
       "      <th>25</th>\n",
       "      <td>😔</td>\n",
       "      <td>1</td>\n",
       "    </tr>\n",
       "    <tr>\n",
       "      <th>26</th>\n",
       "      <td>@</td>\n",
       "      <td>1</td>\n",
       "    </tr>\n",
       "    <tr>\n",
       "      <th>27</th>\n",
       "      <td>🤭</td>\n",
       "      <td>1</td>\n",
       "    </tr>\n",
       "    <tr>\n",
       "      <th>28</th>\n",
       "      <td>🍾</td>\n",
       "      <td>1</td>\n",
       "    </tr>\n",
       "    <tr>\n",
       "      <th>29</th>\n",
       "      <td>😅</td>\n",
       "      <td>1</td>\n",
       "    </tr>\n",
       "  </tbody>\n",
       "</table>\n",
       "</div>"
      ],
      "text/plain": [
       "   text_content_anonymous  caracteres\n",
       "0                       😂           1\n",
       "1                       👁           1\n",
       "2                       🤮           1\n",
       "3                       🧐           1\n",
       "4                       🙏           1\n",
       "5                       ✅           1\n",
       "6                       😜           1\n",
       "7                       🟡           1\n",
       "8                       👆           1\n",
       "9                       🔜           1\n",
       "10                      /           1\n",
       "11                      ?           1\n",
       "12                      S           1\n",
       "13                      🤥           1\n",
       "14                      🙂           1\n",
       "15                      🥱           1\n",
       "16                      😏           1\n",
       "17                      🤬           1\n",
       "18                      F           1\n",
       "19                      👀           1\n",
       "20                      🙄           1\n",
       "21                      💣           1\n",
       "22                      '           1\n",
       "23                      🙌           1\n",
       "24                      B           1\n",
       "25                      😔           1\n",
       "26                      @           1\n",
       "27                      🤭           1\n",
       "28                      🍾           1\n",
       "29                      😅           1"
      ]
     },
     "metadata": {},
     "output_type": "display_data"
    }
   ],
   "source": [
    "top_30_smallest_messages = duckdb.sql(\"\"\"\n",
    "  SELECT DISTINCT text_content_anonymous, caracteres\n",
    "  FROM telegram_df\n",
    "  WHERE text_content_anonymous IS NOT NULL AND text_content_anonymous <> ''\n",
    "  ORDER BY caracteres ASC\n",
    "  LIMIT 30\n",
    "\"\"\").df()\n",
    "\n",
    "display(top_30_smallest_messages)"
   ]
  },
  {
   "cell_type": "markdown",
   "id": "6ae632e3",
   "metadata": {},
   "source": [
    "28. O dia em que foi publicado a maior quantidade de mensagens"
   ]
  },
  {
   "cell_type": "code",
   "execution_count": 75,
   "id": "b2651df7",
   "metadata": {},
   "outputs": [
    {
     "name": "stdout",
     "output_type": "stream",
     "text": [
      "         day  message_count\n",
      "0 2022-10-02          25040\n"
     ]
    }
   ],
   "source": [
    "most_active_day = duckdb.sql(\"\"\"\n",
    "  SELECT CAST(date_message AS DATE) AS day, COUNT(*) AS message_count\n",
    "  FROM telegram_df\n",
    "  GROUP BY day\n",
    "  ORDER BY message_count DESC\n",
    "  LIMIT 1\n",
    "\"\"\").df()\n",
    "\n",
    "print(most_active_day)"
   ]
  },
  {
   "cell_type": "markdown",
   "id": "16dbf015",
   "metadata": {},
   "source": [
    "29. As mensagens que possuem as palavras “FACÇÃO” e “CRIMINOSA”"
   ]
  },
  {
   "cell_type": "code",
   "execution_count": 77,
   "id": "38371417",
   "metadata": {},
   "outputs": [
    {
     "data": {
      "application/vnd.microsoft.datawrangler.viewer.v0+json": {
       "columns": [
        {
         "name": "index",
         "rawType": "int64",
         "type": "integer"
        },
        {
         "name": "text_content_anonymous",
         "rawType": "object",
         "type": "string"
        }
       ],
       "conversionMethod": "pd.DataFrame",
       "ref": "a8bf7242-471f-4b04-8d19-3cf500d21475",
       "rows": [
        [
         "0",
         "Pensem!!!!!!'Se Houve fraude  ,Nada foi feito ,certo?  Nenhuma medida foi tomada para isso tanto pelo governo como FAS ,que se calaram  ,nada declaram ,aceitaram isso ? Tudo certo? Culparam o  povo do nordeste? E agora no segundo turno ,havera nova fraude? Vamos entregar o país as mãos de uma facção criminosa?"
        ],
        [
         "1",
         "#lulaladrãoseulugarénaprisão \n#PTFACÇÃOCRIMINOSA \n\n\n\nhttps://gettr.com/post/p1t8lax7bb8"
        ],
        [
         "2",
         "Se depois de ler esse resumo do Plano do PT, você ainda defender essa Facção Criminosa e Satânica que tem como foco a Destruição do Nosso BRASIL!!! Declaro: Lamentável que você ainda não se tornou Cristão, Fiel e Verdadeiro (a) a JESUS CRISTO!!!"
        ],
        [
         "3",
         "Se depois de ler esse resumo do Plano do PT, você ainda defender essa Facção Criminosa e Satânica que tem como foco a Destruição do Nosso BRASIL!!! Declaro: Lamentável que você ainda não se tornou Cristão, Fiel e Verdadeiro (a) a JESUS CRISTO!!!"
        ],
        [
         "4",
         "É  exatamente isso que a facção criminosa CHAMADA PT  fará  se ganhar juntamente  com os cumpanheiros vagabundos."
        ],
        [
         "5",
         "Esperar o que dessa eleição  com bandidos aliados da facção criminosa PT  comandado as URNAS  ??? Só FRAUDE."
        ],
        [
         "6",
         "Quem com porco se junta farelo come! 🐷🦂🐍 🤡🐴 A quadrilha reunida para uma fotografia no álbum da facção narcoterrorista FORO DE SÃO PAULO!! Fazem pose de santos por fora, por dentro podres, pura carniça, sepulcros caiados. Esquerda criminosa, parasitas. Hipócritas! Asquerosos!"
        ],
        [
         "7",
         "Lula vai ao TSE contra publicação de Bolsonaro que vincula ex-presidente à facção criminosa  ☛ https://terrabrasilnoticias.com/2022/10/lula-vai-ao-tse-contra-publicacao-de-bolsonaro-que-vincula-ex-presidente-a-faccao-criminosa/"
        ],
        [
         "8",
         "Não precisamos de mais ministros e mais despesas pra sustentar os privilégios destes. \nPrecisamos que tirem essa quadrilha que foi posta lá pela facção criminosa que é o pt.\nE o tse deveria ser extinto."
        ],
        [
         "9",
         "PT NÃO É PARTIDO POLÍTICO É FACÇÃO CRIMINOSA ... BANDIDOS SUJOS"
        ],
        [
         "10",
         "Bandido defende bandido..\nPT não é partido político e facção criminosa... BANDIDOS"
        ],
        [
         "11",
         "PT não é partido político e facção criminosa  e os Togados  fazem parte da GANG."
        ],
        [
         "12",
         "PT não é partido político e facção criminosa  e os Togados fazem parte da GANG  DE BANDIDOS."
        ],
        [
         "13",
         "Vamos as ruas quem tiver o vídeo e  fotos do bandido sendo apoiado pelo comando vermelho e traficantes no alemão mostrem praquele conhecido petista , indeciso. Vamos imprimir matérias contra essa facção criminosa do pt e mostrar o que o presidente fez de bom pelo país pelo nordeste etc"
        ],
        [
         "14",
         "Vamos as ruas quem tiver o vídeo e  fotos do bandido sendo apoiado pelo comando vermelho e traficantes no alemão mostrem praquele conhecido petista , indeciso. Vamos imprimir matérias contra essa facção criminosa do pt e mostrar o que o presidente fez de bom pelo país pelo nordeste etc"
        ],
        [
         "15",
         "🚨 LULA USA BONE COM SIGLA CPX NO COMPLEXO DO ALEMAO!.🚨\n\n🚨 CPX  É UMA FACÇÃO CRIMINOSA DO ALEMAO ALIADA AO CV COMANDO VERMELHO 🚨"
        ],
        [
         "16",
         "🚨 LULA USA BONE COM SIGLA CPX NO COMPLEXO DO ALEMAO!.🚨\n\n🚨 CPX  É UMA FACÇÃO CRIMINOSA DO ALEMAO ALIADA AO CV COMANDO VERMELHO 🚨"
        ],
        [
         "17",
         "🚨 LULA USA BONE COM SIGLA CPX NO COMPLEXO DO ALEMAO!.🚨\n\n🚨 CPX  É UMA FACÇÃO CRIMINOSA DO ALEMAO ALIADA AO CV COMANDO VERMELHO 🚨"
        ],
        [
         "18",
         "Defensor de bandidos  pois é  um deles... aliado da facção criminosa PT ."
        ],
        [
         "19",
         "Eles roubam de todas as  maneiras  kkklkkll   PT não é partido político e facção criminosa.. BANDIDOS"
        ],
        [
         "20",
         "- LULA USA BONE COM SIGLA CPX NO COMPLEXO DO ALEMAO!.\n\n- CPX  É UMA FACÇÃO CRIMINOSA DO ALEMAO ALIADA AO CV COMANDO VERMELHO.\n\n-  Sério que tem gente que vota no candidato do crime organizado?"
        ],
        [
         "21",
         "- LULA USA BONE COM SIGLA CPX NO COMPLEXO DO ALEMAO!.\n\n- CPX  É UMA FACÇÃO CRIMINOSA DO ALEMAO ALIADA AO CV COMANDO VERMELHO.\n\n-  Sério que tem gente que vota no candidato do crime organizado?\n\nVote 22"
        ],
        [
         "22",
         "Lula com o Boné da Facção Criminosa Comando Vermelho em Belfort Roxo Rio de Janeiro. O comitê do PT em Maricá distribuindo combustível em posto de gasolina para obrigar o povo a votar no Lula e outros flagrantes. Viralizem!!!"
        ],
        [
         "23",
         "Um candidato a presidente da república colocar na cabeça um boné de uma facção reconhecidamente criminosa e assassina, demonstra quem ele é e mostra do que ele capaz de fazer em alianças com a marginalidade."
        ],
        [
         "24",
         "🚨 LULA USA BONE COM SIGLA CPX NO COMPLEXO DO ALEMAO!.🚨\n\n🚨 CPX  É UMA FACÇÃO CRIMINOSA DO ALEMAO ALIADA AO CV COMANDO VERMELHO 🚨"
        ],
        [
         "25",
         "Um candidato a presidente da república colocar na cabeça um boné de uma facção reconhecidamente criminosa e assassina, demonstra quem ele é e mostra do que ele capaz de fazer em alianças com a marginalidade,apologia ao Crime art.287 cassação do PT."
        ],
        [
         "26",
         "Um candidato a presidente da república colocar na cabeça um boné de uma facção reconhecidamente criminosa e assassina, demonstra quem ele é e mostra do que ele capaz de fazer em alianças com a marginalidade,apologia ao Crime art.287 cassação do PT."
        ],
        [
         "27",
         "*Lula é convidado de honra do Comando Vermelho* .\n\n\n*Se isso não te incomoda, o problema não é o candidato.*\n\n\n\n*O Chefe da facção criminosa vermelha nos  redutos do Comando Vermelho no Rio de Janeiro.*\n\n\n\n*Falta agora a reunião junto ao PCC em SP!*\n\n\n\nhttps://terrabrasilnoticias.com/2022/10/lula-vai-visitar-favela-que-policia-foi-proibida-de-fazer-operacoes-pelo-stf-vou-ao-complexo-do-alemao/"
        ],
        [
         "28",
         "Isso é uma facção criminosa e não um partido, como se admite essa existência?"
        ],
        [
         "29",
         "Vejam esta!\n*Ah, Bahia! Tu, mais uma vez!*\nEnquanto, *em todo país, os combustíveis baixam, a exemplo do anunciado, hoje (12/10/2022), pela Petrobrás*, os combustíveis, na Bahia, aumentou, em média, 55 centavos, algo em torno de 10%. \n*Tal aumento se dá pela politicagem do PT para derrubar o presidente,* tirando votos dele, para eleger o Lulaladrão. Em conluio com os donos de postos e a refinaria local, o governo baiano culpa o Bolsonaro pelos diversos aumentos, mas *só a Bahia tem aumentado os preços dos combustíveis*; então, como a culpa pode ser do presidente?!\nAh, cabe informar a população a respeito de várias coisas, *que deviam baratear os preços, mas, na contramão do que devia acontecer, a Bahia tem um dos combustíveis mais caros do país:*\n1. A Bahia tem o maior pólo petroquímico da América Latina, para tratar o petróleo;\n2. Por ter pólo, o frete é baratíssimo, o que não acontece com mais de 90% dos outros estados;\n3. A Bahia tem refinaria de petróleo própria;\n4. A Bahia tem inúmeros poços de petróleo, não necessitando vir petróleo de fora.\n*Continuem votando nesta facção criminosa chamada PT, Partido das Trevas....*😒😒😒😒😒😒\n\nhttps://g1.globo.com/ba/bahia/noticia/2022/10/07/gasolina-aumenta-mais-de-8percent-e-diesel-fica-ate-115percent-mais-caro-na-bahia.ghtml"
        ],
        [
         "30",
         "Apologia ao Crime!!!!! Onde o TSE ??!!!! Candidato a Presidente da República pode usar Boné de facção Criminosa em campanha política???!!!! Flagrante Delito para impedimento !!!!"
        ],
        [
         "31",
         "Apologia ao Crime!!!!! Onde o TSE ??!!!! Candidato a Presidente da República pode usar Boné de facção Criminosa em campanha política???!!!! Flagrante Delito para impedimento !!!!"
        ],
        [
         "32",
         "Kkkkk o povo é GADO mesmo..... achando que a facção iria deixar a investigação rolar solta ...vejam o caso da Damares....ela fez uma denuncia com mais de 800 provas e ela é quem é a criminosa ! O povo luta contra um sistema que é mais bem preparado,tem armas,e os instrumentos institucionais para coagir a massa"
        ],
        [
         "33",
         "Siugomes é como Olavo de Carvalho, falava,ou elegemos Bolsonaro, ou tudo acabo,simples assim, é uma facção criminosa, que falar do AP do Lula e o monte de coisas ruins que ele fez,não é nada,perto de tudo isto"
        ],
        [
         "34",
         "O MST ( Movimento sem Terra) volta com tudo depois da autorização de Lula para invasões e destruições à propriedades privadas. \nVideos começam a chegar de todas as partes do Brasil, o movimento é orquestrado por anarquistas que trabalham para o crime. O objetivo desta facção criminosa é destruir a estabilidade econômica do país, por isso começam pelo agro - para vocês terem uma idéia do que estamos falando De janeiro a setembro, o agronegócio brasileiro faturou quase US$ 122 bilhões com exportações. O montante é cerca de US$ 1,5 bilhão maior que a soma total das receitas com os embarques de 2021. \n\nO nosso país alimenta 1 BILHÃO de pessoas em todo o mundo, é o quarto país no ranking mundial em produção agrícola. O deep state quer o controle total dos alimentos e quando isso acontecer o plano será concluído - ou seja, milhões de pessoas morrerão de fome. Podemos observar que o MST é o braço ativo para que esse processo seja acelerado. \nPela falta de informação e conhecimento, muitos estão entregando a chave do nosso país nas mãos de bandidos, saqueadores.\n\nO pior ainda está por vir, infelizmente temos que falar abertamente à vocês de como as coisas realmente estão. A guerra neste plano está em andamento, a classe média será completamente abolida por esse regime, as pequenas e médias empresas serão destruídas, as grandes empresas só continuarão a faturar através de pactos de sangue com o regime,o agro será reduzido a nada. Tudo o que foi construído nesses últimos 4 anos será dizimado pela maior quadrilha jamais vista na história da humanidade."
        ],
        [
         "35",
         "O MST ( Movimento sem Terra) volta com tudo depois da autorização de Lula para invasões e destruições à propriedades privadas. \nVideos começam a chegar de todas as partes do Brasil, o movimento é orquestrado por anarquistas que trabalham para o crime. O objetivo desta facção criminosa é destruir a estabilidade econômica do país, por isso começam pelo agro - para vocês terem uma idéia do que estamos falando De janeiro a setembro, o agronegócio brasileiro faturou quase US$ 122 bilhões com exportações. O montante é cerca de US$ 1,5 bilhão maior que a soma total das receitas com os embarques de 2021. \n\nO nosso país alimenta 1 BILHÃO de pessoas em todo o mundo, é o quarto país no ranking mundial em produção agrícola. O deep state quer o controle total dos alimentos e quando isso acontecer o plano será concluído - ou seja, milhões de pessoas morrerão de fome. Podemos observar que o MST é o braço ativo para que esse processo seja acelerado. \nPela falta de informação e conhecimento, muitos estão entregando a chave do nosso país nas mãos de bandidos, saqueadores.\n\nO pior ainda está por vir, infelizmente temos que falar abertamente à vocês de como as coisas realmente estão. A guerra neste plano está em andamento, a classe média será completamente abolida por esse regime, as pequenas e médias empresas serão destruídas, as grandes empresas só continuarão a faturar através de pactos de sangue com o regime,o agro será reduzido a nada. Tudo o que foi construído nesses últimos 4 anos será dizimado pela maior quadrilha jamais vista na história da humanidade."
        ],
        [
         "36",
         "O MST ( Movimento sem Terra) volta com tudo depois da autorização de Lula para invasões e destruições à propriedades privadas. \nVideos começam a chegar de todas as partes do Brasil, o movimento é orquestrado por anarquistas que trabalham para o crime. O objetivo desta facção criminosa é destruir a estabilidade econômica do país, por isso começam pelo agro - para vocês terem uma idéia do que estamos falando De janeiro a setembro, o agronegócio brasileiro faturou quase US$ 122 bilhões com exportações. O montante é cerca de US$ 1,5 bilhão maior que a soma total das receitas com os embarques de 2021. \n\nO nosso país alimenta 1 BILHÃO de pessoas em todo o mundo, é o quarto país no ranking mundial em produção agrícola. O deep state quer o controle total dos alimentos e quando isso acontecer o plano será concluído - ou seja, milhões de pessoas morrerão de fome. Podemos observar que o MST é o braço ativo para que esse processo seja acelerado. \nPela falta de informação e conhecimento, muitos estão entregando a chave do nosso país nas mãos de bandidos, saqueadores.\n\nO pior ainda está por vir, infelizmente temos que falar abertamente à vocês de como as coisas realmente estão. A guerra neste plano está em andamento, a classe média será completamente abolida por esse regime, as pequenas e médias empresas serão destruídas, as grandes empresas só continuarão a faturar através de pactos de sangue com o regime,o agro será reduzido a nada. Tudo o que foi construído nesses últimos 4 anos será dizimado pela maior quadrilha jamais vista na história da humanidade."
        ],
        [
         "37",
         "CPX no Alemão é CV Comando Vermelho.\nDesigna o conjunto de morros e favelas dominados por essa facção criminosa.\n\nCDD é Cidade de Deus por ex.\nTambém é CV\n\nOutras favelas são comandas por outras facções por ex TCP (terceiro comando) ADA e outros"
        ],
        [
         "38",
         "Esperar o que dessa corja de TOGADOS bandidos????\nSão  esquerdistas sujos aliados da facção criminosa PT ..."
        ],
        [
         "39",
         "Nossa Bandeira jamais será vermelha... PT  não é partido político e facção criminosa COMUNISTA... BANDIDOS."
        ],
        [
         "40",
         "Foram oito bandidos, em quatro motos, armados de fuzis. Foi um atentado, não um tiroteio. Atiraram no carro do Tarcísio e no local onde ele estava. \n\nE a grande imprensa passando pano para facção criminosa !"
        ],
        [
         "41",
         "PT não é partido político e facção criminosa  ... BANDIDOS SUJOS E CANALHAS."
        ],
        [
         "42",
         "PT não é partido político e facção criminosa... BANDIDOS SUJOS E CANALHAS"
        ],
        [
         "43",
         "Gentalha ignorante e lixo... Esquerdistas sujos aliados da facção criminosa PT, MONTE de bandidos 💩💩"
        ],
        [
         "44",
         "Togados inúteis e BANDIDOS,  aliados da facção criminosa PT,  trabalhando contra a democracia."
        ],
        [
         "45",
         "Eita DESESPERO  da petralhada  desesperada BANDIDA... PT não é partido político e facção criminosa, com abstinência  do dinheiro público fácil."
        ],
        [
         "46",
         "Pra coroar a profunda noite totalitária no Brasil, entenda o que essa vaca está comemorando:\n\nA partir de amanhã, cada candidato teria 400 inserções na TV até o fim do período de propaganda eleitoral (próxima quinta-feira, 27/10/2022) . Com a decisão do TSE, 184 inserções de Bolsonaro passam para Lula. Num universo de 800 inserções somadas (400 de cada um), o bandido vaganbundo satânico mancomunado com traficantes assassinos, terá 584 inserções, sobrando 216 a Bolsonaro. Ou seja, 73% de todo o tempo de propaganda eleitoral será destinada  ao candidato do crime organizada e da maior facção criminosa vigente em nosso país (leia-se \"TSE\").\n\nSe você ainda normaliza isso como uma eleição e não como uma trapaça de vagabundos, você tá completamente anestesiado."
        ],
        [
         "47",
         "Todos os que estão juntos com a Facção criminosa Judicial será cobrada."
        ],
        [
         "48",
         "Projeto de Nações \"Brasil 2035\"...\nE muitos ainda preocupados com a facção criminosa exposta e desesperada! \nO final será glorioso!💣🧨⛓🔪🗡⚡️🔥💫💥\n\nt.me/direitologicoparatodos 🇧🇷💥"
        ],
        [
         "49",
         "O pinguço ladrão  SUJO, irá por toda a GANG dele para roubarem juntos.  PT não é partido político e facção criminosa ... BANDIDOS"
        ]
       ],
       "shape": {
        "columns": 1,
        "rows": 129
       }
      },
      "text/html": [
       "<div>\n",
       "<style scoped>\n",
       "    .dataframe tbody tr th:only-of-type {\n",
       "        vertical-align: middle;\n",
       "    }\n",
       "\n",
       "    .dataframe tbody tr th {\n",
       "        vertical-align: top;\n",
       "    }\n",
       "\n",
       "    .dataframe thead th {\n",
       "        text-align: right;\n",
       "    }\n",
       "</style>\n",
       "<table border=\"1\" class=\"dataframe\">\n",
       "  <thead>\n",
       "    <tr style=\"text-align: right;\">\n",
       "      <th></th>\n",
       "      <th>text_content_anonymous</th>\n",
       "    </tr>\n",
       "  </thead>\n",
       "  <tbody>\n",
       "    <tr>\n",
       "      <th>0</th>\n",
       "      <td>Pensem!!!!!!'Se Houve fraude  ,Nada foi feito ...</td>\n",
       "    </tr>\n",
       "    <tr>\n",
       "      <th>1</th>\n",
       "      <td>#lulaladrãoseulugarénaprisão \\n#PTFACÇÃOCRIMIN...</td>\n",
       "    </tr>\n",
       "    <tr>\n",
       "      <th>2</th>\n",
       "      <td>Se depois de ler esse resumo do Plano do PT, v...</td>\n",
       "    </tr>\n",
       "    <tr>\n",
       "      <th>3</th>\n",
       "      <td>Se depois de ler esse resumo do Plano do PT, v...</td>\n",
       "    </tr>\n",
       "    <tr>\n",
       "      <th>4</th>\n",
       "      <td>É  exatamente isso que a facção criminosa CHAM...</td>\n",
       "    </tr>\n",
       "    <tr>\n",
       "      <th>...</th>\n",
       "      <td>...</td>\n",
       "    </tr>\n",
       "    <tr>\n",
       "      <th>124</th>\n",
       "      <td>https://youtu.be/aujth0dMkRA\\n\\nA treta das rá...</td>\n",
       "    </tr>\n",
       "    <tr>\n",
       "      <th>125</th>\n",
       "      <td>https://youtu.be/aujth0dMkRA\\n\\nA treta das rá...</td>\n",
       "    </tr>\n",
       "    <tr>\n",
       "      <th>126</th>\n",
       "      <td>https://youtu.be/gWNaArqZsmk\\n\\nChanceler da U...</td>\n",
       "    </tr>\n",
       "    <tr>\n",
       "      <th>127</th>\n",
       "      <td>Agressões covardes é termos uma facção crimino...</td>\n",
       "    </tr>\n",
       "    <tr>\n",
       "      <th>128</th>\n",
       "      <td>Justiça solta advogadas do PCC acusadas de par...</td>\n",
       "    </tr>\n",
       "  </tbody>\n",
       "</table>\n",
       "<p>129 rows × 1 columns</p>\n",
       "</div>"
      ],
      "text/plain": [
       "                                text_content_anonymous\n",
       "0    Pensem!!!!!!'Se Houve fraude  ,Nada foi feito ...\n",
       "1    #lulaladrãoseulugarénaprisão \\n#PTFACÇÃOCRIMIN...\n",
       "2    Se depois de ler esse resumo do Plano do PT, v...\n",
       "3    Se depois de ler esse resumo do Plano do PT, v...\n",
       "4    É  exatamente isso que a facção criminosa CHAM...\n",
       "..                                                 ...\n",
       "124  https://youtu.be/aujth0dMkRA\\n\\nA treta das rá...\n",
       "125  https://youtu.be/aujth0dMkRA\\n\\nA treta das rá...\n",
       "126  https://youtu.be/gWNaArqZsmk\\n\\nChanceler da U...\n",
       "127  Agressões covardes é termos uma facção crimino...\n",
       "128  Justiça solta advogadas do PCC acusadas de par...\n",
       "\n",
       "[129 rows x 1 columns]"
      ]
     },
     "metadata": {},
     "output_type": "display_data"
    }
   ],
   "source": [
    "facção_criminosa_messages = duckdb.sql(\"\"\"\n",
    "  SELECT text_content_anonymous\n",
    "  FROM telegram_df\n",
    "  WHERE LOWER(text_content_anonymous) LIKE '%facção%'\n",
    "    AND LOWER(text_content_anonymous) LIKE '%criminosa%'\n",
    "\"\"\").df()\n",
    "\n",
    "display(facção_criminosa_messages)"
   ]
  },
  {
   "cell_type": "markdown",
   "id": "2fbbff63",
   "metadata": {},
   "source": [
    "30. As mensagens que possuem a palavra “SEGURANÇA”"
   ]
  },
  {
   "cell_type": "code",
   "execution_count": 78,
   "id": "ea9b12ae",
   "metadata": {},
   "outputs": [
    {
     "data": {
      "application/vnd.microsoft.datawrangler.viewer.v0+json": {
       "columns": [
        {
         "name": "index",
         "rawType": "int64",
         "type": "integer"
        },
        {
         "name": "text_content_anonymous",
         "rawType": "object",
         "type": "string"
        }
       ],
       "conversionMethod": "pd.DataFrame",
       "ref": "6f99f844-ce22-4b60-b05f-08ef1e1907ee",
       "rows": [
        [
         "0",
         "⚡️🇧🇷 Actus Liberandi - Ordem De Cristo 🇧🇷\n\n✨🛡 Sejam Bem Vindos🛡\n\n⚖️ Somos a Sociedade Civil Organizada \n⚖️  Patriotas em Unidade, em Cooperação mútua, pelo Resgate dos Valores Legais da Nação Brasileira! \n\n⚖️ Somos todos investigadores e Peritos de diversos ramos da ciência da Segurança Pública, trabalhando pela Nação de forma voluntária, não somos remunerados por nenhuma instituição governamental ou particular, sobrevivemos pela ajuda de nossos membros... \n\n⚖️ Esse Grupo apoia e trabalhou fortemente para eleger o presidente do Brasil Jair Messias Bolsonaro. \n\n ⚖️ Siga as regras do grupo e não terá problemas com os administradores. \n\n ⚖️ Nosso Grupo é de Direito Privado, pertence a uma Instituição Real devidamente constituída na ação em Prol da Liberdade do Povo Brasileiro. \n\n⚖️ Combatemos diretamente o Foro de São Paulo. Os Traíras não passarão. Aquele que Teme as ações e difama a Ordem Dourada do Brasil revela-se incontestavelmente a nós um braço do crime politico organizado e institucionalizado no Brasil - Tenha certeza que iremos combate-lo severamente. ⚖️ \n\n⚖️  Somos Cristãos em unidade não temos rabo preso com o diabo, mas pelo contrário nossa espada de fogo sempre estará pronta para o combate contra essa legião de bestas e homúnculos inumanos, hoje, amanhã e sempre.\n\n⚖️  Somos A Reserva Pro-Ativa Sempre do Lado do Povo. Força e Honra \n(Nando Patriota - Presidente da ODB).\n\n\n⚖️  Pelo Resgate da Inteligência!\n\n⚖️  Honra - Justiça - Liberdade\n\n🕵🏻  Si vis Pacem, para bellum 👮🏻‍♂️\n\n\n   🕵🏼‍♂️ 🛡Força e Honra 🛡\n\n\nFraternalmente,\nMembros e Peritos da Actus Liberandi"
        ],
        [
         "1",
         "⚡️🇧🇷 Actus Liberandi - Ordem De Cristo 🇧🇷\n\n✨🛡 Sejam Bem Vindos🛡\n\n⚖️ Somos a Sociedade Civil Organizada \n⚖️  Patriotas em Unidade, em Cooperação mútua, pelo Resgate dos Valores Legais da Nação Brasileira! \n\n⚖️ Somos todos investigadores e Peritos de diversos ramos da ciência da Segurança Pública, trabalhando pela Nação de forma voluntária, não somos remunerados por nenhuma instituição governamental ou particular, sobrevivemos pela ajuda de nossos membros... \n\n⚖️ Esse Grupo apoia e trabalhou fortemente para eleger o presidente do Brasil Jair Messias Bolsonaro. \n\n ⚖️ Siga as regras do grupo e não terá problemas com os administradores. \n\n ⚖️ Nosso Grupo é de Direito Privado, pertence a uma Instituição Real devidamente constituída na ação em Prol da Liberdade do Povo Brasileiro. \n\n⚖️ Combatemos diretamente o Foro de São Paulo. Os Traíras não passarão. Aquele que Teme as ações e difama a Ordem Dourada do Brasil revela-se incontestavelmente a nós um braço do crime politico organizado e institucionalizado no Brasil - Tenha certeza que iremos combate-lo severamente. ⚖️ \n\n⚖️  Somos Cristãos em unidade não temos rabo preso com o diabo, mas pelo contrário nossa espada de fogo sempre estará pronta para o combate contra essa legião de bestas e homúnculos inumanos, hoje, amanhã e sempre.\n\n⚖️  Somos A Reserva Pro-Ativa Sempre do Lado do Povo. Força e Honra \n(Nando Patriota - Presidente da ODB).\n\n\n⚖️  Pelo Resgate da Inteligência!\n\n⚖️  Honra - Justiça - Liberdade\n\n🕵🏻  Si vis Pacem, para bellum 👮🏻‍♂️\n\n\n   🕵🏼‍♂️ 🛡Força e Honra 🛡\n\n\nFraternalmente,\nMembros e Peritos da Actus Liberandi"
        ],
        [
         "2",
         "No Telegram entrem em Configurações > Privacidade e Segurança > Grupos e Canais > Quem pode me adicionar em grupos? » SELECIONE MEUS CONTATOS"
        ],
        [
         "3",
         "No Telegram entrem em Configurações > Privacidade e Segurança > Grupos e Canais > Quem pode me adicionar em grupos? » SELECIONE MEUS CONTATOS"
        ],
        [
         "4",
         "🟡 Brasil no Radar\n\n▶️ O governo anunciou ontem a inclusão de 500 mil famílias no programa de transferência de renda e novos beneficiários serão contemplados antes do dia 30, data do segundo turno da eleição\n\n▶️ A promessa do presidente não tem espaço no Orçamento de 2023 enviado ao Congresso, que prevê o pagamento médio de R$ 405. Segundo o Ministério da Economia, o custo extra para a manutenção dos R$ 600 seria de R$ 52 bilhões\n\n▶️ Também foram prorrogadas as desonerações sobre combustíveis – grande aposta de Bolsonaro na campanha. A prorrogação da redução do Pis/Cofins e da Cide sobre gasolina, gás natural e etanol custará R$ 34,3 bilhões.\n\n▶️ O ex-presidente Lula, candidato do PT, prepara a apresentação de nova regra fiscal em substituição ao teto de gastos públicos. De acordo com aliados, Lula ensaia a divulgação desse programa ainda neste mês, em aceno ao mercado financeiro, que tem criticado a ausência de propostas concretas sobre uma nova âncora fiscal.\n\n▶️ O PSDB e o ex-governador paulista João Doria optaram pela neutralidade, mas o senador José Serra (PSDB-SP) decidiu se alinhar à candidatura petista.\n\n▶️ O ministro da Justiça e Segurança Pública, Anderson Torres, afirmou que encaminhou à Polícia Federal pedido para abrir inquérito sobre os institutos de pesquisas eleitorais\n\nFonte: ActiveTrades\n\n🔸 t.me/alexeconomia"
        ],
        [
         "5",
         "Eu rasurei meu comprovante quando enviei aqui pois não quero passar meus dados por questão de segurança."
        ],
        [
         "6",
         "Isso é roubo eleitoral cadê a segurança nacional que não faz nada tá na cara"
        ],
        [
         "7",
         "O Pai bem velho e ingênuo, dono de um mercadinho humilde fala para seu filho, \n- Não precisamos reforçar a segurança, só invadiram uma vez todos esses anos, sei que levaram tudo, mas vamos conquistar tudo novamente.\nNa semana seguinte, após repor as mercadorias, os bandidos entraram pela mesma porta desguarnecida, e levaram tudo novamente.\nMoral da história, se você quer permanecer ingênuo e parado no tempo, o problema é seu. \nOs vagabundos não irão deixar de ser bandidos só porque você \"confia\" nisso.\n\nOu vamos à luta, ou irão levar tudo que conquistamos, é assim que o comunismo aje."
        ],
        [
         "8",
         "Você deve ser cético sobre a suposta completa segurança das urnas eletrônicas."
        ],
        [
         "9",
         "Mais de 4,6 mil militares contribuem para a segurança das eleições no Pará, Maranhão e Amapá\nhttp://www.eb.mil.br/web/noticias/noticiario-do-exercito/-/asset_publisher/znUQcGfQ6N3x/content/id/16239738"
        ],
        [
         "10",
         "Mostre aos seus amigos a empresa certa para investir e lucrar com segurança todos os dias sem estressar os parabéns."
        ],
        [
         "11",
         "Forte aparato de segurança aqui na nossa igreja pra chegada do nosso Reeleito presidente \nem nome Jesus"
        ],
        [
         "12",
         "Boa tarde. Alguém sabe informar se vai ter segurança no dia das eleições pelo EXÉRCITO nas favelas?"
        ],
        [
         "13",
         "“China está operando delegacias extrajudiciais no Canadá”\n\n “O governo chinês instalou “estações de serviço” policiais não oficiais conectadas ao Departamento de Segurança Pública de Fuzhou (PSB) em todo o Canadá.”\n\n “Isso deixa os residentes chineses legais no exterior totalmente expostos a ataques extralegais da polícia chinesa, com pouca ou nenhuma proteção teoricamente garantida pela lei nacional e internacional”.\n\n Essa também é apenas mais uma maneira pela qual o PCC controla ex-cidadãos chineses no exterior, como fazem com o CSSA\n\n https://tnc.news/2022/09/22/china-police-stations/\n\n[USER]"
        ],
        [
         "14",
         "Boa tarde. Alguém sabe informar se vai ter segurança no dia das eleições pelo EXÉRCITO nas favelas?"
        ],
        [
         "15",
         "🇪🇺🕊️🇮🇱 URGENTE!!! Israel e a UE renovam o diálogo diplomático após uma pausa de uma década.\nIsrael e a União Europeia realizaram sua primeira reunião de diálogo diplomático-estratégico em mais de 10 anos na segunda-feira.\n\nA reunião contou com a presença do Alto Representante da UE para os Negócios Estrangeiros e Política de Segurança, Josep Borrell, e ministros dos Negócios Estrangeiros de outros países. Entre os presentes estavam o Ministro da Defesa cipriota e o Ministro irlandês dos Assuntos Europeus.\n\nBorrell disse: “Vamos lidar com um tema de especial importância para nós, que é o processo de paz no Oriente Médio. Primeiro-ministro, estamos muito encorajados pelo claro apoio à solução de dois Estados que você declarou em seu discurso na Assembleia Geral das Nações Unidas.\" MARANATA.\n\nIncreva se no Canal👇\n🟢 t.me/fimtaproximo"
        ],
        [
         "16",
         "A verdade é que nós deveríamos se unir por uma única causa que seria derrubar a NOM desse País e não mais ser escravo de suas diretrizes,para enfim ser um país livre,onde lutariamos por dignidade, saúde, educação, segurança, oportunidade de trabalho a massa mais afetada pelo desemprego e assim por diante."
        ],
        [
         "17",
         "Os lockdowns, focinheiras obrigatórias, distanciamento anti-social e outras medidas não fizeram nada para proteger ou melhorar a saúde pública - eles nunca foram projetados para isso. Todos eles foram projetados para quebrar deliberadamente a economia global (e esmagar a concorrência, especialmente as pequenas empresas), bem como quebrar a mente, a vontade e o tecido social das pessoas, a fim de “reconstruir melhor”, de acordo com as visões diabólicas e distópicas dos psicopatas travando essa guerra de classes, que é essencialmente uma utopia bilionária, na qual eles são donos do planeta como um feudo tecno-feudal e supervisionam a população drasticamente reduzida da humanidade digitalmente marcada como gado em uma tecnocracia supervigilante.\n\nEstamos no meio de um colapso econômico total planejado. Este colapso econômico foi inevitável, os governos ocidentais estão colocando a infraestrutura de segurança no lugar, tentando controlar proativamente a inevitável desordem social que resultará desse colapso. A seguir-se uma redefinição financeira global, após um período de hiperinflação, que destrói tanto o valor da dívida como os correspondentes créditos em papel.\n\nNão há agora nem nunca houve um evento de emergência epidemiológica ou viral de qualquer tipo em qualquer lugar do mundo no ano de 2020. A percepção fabricada de que houve tal evento é um artefato de manipulação de mídia de massa, técnicas de condicionamento comportamental e engenharia social. Tudo isso foi possível por meio da programação institucional e das mensagens aceleradas da mídia, que desautorizam os processos cognitivos básicos e eliminam as possibilidades de pensamento crítico.\n\nO colapso começou em 2008 e as tentativas de salvar esse sistema econômico corrupto, só atrasando o inevitável. No outono de 2019, a crise começou a se desenrolar rapidamente novamente.\n\nHouve uma queda dramática na produção industrial que apareceu na crise bancária de agosto de 2019 - a chamada crise Repo, quando de repente os bancos começaram a recusar instrumentos de dívida soberana dos EUA como garantia de empréstimos noturnos, forçando o Federal Reserve a intervir e basicamente imprimir dinheiro para cobrir esta enorme escassez.\n\nO mercado Repo é onde os bancos emprestam dinheiro todos os dias para que tenham 10% de ativos líquidos no final de cada dia. Se eles não tiverem 10% de ativos líquidos, não poderão abrir no dia seguinte. Por volta de meados de setembro, o Fed começou a injetar US$ 20 bilhões por dia no mercado de recompras para manter as taxas de juros baixas para que os bancos pudessem emprestar o dinheiro para permanecer no negócio. No final de dezembro, o Fed estava injetando mais de US$ 100 bilhões por dia no mercado de recompra e não era suficiente.\n\nSimplesmente todos em Wall Street estavam carregados de dívidas enormes e estavam segurando dinheiro dos EUA para poder atendê-lo, recusando-se a financiar compras de moedas estrangeiras e depois moeda dos EUA, pois o mercado de recompra congelou com juros de 10% sobre empréstimos de recompra noturnos como títulos do tesouro dos EUA e até mesmo notas dos EUA foram rejeitadas como garantia para Repos.\n\nO que aconteceu em março de 2020 foi apenas a propagação da crise de liquidez dos mercados de revendedores primários (bancos TBTF e fundos de hedge foram resgatados em setembro) para todas as outras ações, commodities, títulos CLOs, MBS etc., bem como esquemas Ponzi chamados hoje Fundos ETF, para não mencionar produtos derivativos estruturados negociados em plataformas proprietárias que representam nominalmente até vários milhares de $$$ trilhões.\n\nQuando os títulos do Tesouro dos EUA e até o USTB se tornaram ilíquidos devido ao crescimento exponencial da dívida pública (mas principalmente privada) em dólar, enquanto o FED estava sugando dinheiro dos mercados financeiros ao moderar o Quantitative Easing (chamado QT) entre 2017 e 2019, reduziu o balanço do FED de mais de $5T a $3,9T com a venda de ativos, o inferno começou. Algo drástico tinha que ser feito."
        ],
        [
         "18",
         "🇨🇴🇧🇷 — Criminosos colombianos exportam práticas de empréstimo de dinheiro para grupos de narcotráfico brasileiros.\n\nA prisão de cinco colombianos pela Polícia Civil do Rio de Janeiro neste verão por agiotagem – empréstimos ilegais a taxas de juros exorbitantes – usando dinheiro do narcotráfico chamou a atenção do setor de segurança do Brasil, porque os relatos dessa prática por narcotraficantes eram inéditos, disse a polícia.\n\n“Esse tipo de atividade foi relatada pela primeira vez no país. Se existia antes, não era importante o suficiente para ser notado”, Thiago Moreira de Souza Rodrigues, do Programa de Pós-Graduação em Estudos Estratégicos de Defesa e Segurança da Universidade Federal Fluminense."
        ],
        [
         "19",
         "Amigos estamos na missão de re-eleger o presidente Jair Bolsonaro.  \n\nO país, a segurança do povo brasileiro, nossas liberdades e instituições que as protegem, nossos símbolos, tradições, língua, história e futura geração está em risco. Sem exagero. \n\nO comunismo destrói tudo, incluso nossa alma. \n\nHá alguns segmentos do eleitorado que desejam isso para nosso país.  Não precisamos perder tempo em convencer esses segmentos pois estão perdidos além de qualquer reparo. \n\nMas há outros segmentos que não sabem ou rejeitam os males que virão com comunistas no comando. Esses são os que temos que convencer.  \n\nPara esses grupos o presidente Jair Bolsonaro não é o ideal. Ou não querem se envolver em polêmicas de cunho político.  Mas o momento pede foco na mensagem e não na identidade do mensageiro.\n\nO front de confronto dos dias de hoje é a política. Como é o caso com todos que optam em ficar alheios a um conflito universal, eles serão usados e se sofrerão danos colaterais. \n\nQuem estiver sintonizado com a política saberá qual alternativa representa o lado da vida e da liberdade.\n\nComente!"
        ],
        [
         "20",
         "Muitas evidências de fraudes foi colhida por muitos que atuam na mesma área de segurança cybernetica como eu ,e uma hora isso vai ser exposto queira o sistema ou não,mais a vdd será exposta."
        ],
        [
         "21",
         "Art. 287-A - Divulgar notícia que sabe ser falsa e que possa distorcer, alterar ou corromper a verdade sobre informações relacionadas à saúde, à segurança pública, à economia nacional, ao processo eleitoral ou que afetem interesse público relevante.\nPena – detenção, de seis meses a dois anos, e multa, se o fato não constitui crime mais grave.\n§ 1º Se o agente pratica a conduta prevista no caput valendo-se da internet ou de outro meio que facilite a divulgação da notícia falsa:\nPena – reclusão, de um a três anos, e multa, se o fato não constitui crime mais grave.\n\n\nO PRÓXIMO SERÁ OS DEMAIS AQUI DO GRUPO PODEM PUBLICAR"
        ],
        [
         "22",
         "Renato , Ve Com Dep. Carla Zambelli essa filmagem das Urnas em Itapevi - SP . Urnas sem nenhuma segurança !!!😳😳😳😳😳😳"
        ],
        [
         "23",
         "Espalhe!! Divulgue!! EXIJA!!\nNão entre nesse jogo de composição do Congresso e Governadores que apoiam Bolsonaro. EXIJA A LEGALIDADE DO PROCESSO ELEITORAL, NOSSA ÚNICA SEGURANÇA!"
        ],
        [
         "24",
         "Trump Congratula Bolsonaro \npelo 2⁰ TURNO!\n 'Superando as pesquisas falsas'.\n\nTrump Congratula Bolsonaro, do Brasil, por forçar a ida ao 2⁰ turno contra o esquerdista: 'Superando as sondagens falsas'.\n\nNa segunda-feira, o quadragésimo quinto presidente Donald Trump parabenizou o presidente brasileiro \"Trump of the Tropics\", Jair Bolsonaro, por \"superar as sondagens falsas\" e forçar um segundo turno contra o ex-presidente, de extrema-esquerda, Luiz Inácio Lula da Silva.\n\n\"Parabéns ao Presidente do Brasil, Jair Bolsonaro, por ter 'superado' as pesquisas falsas das Fake News Media e ter entrado em um segundo turno de duas pessoas, a ser realizado no dia 30 de outubro, com um desafiador de esquerda radical\", escreveu Trump em um post na Truth Social.\n\n\"Agora que outros conservadores estão fora da corrida, o Presidente Bolsonaro está em uma posição muito forte para vencer. \nMais importante ainda, ele será vitorioso porque o maravilhoso povo do Brasil aprecia o grande trabalho que ele tem feito e está fazendo. \nTremenda Surpresa Eleitoral nas últimas 24 horas\", acrescentou Trump.\n\nCom 99,87% dos votos contabilizados, Lula recebeu 48,4% e Bolsonaro recebeu 43,23%. \nNenhum dos candidatos recebeu 50 por cento necessários para ser eleito presidente no primeiro turno.\n\nOs dois candidatos se enfrentarão novamente em um segundo turno eleitoral em 30 de outubro. \n\nTrump, que endossou Bolsonaro, continuou: \n\"Tão feliz por ter ajudado um grande líder a concorrer para Presidente do Brasil\".\n\n\"Os eleitores tomaram uma grande decisão ao dar um apoio tão forte ao brilhante e muito trabalhador atual Presidente, Jair Bolsonaro\". \n\nAgora, para o bem do Brasil e de sua futura grandeza, eles têm que colocar Jair na linha de chegada, contra um socialista de esquerda radical, no dia 30 de outubro. Go Bolsonaro!!!\". Trump acrescentou.\n\n\"Nosso sistema não é 100 por cento revestido de segurança. Há sempre a possibilidade de algo anormal acontecer em um sistema totalmente informatizado\", disse Bolsonaro.\n\nEm reação aos resultados das eleições, Bolsonaro reposicionou um vídeo de si mesmo no Twitter dançando sem camisa.\n\n[USER]🇧🇷B🇷🇺R🇮🇳I🇨🇳C🇿🇦S"
        ],
        [
         "25",
         "Trump Congratula Bolsonaro \npelo 2⁰ TURNO!\n 'Superando as pesquisas falsas'.\n\nTrump Congratula Bolsonaro, do Brasil, por forçar a ida ao 2⁰ turno contra o esquerdista: 'Superando as sondagens falsas'.\n\nNa segunda-feira, o quadragésimo quinto presidente Donald Trump parabenizou o presidente brasileiro \"Trump of the Tropics\", Jair Bolsonaro, por \"superar as sondagens falsas\" e forçar um segundo turno contra o ex-presidente, de extrema-esquerda, Luiz Inácio Lula da Silva.\n\n\"Parabéns ao Presidente do Brasil, Jair Bolsonaro, por ter 'superado' as pesquisas falsas das Fake News Media e ter entrado em um segundo turno de duas pessoas, a ser realizado no dia 30 de outubro, com um desafiador de esquerda radical\", escreveu Trump em um post na Truth Social.\n\n\"Agora que outros conservadores estão fora da corrida, o Presidente Bolsonaro está em uma posição muito forte para vencer. \nMais importante ainda, ele será vitorioso porque o maravilhoso povo do Brasil aprecia o grande trabalho que ele tem feito e está fazendo. \nTremenda Surpresa Eleitoral nas últimas 24 horas\", acrescentou Trump.\n\nCom 99,87% dos votos contabilizados, Lula recebeu 48,4% e Bolsonaro recebeu 43,23%. \nNenhum dos candidatos recebeu 50 por cento necessários para ser eleito presidente no primeiro turno.\n\nOs dois candidatos se enfrentarão novamente em um segundo turno eleitoral em 30 de outubro. \n\nTrump, que endossou Bolsonaro, continuou: \n\"Tão feliz por ter ajudado um grande líder a concorrer para Presidente do Brasil\".\n\n\"Os eleitores tomaram uma grande decisão ao dar um apoio tão forte ao brilhante e muito trabalhador atual Presidente, Jair Bolsonaro\". \n\nAgora, para o bem do Brasil e de sua futura grandeza, eles têm que colocar Jair na linha de chegada, contra um socialista de esquerda radical, no dia 30 de outubro. Go Bolsonaro!!!\". Trump acrescentou.\n\n\"Nosso sistema não é 100 por cento revestido de segurança. Há sempre a possibilidade de algo anormal acontecer em um sistema totalmente informatizado\", disse Bolsonaro.\n\nEm reação aos resultados das eleições, Bolsonaro reposicionou um vídeo de si mesmo no Twitter dançando sem camisa.\n\n[USER]🇧🇷B🇷🇺R🇮🇳I🇨🇳C🇿🇦S"
        ],
        [
         "26",
         "ATENÇÃO A TODAS E SOMENTE MULHERES DESTE GRUPO\n\nPOR SABER QUE VCS SÃO A MAIORIA EM TODO MUNDO E SABER DO PODER QUE SE FAZ MANIFESTO DENTRO DE SEUS ❤️ S TOMEI A DECISÃO E A LIBERDADE DE CRIAR UM GRUPO PARA VCS DIALOGAREM E INTERAGIR ENTRE VCS\n\nPORÉM POR MOTIVOS DE MÁXIMA SEGURANÇA SOMENTE EU ESTAREI ADICIONANDO NOVOS MEMBROS NESTE GRUPO\n\nQUEM TIVER INTERESSE EM FAZER PARTE DO GRUPO ME CHAMA NO PV\n\nno mas agradeço pela atenção de todos."
        ],
        [
         "27",
         "Espalhe!! Divulgue!! EXIJA!!\nNão entre nesse jogo de composição do Congresso e Governadores que apoiam Bolsonaro. EXIJA A LEGALIDADE DO PROCESSO ELEITORAL, NOSSA ÚNICA SEGURANÇA!"
        ],
        [
         "28",
         "Bolsonaro ou Lula?\nO que cada qual já fez e propõe para a *SEGURANÇA PÚBLICA*:\n\nO presidente Bolsonaro conseguiu reduzir bastante a criminalidade, porque deu direito de defesa ao cidadão de bem e porque não tratou bandido como vítima da sociedade. Temos agora a menor taxa de assassinatos dos últimos dez anos (cerca de 40 mil) e com tendência de diminuir ainda mais, caso Bolsonaro seja reeleito, pois ele propõe fortalecer a ação policial e endurecer as penas para os criminosos.\n\nE Lula? A violência explodiu no tempo do PT, com recordes de assassinatos anos após anos, culminando em mais de 61 mil assassinatos. De fato, caso o PT continuasse no governo e mantivesse a trajetória de subida anual de mortes violentas, já estaríamos tendo cerca de 90 mil assassinatos por anos! Lula diligenciou a soltura dos sequestradores de Abílio Diniz e propõe o desencarceramento dos bandidos, defende que ladrão de celular não deve ser preso, possui diálogos cabulosos com o PCC. Sua agenda de governo nesta matéria sinaliza claramente para o aumento expressivo da violência urbana e também rural, com as invasões de terras.\n\nDevemos ponderar com cuidado questões como esta na hora de dar o voto. Não é o momento de agir ou votar por paixão, baseado na emotividade, na mera opinião, no gosto pessoal, nas propagandas e pesquisas interessadas em manipular o imaginário público. Estamos em um momento crucial da história do nosso país e devemos votar com base na razão, nos resultados práticos, nas propostas realmente viáveis para o progresso do Brasil.\n\nExiste o caminho da direita, que comprovadamente já funcionou em diversos países: o caminho da verdade, da honestidade e do trabalho duro, progressivo e acumulativo.\nE existe o caminho da esquerda, que comprovadamente nunca funcionou em nem um país do mundo: o caminho da mentira, da desonestidade, da manipulação emocional e da degeneração moral e intelectual.\nA escolha é sua. Daqui a 20 anos seus filhos ou netos colherão os gostos ou os desgostos da escolha que você fizer agora."
        ],
        [
         "29",
         "📰 Além do Fato - A notícia completa!\n\n\nDelegado Paulo Bilynskyj, Delegado Da Cunha, Cabo Gilberto Silva e Delegado Palumbo, reforçarão bancada da Segurança Pública na Câmara Federal\n\n\nQuantidade de agentes da Segurança Pública eleitos para Deputado Federal, saltou de 25, em 2018, para 37 nas eleições 2022.\n\n\nLeia mais: https://alemdofato.com/noticia/6734/delegado-paulo-bilynskyj-delegado-da-cunha-cabo-gilberto-silva-e-delegado-palumbo-reforcarao-bancada.amp"
        ],
        [
         "30",
         "Coreia do Norte dentro de uma hora\nlançou dois mísseis balísticos em direção ao mar,\nenquanto o Conselho de Segurança da ONU se reunia\nem Nova York sobre o recente lançamento de foguete\nsobre o Japão pela primeira vez em cinco anos"
        ],
        [
         "31",
         "Bitcoin hoje é usado principalmente como reserva de valor.  É por isso que as pessoas costumam se referir a ele como \"ouro digital\".\n\n   O ouro tem físico-químicas e funcionalidade que o mundo tem características únicas para pessoas em todo o mundo.  Também é um ativo raro com oferta limitada, o que ainda aumenta mais o preço.  Esses dois fatores se combinam para o torneio uma boa reserva de valor.\n\n   O bitcoin pode não compartilhar como características físicas do ouro, mas tem propriedades e funcionalidades digitais que são igualmente solicitadas.  Além disso, como o ouro, o Bitcoin também tem uma oferta limitada.\n\n   Na verdade, é indiscutivelmente uma reserva de valor ainda melhor do que o ouro.  É mais fácil de ser adulterado com segurança, pode ser transportado ao redor do mundo em minutos, com o tempo e não degradado.\n 📥📥\n 👉👉\n [USER]\n\n   Pronto para mergulhar mais fundo?  Complete o seu perfil para começar."
        ],
        [
         "32",
         "Ele pode até gostar de fazer comício e passeatas ,mas para 20O pessoas? Ou rodeado de segurança para não apanhar 😂😂😂"
        ],
        [
         "33",
         "*VIDEO: FUNCIONARIO DA ONU ADMITE QUE ELES CONTROLAM A FERRAMENTA DE BUSCAS DO GOOGLE PARA EMPURRAR A PROPAGANDA DA FARSA DA MUDANCA CLIMATICA COMO ELES FAZEM SOBRE A FALSA SEGURANÇA DAS URNAS ELETRONICAS/ELEIÇÕES SEM FRAUDE,DA FALSA GUERRA DA UCRANIA,DA SEGURANCA DA VAXINA COVID-FARSA E DA FARSA FRAUDEMIA COVID*\n\nA Elite Satanista Terrorista e Criminosa não consegue SUPORTAR PERDER PARA A CONCORRENCIA QUE FALA A VERDADE e muito menos Vencer um debate Livre SEM O CONTROLE DO FLUXO DE INFORMAÇÕES E SEM A CENSURA.\n\nhttps://ift.tt/klH2aVu\n\nHOLANDA: Desgoverno Comunista-Nazi-Fascista Totalitario e Tirânico da Holanda está dando cruzeiro de Luxo para os Terroristas Criminosos Invasores do Imigrantes Ilegais enquanto o Povo nativo da Holanda estão passando dificuldades para pagar as contas de Energia Elétrica para MANTER O AQUECIMENTO DOS SEUS LARES LIGADO e não MORRER DE FRIO,Fome por não ter dinheiro para comprar comida e não tendo as suas necessidades diarias atendidas\n\nIsso realmente está acontecendo.\n\nhttps://ift.tt/Msu1jcf\n\nFugitivo e Sobrevivente da China Comunista dá um alerta serio sobre o verdadeiro objetivo da Teoria da Critica Racial e da Cultura do Cancelamento que é Destruição de Reputação/Enquadramento Sovietico/EXPURGO FINANCEIRO\n\n\"OS COMUNISTAS ESTÃO USANDO AS MESMAS TECNICAS E FERRAMENTAS NOS EUA QUE A CHINA COMUNISTA USOU PARA IMPLANTAR O COMUNISMO NA CHINA E CONTINUA USANDO PARA CONTINUAR ESCRAVIZANDO O POVO DA CHINA E CONTINUAR SE MANTENDO NO PODER\", ele disse.\n\nhttps://ift.tt/3Tuy7Lt"
        ],
        [
         "34",
         "Se você já perdeu seu dinheiro ou foi enganado, não desista, porque é isso que os perdedores fazem - você tem que pensar com inteligência,\n    O que você encontrará em nosso canal:\n    ❇️ Principais tags 📡📡\n    ❇️ Melhor segurança\n    ❇️ Ganhou os melhores prêmios 🥇🥇\n    ❇️ MELHORES PAGAMENTOS A TEMPO 💰\n    ❇️ Sem demora ❌❌\n    ❇️ Sem riscos ✅✅\n    ❇️ Sem mais perdas ❌❌\n    ❇️ SEGURO E GARANTIDO ✅✅\n    \"fonte de saída\"\n    ❇️ RECUPERE SUA PERDA ✅\n    ❇️ GANHE MAIS TODOS OS DIAS ✅\n    ❇️ Ficar com um revendedor legítimo\n    [USER]"
        ],
        [
         "35",
         "Bitcoin é uma criptomoeda digital que sobe e desce devido ao upgrade de temporada pela rede bitcoin.\n  O Bitcoin é considerado a melhor criptomoeda com potencial para mudar o mundo, no mundo da criptografia;  bitcoin é a cabeça entre todos e é melhor do que moeda.\n  O Bitcoin tem a maneira mais rápida de enviar dinheiro online enquanto você em casa, no escritório, etc.\n  Qualquer um pode participar da mineração de bitcoins com nossa empresa e obter lucro exclusivo.\n  Estamos trabalhando incansavelmente para melhorar e trazer uma mineração para mais perto de você e de todos, é por isso que a criptografia foi desenvolvida, diversificando os fluxos de caixa positivos, mantendo os altos padrões de proximidade, rapidez, confiabilidade e segurança para você e sua caixa  todos\n  Converse agora para saber como você pode ganhar a vida e ganhar com bitcoin\n\n [USER]"
        ],
        [
         "36",
         "🟡 Notícias do Overnight - Ásia\n\n▶️ Primeiro-ministro japonês Kishida diz que repetidos lançamentos norte-coreanos não podem ser tolerados\n\n▶️ Coreia do Norte diz que lançamentos de mísseis são medidas de combate a exercícios militares dos EUA e da Coreia do Sul\n\n▶️ Conselho de Segurança Nacional da Coreia do Sul diz que provocações da Coreia do Norte enfrentarão uma resposta internacional mais forte\n\n▶️ Departamento de Estado dos EUA condena o lançamento de mísseis balísticos da Coreia do Norte e diz que os lançamentos de mísseis da Coreia do Norte representam uma ameaça para os vizinhos regionais e a comunidade internacional\n\n▶️ O vice-secretário de gabinete japonês Kihara diz que os repetidos lançamentos de mísseis da Coreia do Norte não podem ser tolerados, acrescenta que a Coreia do Norte pode intensificar atividades provocativas, incluindo testes nucleares\n\n▶️ Jatos e bombardeiros norte-coreanos foram vistos voando em um exercício, de acordo com Yonhap; Jatos sul-coreanos decolam em resposta\n\nFonte: ActiveTrades\n\n🔸 t.me/alexeconomia"
        ],
        [
         "37",
         "- A conversa mole agrada, mas é a coragem e a firmeza que garantem a segurança e o futuro de um povo e de uma nação nos momentos decisivos. São essas virtudes que nos protegem dos ataques à nossa soberania, das chantagens dos poderosos e dos conchavos que massacram o nosso povo.\n\n- A malandragem de Lula serviu para enrolar o povo enquanto seu governo o roubava e para enganá-lo sobre a falsa absolvição de seus crimes; nossa firmeza serviu para irmos até a Rússia em meio a uma chuva de críticas negociar fertilizantes e garantir nossa segurança alimentar.\n\n✅ Jair Messias Bolsonaro\n\nJUNTE-SE A NÓS TAMBÉM E MANTENHA-SE INFORMADO\n🧠\n🇧🇷Clique no link :    ➘  ➘  ➘ \n╰─►Canal [USER]"
        ],
        [
         "38",
         "-A conversa mole agrada, mas é a coragem e a firmeza que garantem a segurança e o futuro de um povo e de uma nação nos momentos decisivos. São essas virtudes que nos protegem dos ataques à nossa soberania, das chantagens dos poderosos e dos conchavos que massacram o nosso povo. Jair Messias Bolsonaro 06/10/22"
        ],
        [
         "39",
         "Vacina de mRNA contra a COVID detectada no leite materno humano\n\nA diretora do CDC, Rochelle Walensky, continua afirmando que 'não há tempo ruim para tomar uma vacina contra a COVID', mas este novo estudo prova o contrário.\n\nHISTÓRIA EM RESUMO\n\n•  Recentemente, no final de setembro de 2022, a diretora dos Centros de Controle e Prevenção de Doenças, Dra. Rochelle Walensky, afirmou que é perfeitamente seguro para mulheres grávidas e lactantes, e aquelas que planejam uma gravidez, tomar a vacina contra a COVID. De acordo com Walensky, “Não há tempo ruim para tomar uma vacina contra a COVID”\n\n•  Enquanto isso, os dados da Pfizer mostram que o risco de aborto pode chegar a 87,5%\n\n•  A segurança para nutrizes não foi avaliada nos ensaios clínicos iniciais e as investigações subsequentes foram escassas. Em meados de julho de 2021, um pequeno estudo não encontrou vestígios de vacina de mRNA no leite materno, mas um estudo de setembro de 2022 encontrou mRNA no leite materno por até 48 horas após a injeção\n\n•  Esses estudos não analisaram o leite materno quanto à presença de proteína spike. Mesmo que o mRNA só seja transferível durante as primeiras 48 horas pós-vacina, isso não significa que seja seguro amamentar depois disso. O leite materno também poderia transferir a proteína spike produzida pelo corpo da mãe, e essa produção, sabemos, pode continuar por pelo menos quatro meses, e provavelmente mais\n\n•  Walensky também continua afirmando que as injeções contra a COVID não têm efeitos adversos na fertilidade, embora as taxas de natalidade tenham caído desde o lançamento das injeções, aumentando o alarme em todo o mundo. Um estudo com ratos da Pfizer-BioNTech descobriu que a injeção mais que dobrou a incidência de infertilidade\nhttps://takecontrol.substack.com/p/mrna-vaccine-detected-in-human-breastmilk"
        ],
        [
         "40",
         "Deus abençoe a todos aqui presente. Me chamo Ronny,sou de Fortaleza e atuo na área de segurança cybernetica desde o ano de 2001. Hoje atuando profissionalmente como Pentest Profissional,posso ser de muita utilidade a muitos aqui presente em prol dessa nossa luta pela reeleição do nosso Capitão."
        ],
        [
         "41",
         "A conversa mole agrada, mas é a coragem e a firmeza que garantem a segurança e o futuro de um povo e de uma nação nos momentos decisivos. São essas virtudes que nos protegem dos ataques à nossa soberania, das chantagens dos poderosos e dos conchavos que massacram o nosso povo.\n\n\nPresidente [USER]"
        ],
        [
         "42",
         "Protesta resultado Ditador rindo de boas em segurança\nAtacar inimigo resultado corta mal pela raiz"
        ],
        [
         "43",
         "Criador do Telegram acusa WhatsApp de ser “ferramenta de vigilância”: em um post em seu canal no Telegram, Pavel Durov afirma que a recente falha de segurança no WhatsApp não seria apenas incidental, mas uma backdoor plantada deliberadamente – a vulnerabilidade permitia o acesso total aos smartphones de usuários. Quando uma backdoor é descoberta, outra seria adicionada em seguida – desde 2017, pesquisadores já descobriram quatro vulnerabilidades similares no WhatsApp. Essa revelação, continua Durov, não seria para pressionar as pessoas a usarem o Telegram, mas para ficarem “longe do WhatsApp”."
        ],
        [
         "44",
         "Cinthia, ainda que esteja acontecendo algo, isso é uma questão de segurança nacional. Votamos no presidente tbm pra isso. Confiando que ele vá lidar bem com coisas que nunca saberemos. Uma coisa é não estarem fazendo nada. Outra coisa é nós não sabermos. A fraude tem que ser denunciada e os responsáveis presos. Isso é com Brasília. A nossa parte é conseguir mais votos e ir lá votar. Cumpramos a nossa parte. Se o Bolsonaro não cumprir a dele, depois ele acertará as contas com Deus e com a própria consciência. Rezamos para que ele faça a parte dele, mas não deixemos de fazer a nossa."
        ],
        [
         "45",
         "⚡️🇧🇷 Actus Liberandi - Ordem De Cristo 🇧🇷\n\n✨🛡 Sejam Bem Vindos🛡\n\n⚖️ Somos a Sociedade Civil Organizada \n⚖️  Patriotas em Unidade, em Cooperação mútua, pelo Resgate dos Valores Legais da Nação Brasileira! \n\n⚖️ Somos todos investigadores e Peritos de diversos ramos da ciência da Segurança Pública, trabalhando pela Nação de forma voluntária, não somos remunerados por nenhuma instituição governamental ou particular, sobrevivemos pela ajuda de nossos membros... \n\n⚖️ Esse Grupo apoia e trabalhou fortemente para eleger o presidente do Brasil Jair Messias Bolsonaro. \n\n ⚖️ Siga as regras do grupo e não terá problemas com os administradores. \n\n ⚖️ Nosso Grupo é de Direito Privado, pertence a uma Instituição Real devidamente constituída na ação em Prol da Liberdade do Povo Brasileiro. \n\n⚖️ Combatemos diretamente o Foro de São Paulo. Os Traíras não passarão. Aquele que Teme as ações e difama a Ordem Dourada do Brasil revela-se incontestavelmente a nós um braço do crime politico organizado e institucionalizado no Brasil - Tenha certeza que iremos combate-lo severamente. ⚖️ \n\n⚖️  Somos Cristãos em unidade não temos rabo preso com o diabo, mas pelo contrário nossa espada de fogo sempre estará pronta para o combate contra essa legião de bestas e homúnculos inumanos, hoje, amanhã e sempre.\n\n⚖️  Somos A Reserva Pro-Ativa Sempre do Lado do Povo. Força e Honra \n(Nando Patriota - Presidente da ODB).\n\n\n⚖️  Pelo Resgate da Inteligência!\n\n⚖️  Honra - Justiça - Liberdade\n\n🕵🏻  Si vis Pacem, para bellum 👮🏻‍♂️\n\n\n   🕵🏼‍♂️ 🛡Força e Honra 🛡\n\n\nFraternalmente,\nMembros e Peritos da Actus Liberandi"
        ],
        [
         "46",
         "Bolsonaro: “Narrativas tentam nos colocar contra nossos irmãos do Nordeste”\n\nEm ataques a Lula, o presidente Bolsonaro emendou ainda ser “impossível promover o maior e mais destrutivo esquema de corrupção de nossa história e ao mesmo tempo respeitar a democracia”\n\nO presidente Jair Bolsonaro (PL), candidato à reeleição, afirmou que “narrativas” estão tentando colocá-lo “contra nossos irmãos do Nordeste”. Em indireta ao opositor político Luiz Inácio Lula da Silva (PT), com quem disputa o segundo turno, o chefe do Executivo também em “conversa mole”. \n“A conversa mole agrada, mas é a coragem e a firmeza que garantem a segurança e o futuro de um povo e de uma nação nos momentos decisivos. São essas virtudes que nos protegem dos ataques à nossa soberania, das chantagens dos poderosos e dos conchavos que massacram o nosso povo”, disse Bolsonaro nesta quinta-feira (6/10) por meio das redes sociais."
        ],
        [
         "47",
         "Salmo 122\nUm cântico de ascensão de David. Regozijei-me quando me disseram: “Vamos à casa do Eterno”.\nChegaram nossos pés às tuas portas, ó Jerusalém.\n\nÉs uma cidade edificada e coesa para unir\ntodas as tribos do Eterno que a Ti se dirigiam como um testemunho de todo Israel, para erguer graças ao Nome do Eterno.\n\nAli foi estabelecido o tribunal de justiça, o trono da casa de David.\n\nRogai ao Eterno para que haja Shalom em Yerushalaim! Prosperem os que te amam, ó Yerushalaim!\n\nHaja Shalom em teus baluartes e segurança em teus palácios.\n\nPor amor a meus irmãos e companheiros, rogarei pela sua Paz.\n\nPor amor à casa do Eterno, nosso Deus, buscarei sempre o Teu bem.\n\n© Direitos Autorais, todos os direitos reservados. If you enjoyed this article, we encourage you to distribute it further, provided that you comply with Chabad.org's copyright policy."
        ],
        [
         "48",
         "tradução, 🇺🇸🇧🇷 — Marinhas dos EUA e do Brasil realizam exercício bilateral O exercício bilateral entre as forças norte-americanas e brasileiras concentrou-se na segurança marítima e no fortalecimento de parcerias marítimas com nações parceiras. “O exercício bilateral continuou a demonstrar colaboração e interoperabilidade entre as forças navais dos Estados Unidos e do Brasil”, disse o capitão da Marinha dos EUA Meger Chappell, vice-comodoro do Destroyer Squadron (DESRON) 40. “Aproveitamos as lições aprendidas durante a UNITAS LXIII para fortalecer ainda mais nossa capacidade de garantir a superioridade marítima na região”. As forças navais dos EUA e do Brasil construíram um relacionamento com base em uma visão compartilhada de um oceano Atlântico sudoeste livre e aberto e uma prática constante de eliminar o comércio ilegal de drogas em toda a área. Ambos os países continuaram a trabalhar juntos e realizaram exercícios bilaterais para fortalecer a consistência regional. “Esta foi uma grande oportunidade para construir capacidade e aumentar nossa amizade juntos”, disse o capitão da Marinha do Brasil Rafael Zeque Monteiro, comandante do Esquadrão de Escolta 1 do Brasil. “A segurança é sempre primordial, mas aprendemos muito um com o outro”. O Lassen e a União conduziram com segurança operações de resgate e assistência, exercícios de tiro, operações de voo com um helicóptero MH-60R Sea Hawk acoplado ao Esquadrão de Helicópteros da Marinha “Spartans” (HSM) 70 e um helicóptero UH-12 Esquilo da Marinha do Brasil, e um Close Exercício de Apoio Aéreo (CASEX) onde ambos os navios recebem uma ampla área para procurar submarinos. Trabalhando em conjunto, as forças navais dos EUA e do Brasil foram capazes de construir relações e parcerias marítimas juntas. “Este exercício bilateral foi uma oportunidade incrível para construir os laços entre as marinhas dos EUA e do Brasil”, disse o comandante da Marinha dos EUA, Christopher Turmel, comandante do Lassen. “Os marinheiros de ambos os lados ganharam capacidade enquanto trabalhávamos em uma ampla variedade de exercícios, emergindo mais bem treinados com melhor interoperabilidade. Lassen teve a honra de fazer parte deste exercício.”\n🚨🚨🚨🚨🚨"
        ],
        [
         "49",
         "Vc que é um idiota, parar de falar de fraude se aconteceu, primeiro lugar é crime de segurança NACIONAL, ouve fraude e vão fraudar de novo no 2° turno, acorda, esse Papinho de virar no voto e coisa pra maluco, se tem fraude, votar não resolve nada seu cego!! O Presidente tem que fazer algo a respeito ou o povo parar o Brasil, vai aceitar o ladrão levar na mão grande!!!"
        ]
       ],
       "shape": {
        "columns": 1,
        "rows": 2475
       }
      },
      "text/html": [
       "<div>\n",
       "<style scoped>\n",
       "    .dataframe tbody tr th:only-of-type {\n",
       "        vertical-align: middle;\n",
       "    }\n",
       "\n",
       "    .dataframe tbody tr th {\n",
       "        vertical-align: top;\n",
       "    }\n",
       "\n",
       "    .dataframe thead th {\n",
       "        text-align: right;\n",
       "    }\n",
       "</style>\n",
       "<table border=\"1\" class=\"dataframe\">\n",
       "  <thead>\n",
       "    <tr style=\"text-align: right;\">\n",
       "      <th></th>\n",
       "      <th>text_content_anonymous</th>\n",
       "    </tr>\n",
       "  </thead>\n",
       "  <tbody>\n",
       "    <tr>\n",
       "      <th>0</th>\n",
       "      <td>⚡️🇧🇷 Actus Liberandi - Ordem De Cristo 🇧🇷\\n\\n✨...</td>\n",
       "    </tr>\n",
       "    <tr>\n",
       "      <th>1</th>\n",
       "      <td>⚡️🇧🇷 Actus Liberandi - Ordem De Cristo 🇧🇷\\n\\n✨...</td>\n",
       "    </tr>\n",
       "    <tr>\n",
       "      <th>2</th>\n",
       "      <td>No Telegram entrem em Configurações &gt; Privacid...</td>\n",
       "    </tr>\n",
       "    <tr>\n",
       "      <th>3</th>\n",
       "      <td>No Telegram entrem em Configurações &gt; Privacid...</td>\n",
       "    </tr>\n",
       "    <tr>\n",
       "      <th>4</th>\n",
       "      <td>🟡 Brasil no Radar\\n\\n▶️ O governo anunciou ont...</td>\n",
       "    </tr>\n",
       "    <tr>\n",
       "      <th>...</th>\n",
       "      <td>...</td>\n",
       "    </tr>\n",
       "    <tr>\n",
       "      <th>2470</th>\n",
       "      <td>🚨🚨🚨🚨🚨🚨🚨🚨🚨🚨🚨  \\n\\n                *Urgente*\\n\\n...</td>\n",
       "    </tr>\n",
       "    <tr>\n",
       "      <th>2471</th>\n",
       "      <td>Profissão médica instada a dizer às mulheres a...</td>\n",
       "    </tr>\n",
       "    <tr>\n",
       "      <th>2472</th>\n",
       "      <td>TSE, o relatório das Forças Armadas e o caso M...</td>\n",
       "    </tr>\n",
       "    <tr>\n",
       "      <th>2473</th>\n",
       "      <td>TSE, o relatório das Forças Armadas e o caso M...</td>\n",
       "    </tr>\n",
       "    <tr>\n",
       "      <th>2474</th>\n",
       "      <td>O mês de outubro registrou arrecadação de R$ 8...</td>\n",
       "    </tr>\n",
       "  </tbody>\n",
       "</table>\n",
       "<p>2475 rows × 1 columns</p>\n",
       "</div>"
      ],
      "text/plain": [
       "                                 text_content_anonymous\n",
       "0     ⚡️🇧🇷 Actus Liberandi - Ordem De Cristo 🇧🇷\\n\\n✨...\n",
       "1     ⚡️🇧🇷 Actus Liberandi - Ordem De Cristo 🇧🇷\\n\\n✨...\n",
       "2     No Telegram entrem em Configurações > Privacid...\n",
       "3     No Telegram entrem em Configurações > Privacid...\n",
       "4     🟡 Brasil no Radar\\n\\n▶️ O governo anunciou ont...\n",
       "...                                                 ...\n",
       "2470  🚨🚨🚨🚨🚨🚨🚨🚨🚨🚨🚨  \\n\\n                *Urgente*\\n\\n...\n",
       "2471  Profissão médica instada a dizer às mulheres a...\n",
       "2472  TSE, o relatório das Forças Armadas e o caso M...\n",
       "2473  TSE, o relatório das Forças Armadas e o caso M...\n",
       "2474  O mês de outubro registrou arrecadação de R$ 8...\n",
       "\n",
       "[2475 rows x 1 columns]"
      ]
     },
     "metadata": {},
     "output_type": "display_data"
    }
   ],
   "source": [
    "seguranca_messages = duckdb.sql(\"\"\"\n",
    "  SELECT text_content_anonymous\n",
    "  FROM telegram_df\n",
    "  WHERE LOWER(text_content_anonymous) LIKE '%segurança%'\n",
    "\"\"\").df()\n",
    "\n",
    "display(seguranca_messages)"
   ]
  }
 ],
 "metadata": {
  "kernelspec": {
   "display_name": "Ciencia de Dados",
   "language": "python",
   "name": "python3"
  },
  "language_info": {
   "codemirror_mode": {
    "name": "ipython",
    "version": 3
   },
   "file_extension": ".py",
   "mimetype": "text/x-python",
   "name": "python",
   "nbconvert_exporter": "python",
   "pygments_lexer": "ipython3",
   "version": "3.12.7"
  }
 },
 "nbformat": 4,
 "nbformat_minor": 5
}
